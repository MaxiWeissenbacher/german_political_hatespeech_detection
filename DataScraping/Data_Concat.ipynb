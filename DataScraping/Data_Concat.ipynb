{
 "cells": [
  {
   "attachments": {},
   "cell_type": "markdown",
   "id": "7d32a9ed",
   "metadata": {},
   "source": [
    "# Concat the Data from the Scraping Process\n",
    "\n",
    "- We scraped not all data at once, as some problems (timeouts...) have occured\n",
    "- Instead we scraped in different runs with a batch of some politicians\n",
    "- In this notebook, we are merging all runs together into one single dataframe"
   ]
  },
  {
   "cell_type": "code",
   "execution_count": 133,
   "id": "d6a47534-a616-4691-aac1-3f437d9268e2",
   "metadata": {},
   "outputs": [],
   "source": [
    "import glob\n",
    "import pandas as pd"
   ]
  },
  {
   "cell_type": "code",
   "execution_count": 134,
   "id": "d1821b87",
   "metadata": {},
   "outputs": [
    {
     "name": "stdout",
     "output_type": "stream",
     "text": [
      "./mentions_data/mentions_Linke_1.csv\n"
     ]
    },
    {
     "name": "stderr",
     "output_type": "stream",
     "text": [
      "/tmp/ipykernel_76/1067379041.py:7: FutureWarning: The frame.append method is deprecated and will be removed from pandas in a future version. Use pandas.concat instead.\n",
      "  df = df.append(csv)\n"
     ]
    },
    {
     "name": "stdout",
     "output_type": "stream",
     "text": [
      "./mentions_data/mentions_AfD_2.csv\n"
     ]
    },
    {
     "name": "stderr",
     "output_type": "stream",
     "text": [
      "/tmp/ipykernel_76/1067379041.py:7: FutureWarning: The frame.append method is deprecated and will be removed from pandas in a future version. Use pandas.concat instead.\n",
      "  df = df.append(csv)\n"
     ]
    },
    {
     "name": "stdout",
     "output_type": "stream",
     "text": [
      "./mentions_data/mentions_Gruene_2.csv\n"
     ]
    },
    {
     "name": "stderr",
     "output_type": "stream",
     "text": [
      "/tmp/ipykernel_76/1067379041.py:7: FutureWarning: The frame.append method is deprecated and will be removed from pandas in a future version. Use pandas.concat instead.\n",
      "  df = df.append(csv)\n"
     ]
    },
    {
     "name": "stdout",
     "output_type": "stream",
     "text": [
      "./mentions_data/mentions_SPD_1.csv\n"
     ]
    },
    {
     "name": "stderr",
     "output_type": "stream",
     "text": [
      "/tmp/ipykernel_76/1067379041.py:7: FutureWarning: The frame.append method is deprecated and will be removed from pandas in a future version. Use pandas.concat instead.\n",
      "  df = df.append(csv)\n"
     ]
    },
    {
     "name": "stdout",
     "output_type": "stream",
     "text": [
      "./mentions_data/mentions_Gruene_3.csv\n"
     ]
    },
    {
     "name": "stderr",
     "output_type": "stream",
     "text": [
      "/tmp/ipykernel_76/1067379041.py:7: FutureWarning: The frame.append method is deprecated and will be removed from pandas in a future version. Use pandas.concat instead.\n",
      "  df = df.append(csv)\n"
     ]
    },
    {
     "name": "stdout",
     "output_type": "stream",
     "text": [
      "./mentions_data/mentions_CDUCSU_1.csv\n"
     ]
    },
    {
     "name": "stderr",
     "output_type": "stream",
     "text": [
      "/tmp/ipykernel_76/1067379041.py:7: FutureWarning: The frame.append method is deprecated and will be removed from pandas in a future version. Use pandas.concat instead.\n",
      "  df = df.append(csv)\n"
     ]
    },
    {
     "name": "stdout",
     "output_type": "stream",
     "text": [
      "./mentions_data/mentions_SPD_3.csv\n"
     ]
    },
    {
     "name": "stderr",
     "output_type": "stream",
     "text": [
      "/tmp/ipykernel_76/1067379041.py:7: FutureWarning: The frame.append method is deprecated and will be removed from pandas in a future version. Use pandas.concat instead.\n",
      "  df = df.append(csv)\n"
     ]
    },
    {
     "name": "stdout",
     "output_type": "stream",
     "text": [
      "./mentions_data/mentions_SPD_4.csv\n"
     ]
    },
    {
     "name": "stderr",
     "output_type": "stream",
     "text": [
      "/tmp/ipykernel_76/1067379041.py:7: FutureWarning: The frame.append method is deprecated and will be removed from pandas in a future version. Use pandas.concat instead.\n",
      "  df = df.append(csv)\n"
     ]
    },
    {
     "name": "stdout",
     "output_type": "stream",
     "text": [
      "./mentions_data/mentions_fdp_0.csv\n"
     ]
    },
    {
     "name": "stderr",
     "output_type": "stream",
     "text": [
      "/tmp/ipykernel_76/1067379041.py:7: FutureWarning: The frame.append method is deprecated and will be removed from pandas in a future version. Use pandas.concat instead.\n",
      "  df = df.append(csv)\n"
     ]
    },
    {
     "name": "stdout",
     "output_type": "stream",
     "text": [
      "./mentions_data/mentions_CDUCSU_2.csv\n"
     ]
    },
    {
     "name": "stderr",
     "output_type": "stream",
     "text": [
      "/tmp/ipykernel_76/1067379041.py:7: FutureWarning: The frame.append method is deprecated and will be removed from pandas in a future version. Use pandas.concat instead.\n",
      "  df = df.append(csv)\n"
     ]
    },
    {
     "name": "stdout",
     "output_type": "stream",
     "text": [
      "./mentions_data/mentions_fdp_1.csv\n"
     ]
    },
    {
     "name": "stderr",
     "output_type": "stream",
     "text": [
      "/tmp/ipykernel_76/1067379041.py:7: FutureWarning: The frame.append method is deprecated and will be removed from pandas in a future version. Use pandas.concat instead.\n",
      "  df = df.append(csv)\n"
     ]
    },
    {
     "name": "stdout",
     "output_type": "stream",
     "text": [
      "./mentions_data/mentions_SPD_2.csv\n"
     ]
    },
    {
     "name": "stderr",
     "output_type": "stream",
     "text": [
      "/tmp/ipykernel_76/1067379041.py:7: FutureWarning: The frame.append method is deprecated and will be removed from pandas in a future version. Use pandas.concat instead.\n",
      "  df = df.append(csv)\n"
     ]
    },
    {
     "name": "stdout",
     "output_type": "stream",
     "text": [
      "./mentions_data/mentions_AfD_1.csv\n"
     ]
    },
    {
     "name": "stderr",
     "output_type": "stream",
     "text": [
      "/tmp/ipykernel_76/1067379041.py:7: FutureWarning: The frame.append method is deprecated and will be removed from pandas in a future version. Use pandas.concat instead.\n",
      "  df = df.append(csv)\n"
     ]
    },
    {
     "name": "stdout",
     "output_type": "stream",
     "text": [
      "./mentions_data/mentions_Gruene_1.csv\n"
     ]
    },
    {
     "name": "stderr",
     "output_type": "stream",
     "text": [
      "/tmp/ipykernel_76/1067379041.py:7: FutureWarning: The frame.append method is deprecated and will be removed from pandas in a future version. Use pandas.concat instead.\n",
      "  df = df.append(csv)\n"
     ]
    },
    {
     "name": "stdout",
     "output_type": "stream",
     "text": [
      "./mentions_data/mentions_CDUCSU_3.csv\n"
     ]
    },
    {
     "name": "stderr",
     "output_type": "stream",
     "text": [
      "/tmp/ipykernel_76/1067379041.py:7: FutureWarning: The frame.append method is deprecated and will be removed from pandas in a future version. Use pandas.concat instead.\n",
      "  df = df.append(csv)\n"
     ]
    }
   ],
   "source": [
    "# Read all Files in the mentions data folder (every run from the mentions dataset is saved here)\n",
    "# Append every file into one single dataframe\n",
    "files = glob.glob(\"./mentions_data/*.csv\")\n",
    "\n",
    "df = pd.DataFrame()\n",
    "for f in files:\n",
    "    print(f)\n",
    "    csv = pd.read_csv(f,lineterminator='\\n')\n",
    "    df = df.append(csv)"
   ]
  },
  {
   "cell_type": "code",
   "execution_count": 119,
   "id": "fcf31ef2-4878-429a-97ab-17f883e40bb8",
   "metadata": {},
   "outputs": [],
   "source": [
    "#df = pd.read_csv(\"all_mentions_data_combined.csv\")"
   ]
  },
  {
   "cell_type": "code",
   "execution_count": 135,
   "id": "7bd17119",
   "metadata": {},
   "outputs": [
    {
     "data": {
      "text/plain": [
       "3628659"
      ]
     },
     "execution_count": 135,
     "metadata": {},
     "output_type": "execute_result"
    }
   ],
   "source": [
    "len(df)"
   ]
  },
  {
   "cell_type": "code",
   "execution_count": 136,
   "id": "1974b58b-02d0-4c16-ae68-28bfa15dc6e6",
   "metadata": {},
   "outputs": [
    {
     "name": "stdout",
     "output_type": "stream",
     "text": [
      "3628658\n"
     ]
    }
   ],
   "source": [
    "# Remove NA Values\n",
    "#df = df[df.username != \"KIZANEFE\"]\n",
    "df = df[df['Run'].notna()]\n",
    "print(len(df))"
   ]
  },
  {
   "cell_type": "code",
   "execution_count": 140,
   "id": "9ffdb303",
   "metadata": {
    "scrolled": true,
    "tags": []
   },
   "outputs": [
    {
     "data": {
      "text/html": [
       "<div>\n",
       "<style scoped>\n",
       "    .dataframe tbody tr th:only-of-type {\n",
       "        vertical-align: middle;\n",
       "    }\n",
       "\n",
       "    .dataframe tbody tr th {\n",
       "        vertical-align: top;\n",
       "    }\n",
       "\n",
       "    .dataframe thead th {\n",
       "        text-align: right;\n",
       "    }\n",
       "</style>\n",
       "<table border=\"1\" class=\"dataframe\">\n",
       "  <thead>\n",
       "    <tr style=\"text-align: right;\">\n",
       "      <th></th>\n",
       "      <th>author_id</th>\n",
       "      <th>username</th>\n",
       "      <th>author_followers</th>\n",
       "      <th>author_tweets</th>\n",
       "      <th>author_description</th>\n",
       "      <th>author_location</th>\n",
       "      <th>text</th>\n",
       "      <th>created_at</th>\n",
       "      <th>quote_count</th>\n",
       "      <th>retweets</th>\n",
       "      <th>replies</th>\n",
       "      <th>likes</th>\n",
       "      <th>mentioned</th>\n",
       "      <th>Run</th>\n",
       "    </tr>\n",
       "  </thead>\n",
       "  <tbody>\n",
       "    <tr>\n",
       "      <th>0</th>\n",
       "      <td>1054355414731710465</td>\n",
       "      <td>Jacuzz_i</td>\n",
       "      <td>1300</td>\n",
       "      <td>29603</td>\n",
       "      <td>Du kannst den Menschen wohl auf einen guten We...</td>\n",
       "      <td>NaN</td>\n",
       "      <td>RT @alexsachsen0201: Wie ich gestern auch scho...</td>\n",
       "      <td>2022-03-31 23:53:40+00:00</td>\n",
       "      <td>0</td>\n",
       "      <td>282</td>\n",
       "      <td>0</td>\n",
       "      <td>0</td>\n",
       "      <td>['SWagenknecht']</td>\n",
       "      <td>Linke_polis_1</td>\n",
       "    </tr>\n",
       "    <tr>\n",
       "      <th>1</th>\n",
       "      <td>1435940649572966402</td>\n",
       "      <td>CHARLYCAPRI4</td>\n",
       "      <td>1</td>\n",
       "      <td>14</td>\n",
       "      <td>NaN</td>\n",
       "      <td>NaN</td>\n",
       "      <td>@SWagenknecht Sie sind gescheitert ,weil Sie d...</td>\n",
       "      <td>2022-03-31 23:51:42+00:00</td>\n",
       "      <td>0</td>\n",
       "      <td>0</td>\n",
       "      <td>0</td>\n",
       "      <td>0</td>\n",
       "      <td>['SWagenknecht']</td>\n",
       "      <td>Linke_polis_1</td>\n",
       "    </tr>\n",
       "    <tr>\n",
       "      <th>2</th>\n",
       "      <td>528677411</td>\n",
       "      <td>jo711</td>\n",
       "      <td>6</td>\n",
       "      <td>308</td>\n",
       "      <td>Ewiger Revolluzer :-) ,\\nBiker,Hundeverrückt.N...</td>\n",
       "      <td>jo</td>\n",
       "      <td>@SWagenknecht Mittlerweile langweilen Sie .\\nK...</td>\n",
       "      <td>2022-03-31 23:51:27+00:00</td>\n",
       "      <td>0</td>\n",
       "      <td>0</td>\n",
       "      <td>0</td>\n",
       "      <td>0</td>\n",
       "      <td>['SWagenknecht']</td>\n",
       "      <td>Linke_polis_1</td>\n",
       "    </tr>\n",
       "    <tr>\n",
       "      <th>3</th>\n",
       "      <td>762265140</td>\n",
       "      <td>nimmdenbus</td>\n",
       "      <td>1574</td>\n",
       "      <td>118892</td>\n",
       "      <td>Take the bus! Prenez le bus! Mein Herz schlägt...</td>\n",
       "      <td>NaN</td>\n",
       "      <td>@MarvinWendland1 @SWagenknecht @BinBerlinerIn ...</td>\n",
       "      <td>2022-03-31 23:50:40+00:00</td>\n",
       "      <td>0</td>\n",
       "      <td>0</td>\n",
       "      <td>0</td>\n",
       "      <td>0</td>\n",
       "      <td>['MarvinWendland1', 'SWagenknecht', 'BinBerlin...</td>\n",
       "      <td>Linke_polis_1</td>\n",
       "    </tr>\n",
       "    <tr>\n",
       "      <th>4</th>\n",
       "      <td>94034298</td>\n",
       "      <td>derstaatsanwalt</td>\n",
       "      <td>325</td>\n",
       "      <td>5762</td>\n",
       "      <td>Ius vigilantibus scriptum est | er/ihr | rt/fo...</td>\n",
       "      <td>Standort ausgeblendet</td>\n",
       "      <td>@voglerk @NiemaMovassat Mit Landleben hat das,...</td>\n",
       "      <td>2022-03-31 23:45:33+00:00</td>\n",
       "      <td>0</td>\n",
       "      <td>0</td>\n",
       "      <td>0</td>\n",
       "      <td>0</td>\n",
       "      <td>['voglerk', 'NiemaMovassat']</td>\n",
       "      <td>Linke_polis_1</td>\n",
       "    </tr>\n",
       "  </tbody>\n",
       "</table>\n",
       "</div>"
      ],
      "text/plain": [
       "             author_id         username  author_followers  author_tweets  \\\n",
       "0  1054355414731710465         Jacuzz_i              1300          29603   \n",
       "1  1435940649572966402     CHARLYCAPRI4                 1             14   \n",
       "2            528677411            jo711                 6            308   \n",
       "3            762265140       nimmdenbus              1574         118892   \n",
       "4             94034298  derstaatsanwalt               325           5762   \n",
       "\n",
       "                                  author_description        author_location  \\\n",
       "0  Du kannst den Menschen wohl auf einen guten We...                    NaN   \n",
       "1                                                NaN                    NaN   \n",
       "2  Ewiger Revolluzer :-) ,\\nBiker,Hundeverrückt.N...                     jo   \n",
       "3  Take the bus! Prenez le bus! Mein Herz schlägt...                    NaN   \n",
       "4  Ius vigilantibus scriptum est | er/ihr | rt/fo...  Standort ausgeblendet   \n",
       "\n",
       "                                                text  \\\n",
       "0  RT @alexsachsen0201: Wie ich gestern auch scho...   \n",
       "1  @SWagenknecht Sie sind gescheitert ,weil Sie d...   \n",
       "2  @SWagenknecht Mittlerweile langweilen Sie .\\nK...   \n",
       "3  @MarvinWendland1 @SWagenknecht @BinBerlinerIn ...   \n",
       "4  @voglerk @NiemaMovassat Mit Landleben hat das,...   \n",
       "\n",
       "                  created_at  quote_count  retweets  replies  likes  \\\n",
       "0  2022-03-31 23:53:40+00:00            0       282        0      0   \n",
       "1  2022-03-31 23:51:42+00:00            0         0        0      0   \n",
       "2  2022-03-31 23:51:27+00:00            0         0        0      0   \n",
       "3  2022-03-31 23:50:40+00:00            0         0        0      0   \n",
       "4  2022-03-31 23:45:33+00:00            0         0        0      0   \n",
       "\n",
       "                                           mentioned            Run  \n",
       "0                                   ['SWagenknecht']  Linke_polis_1  \n",
       "1                                   ['SWagenknecht']  Linke_polis_1  \n",
       "2                                   ['SWagenknecht']  Linke_polis_1  \n",
       "3  ['MarvinWendland1', 'SWagenknecht', 'BinBerlin...  Linke_polis_1  \n",
       "4                       ['voglerk', 'NiemaMovassat']  Linke_polis_1  "
      ]
     },
     "execution_count": 140,
     "metadata": {},
     "output_type": "execute_result"
    }
   ],
   "source": [
    "#df = df.reset_index()\n",
    "df = df.drop([\"index\", \"Unnamed: 0\", \"level_0\"], axis = 1)\n",
    "df.head()"
   ]
  },
  {
   "cell_type": "code",
   "execution_count": 141,
   "id": "7a70cbb3-9cfb-4ec0-9172-c5f46f774db4",
   "metadata": {},
   "outputs": [
    {
     "data": {
      "text/plain": [
       "SPD_polis_2       945881\n",
       "Gruene_polis_1    669001\n",
       "CDUCSU_polis_2    284103\n",
       "Gruene_polis_2    276267\n",
       "fdp_polis_0       263717\n",
       "SPD_polis_3       236826\n",
       "Linke_polis_1     228570\n",
       "AfD_polis_1       139207\n",
       "fdp_polis_1       129434\n",
       "AfD_polis_2       104496\n",
       "SPD_polis_4        91289\n",
       "Gruene_polis_3     74197\n",
       "SPD_polis_1        72607\n",
       "CDUCSU_polis_1     72321\n",
       "CDUCSU_polis_3     40742\n",
       "Name: Run, dtype: int64"
      ]
     },
     "execution_count": 141,
     "metadata": {},
     "output_type": "execute_result"
    }
   ],
   "source": [
    "# Have a look, how many tweets each run contained\n",
    "df[\"Run\"].value_counts()"
   ]
  },
  {
   "cell_type": "code",
   "execution_count": 143,
   "id": "f5b99f1c-7b78-47ae-9abb-ee82815ca43c",
   "metadata": {},
   "outputs": [
    {
     "data": {
      "text/plain": [
       "3628658"
      ]
     },
     "execution_count": 143,
     "metadata": {},
     "output_type": "execute_result"
    }
   ],
   "source": [
    "sum(df[\"Run\"].value_counts())"
   ]
  },
  {
   "cell_type": "code",
   "execution_count": 144,
   "id": "97a687f4-ebdf-472a-8296-399d90583da7",
   "metadata": {},
   "outputs": [],
   "source": [
    "# Remame the Run column to the specific party\n",
    "df['Runs'] = df['Run']\n",
    "df['Run'] = df['Run'].replace(['SPD_polis_1','SPD_polis_2','SPD_polis_3','SPD_polis_4'], 'SPD')\n",
    "df['Run'] = df['Run'].replace(['AfD_polis_1','AfD_polis_2'], 'AfD')\n",
    "df['Run'] = df['Run'].replace(['Linke_polis_1'], 'Die Linke')\n",
    "df['Run'] = df['Run'].replace(['CDUCSU_polis_1','CDUCSU_polis_2','CDUCSU_polis_3'], 'CSU/CDU')\n",
    "df['Run'] = df['Run'].replace(['fdp_polis_0','fdp_polis_1'], 'FDP')\n",
    "df['Run'] = df['Run'].replace(['Gruene_polis_1','Gruene_polis_2','Gruene_polis_3'], 'Bündnis 90/Die Grünen')"
   ]
  },
  {
   "cell_type": "code",
   "execution_count": 145,
   "id": "826b9139-e6d6-4569-9005-46e5676815f1",
   "metadata": {},
   "outputs": [
    {
     "data": {
      "text/html": [
       "<div>\n",
       "<style scoped>\n",
       "    .dataframe tbody tr th:only-of-type {\n",
       "        vertical-align: middle;\n",
       "    }\n",
       "\n",
       "    .dataframe tbody tr th {\n",
       "        vertical-align: top;\n",
       "    }\n",
       "\n",
       "    .dataframe thead th {\n",
       "        text-align: right;\n",
       "    }\n",
       "</style>\n",
       "<table border=\"1\" class=\"dataframe\">\n",
       "  <thead>\n",
       "    <tr style=\"text-align: right;\">\n",
       "      <th></th>\n",
       "      <th>author_id</th>\n",
       "      <th>username</th>\n",
       "      <th>author_followers</th>\n",
       "      <th>author_tweets</th>\n",
       "      <th>author_description</th>\n",
       "      <th>author_location</th>\n",
       "      <th>text</th>\n",
       "      <th>created_at</th>\n",
       "      <th>quote_count</th>\n",
       "      <th>retweets</th>\n",
       "      <th>replies</th>\n",
       "      <th>likes</th>\n",
       "      <th>mentioned</th>\n",
       "      <th>Run</th>\n",
       "      <th>Runs</th>\n",
       "    </tr>\n",
       "  </thead>\n",
       "  <tbody>\n",
       "    <tr>\n",
       "      <th>3628653</th>\n",
       "      <td>38287442</td>\n",
       "      <td>in90sec</td>\n",
       "      <td>5182</td>\n",
       "      <td>36890</td>\n",
       "      <td>Never wrestle with a Republican. You both get ...</td>\n",
       "      <td>Berlin (formerly Wall City)</td>\n",
       "      <td>@christ_natterer @PaulZiemiak @CDU @_Friedrich...</td>\n",
       "      <td>2022-02-01 00:37:25+00:00</td>\n",
       "      <td>0</td>\n",
       "      <td>0</td>\n",
       "      <td>0</td>\n",
       "      <td>0</td>\n",
       "      <td>['christ_natterer', 'PaulZiemiak', 'CDU', '_Fr...</td>\n",
       "      <td>CSU/CDU</td>\n",
       "      <td>CDUCSU_polis_3</td>\n",
       "    </tr>\n",
       "    <tr>\n",
       "      <th>3628654</th>\n",
       "      <td>419908490</td>\n",
       "      <td>derHassi</td>\n",
       "      <td>30</td>\n",
       "      <td>1447</td>\n",
       "      <td>apparently I’m not allowed to state here, that...</td>\n",
       "      <td>Germany</td>\n",
       "      <td>@JoSteiniger Die olympischen Spiele gehören ab...</td>\n",
       "      <td>2022-02-01 00:34:49+00:00</td>\n",
       "      <td>0</td>\n",
       "      <td>0</td>\n",
       "      <td>0</td>\n",
       "      <td>4</td>\n",
       "      <td>['JoSteiniger']</td>\n",
       "      <td>CSU/CDU</td>\n",
       "      <td>CDUCSU_polis_3</td>\n",
       "    </tr>\n",
       "    <tr>\n",
       "      <th>3628655</th>\n",
       "      <td>38287442</td>\n",
       "      <td>in90sec</td>\n",
       "      <td>5182</td>\n",
       "      <td>36890</td>\n",
       "      <td>Never wrestle with a Republican. You both get ...</td>\n",
       "      <td>Berlin (formerly Wall City)</td>\n",
       "      <td>@YvBelow @PaulZiemiak @CDU @_FriedrichMerz @Ma...</td>\n",
       "      <td>2022-02-01 00:32:01+00:00</td>\n",
       "      <td>0</td>\n",
       "      <td>0</td>\n",
       "      <td>0</td>\n",
       "      <td>0</td>\n",
       "      <td>['YvBelow', 'PaulZiemiak', 'CDU', '_FriedrichM...</td>\n",
       "      <td>CSU/CDU</td>\n",
       "      <td>CDUCSU_polis_3</td>\n",
       "    </tr>\n",
       "    <tr>\n",
       "      <th>3628656</th>\n",
       "      <td>1908112754</td>\n",
       "      <td>Einhorn1904</td>\n",
       "      <td>769</td>\n",
       "      <td>6104</td>\n",
       "      <td>Antifaschist und Gastarbeiterkind. #noAfd</td>\n",
       "      <td>NRW</td>\n",
       "      <td>@PaulZiemiak @CDU @_FriedrichMerz @MarioCzaja ...</td>\n",
       "      <td>2022-02-01 00:24:53+00:00</td>\n",
       "      <td>0</td>\n",
       "      <td>0</td>\n",
       "      <td>0</td>\n",
       "      <td>6</td>\n",
       "      <td>['PaulZiemiak', 'CDU', '_FriedrichMerz', 'Mari...</td>\n",
       "      <td>CSU/CDU</td>\n",
       "      <td>CDUCSU_polis_3</td>\n",
       "    </tr>\n",
       "    <tr>\n",
       "      <th>3628657</th>\n",
       "      <td>827990874265001984</td>\n",
       "      <td>ThomasGradel1</td>\n",
       "      <td>302</td>\n",
       "      <td>2115</td>\n",
       "      <td>Freiheit ist auch immer die Freiheit des ander...</td>\n",
       "      <td>Bayern</td>\n",
       "      <td>RT @VolkerUllrich: Zwei Polizeibeamte sind in ...</td>\n",
       "      <td>2022-02-01 00:01:36+00:00</td>\n",
       "      <td>0</td>\n",
       "      <td>2</td>\n",
       "      <td>0</td>\n",
       "      <td>0</td>\n",
       "      <td>['VolkerUllrich']</td>\n",
       "      <td>CSU/CDU</td>\n",
       "      <td>CDUCSU_polis_3</td>\n",
       "    </tr>\n",
       "  </tbody>\n",
       "</table>\n",
       "</div>"
      ],
      "text/plain": [
       "                  author_id       username  author_followers  author_tweets  \\\n",
       "3628653            38287442        in90sec              5182          36890   \n",
       "3628654           419908490       derHassi                30           1447   \n",
       "3628655            38287442        in90sec              5182          36890   \n",
       "3628656          1908112754    Einhorn1904               769           6104   \n",
       "3628657  827990874265001984  ThomasGradel1               302           2115   \n",
       "\n",
       "                                        author_description  \\\n",
       "3628653  Never wrestle with a Republican. You both get ...   \n",
       "3628654  apparently I’m not allowed to state here, that...   \n",
       "3628655  Never wrestle with a Republican. You both get ...   \n",
       "3628656          Antifaschist und Gastarbeiterkind. #noAfd   \n",
       "3628657  Freiheit ist auch immer die Freiheit des ander...   \n",
       "\n",
       "                     author_location  \\\n",
       "3628653  Berlin (formerly Wall City)   \n",
       "3628654                      Germany   \n",
       "3628655  Berlin (formerly Wall City)   \n",
       "3628656                          NRW   \n",
       "3628657                       Bayern   \n",
       "\n",
       "                                                      text  \\\n",
       "3628653  @christ_natterer @PaulZiemiak @CDU @_Friedrich...   \n",
       "3628654  @JoSteiniger Die olympischen Spiele gehören ab...   \n",
       "3628655  @YvBelow @PaulZiemiak @CDU @_FriedrichMerz @Ma...   \n",
       "3628656  @PaulZiemiak @CDU @_FriedrichMerz @MarioCzaja ...   \n",
       "3628657  RT @VolkerUllrich: Zwei Polizeibeamte sind in ...   \n",
       "\n",
       "                        created_at  quote_count  retweets  replies  likes  \\\n",
       "3628653  2022-02-01 00:37:25+00:00            0         0        0      0   \n",
       "3628654  2022-02-01 00:34:49+00:00            0         0        0      4   \n",
       "3628655  2022-02-01 00:32:01+00:00            0         0        0      0   \n",
       "3628656  2022-02-01 00:24:53+00:00            0         0        0      6   \n",
       "3628657  2022-02-01 00:01:36+00:00            0         2        0      0   \n",
       "\n",
       "                                                 mentioned      Run  \\\n",
       "3628653  ['christ_natterer', 'PaulZiemiak', 'CDU', '_Fr...  CSU/CDU   \n",
       "3628654                                    ['JoSteiniger']  CSU/CDU   \n",
       "3628655  ['YvBelow', 'PaulZiemiak', 'CDU', '_FriedrichM...  CSU/CDU   \n",
       "3628656  ['PaulZiemiak', 'CDU', '_FriedrichMerz', 'Mari...  CSU/CDU   \n",
       "3628657                                  ['VolkerUllrich']  CSU/CDU   \n",
       "\n",
       "                   Runs  \n",
       "3628653  CDUCSU_polis_3  \n",
       "3628654  CDUCSU_polis_3  \n",
       "3628655  CDUCSU_polis_3  \n",
       "3628656  CDUCSU_polis_3  \n",
       "3628657  CDUCSU_polis_3  "
      ]
     },
     "execution_count": 145,
     "metadata": {},
     "output_type": "execute_result"
    }
   ],
   "source": [
    "df.tail()"
   ]
  },
  {
   "cell_type": "code",
   "execution_count": 146,
   "id": "f8ae445c-43a2-4d6f-b28d-9af08f9e1156",
   "metadata": {},
   "outputs": [
    {
     "data": {
      "text/html": [
       "<div>\n",
       "<style scoped>\n",
       "    .dataframe tbody tr th:only-of-type {\n",
       "        vertical-align: middle;\n",
       "    }\n",
       "\n",
       "    .dataframe tbody tr th {\n",
       "        vertical-align: top;\n",
       "    }\n",
       "\n",
       "    .dataframe thead th {\n",
       "        text-align: right;\n",
       "    }\n",
       "</style>\n",
       "<table border=\"1\" class=\"dataframe\">\n",
       "  <thead>\n",
       "    <tr style=\"text-align: right;\">\n",
       "      <th></th>\n",
       "      <th>author_id</th>\n",
       "      <th>username</th>\n",
       "      <th>author_followers</th>\n",
       "      <th>author_tweets</th>\n",
       "      <th>author_description</th>\n",
       "      <th>author_location</th>\n",
       "      <th>text</th>\n",
       "      <th>created_at</th>\n",
       "      <th>quote_count</th>\n",
       "      <th>retweets</th>\n",
       "      <th>replies</th>\n",
       "      <th>likes</th>\n",
       "      <th>mentioned</th>\n",
       "      <th>Runs</th>\n",
       "      <th>Partei</th>\n",
       "    </tr>\n",
       "  </thead>\n",
       "  <tbody>\n",
       "    <tr>\n",
       "      <th>3628653</th>\n",
       "      <td>38287442</td>\n",
       "      <td>in90sec</td>\n",
       "      <td>5182</td>\n",
       "      <td>36890</td>\n",
       "      <td>Never wrestle with a Republican. You both get ...</td>\n",
       "      <td>Berlin (formerly Wall City)</td>\n",
       "      <td>@christ_natterer @PaulZiemiak @CDU @_Friedrich...</td>\n",
       "      <td>2022-02-01 00:37:25+00:00</td>\n",
       "      <td>0</td>\n",
       "      <td>0</td>\n",
       "      <td>0</td>\n",
       "      <td>0</td>\n",
       "      <td>['christ_natterer', 'PaulZiemiak', 'CDU', '_Fr...</td>\n",
       "      <td>CDUCSU_polis_3</td>\n",
       "      <td>CSU/CDU</td>\n",
       "    </tr>\n",
       "    <tr>\n",
       "      <th>3628654</th>\n",
       "      <td>419908490</td>\n",
       "      <td>derHassi</td>\n",
       "      <td>30</td>\n",
       "      <td>1447</td>\n",
       "      <td>apparently I’m not allowed to state here, that...</td>\n",
       "      <td>Germany</td>\n",
       "      <td>@JoSteiniger Die olympischen Spiele gehören ab...</td>\n",
       "      <td>2022-02-01 00:34:49+00:00</td>\n",
       "      <td>0</td>\n",
       "      <td>0</td>\n",
       "      <td>0</td>\n",
       "      <td>4</td>\n",
       "      <td>['JoSteiniger']</td>\n",
       "      <td>CDUCSU_polis_3</td>\n",
       "      <td>CSU/CDU</td>\n",
       "    </tr>\n",
       "    <tr>\n",
       "      <th>3628655</th>\n",
       "      <td>38287442</td>\n",
       "      <td>in90sec</td>\n",
       "      <td>5182</td>\n",
       "      <td>36890</td>\n",
       "      <td>Never wrestle with a Republican. You both get ...</td>\n",
       "      <td>Berlin (formerly Wall City)</td>\n",
       "      <td>@YvBelow @PaulZiemiak @CDU @_FriedrichMerz @Ma...</td>\n",
       "      <td>2022-02-01 00:32:01+00:00</td>\n",
       "      <td>0</td>\n",
       "      <td>0</td>\n",
       "      <td>0</td>\n",
       "      <td>0</td>\n",
       "      <td>['YvBelow', 'PaulZiemiak', 'CDU', '_FriedrichM...</td>\n",
       "      <td>CDUCSU_polis_3</td>\n",
       "      <td>CSU/CDU</td>\n",
       "    </tr>\n",
       "    <tr>\n",
       "      <th>3628656</th>\n",
       "      <td>1908112754</td>\n",
       "      <td>Einhorn1904</td>\n",
       "      <td>769</td>\n",
       "      <td>6104</td>\n",
       "      <td>Antifaschist und Gastarbeiterkind. #noAfd</td>\n",
       "      <td>NRW</td>\n",
       "      <td>@PaulZiemiak @CDU @_FriedrichMerz @MarioCzaja ...</td>\n",
       "      <td>2022-02-01 00:24:53+00:00</td>\n",
       "      <td>0</td>\n",
       "      <td>0</td>\n",
       "      <td>0</td>\n",
       "      <td>6</td>\n",
       "      <td>['PaulZiemiak', 'CDU', '_FriedrichMerz', 'Mari...</td>\n",
       "      <td>CDUCSU_polis_3</td>\n",
       "      <td>CSU/CDU</td>\n",
       "    </tr>\n",
       "    <tr>\n",
       "      <th>3628657</th>\n",
       "      <td>827990874265001984</td>\n",
       "      <td>ThomasGradel1</td>\n",
       "      <td>302</td>\n",
       "      <td>2115</td>\n",
       "      <td>Freiheit ist auch immer die Freiheit des ander...</td>\n",
       "      <td>Bayern</td>\n",
       "      <td>RT @VolkerUllrich: Zwei Polizeibeamte sind in ...</td>\n",
       "      <td>2022-02-01 00:01:36+00:00</td>\n",
       "      <td>0</td>\n",
       "      <td>2</td>\n",
       "      <td>0</td>\n",
       "      <td>0</td>\n",
       "      <td>['VolkerUllrich']</td>\n",
       "      <td>CDUCSU_polis_3</td>\n",
       "      <td>CSU/CDU</td>\n",
       "    </tr>\n",
       "  </tbody>\n",
       "</table>\n",
       "</div>"
      ],
      "text/plain": [
       "                  author_id       username  author_followers  author_tweets  \\\n",
       "3628653            38287442        in90sec              5182          36890   \n",
       "3628654           419908490       derHassi                30           1447   \n",
       "3628655            38287442        in90sec              5182          36890   \n",
       "3628656          1908112754    Einhorn1904               769           6104   \n",
       "3628657  827990874265001984  ThomasGradel1               302           2115   \n",
       "\n",
       "                                        author_description  \\\n",
       "3628653  Never wrestle with a Republican. You both get ...   \n",
       "3628654  apparently I’m not allowed to state here, that...   \n",
       "3628655  Never wrestle with a Republican. You both get ...   \n",
       "3628656          Antifaschist und Gastarbeiterkind. #noAfd   \n",
       "3628657  Freiheit ist auch immer die Freiheit des ander...   \n",
       "\n",
       "                     author_location  \\\n",
       "3628653  Berlin (formerly Wall City)   \n",
       "3628654                      Germany   \n",
       "3628655  Berlin (formerly Wall City)   \n",
       "3628656                          NRW   \n",
       "3628657                       Bayern   \n",
       "\n",
       "                                                      text  \\\n",
       "3628653  @christ_natterer @PaulZiemiak @CDU @_Friedrich...   \n",
       "3628654  @JoSteiniger Die olympischen Spiele gehören ab...   \n",
       "3628655  @YvBelow @PaulZiemiak @CDU @_FriedrichMerz @Ma...   \n",
       "3628656  @PaulZiemiak @CDU @_FriedrichMerz @MarioCzaja ...   \n",
       "3628657  RT @VolkerUllrich: Zwei Polizeibeamte sind in ...   \n",
       "\n",
       "                        created_at  quote_count  retweets  replies  likes  \\\n",
       "3628653  2022-02-01 00:37:25+00:00            0         0        0      0   \n",
       "3628654  2022-02-01 00:34:49+00:00            0         0        0      4   \n",
       "3628655  2022-02-01 00:32:01+00:00            0         0        0      0   \n",
       "3628656  2022-02-01 00:24:53+00:00            0         0        0      6   \n",
       "3628657  2022-02-01 00:01:36+00:00            0         2        0      0   \n",
       "\n",
       "                                                 mentioned            Runs  \\\n",
       "3628653  ['christ_natterer', 'PaulZiemiak', 'CDU', '_Fr...  CDUCSU_polis_3   \n",
       "3628654                                    ['JoSteiniger']  CDUCSU_polis_3   \n",
       "3628655  ['YvBelow', 'PaulZiemiak', 'CDU', '_FriedrichM...  CDUCSU_polis_3   \n",
       "3628656  ['PaulZiemiak', 'CDU', '_FriedrichMerz', 'Mari...  CDUCSU_polis_3   \n",
       "3628657                                  ['VolkerUllrich']  CDUCSU_polis_3   \n",
       "\n",
       "          Partei  \n",
       "3628653  CSU/CDU  \n",
       "3628654  CSU/CDU  \n",
       "3628655  CSU/CDU  \n",
       "3628656  CSU/CDU  \n",
       "3628657  CSU/CDU  "
      ]
     },
     "execution_count": 146,
     "metadata": {},
     "output_type": "execute_result"
    }
   ],
   "source": [
    "df[\"Partei\"] = df[\"Run\"]\n",
    "df = df.drop([\"Run\"], axis= 1)\n",
    "df.tail()"
   ]
  },
  {
   "cell_type": "code",
   "execution_count": 147,
   "id": "eacd74bb-bd60-49f4-996e-b7d97e698b1a",
   "metadata": {},
   "outputs": [],
   "source": [
    "df.to_csv(\"all_mentions_data_combined.csv\")"
   ]
  },
  {
   "cell_type": "code",
   "execution_count": 148,
   "id": "4bb69928-9f01-42ee-9024-bea15149f6d6",
   "metadata": {},
   "outputs": [],
   "source": [
    "data = df"
   ]
  },
  {
   "cell_type": "code",
   "execution_count": 149,
   "id": "02bd3b53",
   "metadata": {},
   "outputs": [
    {
     "name": "stdout",
     "output_type": "stream",
     "text": [
      "Die AfD mit 243703 Beiträgen\n",
      "Die Grünen mit 1019465 Beiträgen\n",
      "Die SPD mit 1346603 Beiträgen\n",
      "Die Linke mit 228570 Beiträgen\n",
      "Die FDP mit 393151 Beiträgen\n",
      "Die CDU/CSU mit 397166 Beiträgen\n"
     ]
    }
   ],
   "source": [
    "# Overall statistics\n",
    "afd = data[data[\"Partei\"] == \"AfD\"][\"Partei\"].count()\n",
    "gruene = data[data[\"Partei\"] == \"Bündnis 90/Die Grünen\"][\"Partei\"].count()\n",
    "spd = data[data[\"Partei\"] == \"SPD\"][\"Partei\"].count()\n",
    "links = data[data[\"Partei\"] == \"Die Linke\"][\"Partei\"].count()\n",
    "fdp = data[data[\"Partei\"] == \"FDP\"][\"Partei\"].count()\n",
    "cducsu = data[data[\"Partei\"] == \"CSU/CDU\"][\"Partei\"].count()\n",
    "\n",
    "print(F\"Die AfD mit {afd} Beiträgen\")\n",
    "print(F\"Die Grünen mit {gruene} Beiträgen\")\n",
    "print(F\"Die SPD mit {spd} Beiträgen\")\n",
    "print(F\"Die Linke mit {links} Beiträgen\")\n",
    "print(F\"Die FDP mit {fdp} Beiträgen\")\n",
    "print(F\"Die CDU/CSU mit {cducsu} Beiträgen\")"
   ]
  }
 ],
 "metadata": {
  "kernelspec": {
   "display_name": "Python 3 (ipykernel)",
   "language": "python",
   "name": "python3"
  },
  "language_info": {
   "codemirror_mode": {
    "name": "ipython",
    "version": 3
   },
   "file_extension": ".py",
   "mimetype": "text/x-python",
   "name": "python",
   "nbconvert_exporter": "python",
   "pygments_lexer": "ipython3",
   "version": "3.9.13"
  }
 },
 "nbformat": 4,
 "nbformat_minor": 5
}
