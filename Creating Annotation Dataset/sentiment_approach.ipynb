{
 "cells": [
  {
   "cell_type": "code",
   "execution_count": 1,
   "id": "5f464e6b-c8ea-4b75-8446-d8ee94b30895",
   "metadata": {},
   "outputs": [],
   "source": [
    "%%capture\n",
    "!pip install germansentiment"
   ]
  },
  {
   "cell_type": "code",
   "execution_count": 1,
   "id": "0f2e39e6-0a4f-4429-ba70-583ce3265450",
   "metadata": {},
   "outputs": [
    {
     "name": "stdout",
     "output_type": "stream",
     "text": [
      "Collecting openpyxl\n",
      "  Using cached openpyxl-3.1.0-py2.py3-none-any.whl (250 kB)\n",
      "Collecting et-xmlfile\n",
      "  Using cached et_xmlfile-1.1.0-py3-none-any.whl (4.7 kB)\n",
      "Installing collected packages: et-xmlfile, openpyxl\n",
      "Successfully installed et-xmlfile-1.1.0 openpyxl-3.1.0\n"
     ]
    }
   ],
   "source": [
    "!pip install openpyxl"
   ]
  },
  {
   "cell_type": "code",
   "execution_count": 2,
   "id": "96c1a6fa-e90e-411a-abdf-5543bc29773a",
   "metadata": {},
   "outputs": [],
   "source": [
    "import pandas as pd\n",
    "from ipywidgets import IntProgress\n",
    "from IPython.display import display\n",
    "import time"
   ]
  },
  {
   "cell_type": "code",
   "execution_count": 22,
   "id": "82ef9048-9bf9-403d-933f-b62275ca2ed9",
   "metadata": {},
   "outputs": [],
   "source": [
    "data_1 = {'Id': [1, 2, 3, 4, 5],\n",
    "        'Text': [\"Text 1\", \"Text 2\", \"Text 3\", \"Text 4\", \"Text 5\"]}\n",
    "\n",
    "data_2 = {'Id': [6, 7, 8, 9, 10],\n",
    "        'Text': [\"Text 6\", \"Text 7\", \"Text 8\", \"Text 9\", \"Text 10\"]}\n",
    "  \n",
    "# Create DataFrame\n",
    "df_1 = pd.DataFrame(data_1)\n",
    "df_2 = pd.DataFrame(data_2)"
   ]
  },
  {
   "cell_type": "code",
   "execution_count": 23,
   "id": "52bb1ca2-3546-4a86-83ad-baef67169a06",
   "metadata": {},
   "outputs": [
    {
     "data": {
      "text/html": [
       "<div>\n",
       "<style scoped>\n",
       "    .dataframe tbody tr th:only-of-type {\n",
       "        vertical-align: middle;\n",
       "    }\n",
       "\n",
       "    .dataframe tbody tr th {\n",
       "        vertical-align: top;\n",
       "    }\n",
       "\n",
       "    .dataframe thead th {\n",
       "        text-align: right;\n",
       "    }\n",
       "</style>\n",
       "<table border=\"1\" class=\"dataframe\">\n",
       "  <thead>\n",
       "    <tr style=\"text-align: right;\">\n",
       "      <th></th>\n",
       "      <th>Id</th>\n",
       "      <th>Text</th>\n",
       "    </tr>\n",
       "  </thead>\n",
       "  <tbody>\n",
       "    <tr>\n",
       "      <th>0</th>\n",
       "      <td>1</td>\n",
       "      <td>Text 1</td>\n",
       "    </tr>\n",
       "    <tr>\n",
       "      <th>1</th>\n",
       "      <td>2</td>\n",
       "      <td>Text 2</td>\n",
       "    </tr>\n",
       "    <tr>\n",
       "      <th>2</th>\n",
       "      <td>3</td>\n",
       "      <td>Text 3</td>\n",
       "    </tr>\n",
       "    <tr>\n",
       "      <th>3</th>\n",
       "      <td>4</td>\n",
       "      <td>Text 4</td>\n",
       "    </tr>\n",
       "    <tr>\n",
       "      <th>4</th>\n",
       "      <td>5</td>\n",
       "      <td>Text 5</td>\n",
       "    </tr>\n",
       "  </tbody>\n",
       "</table>\n",
       "</div>"
      ],
      "text/plain": [
       "   Id    Text\n",
       "0   1  Text 1\n",
       "1   2  Text 2\n",
       "2   3  Text 3\n",
       "3   4  Text 4\n",
       "4   5  Text 5"
      ]
     },
     "execution_count": 23,
     "metadata": {},
     "output_type": "execute_result"
    }
   ],
   "source": [
    "df_1"
   ]
  },
  {
   "cell_type": "code",
   "execution_count": 8,
   "id": "c2c4d0c1-d8be-43f5-9470-92451ba0c405",
   "metadata": {},
   "outputs": [
    {
     "data": {
      "text/html": [
       "<div>\n",
       "<style scoped>\n",
       "    .dataframe tbody tr th:only-of-type {\n",
       "        vertical-align: middle;\n",
       "    }\n",
       "\n",
       "    .dataframe tbody tr th {\n",
       "        vertical-align: top;\n",
       "    }\n",
       "\n",
       "    .dataframe thead th {\n",
       "        text-align: right;\n",
       "    }\n",
       "</style>\n",
       "<table border=\"1\" class=\"dataframe\">\n",
       "  <thead>\n",
       "    <tr style=\"text-align: right;\">\n",
       "      <th></th>\n",
       "      <th>text</th>\n",
       "    </tr>\n",
       "  </thead>\n",
       "  <tbody>\n",
       "    <tr>\n",
       "      <th>0</th>\n",
       "      <td>1/2\\nIhr #Verräter\\nIhr #Eidbrecher\\nIhr #Verb...</td>\n",
       "    </tr>\n",
       "    <tr>\n",
       "      <th>1</th>\n",
       "      <td>@SWagenknecht Weil Sie das ja auch so gut wiss...</td>\n",
       "    </tr>\n",
       "    <tr>\n",
       "      <th>2</th>\n",
       "      <td>@ABW67484335 @susi_lins @SWagenknecht Ach wie ...</td>\n",
       "    </tr>\n",
       "    <tr>\n",
       "      <th>3</th>\n",
       "      <td>@McI0vin @Bauernopfer1 @voglerk Ich weiß ja, i...</td>\n",
       "    </tr>\n",
       "    <tr>\n",
       "      <th>4</th>\n",
       "      <td>@SevimDagdelen Dağdelen erzählt immer noch ihr...</td>\n",
       "    </tr>\n",
       "    <tr>\n",
       "      <th>...</th>\n",
       "      <td>...</td>\n",
       "    </tr>\n",
       "    <tr>\n",
       "      <th>202396</th>\n",
       "      <td>@JoSteiniger Diese blöden Bürger, diese blöden...</td>\n",
       "    </tr>\n",
       "    <tr>\n",
       "      <th>202397</th>\n",
       "      <td>@erik_donner @JoSteiniger Aber natürlich doch....</td>\n",
       "    </tr>\n",
       "    <tr>\n",
       "      <th>202398</th>\n",
       "      <td>@JoSteiniger @jansweber Gegen Olympia wurde be...</td>\n",
       "    </tr>\n",
       "    <tr>\n",
       "      <th>202399</th>\n",
       "      <td>@JoSteiniger zulassen, dass korrupte Funktionä...</td>\n",
       "    </tr>\n",
       "    <tr>\n",
       "      <th>202400</th>\n",
       "      <td>@JoSteiniger Die Pro-Olympia Kampagne war in M...</td>\n",
       "    </tr>\n",
       "  </tbody>\n",
       "</table>\n",
       "<p>202401 rows × 1 columns</p>\n",
       "</div>"
      ],
      "text/plain": [
       "                                                     text\n",
       "0       1/2\\nIhr #Verräter\\nIhr #Eidbrecher\\nIhr #Verb...\n",
       "1       @SWagenknecht Weil Sie das ja auch so gut wiss...\n",
       "2       @ABW67484335 @susi_lins @SWagenknecht Ach wie ...\n",
       "3       @McI0vin @Bauernopfer1 @voglerk Ich weiß ja, i...\n",
       "4       @SevimDagdelen Dağdelen erzählt immer noch ihr...\n",
       "...                                                   ...\n",
       "202396  @JoSteiniger Diese blöden Bürger, diese blöden...\n",
       "202397  @erik_donner @JoSteiniger Aber natürlich doch....\n",
       "202398  @JoSteiniger @jansweber Gegen Olympia wurde be...\n",
       "202399  @JoSteiniger zulassen, dass korrupte Funktionä...\n",
       "202400  @JoSteiniger Die Pro-Olympia Kampagne war in M...\n",
       "\n",
       "[202401 rows x 1 columns]"
      ]
     },
     "execution_count": 8,
     "metadata": {},
     "output_type": "execute_result"
    }
   ],
   "source": [
    "swear_df = pd.read_csv(\"swear_word_tweets.csv\")\n",
    "swear_df"
   ]
  },
  {
   "cell_type": "code",
   "execution_count": 11,
   "id": "c23e1692-b088-40c6-9f19-5c3022b4effd",
   "metadata": {},
   "outputs": [],
   "source": [
    "swear_list = swear_df.text.to_list()"
   ]
  },
  {
   "cell_type": "code",
   "execution_count": 21,
   "id": "7db20f17-3800-4ffe-8bf6-35832e9afd9a",
   "metadata": {},
   "outputs": [
    {
     "data": {
      "text/plain": [
       "['1/2\\nIhr #Verräter\\nIhr #Eidbrecher\\nIhr #Verbrecher\\n\\nVerteiler! \\n\\n@cdu_fraktion @csu @Die_Gruenen\\n@dieLinke @jensspahn \\n@AfDimBundestag \\n@fdp @HeikoMaas @GregorGysi @SawsanChebli @_FriedrichMerz\\n@RegSprecher @akk @ABaerbock\\n@DietmarBartsch @MarcoBuschmann \\n\\nhttps://t.co/OVKeQRvSDp',\n",
       " '@SWagenknecht Weil Sie das ja auch so gut wissen?!\\nSo, wie Sie wussten, dass #Putin ja niiieeemals die #Ukraine überfällt.\\nOder wie Sie sich mit #Corona auskennen und den ganzen #Querdenker und #Schwurbler Mist verbreiten.😒🙄🙈',\n",
       " '@ABW67484335 @susi_lins @SWagenknecht Ach wie schön: Persönliche Anekdötchen vs. Wissenschaft. So kennen wir unsere Querdullis. Ach so: Sind Ampeln auch Mist, weil Sie es schon mal vor einem heranrasenden Wagen über die Straße geschafft haben?',\n",
       " '@McI0vin @Bauernopfer1 @voglerk Ich weiß ja, ihr drei haltet euch für besonders schlau und lustig... aber dann würde ich vielleicht wenigstens die ganze transphobe Scheiße im Profil vorher verstecken, bevor ich so eine geistige Insolvenzerklärung online abgebe. 😘',\n",
       " \"@SevimDagdelen Dağdelen erzählt immer noch ihr Märchen davon, dass man den Krieg in der Ukraine nicht mit Sanktionen stoppen könne, im Gegenteil - wir müssen das Krokodil weiter demütig füttern in der Hoffnung, dass es uns erst zuletzt frisst. Geh' zum Teufel, du dumme Kuh!\"]"
      ]
     },
     "execution_count": 21,
     "metadata": {},
     "output_type": "execute_result"
    }
   ],
   "source": [
    "swear_list[:5]"
   ]
  },
  {
   "cell_type": "code",
   "execution_count": 15,
   "id": "e806654d-4480-4d53-a2cb-42767e0e3562",
   "metadata": {},
   "outputs": [],
   "source": [
    "%%capture\n",
    "from germansentiment import SentimentModel\n",
    "\n",
    "model = SentimentModel()"
   ]
  },
  {
   "cell_type": "code",
   "execution_count": 38,
   "id": "3f6f33e4-b528-4799-bba2-3a04559f9ef1",
   "metadata": {},
   "outputs": [],
   "source": [
    "text = swear_list[5]"
   ]
  },
  {
   "cell_type": "code",
   "execution_count": 39,
   "id": "74eb5d79-2838-44a2-af50-b7f9243a6f0d",
   "metadata": {},
   "outputs": [
    {
     "name": "stdout",
     "output_type": "stream",
     "text": [
      "['negative'] [[['positive', 0.059055864810943604], ['negative', 0.9357224702835083], ['neutral', 0.005221561994403601]]]\n"
     ]
    }
   ],
   "source": [
    "classes, probabilities = model.predict_sentiment([text], output_probabilities = True) \n",
    "print(classes, probabilities)"
   ]
  },
  {
   "cell_type": "code",
   "execution_count": 40,
   "id": "edf1061b-bae4-4b72-9470-3760bae2eb7d",
   "metadata": {},
   "outputs": [
    {
     "name": "stdout",
     "output_type": "stream",
     "text": [
      "The prediction is negative with a Score of 0.9357224702835083\n"
     ]
    }
   ],
   "source": [
    "for i in range(3):  \n",
    "    if probabilities[0][i][0] == classes[0]:\n",
    "        if classes[0] == \"negative\":\n",
    "            if probabilities[0][i][1] > 0.6:\n",
    "                print(f\"The prediction is {probabilities[0][i][0]} with a Score of {probabilities[0][i][1]}\")"
   ]
  },
  {
   "cell_type": "code",
   "execution_count": 48,
   "id": "a8e317c0-e7ae-495b-97d6-b287951d07f0",
   "metadata": {},
   "outputs": [
    {
     "data": {
      "application/vnd.jupyter.widget-view+json": {
       "model_id": "9f79d38596244d8797986530f780969b",
       "version_major": 2,
       "version_minor": 0
      },
      "text/plain": [
       "IntProgress(value=0, max=202401)"
      ]
     },
     "metadata": {},
     "output_type": "display_data"
    },
    {
     "name": "stdout",
     "output_type": "stream",
     "text": [
      "PROGRESS\n"
     ]
    },
    {
     "name": "stderr",
     "output_type": "stream",
     "text": [
      "IOPub message rate exceeded.\n",
      "The Jupyter server will temporarily stop sending output\n",
      "to the client in order to avoid crashing it.\n",
      "To change this limit, set the config variable\n",
      "`--ServerApp.iopub_msg_rate_limit`.\n",
      "\n",
      "Current values:\n",
      "ServerApp.iopub_msg_rate_limit=1000.0 (msgs/sec)\n",
      "ServerApp.rate_limit_window=3.0 (secs)\n",
      "\n"
     ]
    },
    {
     "data": {
      "text/plain": [
       "86719"
      ]
     },
     "execution_count": 48,
     "metadata": {},
     "output_type": "execute_result"
    }
   ],
   "source": [
    "f = IntProgress(min=0, max=len(swear_list)) # instantiate the bar\n",
    "display(f) # display the bar\n",
    "print(\"PROGRESS\")\n",
    "\n",
    "sentiment_list = []\n",
    "counter = 0\n",
    "\n",
    "for i in swear_list:\n",
    "    f.value += 1 # increment the progress bar\n",
    "    counter += 1\n",
    "    classes, probabilities = model.predict_sentiment([i], output_probabilities = True)\n",
    "    for j in range(3):  \n",
    "        if probabilities[0][j][0] == classes[0]:\n",
    "            if classes[0] == \"negative\":\n",
    "                if probabilities[0][j][1] > 0.9:\n",
    "                    sentiment_list.append(i)\n",
    "                    #print(f\"The prediction is {probabilities[0][j][0]} with a Score of {probabilities[0][j][1]}\")\n",
    "\n",
    "len(sentiment_list)"
   ]
  },
  {
   "cell_type": "code",
   "execution_count": 50,
   "id": "a46aba84-1b61-45a5-8dff-f85fe218e917",
   "metadata": {},
   "outputs": [],
   "source": [
    "df = pd.DataFrame(data={\"text\": sentiment_list})\n",
    "df = df.reset_index()\n",
    "df.to_csv(\"./sentiment_swear_words.csv\", sep=';',index=False, encoding=\"utf-8\")"
   ]
  },
  {
   "cell_type": "code",
   "execution_count": 52,
   "id": "4500787f-de41-485c-b631-f315a0422b3b",
   "metadata": {},
   "outputs": [],
   "source": [
    "annotation = df.sample(2000)\n",
    "annotation = annotation.reset_index()\n",
    "annotation.to_csv(\"sentiment_annotation_2k.csv\", encoding = \"utf-8\", sep=\";\")"
   ]
  },
  {
   "cell_type": "code",
   "execution_count": 15,
   "id": "56ba0e66-36d7-4bb5-ac48-f0edd4127387",
   "metadata": {},
   "outputs": [],
   "source": [
    "df = pd.read_csv(\"sentiment_swear_words.csv\", sep=\";\")\n",
    "df = df.sample(250)\n",
    "df.to_csv(\"annotation_batch_3.csv\")"
   ]
  },
  {
   "cell_type": "code",
   "execution_count": 22,
   "id": "69a0f660-0005-47a0-9e45-e3e7ece1d7d6",
   "metadata": {},
   "outputs": [
    {
     "data": {
      "text/html": [
       "<div>\n",
       "<style scoped>\n",
       "    .dataframe tbody tr th:only-of-type {\n",
       "        vertical-align: middle;\n",
       "    }\n",
       "\n",
       "    .dataframe tbody tr th {\n",
       "        vertical-align: top;\n",
       "    }\n",
       "\n",
       "    .dataframe thead th {\n",
       "        text-align: right;\n",
       "    }\n",
       "</style>\n",
       "<table border=\"1\" class=\"dataframe\">\n",
       "  <thead>\n",
       "    <tr style=\"text-align: right;\">\n",
       "      <th></th>\n",
       "      <th>index</th>\n",
       "      <th>text</th>\n",
       "      <th>Column1</th>\n",
       "    </tr>\n",
       "  </thead>\n",
       "  <tbody>\n",
       "    <tr>\n",
       "      <th>17748</th>\n",
       "      <td>17748</td>\n",
       "      <td>@SerapGueler Wenn man selbst eine gehörige Tra...</td>\n",
       "      <td>0</td>\n",
       "    </tr>\n",
       "    <tr>\n",
       "      <th>86203</th>\n",
       "      <td>86203</td>\n",
       "      <td>@Kai_Whittaker @ABaerbock Baerbock und Habeck ...</td>\n",
       "      <td>1</td>\n",
       "    </tr>\n",
       "    <tr>\n",
       "      <th>69727</th>\n",
       "      <td>69727</td>\n",
       "      <td>@StBrandner Müssen Sie Ihren unqualifizierten ...</td>\n",
       "      <td>2</td>\n",
       "    </tr>\n",
       "    <tr>\n",
       "      <th>63739</th>\n",
       "      <td>63739</td>\n",
       "      <td>@FranzMe58209364 @Stphn85 @prof_freedom @janos...</td>\n",
       "      <td>3</td>\n",
       "    </tr>\n",
       "    <tr>\n",
       "      <th>75386</th>\n",
       "      <td>75386</td>\n",
       "      <td>@janoschdahmen Ich bin Unternehmer, und ich sa...</td>\n",
       "      <td>4</td>\n",
       "    </tr>\n",
       "    <tr>\n",
       "      <th>...</th>\n",
       "      <td>...</td>\n",
       "      <td>...</td>\n",
       "      <td>...</td>\n",
       "    </tr>\n",
       "    <tr>\n",
       "      <th>34875</th>\n",
       "      <td>34875</td>\n",
       "      <td>@Stahlwerker2 @MucWizo @onkeltomb @ben_brechtk...</td>\n",
       "      <td>245</td>\n",
       "    </tr>\n",
       "    <tr>\n",
       "      <th>63896</th>\n",
       "      <td>63896</td>\n",
       "      <td>Wieso lieber @Karl_Lauterbach scheuche ich mei...</td>\n",
       "      <td>246</td>\n",
       "    </tr>\n",
       "    <tr>\n",
       "      <th>58254</th>\n",
       "      <td>58254</td>\n",
       "      <td>@MOmega81437749 @HilgerAlexander @Karl_Lauterb...</td>\n",
       "      <td>247</td>\n",
       "    </tr>\n",
       "    <tr>\n",
       "      <th>25914</th>\n",
       "      <td>25914</td>\n",
       "      <td>@Ralf_Stegner Oh, scheiße</td>\n",
       "      <td>248</td>\n",
       "    </tr>\n",
       "    <tr>\n",
       "      <th>56118</th>\n",
       "      <td>56118</td>\n",
       "      <td>wie lange dauert es noch an, bis Sie uns von @...</td>\n",
       "      <td>249</td>\n",
       "    </tr>\n",
       "  </tbody>\n",
       "</table>\n",
       "<p>250 rows × 3 columns</p>\n",
       "</div>"
      ],
      "text/plain": [
       "       index                                               text  Column1\n",
       "17748  17748  @SerapGueler Wenn man selbst eine gehörige Tra...        0\n",
       "86203  86203  @Kai_Whittaker @ABaerbock Baerbock und Habeck ...        1\n",
       "69727  69727  @StBrandner Müssen Sie Ihren unqualifizierten ...        2\n",
       "63739  63739  @FranzMe58209364 @Stphn85 @prof_freedom @janos...        3\n",
       "75386  75386  @janoschdahmen Ich bin Unternehmer, und ich sa...        4\n",
       "...      ...                                                ...      ...\n",
       "34875  34875  @Stahlwerker2 @MucWizo @onkeltomb @ben_brechtk...      245\n",
       "63896  63896  Wieso lieber @Karl_Lauterbach scheuche ich mei...      246\n",
       "58254  58254  @MOmega81437749 @HilgerAlexander @Karl_Lauterb...      247\n",
       "25914  25914                          @Ralf_Stegner Oh, scheiße      248\n",
       "56118  56118  wie lange dauert es noch an, bis Sie uns von @...      249\n",
       "\n",
       "[250 rows x 3 columns]"
      ]
     },
     "execution_count": 22,
     "metadata": {},
     "output_type": "execute_result"
    }
   ],
   "source": [
    "indexlist = list(range(0,250))\n",
    "df[\"Column1\"] = indexlist\n",
    "df"
   ]
  },
  {
   "cell_type": "code",
   "execution_count": 19,
   "id": "4ea7fbc2-f328-41b2-819a-6fc3bf903b4d",
   "metadata": {},
   "outputs": [
    {
     "data": {
      "text/html": [
       "<div>\n",
       "<style scoped>\n",
       "    .dataframe tbody tr th:only-of-type {\n",
       "        vertical-align: middle;\n",
       "    }\n",
       "\n",
       "    .dataframe tbody tr th {\n",
       "        vertical-align: top;\n",
       "    }\n",
       "\n",
       "    .dataframe thead th {\n",
       "        text-align: right;\n",
       "    }\n",
       "</style>\n",
       "<table border=\"1\" class=\"dataframe\">\n",
       "  <thead>\n",
       "    <tr style=\"text-align: right;\">\n",
       "      <th></th>\n",
       "      <th>Unnamed: 0</th>\n",
       "      <th>level_0</th>\n",
       "      <th>index</th>\n",
       "      <th>text</th>\n",
       "    </tr>\n",
       "  </thead>\n",
       "  <tbody>\n",
       "    <tr>\n",
       "      <th>0</th>\n",
       "      <td>0</td>\n",
       "      <td>33048</td>\n",
       "      <td>33048</td>\n",
       "      <td>@eckhard_neubert @maischberger @n_roettgen @Da...</td>\n",
       "    </tr>\n",
       "    <tr>\n",
       "      <th>1</th>\n",
       "      <td>1</td>\n",
       "      <td>10274</td>\n",
       "      <td>10274</td>\n",
       "      <td>@phoenix_de @Ricarda_Lang @Die_Gruenen Wie dre...</td>\n",
       "    </tr>\n",
       "    <tr>\n",
       "      <th>2</th>\n",
       "      <td>2</td>\n",
       "      <td>66195</td>\n",
       "      <td>66195</td>\n",
       "      <td>@AfDProtschka Und ich wünsche Ihnen Flöhe am A...</td>\n",
       "    </tr>\n",
       "    <tr>\n",
       "      <th>3</th>\n",
       "      <td>3</td>\n",
       "      <td>56652</td>\n",
       "      <td>56652</td>\n",
       "      <td>@Karl_Lauterbach Jetzt gibt es eine neue Sau d...</td>\n",
       "    </tr>\n",
       "    <tr>\n",
       "      <th>4</th>\n",
       "      <td>4</td>\n",
       "      <td>225</td>\n",
       "      <td>225</td>\n",
       "      <td>@ernst_klaus Geh und halt die Backen, du witzf...</td>\n",
       "    </tr>\n",
       "  </tbody>\n",
       "</table>\n",
       "</div>"
      ],
      "text/plain": [
       "   Unnamed: 0  level_0  index  \\\n",
       "0           0    33048  33048   \n",
       "1           1    10274  10274   \n",
       "2           2    66195  66195   \n",
       "3           3    56652  56652   \n",
       "4           4      225    225   \n",
       "\n",
       "                                                text  \n",
       "0  @eckhard_neubert @maischberger @n_roettgen @Da...  \n",
       "1  @phoenix_de @Ricarda_Lang @Die_Gruenen Wie dre...  \n",
       "2  @AfDProtschka Und ich wünsche Ihnen Flöhe am A...  \n",
       "3  @Karl_Lauterbach Jetzt gibt es eine neue Sau d...  \n",
       "4  @ernst_klaus Geh und halt die Backen, du witzf...  "
      ]
     },
     "execution_count": 19,
     "metadata": {},
     "output_type": "execute_result"
    }
   ],
   "source": [
    "anno = pd.read_csv(\"../Annotation/sentiment_annotation_2k.csv\", sep=\";\")\n",
    "anno.head()"
   ]
  },
  {
   "cell_type": "code",
   "execution_count": 20,
   "id": "4e54dc8a-5716-4eb2-a4e6-8e0b9fba73c5",
   "metadata": {},
   "outputs": [
    {
     "data": {
      "text/html": [
       "<div>\n",
       "<style scoped>\n",
       "    .dataframe tbody tr th:only-of-type {\n",
       "        vertical-align: middle;\n",
       "    }\n",
       "\n",
       "    .dataframe tbody tr th {\n",
       "        vertical-align: top;\n",
       "    }\n",
       "\n",
       "    .dataframe thead th {\n",
       "        text-align: right;\n",
       "    }\n",
       "</style>\n",
       "<table border=\"1\" class=\"dataframe\">\n",
       "  <thead>\n",
       "    <tr style=\"text-align: right;\">\n",
       "      <th></th>\n",
       "      <th>Unnamed: 0</th>\n",
       "      <th>level_0</th>\n",
       "      <th>index</th>\n",
       "      <th>text</th>\n",
       "    </tr>\n",
       "  </thead>\n",
       "  <tbody>\n",
       "    <tr>\n",
       "      <th>0</th>\n",
       "      <td>0</td>\n",
       "      <td>33048</td>\n",
       "      <td>33048</td>\n",
       "      <td>@eckhard_neubert @maischberger @n_roettgen @Da...</td>\n",
       "    </tr>\n",
       "  </tbody>\n",
       "</table>\n",
       "</div>"
      ],
      "text/plain": [
       "   Unnamed: 0  level_0  index  \\\n",
       "0           0    33048  33048   \n",
       "\n",
       "                                                text  \n",
       "0  @eckhard_neubert @maischberger @n_roettgen @Da...  "
      ]
     },
     "execution_count": 20,
     "metadata": {},
     "output_type": "execute_result"
    }
   ],
   "source": [
    "anno[anno.level_0 == 33048]"
   ]
  },
  {
   "cell_type": "code",
   "execution_count": 17,
   "id": "4c7af0bb-5510-4f8d-a246-46daef3c37de",
   "metadata": {},
   "outputs": [
    {
     "name": "stderr",
     "output_type": "stream",
     "text": [
      "/tmp/ipykernel_635/2922013166.py:3: FutureWarning: The frame.append method is deprecated and will be removed from pandas in a future version. Use pandas.concat instead.\n",
      "  anno3 = anno1.append(anno2)\n"
     ]
    },
    {
     "data": {
      "text/plain": [
       "500"
      ]
     },
     "execution_count": 17,
     "metadata": {},
     "output_type": "execute_result"
    }
   ],
   "source": [
    "anno1 = anno[400:470]\n",
    "anno2 = anno[570:1000]\n",
    "anno3 = anno1.append(anno2)\n",
    "len(anno3)"
   ]
  }
 ],
 "metadata": {
  "kernelspec": {
   "display_name": "Python 3 (ipykernel)",
   "language": "python",
   "name": "python3"
  },
  "language_info": {
   "codemirror_mode": {
    "name": "ipython",
    "version": 3
   },
   "file_extension": ".py",
   "mimetype": "text/x-python",
   "name": "python",
   "nbconvert_exporter": "python",
   "pygments_lexer": "ipython3",
   "version": "3.8.12"
  }
 },
 "nbformat": 4,
 "nbformat_minor": 5
}
