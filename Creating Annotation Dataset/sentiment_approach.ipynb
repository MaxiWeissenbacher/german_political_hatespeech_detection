{
 "cells": [
  {
   "cell_type": "code",
   "execution_count": 1,
   "id": "5f464e6b-c8ea-4b75-8446-d8ee94b30895",
   "metadata": {},
   "outputs": [],
   "source": [
    "%%capture\n",
    "!pip install germansentiment"
   ]
  },
  {
   "cell_type": "code",
   "execution_count": 1,
   "id": "0f2e39e6-0a4f-4429-ba70-583ce3265450",
   "metadata": {},
   "outputs": [
    {
     "name": "stdout",
     "output_type": "stream",
     "text": [
      "Collecting openpyxl\n",
      "  Using cached openpyxl-3.1.0-py2.py3-none-any.whl (250 kB)\n",
      "Collecting et-xmlfile\n",
      "  Using cached et_xmlfile-1.1.0-py3-none-any.whl (4.7 kB)\n",
      "Installing collected packages: et-xmlfile, openpyxl\n",
      "Successfully installed et-xmlfile-1.1.0 openpyxl-3.1.0\n"
     ]
    }
   ],
   "source": [
    "!pip install openpyxl"
   ]
  },
  {
   "cell_type": "markdown",
   "id": "65628771",
   "metadata": {},
   "source": [
    "# Sentiment Approach with Swear word lexicon combined"
   ]
  },
  {
   "cell_type": "code",
   "execution_count": 2,
   "id": "96c1a6fa-e90e-411a-abdf-5543bc29773a",
   "metadata": {},
   "outputs": [],
   "source": [
    "import pandas as pd\n",
    "from ipywidgets import IntProgress\n",
    "from IPython.display import display\n",
    "import time"
   ]
  },
  {
   "cell_type": "code",
   "execution_count": 8,
   "id": "c2c4d0c1-d8be-43f5-9470-92451ba0c405",
   "metadata": {},
   "outputs": [
    {
     "data": {
      "text/html": [
       "<div>\n",
       "<style scoped>\n",
       "    .dataframe tbody tr th:only-of-type {\n",
       "        vertical-align: middle;\n",
       "    }\n",
       "\n",
       "    .dataframe tbody tr th {\n",
       "        vertical-align: top;\n",
       "    }\n",
       "\n",
       "    .dataframe thead th {\n",
       "        text-align: right;\n",
       "    }\n",
       "</style>\n",
       "<table border=\"1\" class=\"dataframe\">\n",
       "  <thead>\n",
       "    <tr style=\"text-align: right;\">\n",
       "      <th></th>\n",
       "      <th>text</th>\n",
       "    </tr>\n",
       "  </thead>\n",
       "  <tbody>\n",
       "    <tr>\n",
       "      <th>0</th>\n",
       "      <td>1/2\\nIhr #Verräter\\nIhr #Eidbrecher\\nIhr #Verb...</td>\n",
       "    </tr>\n",
       "    <tr>\n",
       "      <th>1</th>\n",
       "      <td>@SWagenknecht Weil Sie das ja auch so gut wiss...</td>\n",
       "    </tr>\n",
       "    <tr>\n",
       "      <th>2</th>\n",
       "      <td>@ABW67484335 @susi_lins @SWagenknecht Ach wie ...</td>\n",
       "    </tr>\n",
       "    <tr>\n",
       "      <th>3</th>\n",
       "      <td>@McI0vin @Bauernopfer1 @voglerk Ich weiß ja, i...</td>\n",
       "    </tr>\n",
       "    <tr>\n",
       "      <th>4</th>\n",
       "      <td>@SevimDagdelen Dağdelen erzählt immer noch ihr...</td>\n",
       "    </tr>\n",
       "    <tr>\n",
       "      <th>...</th>\n",
       "      <td>...</td>\n",
       "    </tr>\n",
       "    <tr>\n",
       "      <th>202396</th>\n",
       "      <td>@JoSteiniger Diese blöden Bürger, diese blöden...</td>\n",
       "    </tr>\n",
       "    <tr>\n",
       "      <th>202397</th>\n",
       "      <td>@erik_donner @JoSteiniger Aber natürlich doch....</td>\n",
       "    </tr>\n",
       "    <tr>\n",
       "      <th>202398</th>\n",
       "      <td>@JoSteiniger @jansweber Gegen Olympia wurde be...</td>\n",
       "    </tr>\n",
       "    <tr>\n",
       "      <th>202399</th>\n",
       "      <td>@JoSteiniger zulassen, dass korrupte Funktionä...</td>\n",
       "    </tr>\n",
       "    <tr>\n",
       "      <th>202400</th>\n",
       "      <td>@JoSteiniger Die Pro-Olympia Kampagne war in M...</td>\n",
       "    </tr>\n",
       "  </tbody>\n",
       "</table>\n",
       "<p>202401 rows × 1 columns</p>\n",
       "</div>"
      ],
      "text/plain": [
       "                                                     text\n",
       "0       1/2\\nIhr #Verräter\\nIhr #Eidbrecher\\nIhr #Verb...\n",
       "1       @SWagenknecht Weil Sie das ja auch so gut wiss...\n",
       "2       @ABW67484335 @susi_lins @SWagenknecht Ach wie ...\n",
       "3       @McI0vin @Bauernopfer1 @voglerk Ich weiß ja, i...\n",
       "4       @SevimDagdelen Dağdelen erzählt immer noch ihr...\n",
       "...                                                   ...\n",
       "202396  @JoSteiniger Diese blöden Bürger, diese blöden...\n",
       "202397  @erik_donner @JoSteiniger Aber natürlich doch....\n",
       "202398  @JoSteiniger @jansweber Gegen Olympia wurde be...\n",
       "202399  @JoSteiniger zulassen, dass korrupte Funktionä...\n",
       "202400  @JoSteiniger Die Pro-Olympia Kampagne war in M...\n",
       "\n",
       "[202401 rows x 1 columns]"
      ]
     },
     "execution_count": 8,
     "metadata": {},
     "output_type": "execute_result"
    }
   ],
   "source": [
    "# read in all tweets with swear words\n",
    "# The dataset was created in the \"schimpf.ipynb\" Notebook\n",
    "swear_df = pd.read_csv(\"swear_word_tweets.csv\")\n",
    "swear_df"
   ]
  },
  {
   "cell_type": "code",
   "execution_count": 11,
   "id": "c23e1692-b088-40c6-9f19-5c3022b4effd",
   "metadata": {},
   "outputs": [],
   "source": [
    "swear_list = swear_df.text.to_list()"
   ]
  },
  {
   "cell_type": "code",
   "execution_count": 21,
   "id": "7db20f17-3800-4ffe-8bf6-35832e9afd9a",
   "metadata": {},
   "outputs": [
    {
     "data": {
      "text/plain": [
       "['1/2\\nIhr #Verräter\\nIhr #Eidbrecher\\nIhr #Verbrecher\\n\\nVerteiler! \\n\\n@cdu_fraktion @csu @Die_Gruenen\\n@dieLinke @jensspahn \\n@AfDimBundestag \\n@fdp @HeikoMaas @GregorGysi @SawsanChebli @_FriedrichMerz\\n@RegSprecher @akk @ABaerbock\\n@DietmarBartsch @MarcoBuschmann \\n\\nhttps://t.co/OVKeQRvSDp',\n",
       " '@SWagenknecht Weil Sie das ja auch so gut wissen?!\\nSo, wie Sie wussten, dass #Putin ja niiieeemals die #Ukraine überfällt.\\nOder wie Sie sich mit #Corona auskennen und den ganzen #Querdenker und #Schwurbler Mist verbreiten.😒🙄🙈',\n",
       " '@ABW67484335 @susi_lins @SWagenknecht Ach wie schön: Persönliche Anekdötchen vs. Wissenschaft. So kennen wir unsere Querdullis. Ach so: Sind Ampeln auch Mist, weil Sie es schon mal vor einem heranrasenden Wagen über die Straße geschafft haben?',\n",
       " '@McI0vin @Bauernopfer1 @voglerk Ich weiß ja, ihr drei haltet euch für besonders schlau und lustig... aber dann würde ich vielleicht wenigstens die ganze transphobe Scheiße im Profil vorher verstecken, bevor ich so eine geistige Insolvenzerklärung online abgebe. 😘',\n",
       " \"@SevimDagdelen Dağdelen erzählt immer noch ihr Märchen davon, dass man den Krieg in der Ukraine nicht mit Sanktionen stoppen könne, im Gegenteil - wir müssen das Krokodil weiter demütig füttern in der Hoffnung, dass es uns erst zuletzt frisst. Geh' zum Teufel, du dumme Kuh!\"]"
      ]
     },
     "execution_count": 21,
     "metadata": {},
     "output_type": "execute_result"
    }
   ],
   "source": [
    "swear_list[:5]"
   ]
  },
  {
   "cell_type": "code",
   "execution_count": 15,
   "id": "e806654d-4480-4d53-a2cb-42767e0e3562",
   "metadata": {},
   "outputs": [],
   "source": [
    "# Import germansentiment model: https://huggingface.co/oliverguhr/german-sentiment-bert\n",
    "from germansentiment import SentimentModel\n",
    "\n",
    "model = SentimentModel()"
   ]
  },
  {
   "cell_type": "code",
   "execution_count": 38,
   "id": "3f6f33e4-b528-4799-bba2-3a04559f9ef1",
   "metadata": {},
   "outputs": [],
   "source": [
    "text = swear_list[5]"
   ]
  },
  {
   "cell_type": "code",
   "execution_count": 39,
   "id": "74eb5d79-2838-44a2-af50-b7f9243a6f0d",
   "metadata": {},
   "outputs": [
    {
     "name": "stdout",
     "output_type": "stream",
     "text": [
      "['negative'] [[['positive', 0.059055864810943604], ['negative', 0.9357224702835083], ['neutral', 0.005221561994403601]]]\n"
     ]
    }
   ],
   "source": [
    "# Example:\n",
    "classes, probabilities = model.predict_sentiment([text], output_probabilities = True) \n",
    "print(classes, probabilities)"
   ]
  },
  {
   "cell_type": "code",
   "execution_count": 40,
   "id": "edf1061b-bae4-4b72-9470-3760bae2eb7d",
   "metadata": {},
   "outputs": [
    {
     "name": "stdout",
     "output_type": "stream",
     "text": [
      "The prediction is negative with a Score of 0.9357224702835083\n"
     ]
    }
   ],
   "source": [
    "# Testing the model and display the perdiction score\n",
    "for i in range(3):  \n",
    "    if probabilities[0][i][0] == classes[0]:\n",
    "        if classes[0] == \"negative\":\n",
    "            if probabilities[0][i][1] > 0.6:\n",
    "                print(f\"The prediction is {probabilities[0][i][0]} with a Score of {probabilities[0][i][1]}\")"
   ]
  },
  {
   "cell_type": "code",
   "execution_count": 48,
   "id": "a8e317c0-e7ae-495b-97d6-b287951d07f0",
   "metadata": {},
   "outputs": [
    {
     "data": {
      "application/vnd.jupyter.widget-view+json": {
       "model_id": "9f79d38596244d8797986530f780969b",
       "version_major": 2,
       "version_minor": 0
      },
      "text/plain": [
       "IntProgress(value=0, max=202401)"
      ]
     },
     "metadata": {},
     "output_type": "display_data"
    },
    {
     "name": "stdout",
     "output_type": "stream",
     "text": [
      "PROGRESS\n"
     ]
    },
    {
     "name": "stderr",
     "output_type": "stream",
     "text": [
      "IOPub message rate exceeded.\n",
      "The Jupyter server will temporarily stop sending output\n",
      "to the client in order to avoid crashing it.\n",
      "To change this limit, set the config variable\n",
      "`--ServerApp.iopub_msg_rate_limit`.\n",
      "\n",
      "Current values:\n",
      "ServerApp.iopub_msg_rate_limit=1000.0 (msgs/sec)\n",
      "ServerApp.rate_limit_window=3.0 (secs)\n",
      "\n"
     ]
    },
    {
     "data": {
      "text/plain": [
       "86719"
      ]
     },
     "execution_count": 48,
     "metadata": {},
     "output_type": "execute_result"
    }
   ],
   "source": [
    "# Append model to all tweets (from the Lexicon-based approach):\n",
    "\n",
    "f = IntProgress(min=0, max=len(swear_list)) # instantiate the bar\n",
    "display(f) # display the bar\n",
    "print(\"PROGRESS\")\n",
    "\n",
    "sentiment_list = []\n",
    "counter = 0\n",
    "\n",
    "for i in swear_list:\n",
    "    f.value += 1 # increment the progress bar\n",
    "    counter += 1\n",
    "    classes, probabilities = model.predict_sentiment([i], output_probabilities = True)\n",
    "    for j in range(3):  \n",
    "        if probabilities[0][j][0] == classes[0]:\n",
    "            if classes[0] == \"negative\":\n",
    "                if probabilities[0][j][1] > 0.9:\n",
    "                    sentiment_list.append(i)\n",
    "                    #print(f\"The prediction is {probabilities[0][j][0]} with a Score of {probabilities[0][j][1]}\")\n",
    "\n",
    "len(sentiment_list)"
   ]
  },
  {
   "cell_type": "code",
   "execution_count": 50,
   "id": "a46aba84-1b61-45a5-8dff-f85fe218e917",
   "metadata": {},
   "outputs": [],
   "source": [
    "# save resulting dataframe\n",
    "df = pd.DataFrame(data={\"text\": sentiment_list})\n",
    "df = df.reset_index()\n",
    "df.to_csv(\"./sentiment_swear_words.csv\", sep=';',index=False, encoding=\"utf-8\")"
   ]
  },
  {
   "cell_type": "code",
   "execution_count": 52,
   "id": "4500787f-de41-485c-b631-f315a0422b3b",
   "metadata": {},
   "outputs": [],
   "source": [
    "# Sample 2000 Tweets that may be used for the Annotation Task\n",
    "annotation = df.sample(2000)\n",
    "annotation = annotation.reset_index()\n",
    "annotation.to_csv(\"sentiment_annotation_2k.csv\", encoding = \"utf-8\", sep=\";\")"
   ]
  }
 ],
 "metadata": {
  "kernelspec": {
   "display_name": "Python 3 (ipykernel)",
   "language": "python",
   "name": "python3"
  },
  "language_info": {
   "codemirror_mode": {
    "name": "ipython",
    "version": 3
   },
   "file_extension": ".py",
   "mimetype": "text/x-python",
   "name": "python",
   "nbconvert_exporter": "python",
   "pygments_lexer": "ipython3",
   "version": "3.8.12"
  }
 },
 "nbformat": 4,
 "nbformat_minor": 5
}
