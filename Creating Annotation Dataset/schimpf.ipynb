{
 "cells": [
  {
   "cell_type": "code",
   "execution_count": 5,
   "id": "533676d2-472a-42b7-b889-4dd06c2421f4",
   "metadata": {},
   "outputs": [
    {
     "name": "stdout",
     "output_type": "stream",
     "text": [
      "Requirement already satisfied: openpyxl in /opt/conda/lib/python3.9/site-packages (3.0.10)\n",
      "Requirement already satisfied: et-xmlfile in /opt/conda/lib/python3.9/site-packages (from openpyxl) (1.1.0)\n"
     ]
    }
   ],
   "source": [
    "!pip install openpyxl"
   ]
  },
  {
   "cell_type": "code",
   "execution_count": 6,
   "id": "aa760985-1b5c-48ff-9cf6-9571e17bfc80",
   "metadata": {},
   "outputs": [],
   "source": [
    "import pandas as pd\n",
    "import numpy as np\n",
    "import re\n",
    "import openpyxl"
   ]
  },
  {
   "cell_type": "code",
   "execution_count": 16,
   "id": "b07ea582-263e-4ba7-a006-880624ea773b",
   "metadata": {},
   "outputs": [
    {
     "data": {
      "text/plain": [
       "['Adolf', 'Ami', 'Asylschmarotzer', 'Bazi', 'behindert']"
      ]
     },
     "execution_count": 16,
     "metadata": {},
     "output_type": "execute_result"
    }
   ],
   "source": [
    "df = pd.read_csv(\"schimpfwoerter.csv\", encoding = \"latin\", delimiter=\";\")\n",
    "\n",
    "# APPEND HATE WORDS FROM HATEBASE.ORG\n",
    "hatebase = pd.read_excel(\"hatebaseorg.xlsx\")\n",
    "\n",
    "hatebase = hatebase[\"Column1\"].tolist()\n",
    "hatebase[:5]"
   ]
  },
  {
   "cell_type": "code",
   "execution_count": 8,
   "id": "6edf9ddc-18b4-4108-9926-57ff54d58b03",
   "metadata": {},
   "outputs": [
    {
     "data": {
      "text/plain": [
       "6173"
      ]
     },
     "execution_count": 8,
     "metadata": {},
     "output_type": "execute_result"
    }
   ],
   "source": [
    "len(df)"
   ]
  },
  {
   "cell_type": "code",
   "execution_count": 17,
   "id": "5c576c5b-6178-4932-abce-a35943da7ba8",
   "metadata": {},
   "outputs": [
    {
     "data": {
      "text/html": [
       "<div>\n",
       "<style scoped>\n",
       "    .dataframe tbody tr th:only-of-type {\n",
       "        vertical-align: middle;\n",
       "    }\n",
       "\n",
       "    .dataframe tbody tr th {\n",
       "        vertical-align: top;\n",
       "    }\n",
       "\n",
       "    .dataframe thead th {\n",
       "        text-align: right;\n",
       "    }\n",
       "</style>\n",
       "<table border=\"1\" class=\"dataframe\">\n",
       "  <thead>\n",
       "    <tr style=\"text-align: right;\">\n",
       "      <th></th>\n",
       "      <th>Schimpfwort</th>\n",
       "    </tr>\n",
       "  </thead>\n",
       "  <tbody>\n",
       "    <tr>\n",
       "      <th>0</th>\n",
       "      <td>1. Aa-Esser</td>\n",
       "    </tr>\n",
       "    <tr>\n",
       "      <th>1</th>\n",
       "      <td>2. Aal</td>\n",
       "    </tr>\n",
       "    <tr>\n",
       "      <th>2</th>\n",
       "      <td>3. Aalauge</td>\n",
       "    </tr>\n",
       "    <tr>\n",
       "      <th>3</th>\n",
       "      <td>4. Aalficker</td>\n",
       "    </tr>\n",
       "    <tr>\n",
       "      <th>4</th>\n",
       "      <td>5. Aalfresse</td>\n",
       "    </tr>\n",
       "    <tr>\n",
       "      <th>...</th>\n",
       "      <td>...</td>\n",
       "    </tr>\n",
       "    <tr>\n",
       "      <th>6168</th>\n",
       "      <td>6169. Zwitter</td>\n",
       "    </tr>\n",
       "    <tr>\n",
       "      <th>6169</th>\n",
       "      <td>6170. Zyklopenfotze</td>\n",
       "    </tr>\n",
       "    <tr>\n",
       "      <th>6170</th>\n",
       "      <td>6171. Zyniker</td>\n",
       "    </tr>\n",
       "    <tr>\n",
       "      <th>6171</th>\n",
       "      <td>6172. Zyste</td>\n",
       "    </tr>\n",
       "    <tr>\n",
       "      <th>6172</th>\n",
       "      <td>6173. Zystenfresse</td>\n",
       "    </tr>\n",
       "  </tbody>\n",
       "</table>\n",
       "<p>6173 rows × 1 columns</p>\n",
       "</div>"
      ],
      "text/plain": [
       "              Schimpfwort\n",
       "0             1. Aa-Esser\n",
       "1                  2. Aal\n",
       "2              3. Aalauge\n",
       "3            4. Aalficker\n",
       "4            5. Aalfresse\n",
       "...                   ...\n",
       "6168        6169. Zwitter\n",
       "6169  6170. Zyklopenfotze\n",
       "6170        6171. Zyniker\n",
       "6171          6172. Zyste\n",
       "6172   6173. Zystenfresse\n",
       "\n",
       "[6173 rows x 1 columns]"
      ]
     },
     "execution_count": 17,
     "metadata": {},
     "output_type": "execute_result"
    }
   ],
   "source": [
    "df"
   ]
  },
  {
   "cell_type": "code",
   "execution_count": 9,
   "id": "ce1a742c-b9ba-42a4-8072-031108f72533",
   "metadata": {},
   "outputs": [],
   "source": [
    "username_list = []\n",
    "\n",
    "for index, row in df.iterrows():\n",
    "    username = row['Schimpfwort'].rsplit('. ', 1)[1].rsplit(',',1)[0]\n",
    "        #print(username)\n",
    "    #row[\"username\"] = username\n",
    "    username_list.append(username)\n",
    "df[\"Schimpfwort\"] = username_list"
   ]
  },
  {
   "cell_type": "code",
   "execution_count": 95,
   "id": "b7b3f8b3-c935-4743-b2a0-c79571898511",
   "metadata": {},
   "outputs": [
    {
     "data": {
      "text/plain": [
       "6275"
      ]
     },
     "execution_count": 95,
     "metadata": {},
     "output_type": "execute_result"
    }
   ],
   "source": [
    "swear_words = df[\"Schimpfwort\"].tolist()\n",
    "additional = [\"no front\", \"cringe\"]\n",
    "hatebase = hatebase + swear_words + additional\n",
    "len(hatebase)"
   ]
  },
  {
   "cell_type": "code",
   "execution_count": 96,
   "id": "6d1484c3-cb4d-46d4-8910-1c7a0d72dbc3",
   "metadata": {},
   "outputs": [],
   "source": [
    "df.to_csv(\"schimpfwoerter_cleaned.csv\")"
   ]
  },
  {
   "cell_type": "code",
   "execution_count": 97,
   "id": "f36977d2-7bf8-47b8-9d18-a5bdb1dc822b",
   "metadata": {},
   "outputs": [
    {
     "name": "stderr",
     "output_type": "stream",
     "text": [
      "/tmp/ipykernel_444/3731339884.py:1: DtypeWarning: Columns (1,2,4,10,11) have mixed types. Specify dtype option on import or set low_memory=False.\n",
      "  data = pd.read_csv(\"all_mentions_data_combined_without_retweets.csv\")\n"
     ]
    }
   ],
   "source": [
    "data = pd.read_csv(\"all_mentions_data_combined_without_retweets.csv\")"
   ]
  },
  {
   "cell_type": "code",
   "execution_count": 98,
   "id": "9942c255-58c4-4ec6-bd5b-2cc7773b5d5d",
   "metadata": {},
   "outputs": [
    {
     "data": {
      "text/plain": [
       "2226216"
      ]
     },
     "execution_count": 98,
     "metadata": {},
     "output_type": "execute_result"
    }
   ],
   "source": [
    "len(data)"
   ]
  },
  {
   "cell_type": "code",
   "execution_count": 83,
   "id": "7bf4fcf5-f694-424c-8a8f-7196b7c60dff",
   "metadata": {},
   "outputs": [],
   "source": [
    "#data = data.sample(10000)"
   ]
  },
  {
   "cell_type": "code",
   "execution_count": 99,
   "id": "3f1002b5-b4cd-4250-9c41-063afc71060e",
   "metadata": {},
   "outputs": [
    {
     "data": {
      "text/plain": [
       "202401"
      ]
     },
     "execution_count": 99,
     "metadata": {},
     "output_type": "execute_result"
    }
   ],
   "source": [
    "swear_word_list = []\n",
    "\n",
    "ein_string = \" \".join(hatebase)\n",
    "ein_string = ein_string.lower()\n",
    "ein_string = ein_string.split()\n",
    "list_to_remove = ['der','in', 'vom', 'nichts' , 'niemand', 'maske', 'art', 'menschheit', 'bild', 'null',\n",
    "                 'liebe', 'zeug', 'hause', 'stumm', 'toller', 'kind', 'nase', 'langsam', 'krokodil', \n",
    "                 'zeug', 'hahn', 'pump', 'fleisch', 'gesicht', 'of', 'fahrlässig', 'kerl', 'wild',\n",
    "                 'ding', 'frauenversteher', 'typ', 'bravo', 'ding', 'bär', 'tiger', 'apfel', 'dienst',\n",
    "                 'dau', 'nebenmann', 'zunge', 'leidenschaft', 'currywurst']\n",
    "\n",
    "word_list = list(set(ein_string) - set(list_to_remove))\n",
    "\n",
    "data.text = data.text.fillna('')\n",
    "\n",
    "for index, row in data.iterrows():\n",
    "    whole_tweet = row[\"text\"]\n",
    "\n",
    "    tweet_word = re.sub('\\W+',' ', whole_tweet)\n",
    "    tweet_word = tweet_word.lower()\n",
    "    tweet_word = tweet_word.split()\n",
    "    #print(tweet_word)\n",
    "    #print(swear_words_lower)\n",
    "    #match = any(x in tweet_word for x in swear_words_lower)\n",
    "    match = [i for i in word_list if i in tweet_word]\n",
    "    if match:\n",
    "        #print(f\"MATCH: {match}\")\n",
    "        swear_word_list.append(whole_tweet)\n",
    "        #print(whole_tweet)\n",
    "\n",
    "len(swear_word_list)"
   ]
  },
  {
   "cell_type": "code",
   "execution_count": 100,
   "id": "4a70a2c2-4e51-40a0-8675-12b8284652d5",
   "metadata": {},
   "outputs": [],
   "source": [
    "swear_df = pd.DataFrame(data={\"text\": swear_word_list})\n",
    "swear_df.to_csv(\"./swear_word_tweets.csv\", sep=',',index=False)"
   ]
  },
  {
   "cell_type": "code",
   "execution_count": null,
   "id": "0f5e1f37-789e-4f38-ad18-1af206eafbe7",
   "metadata": {},
   "outputs": [],
   "source": [
    "#BIS HIERHER"
   ]
  },
  {
   "cell_type": "markdown",
   "id": "93c72391-661d-42b0-a45f-c08f22d1e527",
   "metadata": {},
   "source": [
    "# TRY SENTIMENT https://huggingface.co/oliverguhr/german-sentiment-bert"
   ]
  },
  {
   "cell_type": "code",
   "execution_count": 101,
   "id": "395aab5d-3f29-4c3a-b2fe-0e1568ff0914",
   "metadata": {},
   "outputs": [
    {
     "name": "stdout",
     "output_type": "stream",
     "text": [
      "Collecting germansentiment\n",
      "  Downloading germansentiment-1.1.0-py3-none-any.whl (5.8 kB)\n",
      "Collecting transformers\n",
      "  Using cached transformers-4.25.1-py3-none-any.whl (5.8 MB)\n",
      "Requirement already satisfied: torch>=1.8.1 in /opt/conda/lib/python3.9/site-packages (from germansentiment) (1.13.1)\n",
      "Requirement already satisfied: nvidia-cuda-runtime-cu11==11.7.99 in /opt/conda/lib/python3.9/site-packages (from torch>=1.8.1->germansentiment) (11.7.99)\n",
      "Requirement already satisfied: typing-extensions in /opt/conda/lib/python3.9/site-packages (from torch>=1.8.1->germansentiment) (4.3.0)\n",
      "Requirement already satisfied: nvidia-cublas-cu11==11.10.3.66 in /opt/conda/lib/python3.9/site-packages (from torch>=1.8.1->germansentiment) (11.10.3.66)\n",
      "Requirement already satisfied: nvidia-cudnn-cu11==8.5.0.96 in /opt/conda/lib/python3.9/site-packages (from torch>=1.8.1->germansentiment) (8.5.0.96)\n",
      "Requirement already satisfied: nvidia-cuda-nvrtc-cu11==11.7.99 in /opt/conda/lib/python3.9/site-packages (from torch>=1.8.1->germansentiment) (11.7.99)\n",
      "Requirement already satisfied: setuptools in /opt/conda/lib/python3.9/site-packages (from nvidia-cublas-cu11==11.10.3.66->torch>=1.8.1->germansentiment) (63.1.0)\n",
      "Requirement already satisfied: wheel in /opt/conda/lib/python3.9/site-packages (from nvidia-cublas-cu11==11.10.3.66->torch>=1.8.1->germansentiment) (0.37.1)\n",
      "Collecting regex!=2019.12.17\n",
      "  Using cached regex-2022.10.31-cp39-cp39-manylinux_2_17_x86_64.manylinux2014_x86_64.whl (769 kB)\n",
      "Requirement already satisfied: numpy>=1.17 in /opt/conda/lib/python3.9/site-packages (from transformers->germansentiment) (1.22.4)\n",
      "Collecting filelock\n",
      "  Downloading filelock-3.9.0-py3-none-any.whl (9.7 kB)\n",
      "Requirement already satisfied: packaging>=20.0 in /opt/conda/lib/python3.9/site-packages (from transformers->germansentiment) (21.3)\n",
      "Requirement already satisfied: pyyaml>=5.1 in /opt/conda/lib/python3.9/site-packages (from transformers->germansentiment) (6.0)\n",
      "Collecting huggingface-hub<1.0,>=0.10.0\n",
      "  Using cached huggingface_hub-0.11.1-py3-none-any.whl (182 kB)\n",
      "Requirement already satisfied: requests in /opt/conda/lib/python3.9/site-packages (from transformers->germansentiment) (2.28.1)\n",
      "Collecting tokenizers!=0.11.3,<0.14,>=0.11.1\n",
      "  Using cached tokenizers-0.13.2-cp39-cp39-manylinux_2_17_x86_64.manylinux2014_x86_64.whl (7.6 MB)\n",
      "Requirement already satisfied: tqdm>=4.27 in /opt/conda/lib/python3.9/site-packages (from transformers->germansentiment) (4.64.0)\n",
      "Requirement already satisfied: pyparsing!=3.0.5,>=2.0.2 in /opt/conda/lib/python3.9/site-packages (from packaging>=20.0->transformers->germansentiment) (3.0.9)\n",
      "Requirement already satisfied: charset-normalizer<3,>=2 in /opt/conda/lib/python3.9/site-packages (from requests->transformers->germansentiment) (2.1.0)\n",
      "Requirement already satisfied: certifi>=2017.4.17 in /opt/conda/lib/python3.9/site-packages (from requests->transformers->germansentiment) (2022.6.15)\n",
      "Requirement already satisfied: idna<4,>=2.5 in /opt/conda/lib/python3.9/site-packages (from requests->transformers->germansentiment) (3.3)\n",
      "Requirement already satisfied: urllib3<1.27,>=1.21.1 in /opt/conda/lib/python3.9/site-packages (from requests->transformers->germansentiment) (1.26.9)\n",
      "Installing collected packages: tokenizers, regex, filelock, huggingface-hub, transformers, germansentiment\n",
      "Successfully installed filelock-3.9.0 germansentiment-1.1.0 huggingface-hub-0.11.1 regex-2022.10.31 tokenizers-0.13.2 transformers-4.25.1\n"
     ]
    }
   ],
   "source": [
    "!pip install germansentiment"
   ]
  },
  {
   "cell_type": "code",
   "execution_count": 117,
   "id": "4138b32b-4ff6-4017-84da-3ab0781a82b5",
   "metadata": {},
   "outputs": [],
   "source": [
    "from germansentiment import SentimentModel\n",
    "\n",
    "model = SentimentModel()"
   ]
  },
  {
   "cell_type": "code",
   "execution_count": 115,
   "id": "4b0fb694-ab67-44ba-8be8-6ea6d77dcb9d",
   "metadata": {},
   "outputs": [
    {
     "data": {
      "text/plain": [
       "\"@SevimDagdelen Dağdelen erzählt immer noch ihr Märchen davon, dass man den Krieg in der Ukraine nicht mit Sanktionen stoppen könne, im Gegenteil - wir müssen das Krokodil weiter demütig füttern in der Hoffnung, dass es uns erst zuletzt frisst. Geh' zum Teufel, du dumme Kuh!\""
      ]
     },
     "execution_count": 115,
     "metadata": {},
     "output_type": "execute_result"
    }
   ],
   "source": [
    "swear_word_list[4]"
   ]
  },
  {
   "cell_type": "code",
   "execution_count": 145,
   "id": "9ea5acd9-1b4f-4aca-8fdf-5be6c503b721",
   "metadata": {},
   "outputs": [
    {
     "name": "stdout",
     "output_type": "stream",
     "text": [
      "['negative'] [[['positive', 0.006417613010853529], ['negative', 0.993505597114563], ['neutral', 7.673591608181596e-05]]]\n"
     ]
    }
   ],
   "source": [
    "classes, probabilities = model.predict_sentiment([\"das ist scheiße\"], output_probabilities = True) \n",
    "print(classes, probabilities)"
   ]
  },
  {
   "cell_type": "code",
   "execution_count": 146,
   "id": "108e27b0-ff86-47a8-859f-028710e58527",
   "metadata": {},
   "outputs": [
    {
     "data": {
      "text/plain": [
       "'negative'"
      ]
     },
     "execution_count": 146,
     "metadata": {},
     "output_type": "execute_result"
    }
   ],
   "source": [
    "probabilities[0][1][0]"
   ]
  },
  {
   "cell_type": "code",
   "execution_count": 147,
   "id": "6e9e9e98-de36-48e2-ae24-0819c5438d27",
   "metadata": {},
   "outputs": [
    {
     "data": {
      "text/plain": [
       "'negative'"
      ]
     },
     "execution_count": 147,
     "metadata": {},
     "output_type": "execute_result"
    }
   ],
   "source": [
    "classes[0]"
   ]
  },
  {
   "cell_type": "code",
   "execution_count": 148,
   "id": "2147bb85-8c03-4bb5-a499-331519d49899",
   "metadata": {},
   "outputs": [
    {
     "name": "stdout",
     "output_type": "stream",
     "text": [
      "False\n",
      "True\n",
      "negative\n",
      "False\n"
     ]
    }
   ],
   "source": [
    "for i in range(3):  \n",
    "    if probabilities[0][i][0] == classes[0]:\n",
    "        print(\"True\")\n",
    "        print(probabilities[0][i][0])\n",
    "    else:\n",
    "        print(\"False\")"
   ]
  },
  {
   "cell_type": "markdown",
   "id": "641937f2-f202-4e7e-8e6b-090b93effb3f",
   "metadata": {},
   "source": [
    "# Create Sample and Annotation Dataset"
   ]
  },
  {
   "cell_type": "code",
   "execution_count": 14,
   "id": "c8a40ee9-85be-4c4e-9b39-fe8cb05845b8",
   "metadata": {},
   "outputs": [
    {
     "data": {
      "text/html": [
       "<div>\n",
       "<style scoped>\n",
       "    .dataframe tbody tr th:only-of-type {\n",
       "        vertical-align: middle;\n",
       "    }\n",
       "\n",
       "    .dataframe tbody tr th {\n",
       "        vertical-align: top;\n",
       "    }\n",
       "\n",
       "    .dataframe thead th {\n",
       "        text-align: right;\n",
       "    }\n",
       "</style>\n",
       "<table border=\"1\" class=\"dataframe\">\n",
       "  <thead>\n",
       "    <tr style=\"text-align: right;\">\n",
       "      <th></th>\n",
       "      <th>text</th>\n",
       "    </tr>\n",
       "  </thead>\n",
       "  <tbody>\n",
       "    <tr>\n",
       "      <th>0</th>\n",
       "      <td>1/2\\nIhr #Verräter\\nIhr #Eidbrecher\\nIhr #Verb...</td>\n",
       "    </tr>\n",
       "    <tr>\n",
       "      <th>1</th>\n",
       "      <td>@SWagenknecht Weil Sie das ja auch so gut wiss...</td>\n",
       "    </tr>\n",
       "    <tr>\n",
       "      <th>2</th>\n",
       "      <td>@ABW67484335 @susi_lins @SWagenknecht Ach wie ...</td>\n",
       "    </tr>\n",
       "    <tr>\n",
       "      <th>3</th>\n",
       "      <td>@McI0vin @Bauernopfer1 @voglerk Ich weiß ja, i...</td>\n",
       "    </tr>\n",
       "    <tr>\n",
       "      <th>4</th>\n",
       "      <td>@SevimDagdelen Dağdelen erzählt immer noch ihr...</td>\n",
       "    </tr>\n",
       "  </tbody>\n",
       "</table>\n",
       "</div>"
      ],
      "text/plain": [
       "                                                text\n",
       "0  1/2\\nIhr #Verräter\\nIhr #Eidbrecher\\nIhr #Verb...\n",
       "1  @SWagenknecht Weil Sie das ja auch so gut wiss...\n",
       "2  @ABW67484335 @susi_lins @SWagenknecht Ach wie ...\n",
       "3  @McI0vin @Bauernopfer1 @voglerk Ich weiß ja, i...\n",
       "4  @SevimDagdelen Dağdelen erzählt immer noch ihr..."
      ]
     },
     "execution_count": 14,
     "metadata": {},
     "output_type": "execute_result"
    }
   ],
   "source": [
    "swear_df = pd.read_csv(\"swear_word_tweets.csv\")\n",
    "data_sample = swear_df.sample(20000)\n",
    "annotation = data_sample.sample(1000)\n",
    "swear_df.head()"
   ]
  },
  {
   "cell_type": "code",
   "execution_count": 11,
   "id": "6572bce7-6153-442f-82d4-1802328e1a49",
   "metadata": {},
   "outputs": [
    {
     "data": {
      "text/plain": [
       "202401"
      ]
     },
     "execution_count": 11,
     "metadata": {},
     "output_type": "execute_result"
    }
   ],
   "source": [
    "len(swear_df)"
   ]
  },
  {
   "cell_type": "code",
   "execution_count": 15,
   "id": "76c70500-2700-49f2-8e81-25e2dcb80752",
   "metadata": {},
   "outputs": [
    {
     "data": {
      "text/html": [
       "<div>\n",
       "<style scoped>\n",
       "    .dataframe tbody tr th:only-of-type {\n",
       "        vertical-align: middle;\n",
       "    }\n",
       "\n",
       "    .dataframe tbody tr th {\n",
       "        vertical-align: top;\n",
       "    }\n",
       "\n",
       "    .dataframe thead th {\n",
       "        text-align: right;\n",
       "    }\n",
       "</style>\n",
       "<table border=\"1\" class=\"dataframe\">\n",
       "  <thead>\n",
       "    <tr style=\"text-align: right;\">\n",
       "      <th></th>\n",
       "      <th>index</th>\n",
       "      <th>text</th>\n",
       "    </tr>\n",
       "  </thead>\n",
       "  <tbody>\n",
       "    <tr>\n",
       "      <th>0</th>\n",
       "      <td>165200</td>\n",
       "      <td>@Beatrix_vStorch @jamila_anna @KathrinAnna Putin macht sie alle platt... labert alle nur noch weiter blödsinn. Die nicht demokratischen Länder haben gerade alle in der Hand (Energie). Und das geht noch Jahre so... danke ihr scheiss politiker</td>\n",
       "    </tr>\n",
       "    <tr>\n",
       "      <th>1</th>\n",
       "      <td>142987</td>\n",
       "      <td>@Karl_Lauterbach Auch Hitler und die DDR waren rechtlich auf der Grundlage von menschenverachtenen Schwachsinm  abgesichert. Dank Capri-Sun steigt die Infektionsrate. Was für ein Rechtssystem, welches auf der Grundlage von Capri-Sun die Grundrechte missachtet! https://t.co/LjXdWpp1zm</td>\n",
       "    </tr>\n",
       "    <tr>\n",
       "      <th>2</th>\n",
       "      <td>9181</td>\n",
       "      <td>@SWagenknecht Fresse halten. Sie sind eine Schande</td>\n",
       "    </tr>\n",
       "    <tr>\n",
       "      <th>3</th>\n",
       "      <td>84731</td>\n",
       "      <td>@_FriedrichMerz Genau, was will den der Dichter-Robert schon wissen. Dem ist das doch egal. Schulbildung ist keine Vorraussetzung für ein Ministeramt. 10 Grüne teilen sich einen Abschluß</td>\n",
       "    </tr>\n",
       "    <tr>\n",
       "      <th>4</th>\n",
       "      <td>90435</td>\n",
       "      <td>@n_roettgen Ihre abschreckender Wirkung bezahlen Sie dann bitte aus Ihrer eigenen Tasche und nicht aus dem Säckel des Steuerzahlers, mal schauen wie weit Ihre volles Sanktionspaket noch reicht bis Ihre Taschen leer sind.</td>\n",
       "    </tr>\n",
       "    <tr>\n",
       "      <th>...</th>\n",
       "      <td>...</td>\n",
       "      <td>...</td>\n",
       "    </tr>\n",
       "    <tr>\n",
       "      <th>995</th>\n",
       "      <td>139904</td>\n",
       "      <td>@TDuselder @VerenaRein @Da_Hiasl @R2J187 @Karl_Lauterbach Ja, wie alle anderen Querdenker.</td>\n",
       "    </tr>\n",
       "    <tr>\n",
       "      <th>996</th>\n",
       "      <td>34556</td>\n",
       "      <td>@UliSpreitzer @real_Bavarian @DJanecek @EskenSaskia @Die_Gruenen Du Pfeife willst einen von uns mal in echt sehen? Könnte sein, das du danach ziemlich traumatisiert bist, bei dem, was wir täglich so sehen.</td>\n",
       "    </tr>\n",
       "    <tr>\n",
       "      <th>997</th>\n",
       "      <td>54254</td>\n",
       "      <td>@NadineMaren @MarcAurel771 @Karl_Lauterbach @fdp @OlafScholz Was für ein Heuchler! Hängt seine Fahne dort hin, wo der Wind weht!\\nEr ist der unglaubwürdigste Mensch (Anwalt), den es gibt!</td>\n",
       "    </tr>\n",
       "    <tr>\n",
       "      <th>998</th>\n",
       "      <td>175741</td>\n",
       "      <td>@janoschdahmen @campact Anfänger. \\n\\nhttps://t.co/DeePgiLNpF</td>\n",
       "    </tr>\n",
       "    <tr>\n",
       "      <th>999</th>\n",
       "      <td>54709</td>\n",
       "      <td>@EskenSaskia @Bundeskanzler @OlafScholz @derspiegel Sie sind eine solche Witzfigur.\\n\\nKeine Pointe.</td>\n",
       "    </tr>\n",
       "  </tbody>\n",
       "</table>\n",
       "<p>1000 rows × 2 columns</p>\n",
       "</div>"
      ],
      "text/plain": [
       "      index  \\\n",
       "0    165200   \n",
       "1    142987   \n",
       "2      9181   \n",
       "3     84731   \n",
       "4     90435   \n",
       "..      ...   \n",
       "995  139904   \n",
       "996   34556   \n",
       "997   54254   \n",
       "998  175741   \n",
       "999   54709   \n",
       "\n",
       "                                                                                                                                                                                                                                                                                             text  \n",
       "0                                               @Beatrix_vStorch @jamila_anna @KathrinAnna Putin macht sie alle platt... labert alle nur noch weiter blödsinn. Die nicht demokratischen Länder haben gerade alle in der Hand (Energie). Und das geht noch Jahre so... danke ihr scheiss politiker  \n",
       "1    @Karl_Lauterbach Auch Hitler und die DDR waren rechtlich auf der Grundlage von menschenverachtenen Schwachsinm  abgesichert. Dank Capri-Sun steigt die Infektionsrate. Was für ein Rechtssystem, welches auf der Grundlage von Capri-Sun die Grundrechte missachtet! https://t.co/LjXdWpp1zm  \n",
       "2                                                                                                                                                                                                                                              @SWagenknecht Fresse halten. Sie sind eine Schande  \n",
       "3                                                                                                      @_FriedrichMerz Genau, was will den der Dichter-Robert schon wissen. Dem ist das doch egal. Schulbildung ist keine Vorraussetzung für ein Ministeramt. 10 Grüne teilen sich einen Abschluß  \n",
       "4                                                                    @n_roettgen Ihre abschreckender Wirkung bezahlen Sie dann bitte aus Ihrer eigenen Tasche und nicht aus dem Säckel des Steuerzahlers, mal schauen wie weit Ihre volles Sanktionspaket noch reicht bis Ihre Taschen leer sind.  \n",
       "..                                                                                                                                                                                                                                                                                            ...  \n",
       "995                                                                                                                                                                                                    @TDuselder @VerenaRein @Da_Hiasl @R2J187 @Karl_Lauterbach Ja, wie alle anderen Querdenker.  \n",
       "996                                                                                 @UliSpreitzer @real_Bavarian @DJanecek @EskenSaskia @Die_Gruenen Du Pfeife willst einen von uns mal in echt sehen? Könnte sein, das du danach ziemlich traumatisiert bist, bei dem, was wir täglich so sehen.  \n",
       "997                                                                                                   @NadineMaren @MarcAurel771 @Karl_Lauterbach @fdp @OlafScholz Was für ein Heuchler! Hängt seine Fahne dort hin, wo der Wind weht!\\nEr ist der unglaubwürdigste Mensch (Anwalt), den es gibt!  \n",
       "998                                                                                                                                                                                                                                 @janoschdahmen @campact Anfänger. \\n\\nhttps://t.co/DeePgiLNpF  \n",
       "999                                                                                                                                                                                          @EskenSaskia @Bundeskanzler @OlafScholz @derspiegel Sie sind eine solche Witzfigur.\\n\\nKeine Pointe.  \n",
       "\n",
       "[1000 rows x 2 columns]"
      ]
     },
     "execution_count": 15,
     "metadata": {},
     "output_type": "execute_result"
    }
   ],
   "source": [
    "pd.set_option('display.max_colwidth', None)\n",
    "annotation = annotation.reset_index()\n",
    "data_sample = data_sample.reset_index()\n",
    "annotation"
   ]
  },
  {
   "cell_type": "code",
   "execution_count": 106,
   "id": "50e6c519-d738-4f4c-94e2-59d9a275c97f",
   "metadata": {},
   "outputs": [],
   "source": [
    "annotation.to_csv(\"annotation_1k.csv\", sep=\";\", encoding=\"utf-8\")\n",
    "data_sample.to_csv(\"sample_dataset_20k.csv\", sep=\";\", encoding=\"utf-8\")"
   ]
  }
 ],
 "metadata": {
  "kernelspec": {
   "display_name": "Python 3 (ipykernel)",
   "language": "python",
   "name": "python3"
  },
  "language_info": {
   "codemirror_mode": {
    "name": "ipython",
    "version": 3
   },
   "file_extension": ".py",
   "mimetype": "text/x-python",
   "name": "python",
   "nbconvert_exporter": "python",
   "pygments_lexer": "ipython3",
   "version": "3.9.13"
  }
 },
 "nbformat": 4,
 "nbformat_minor": 5
}
