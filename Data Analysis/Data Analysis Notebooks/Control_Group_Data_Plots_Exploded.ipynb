{
 "cells": [
  {
   "cell_type": "code",
   "execution_count": 1,
   "id": "f9997bc8-619c-4163-99d7-f307a34292fb",
   "metadata": {},
   "outputs": [],
   "source": [
    "%%capture\n",
    "!pip install plotly\n",
    "!pip install nltk\n",
    "!pip install wordcloud"
   ]
  },
  {
   "cell_type": "code",
   "execution_count": 1,
   "id": "a6cebe7d",
   "metadata": {},
   "outputs": [
    {
     "data": {
      "text/html": [
       "        <script type=\"text/javascript\">\n",
       "        window.PlotlyConfig = {MathJaxConfig: 'local'};\n",
       "        if (window.MathJax && window.MathJax.Hub && window.MathJax.Hub.Config) {window.MathJax.Hub.Config({SVG: {font: \"STIX-Web\"}});}\n",
       "        if (typeof require !== 'undefined') {\n",
       "        require.undef(\"plotly\");\n",
       "        requirejs.config({\n",
       "            paths: {\n",
       "                'plotly': ['https://cdn.plot.ly/plotly-2.18.2.min']\n",
       "            }\n",
       "        });\n",
       "        require(['plotly'], function(Plotly) {\n",
       "            window._Plotly = Plotly;\n",
       "        });\n",
       "        }\n",
       "        </script>\n",
       "        "
      ]
     },
     "metadata": {},
     "output_type": "display_data"
    }
   ],
   "source": [
    "import pandas as pd\n",
    "import numpy as np\n",
    "import matplotlib.pyplot as plt\n",
    "\n",
    "import seaborn as sns\n",
    "color = sns.color_palette()\n",
    "import plotly.offline as py\n",
    "py.init_notebook_mode(connected=True)\n",
    "import plotly.graph_objs as go\n",
    "import plotly.tools as tls\n",
    "import plotly.express as px\n",
    "import re\n",
    "import nltk\n",
    "from nltk.tokenize import word_tokenize\n",
    "from nltk.corpus import stopwords\n",
    "from os import path\n",
    "from PIL import Image\n",
    "from wordcloud import WordCloud, STOPWORDS, ImageColorGenerator"
   ]
  },
  {
   "cell_type": "markdown",
   "id": "ed4e02e5-d56d-4e80-bb22-193c26cf5663",
   "metadata": {},
   "source": [
    "# Visualisierungen\n",
    "- Mean Sentiment over time per party                ✅\n",
    "- HOF per MP                                        ✅\n",
    "-  Männliche vs. weibliche Politiker vergleich      ✅\n",
    "- Minority vergleich (überhaupt möglich?)\n",
    "- Hate unter Politikern\n",
    "- Wordclouds"
   ]
  },
  {
   "cell_type": "markdown",
   "id": "c84aec19-6058-42c9-8d5c-18baddb315ac",
   "metadata": {},
   "source": [
    "# Data Analysis"
   ]
  },
  {
   "cell_type": "markdown",
   "id": "6bb72552-5e4f-4bcb-8bb4-baa4fdb6891b",
   "metadata": {},
   "source": [
    "## Plot Gender"
   ]
  },
  {
   "cell_type": "code",
   "execution_count": 3,
   "id": "a94f585e-6e61-4429-affb-cfb71ec89504",
   "metadata": {},
   "outputs": [
    {
     "data": {
      "text/html": [
       "<div>\n",
       "<style scoped>\n",
       "    .dataframe tbody tr th:only-of-type {\n",
       "        vertical-align: middle;\n",
       "    }\n",
       "\n",
       "    .dataframe tbody tr th {\n",
       "        vertical-align: top;\n",
       "    }\n",
       "\n",
       "    .dataframe thead th {\n",
       "        text-align: right;\n",
       "    }\n",
       "</style>\n",
       "<table border=\"1\" class=\"dataframe\">\n",
       "  <thead>\n",
       "    <tr style=\"text-align: right;\">\n",
       "      <th></th>\n",
       "      <th>Unnamed: 0.2</th>\n",
       "      <th>author_id</th>\n",
       "      <th>username</th>\n",
       "      <th>author_followers</th>\n",
       "      <th>author_tweets</th>\n",
       "      <th>author_description</th>\n",
       "      <th>author_location</th>\n",
       "      <th>text</th>\n",
       "      <th>created_at</th>\n",
       "      <th>quote_count</th>\n",
       "      <th>...</th>\n",
       "      <th>model_predictions</th>\n",
       "      <th>mentioned_list</th>\n",
       "      <th>Unnamed: 0.1</th>\n",
       "      <th>Unnamed: 0</th>\n",
       "      <th>full_name</th>\n",
       "      <th>party</th>\n",
       "      <th>twitter</th>\n",
       "      <th>username_</th>\n",
       "      <th>Geschlecht</th>\n",
       "      <th>Gewählt in Vorperiode</th>\n",
       "    </tr>\n",
       "  </thead>\n",
       "  <tbody>\n",
       "    <tr>\n",
       "      <th>0</th>\n",
       "      <td>0</td>\n",
       "      <td>1.164232e+18</td>\n",
       "      <td>MatthiasBausch3</td>\n",
       "      <td>230</td>\n",
       "      <td>9233</td>\n",
       "      <td>Pädagoge (Ambulante Hilfen), Mitglied der ak.m...</td>\n",
       "      <td>NaN</td>\n",
       "      <td>@SilkeGebel @KonstantinNotz @ABaerbock Deutsch...</td>\n",
       "      <td>2021-08-24 21:16:26+00:00</td>\n",
       "      <td>0.0</td>\n",
       "      <td>...</td>\n",
       "      <td>0</td>\n",
       "      <td>konstantinnotz</td>\n",
       "      <td>474</td>\n",
       "      <td>474</td>\n",
       "      <td>Dr. Konstantin von Notz</td>\n",
       "      <td>Bündnis 90/Die Grünen</td>\n",
       "      <td>['http://twitter.com/KonstantinNotz']</td>\n",
       "      <td>konstantinnotz</td>\n",
       "      <td>Herrn</td>\n",
       "      <td>ja</td>\n",
       "    </tr>\n",
       "    <tr>\n",
       "      <th>1</th>\n",
       "      <td>1</td>\n",
       "      <td>9.598724e+17</td>\n",
       "      <td>demokratienetz</td>\n",
       "      <td>2821</td>\n",
       "      <td>94774</td>\n",
       "      <td>Online-Redaktion, Netzwerk, Spenden: https://t...</td>\n",
       "      <td>Baden-Württemberg, Deutschland</td>\n",
       "      <td>@SilkeGebel @KonstantinNotz @ABaerbock Der Bei...</td>\n",
       "      <td>2021-08-24 21:11:30+00:00</td>\n",
       "      <td>0.0</td>\n",
       "      <td>...</td>\n",
       "      <td>0</td>\n",
       "      <td>konstantinnotz</td>\n",
       "      <td>474</td>\n",
       "      <td>474</td>\n",
       "      <td>Dr. Konstantin von Notz</td>\n",
       "      <td>Bündnis 90/Die Grünen</td>\n",
       "      <td>['http://twitter.com/KonstantinNotz']</td>\n",
       "      <td>konstantinnotz</td>\n",
       "      <td>Herrn</td>\n",
       "      <td>ja</td>\n",
       "    </tr>\n",
       "  </tbody>\n",
       "</table>\n",
       "<p>2 rows × 25 columns</p>\n",
       "</div>"
      ],
      "text/plain": [
       "   Unnamed: 0.2     author_id         username  author_followers  \\\n",
       "0             0  1.164232e+18  MatthiasBausch3               230   \n",
       "1             1  9.598724e+17   demokratienetz              2821   \n",
       "\n",
       "   author_tweets                                 author_description  \\\n",
       "0           9233  Pädagoge (Ambulante Hilfen), Mitglied der ak.m...   \n",
       "1          94774  Online-Redaktion, Netzwerk, Spenden: https://t...   \n",
       "\n",
       "                  author_location  \\\n",
       "0                             NaN   \n",
       "1  Baden-Württemberg, Deutschland   \n",
       "\n",
       "                                                text  \\\n",
       "0  @SilkeGebel @KonstantinNotz @ABaerbock Deutsch...   \n",
       "1  @SilkeGebel @KonstantinNotz @ABaerbock Der Bei...   \n",
       "\n",
       "                  created_at  quote_count  ...  model_predictions  \\\n",
       "0  2021-08-24 21:16:26+00:00          0.0  ...                  0   \n",
       "1  2021-08-24 21:11:30+00:00          0.0  ...                  0   \n",
       "\n",
       "   mentioned_list  Unnamed: 0.1 Unnamed: 0                full_name  \\\n",
       "0  konstantinnotz           474        474  Dr. Konstantin von Notz   \n",
       "1  konstantinnotz           474        474  Dr. Konstantin von Notz   \n",
       "\n",
       "                    party                                twitter  \\\n",
       "0   Bündnis 90/Die Grünen  ['http://twitter.com/KonstantinNotz']   \n",
       "1   Bündnis 90/Die Grünen  ['http://twitter.com/KonstantinNotz']   \n",
       "\n",
       "        username_  Geschlecht Gewählt in Vorperiode  \n",
       "0  konstantinnotz       Herrn                    ja  \n",
       "1  konstantinnotz       Herrn                    ja  \n",
       "\n",
       "[2 rows x 25 columns]"
      ]
     },
     "execution_count": 3,
     "metadata": {},
     "output_type": "execute_result"
    }
   ],
   "source": [
    "df = pd.read_csv(\"control_group_mentions_predicted_exploded.csv\")\n",
    "df.head(2)"
   ]
  },
  {
   "cell_type": "code",
   "execution_count": 4,
   "id": "580d6601-da64-4f1b-bf63-6ebe41344519",
   "metadata": {},
   "outputs": [
    {
     "name": "stdout",
     "output_type": "stream",
     "text": [
      "289164\n",
      "1218875\n",
      "Herrn    1218875\n",
      "Frau      289164\n",
      "Name: Geschlecht, dtype: int64\n"
     ]
    }
   ],
   "source": [
    "frau = df[df.Geschlecht == \"Frau\"]\n",
    "print(len(frau))\n",
    "mann = df[df.Geschlecht == \"Herrn\"]\n",
    "print(len(mann))\n",
    "print(df.Geschlecht.value_counts())"
   ]
  },
  {
   "cell_type": "code",
   "execution_count": 5,
   "id": "fdfd8c91-e64f-4aaa-a2fc-ce7236e26b82",
   "metadata": {},
   "outputs": [
    {
     "name": "stdout",
     "output_type": "stream",
     "text": [
      "35854\n",
      "212838\n"
     ]
    }
   ],
   "source": [
    "frau_hof = frau[frau[\"model_predictions\"] == 1]\n",
    "mann_hof = mann[mann[\"model_predictions\"] == 1]\n",
    "print(len(frau_hof))\n",
    "print(len(mann_hof))\n",
    "# 19.6% HOF bei Frauen\n",
    "# 20.8% HOF bei Männern -> hauptsächlich wegen Karl Lauterbach\n",
    "\n",
    "# 5 höchsten Ämter:\n",
    "# 1. Bundespräsident: Steinmeier\n",
    "# 2. Präsident des Bundestags: Bärbel Bas\n",
    "# 3. Bundeskanzler: Olaf Scholz\n",
    "# 4. Bundesratspräsident: Peter Tschentscher\n",
    "# 5. Präsident des Bundesverfassungsgericht: Stephan Harbarth"
   ]
  },
  {
   "cell_type": "code",
   "execution_count": 6,
   "id": "401cc593-6b26-4deb-8168-65f8e724b66e",
   "metadata": {},
   "outputs": [
    {
     "name": "stdout",
     "output_type": "stream",
     "text": [
      "172\n"
     ]
    }
   ],
   "source": [
    "print(len(frau.full_name.unique()))"
   ]
  },
  {
   "cell_type": "code",
   "execution_count": 7,
   "id": "c5d70c4f-4093-4a5a-8a68-a1ac963563c6",
   "metadata": {},
   "outputs": [
    {
     "name": "stdout",
     "output_type": "stream",
     "text": [
      "296\n"
     ]
    }
   ],
   "source": [
    "print(len(mann.full_name.unique()))"
   ]
  },
  {
   "cell_type": "code",
   "execution_count": 7,
   "id": "9f8c9d65-c1dc-4f69-85f4-fe03e4ef4111",
   "metadata": {},
   "outputs": [
    {
     "data": {
      "text/plain": [
       "2752124"
      ]
     },
     "execution_count": 7,
     "metadata": {},
     "output_type": "execute_result"
    }
   ],
   "source": [
    "len(df)"
   ]
  },
  {
   "cell_type": "code",
   "execution_count": 8,
   "id": "90700536-4a35-40ee-91ab-141a228df7c8",
   "metadata": {},
   "outputs": [],
   "source": [
    "df[\"HOF\"] = df[\"model_predictions\"]\n",
    "df.loc[(df.model_predictions == 1),'Label']='HOF'\n",
    "df.loc[(df.model_predictions == 0),'Label']='NOT'"
   ]
  },
  {
   "cell_type": "code",
   "execution_count": 9,
   "id": "488271d6-a892-4555-b484-1472ac5e0140",
   "metadata": {},
   "outputs": [
    {
     "data": {
      "text/plain": [
       "Herrn    1218875\n",
       "Frau      289164\n",
       "Name: Geschlecht, dtype: int64"
      ]
     },
     "execution_count": 9,
     "metadata": {},
     "output_type": "execute_result"
    }
   ],
   "source": [
    "df.Geschlecht.value_counts()"
   ]
  },
  {
   "cell_type": "code",
   "execution_count": 10,
   "id": "9f1debd9-baaa-4152-99bc-eb4122574808",
   "metadata": {},
   "outputs": [
    {
     "name": "stderr",
     "output_type": "stream",
     "text": [
      "/opt/conda/lib/python3.9/site-packages/seaborn/_decorators.py:36: FutureWarning:\n",
      "\n",
      "Pass the following variable as a keyword arg: x. From version 0.12, the only valid positional argument will be `data`, and passing other arguments without an explicit keyword will result in an error or misinterpretation.\n",
      "\n"
     ]
    },
    {
     "data": {
      "image/png": "[encoded data removed]",
      "text/plain": [
       "<Figure size 604.8x252 with 2 Axes>"
      ]
     },
     "metadata": {
      "needs_background": "light"
     },
     "output_type": "display_data"
    }
   ],
   "source": [
    "# Plot\n",
    "g = sns.catplot(\"Label\", col=\"Geschlecht\", col_wrap=3,\n",
    "                data=df,\n",
    "                kind=\"count\", height=3.5, aspect=.8, \n",
    "                palette='tab10')\n",
    "\n",
    "#fig.suptitle('sf')\n",
    "plt.show()\n",
    "g.savefig('./plots/control_group/control_group_gender_hof_distribution.png')"
   ]
  },
  {
   "cell_type": "code",
   "execution_count": 11,
   "id": "27b4e4cc-deeb-4a14-9e77-48cff2b5c91a",
   "metadata": {},
   "outputs": [],
   "source": [
    "from time_plots import plot_gender_percentage"
   ]
  },
  {
   "cell_type": "code",
   "execution_count": 12,
   "id": "c4de482e-f85a-408c-b066-6e3d4db06d3f",
   "metadata": {},
   "outputs": [
    {
     "name": "stdout",
     "output_type": "stream",
     "text": [
      "                      0     1\n",
      "model_predictions  83.5  16.5\n",
      "Frau               87.6  12.4\n",
      "Herrn              82.5  17.5\n"
     ]
    },
    {
     "data": {
      "image/png": "[encoded data removed]",
      "text/plain": [
       "<Figure size 1800x900 with 1 Axes>"
      ]
     },
     "metadata": {},
     "output_type": "display_data"
    }
   ],
   "source": [
    "plot_gender_percentage(df,\"./plots/control_group/control_group_gender_hof_distribution\")"
   ]
  },
  {
   "cell_type": "markdown",
   "id": "cc750ee5-feca-428a-b6fc-dca97dab5205",
   "metadata": {},
   "source": [
    "## Hate per MP"
   ]
  },
  {
   "cell_type": "code",
   "execution_count": 13,
   "id": "253bce15-e985-4bbe-a92f-28c17c8b3b57",
   "metadata": {},
   "outputs": [],
   "source": [
    "hof = df[df[\"Label\"] == \"HOF\"]\n",
    "no = df[df[\"Label\"] == \"NOT\"]"
   ]
  },
  {
   "cell_type": "code",
   "execution_count": 14,
   "id": "c34d16d7-32b4-4c20-b9be-4ee076758b31",
   "metadata": {},
   "outputs": [
    {
     "data": {
      "text/html": [
       "<div>\n",
       "<style scoped>\n",
       "    .dataframe tbody tr th:only-of-type {\n",
       "        vertical-align: middle;\n",
       "    }\n",
       "\n",
       "    .dataframe tbody tr th {\n",
       "        vertical-align: top;\n",
       "    }\n",
       "\n",
       "    .dataframe thead th {\n",
       "        text-align: right;\n",
       "    }\n",
       "</style>\n",
       "<table border=\"1\" class=\"dataframe\">\n",
       "  <thead>\n",
       "    <tr style=\"text-align: right;\">\n",
       "      <th></th>\n",
       "      <th>full_name</th>\n",
       "    </tr>\n",
       "  </thead>\n",
       "  <tbody>\n",
       "    <tr>\n",
       "      <th>Prof. Dr. Karl Lauterbach</th>\n",
       "      <td>74378</td>\n",
       "    </tr>\n",
       "    <tr>\n",
       "      <th>Olaf Scholz</th>\n",
       "      <td>21466</td>\n",
       "    </tr>\n",
       "    <tr>\n",
       "      <th>Jens Spahn</th>\n",
       "      <td>14829</td>\n",
       "    </tr>\n",
       "    <tr>\n",
       "      <th>Friedrich Merz</th>\n",
       "      <td>11562</td>\n",
       "    </tr>\n",
       "    <tr>\n",
       "      <th>Paul Ziemiak</th>\n",
       "      <td>11464</td>\n",
       "    </tr>\n",
       "    <tr>\n",
       "      <th>...</th>\n",
       "      <td>...</td>\n",
       "    </tr>\n",
       "    <tr>\n",
       "      <th>Markus Herbrand</th>\n",
       "      <td>1</td>\n",
       "    </tr>\n",
       "    <tr>\n",
       "      <th>Helge Limburg</th>\n",
       "      <td>1</td>\n",
       "    </tr>\n",
       "    <tr>\n",
       "      <th>Stefan Wenzel</th>\n",
       "      <td>1</td>\n",
       "    </tr>\n",
       "    <tr>\n",
       "      <th>Gabriele Katzmarek</th>\n",
       "      <td>1</td>\n",
       "    </tr>\n",
       "    <tr>\n",
       "      <th>Misbah Khan</th>\n",
       "      <td>1</td>\n",
       "    </tr>\n",
       "  </tbody>\n",
       "</table>\n",
       "<p>384 rows × 1 columns</p>\n",
       "</div>"
      ],
      "text/plain": [
       "                           full_name\n",
       "Prof. Dr. Karl Lauterbach      74378\n",
       "Olaf Scholz                    21466\n",
       "Jens Spahn                     14829\n",
       "Friedrich Merz                 11562\n",
       "Paul Ziemiak                   11464\n",
       "...                              ...\n",
       "Markus Herbrand                    1\n",
       "Helge Limburg                      1\n",
       "Stefan Wenzel                      1\n",
       "Gabriele Katzmarek                 1\n",
       "Misbah Khan                        1\n",
       "\n",
       "[384 rows x 1 columns]"
      ]
     },
     "execution_count": 14,
     "metadata": {},
     "output_type": "execute_result"
    }
   ],
   "source": [
    "hof_val_counts = pd.DataFrame(hof.full_name.value_counts())\n",
    "hof_val_counts"
   ]
  },
  {
   "cell_type": "code",
   "execution_count": 15,
   "id": "58d2240b-0684-481a-84aa-8c18884466b2",
   "metadata": {},
   "outputs": [
    {
     "data": {
      "text/html": [
       "<div>\n",
       "<style scoped>\n",
       "    .dataframe tbody tr th:only-of-type {\n",
       "        vertical-align: middle;\n",
       "    }\n",
       "\n",
       "    .dataframe tbody tr th {\n",
       "        vertical-align: top;\n",
       "    }\n",
       "\n",
       "    .dataframe thead th {\n",
       "        text-align: right;\n",
       "    }\n",
       "</style>\n",
       "<table border=\"1\" class=\"dataframe\">\n",
       "  <thead>\n",
       "    <tr style=\"text-align: right;\">\n",
       "      <th></th>\n",
       "      <th>full_name</th>\n",
       "    </tr>\n",
       "  </thead>\n",
       "  <tbody>\n",
       "    <tr>\n",
       "      <th>Prof. Dr. Karl Lauterbach</th>\n",
       "      <td>267807</td>\n",
       "    </tr>\n",
       "    <tr>\n",
       "      <th>Olaf Scholz</th>\n",
       "      <td>111332</td>\n",
       "    </tr>\n",
       "    <tr>\n",
       "      <th>Jens Spahn</th>\n",
       "      <td>90975</td>\n",
       "    </tr>\n",
       "    <tr>\n",
       "      <th>Friedrich Merz</th>\n",
       "      <td>53707</td>\n",
       "    </tr>\n",
       "    <tr>\n",
       "      <th>Paul Ziemiak</th>\n",
       "      <td>46513</td>\n",
       "    </tr>\n",
       "    <tr>\n",
       "      <th>...</th>\n",
       "      <td>...</td>\n",
       "    </tr>\n",
       "    <tr>\n",
       "      <th>Frank Bsirske</th>\n",
       "      <td>1</td>\n",
       "    </tr>\n",
       "    <tr>\n",
       "      <th>Sabine Grützmacher</th>\n",
       "      <td>1</td>\n",
       "    </tr>\n",
       "    <tr>\n",
       "      <th>Moritz Oppelt</th>\n",
       "      <td>1</td>\n",
       "    </tr>\n",
       "    <tr>\n",
       "      <th>Jan Dieren</th>\n",
       "      <td>1</td>\n",
       "    </tr>\n",
       "    <tr>\n",
       "      <th>Denise Loop</th>\n",
       "      <td>1</td>\n",
       "    </tr>\n",
       "  </tbody>\n",
       "</table>\n",
       "<p>468 rows × 1 columns</p>\n",
       "</div>"
      ],
      "text/plain": [
       "                           full_name\n",
       "Prof. Dr. Karl Lauterbach     267807\n",
       "Olaf Scholz                   111332\n",
       "Jens Spahn                     90975\n",
       "Friedrich Merz                 53707\n",
       "Paul Ziemiak                   46513\n",
       "...                              ...\n",
       "Frank Bsirske                      1\n",
       "Sabine Grützmacher                 1\n",
       "Moritz Oppelt                      1\n",
       "Jan Dieren                         1\n",
       "Denise Loop                        1\n",
       "\n",
       "[468 rows x 1 columns]"
      ]
     },
     "execution_count": 15,
     "metadata": {},
     "output_type": "execute_result"
    }
   ],
   "source": [
    "not_val_counts = pd.DataFrame(no.full_name.value_counts())\n",
    "not_val_counts"
   ]
  },
  {
   "cell_type": "code",
   "execution_count": 16,
   "id": "8493d37c-35e2-4d5a-abe9-65c23b304fc1",
   "metadata": {},
   "outputs": [
    {
     "name": "stderr",
     "output_type": "stream",
     "text": [
      "findfont: Font family ['sans-serif'] not found. Falling back to DejaVu Sans.\n",
      "findfont: Generic family 'sans-serif' not found because none of the following families were found: Helvetica\n",
      "findfont: Font family ['sans-serif'] not found. Falling back to DejaVu Sans.\n",
      "findfont: Generic family 'sans-serif' not found because none of the following families were found: Helvetica\n"
     ]
    },
    {
     "data": {
      "image/png": "[encoded data removed]",
      "text/plain": [
       "<Figure size 360x252 with 1 Axes>"
      ]
     },
     "metadata": {
      "needs_background": "light"
     },
     "output_type": "display_data"
    }
   ],
   "source": [
    "# import libraries\n",
    "import pandas as pd\n",
    "import matplotlib.pyplot as plt\n",
    "import numpy as np\n",
    "%matplotlib inline\n",
    "\n",
    "# set font\n",
    "plt.rcParams['font.family'] = 'sans-serif'\n",
    "plt.rcParams['font.sans-serif'] = 'Helvetica'\n",
    "\n",
    "# set the style of the axes and the text color\n",
    "plt.rcParams['axes.edgecolor']='#333F4B'\n",
    "plt.rcParams['axes.linewidth']=0.8\n",
    "plt.rcParams['xtick.color']='#333F4B'\n",
    "plt.rcParams['ytick.color']='#333F4B'\n",
    "plt.rcParams['text.color']='#333F4B'\n",
    "\n",
    "hof_val_counts = hof_val_counts[:10]\n",
    "# we first need a numeric placeholder for the y axis\n",
    "my_range=list(range(1,len(hof_val_counts.index)+1))\n",
    "\n",
    "fig, ax = plt.subplots(figsize=(5,3.5))\n",
    "\n",
    "# create for each expense type an horizontal line that starts at x = 0 with the length \n",
    "# represented by the specific expense percentage value.\n",
    "plt.hlines(y=my_range, xmin=0, xmax=hof_val_counts['full_name'], color='#007ACC', alpha=0.2, linewidth=5)\n",
    "\n",
    "# create for each expense type a dot at the level of the expense percentage value\n",
    "plt.plot(hof_val_counts['full_name'], my_range, \"o\", markersize=5, color='#007ACC', alpha=0.6)\n",
    "\n",
    "# set labels\n",
    "ax.set_xlabel('Mention Count', fontsize=15, fontweight='black', color = '#333F4B')\n",
    "ax.set_ylabel('')\n",
    "\n",
    "# set axis\n",
    "ax.tick_params(axis='both', which='major', labelsize=12)\n",
    "plt.yticks(my_range, hof_val_counts.index)\n",
    "\n",
    "# add an horizonal label for the y axis \n",
    "fig.text(-0.23, 0.96, 'Mentioned in a HOF Tweet', fontsize=15, fontweight='black', color = '#333F4B')\n",
    "\n",
    "# change the style of the axis spines\n",
    "ax.spines['top'].set_visible(False)\n",
    "ax.spines['right'].set_visible(False)\n",
    "\n",
    "ax.spines['left'].set_bounds((1, len(my_range)))\n",
    "#ax.set_xlim(0,25)\n",
    "\n",
    "ax.spines['left'].set_position(('outward', 8))\n",
    "ax.spines['bottom'].set_position(('outward', 5))\n",
    "\n",
    "plt.savefig('plots/control_group/control_group_hof_on_mps.png', dpi=300, bbox_inches='tight')"
   ]
  },
  {
   "cell_type": "code",
   "execution_count": 17,
   "id": "579ada91-1c30-4b2d-bd8a-42fb23838c59",
   "metadata": {},
   "outputs": [
    {
     "data": {
      "image/png": "[encoded data removed]",
      "text/plain": [
       "<Figure size 360x252 with 1 Axes>"
      ]
     },
     "metadata": {
      "needs_background": "light"
     },
     "output_type": "display_data"
    }
   ],
   "source": [
    "# set font\n",
    "plt.rcParams['font.family'] = 'sans-serif'\n",
    "plt.rcParams['font.sans-serif'] = 'Helvetica'\n",
    "\n",
    "# set the style of the axes and the text color\n",
    "plt.rcParams['axes.edgecolor']='#333F4B'\n",
    "plt.rcParams['axes.linewidth']=0.8\n",
    "plt.rcParams['xtick.color']='#333F4B'\n",
    "plt.rcParams['ytick.color']='#333F4B'\n",
    "plt.rcParams['text.color']='#333F4B'\n",
    "\n",
    "hof_val_counts = not_val_counts[:10]\n",
    "# we first need a numeric placeholder for the y axis\n",
    "my_range=list(range(1,len(hof_val_counts.index)+1))\n",
    "\n",
    "fig, ax = plt.subplots(figsize=(5,3.5))\n",
    "\n",
    "# create for each expense type an horizontal line that starts at x = 0 with the length \n",
    "# represented by the specific expense percentage value.\n",
    "plt.hlines(y=my_range, xmin=0, xmax=hof_val_counts['full_name'], color='#007ACC', alpha=0.2, linewidth=5)\n",
    "\n",
    "# create for each expense type a dot at the level of the expense percentage value\n",
    "plt.plot(hof_val_counts['full_name'], my_range, \"o\", markersize=5, color='#007ACC', alpha=0.6)\n",
    "\n",
    "# set labels\n",
    "ax.set_xlabel('Mention Count', fontsize=15, fontweight='black', color = '#333F4B')\n",
    "ax.set_ylabel('')\n",
    "\n",
    "# set axis\n",
    "ax.tick_params(axis='both', which='major', labelsize=12)\n",
    "plt.yticks(my_range, hof_val_counts.index)\n",
    "\n",
    "# add an horizonal label for the y axis \n",
    "fig.text(-0.23, 0.96, 'Mentioned in a NOT Tweet', fontsize=15, fontweight='black', color = '#333F4B')\n",
    "\n",
    "# change the style of the axis spines\n",
    "ax.spines['top'].set_visible(False)\n",
    "ax.spines['right'].set_visible(False)\n",
    "\n",
    "ax.spines['left'].set_bounds((1, len(my_range)))\n",
    "#ax.set_xlim(0,25)\n",
    "\n",
    "ax.spines['left'].set_position(('outward', 8))\n",
    "ax.spines['bottom'].set_position(('outward', 5))\n",
    "\n",
    "plt.savefig('plots/control_group/control_group_not_on_mps.png', dpi=300, bbox_inches='tight')"
   ]
  }
 ],
 "metadata": {
  "kernelspec": {
   "display_name": "Python 3 (ipykernel)",
   "language": "python",
   "name": "python3"
  },
  "language_info": {
   "codemirror_mode": {
    "name": "ipython",
    "version": 3
   },
   "file_extension": ".py",
   "mimetype": "text/x-python",
   "name": "python",
   "nbconvert_exporter": "python",
   "pygments_lexer": "ipython3",
   "version": "3.9.13"
  }
 },
 "nbformat": 4,
 "nbformat_minor": 5
}
