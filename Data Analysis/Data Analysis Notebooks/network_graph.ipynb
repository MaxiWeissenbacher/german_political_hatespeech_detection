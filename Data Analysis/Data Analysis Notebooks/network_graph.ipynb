{
 "cells": [
  {
   "cell_type": "code",
   "execution_count": 2,
   "id": "054ab185-99e1-4245-95ed-06762a40f360",
   "metadata": {},
   "outputs": [],
   "source": [
    "#Import modules\n",
    "%matplotlib inline\n",
    "\n",
    "#handling data\n",
    "import pandas as pd\n",
    "import numpy as np\n",
    "from scipy import stats\n",
    "from operator import itemgetter\n",
    "\n",
    "#handling information\n",
    "import re\n",
    "import json\n",
    "\n",
    "#handling plots\n",
    "import matplotlib.pyplot as plt\n",
    "import seaborn as sns\n",
    "\n",
    "#for network creation\n",
    "import networkx as nx"
   ]
  },
  {
   "cell_type": "code",
   "execution_count": 3,
   "id": "ad11b78f-3257-4cb7-8022-21342c89574c",
   "metadata": {},
   "outputs": [
    {
     "data": {
      "text/html": [
       "<div>\n",
       "<style scoped>\n",
       "    .dataframe tbody tr th:only-of-type {\n",
       "        vertical-align: middle;\n",
       "    }\n",
       "\n",
       "    .dataframe tbody tr th {\n",
       "        vertical-align: top;\n",
       "    }\n",
       "\n",
       "    .dataframe thead th {\n",
       "        text-align: right;\n",
       "    }\n",
       "</style>\n",
       "<table border=\"1\" class=\"dataframe\">\n",
       "  <thead>\n",
       "    <tr style=\"text-align: right;\">\n",
       "      <th></th>\n",
       "      <th>Unnamed: 0</th>\n",
       "      <th>username</th>\n",
       "      <th>party</th>\n",
       "      <th>mentioned_user</th>\n",
       "      <th>mentioned_party</th>\n",
       "      <th>Label</th>\n",
       "    </tr>\n",
       "  </thead>\n",
       "  <tbody>\n",
       "    <tr>\n",
       "      <th>0</th>\n",
       "      <td>0</td>\n",
       "      <td>stbrandner</td>\n",
       "      <td>AfD</td>\n",
       "      <td>karl_lauterbach</td>\n",
       "      <td>SPD</td>\n",
       "      <td>NOT</td>\n",
       "    </tr>\n",
       "    <tr>\n",
       "      <th>1</th>\n",
       "      <td>1</td>\n",
       "      <td>stbrandner</td>\n",
       "      <td>AfD</td>\n",
       "      <td>karl_lauterbach</td>\n",
       "      <td>SPD</td>\n",
       "      <td>NOT</td>\n",
       "    </tr>\n",
       "    <tr>\n",
       "      <th>2</th>\n",
       "      <td>2</td>\n",
       "      <td>stbrandner</td>\n",
       "      <td>AfD</td>\n",
       "      <td>rene_springer</td>\n",
       "      <td>AfD</td>\n",
       "      <td>NOT</td>\n",
       "    </tr>\n",
       "    <tr>\n",
       "      <th>3</th>\n",
       "      <td>3</td>\n",
       "      <td>stbrandner</td>\n",
       "      <td>AfD</td>\n",
       "      <td>rene_springer</td>\n",
       "      <td>AfD</td>\n",
       "      <td>NOT</td>\n",
       "    </tr>\n",
       "    <tr>\n",
       "      <th>4</th>\n",
       "      <td>4</td>\n",
       "      <td>stbrandner</td>\n",
       "      <td>AfD</td>\n",
       "      <td>mastrackzi</td>\n",
       "      <td>FDP</td>\n",
       "      <td>NOT</td>\n",
       "    </tr>\n",
       "  </tbody>\n",
       "</table>\n",
       "</div>"
      ],
      "text/plain": [
       "   Unnamed: 0    username party   mentioned_user mentioned_party Label\n",
       "0           0  stbrandner   AfD  karl_lauterbach             SPD   NOT\n",
       "1           1  stbrandner   AfD  karl_lauterbach             SPD   NOT\n",
       "2           2  stbrandner   AfD    rene_springer             AfD   NOT\n",
       "3           3  stbrandner   AfD    rene_springer             AfD   NOT\n",
       "4           4  stbrandner   AfD       mastrackzi             FDP   NOT"
      ]
     },
     "execution_count": 3,
     "metadata": {},
     "output_type": "execute_result"
    }
   ],
   "source": [
    "tweets_df = pd.read_csv(\"df_for_network_plot.csv\")\n",
    "tweets_df.head()"
   ]
  },
  {
   "cell_type": "code",
   "execution_count": 4,
   "id": "0d72bbc1-d711-4d43-b319-a33937ae4ab3",
   "metadata": {},
   "outputs": [
    {
     "data": {
      "text/plain": [
       "66090"
      ]
     },
     "execution_count": 4,
     "metadata": {},
     "output_type": "execute_result"
    }
   ],
   "source": [
    "len(tweets_df)"
   ]
  },
  {
   "cell_type": "code",
   "execution_count": 5,
   "id": "daef7d50-fd41-4c0c-9b39-7809d222a3d2",
   "metadata": {},
   "outputs": [
    {
     "data": {
      "text/plain": [
       "1783"
      ]
     },
     "execution_count": 5,
     "metadata": {},
     "output_type": "execute_result"
    }
   ],
   "source": [
    "hof = tweets_df[tweets_df[\"Label\"] == \"HOF\"]\n",
    "len(hof)"
   ]
  },
  {
   "cell_type": "code",
   "execution_count": 6,
   "id": "ba333b8e-b228-416d-9493-7f4ec937a3d9",
   "metadata": {},
   "outputs": [
    {
     "data": {
      "text/html": [
       "<div>\n",
       "<style scoped>\n",
       "    .dataframe tbody tr th:only-of-type {\n",
       "        vertical-align: middle;\n",
       "    }\n",
       "\n",
       "    .dataframe tbody tr th {\n",
       "        vertical-align: top;\n",
       "    }\n",
       "\n",
       "    .dataframe thead th {\n",
       "        text-align: right;\n",
       "    }\n",
       "</style>\n",
       "<table border=\"1\" class=\"dataframe\">\n",
       "  <thead>\n",
       "    <tr style=\"text-align: right;\">\n",
       "      <th></th>\n",
       "      <th>index</th>\n",
       "      <th>username</th>\n",
       "      <th>mentioned_user</th>\n",
       "    </tr>\n",
       "  </thead>\n",
       "  <tbody>\n",
       "    <tr>\n",
       "      <th>0</th>\n",
       "      <td>matthiashauer</td>\n",
       "      <td>73</td>\n",
       "      <td>10</td>\n",
       "    </tr>\n",
       "    <tr>\n",
       "      <th>1</th>\n",
       "      <td>derya_tn</td>\n",
       "      <td>67</td>\n",
       "      <td>5</td>\n",
       "    </tr>\n",
       "    <tr>\n",
       "      <th>2</th>\n",
       "      <td>renatekuenast</td>\n",
       "      <td>36</td>\n",
       "      <td>9</td>\n",
       "    </tr>\n",
       "    <tr>\n",
       "      <th>3</th>\n",
       "      <td>ralf_stegner</td>\n",
       "      <td>35</td>\n",
       "      <td>73</td>\n",
       "    </tr>\n",
       "    <tr>\n",
       "      <th>4</th>\n",
       "      <td>mgrossebroemer</td>\n",
       "      <td>33</td>\n",
       "      <td>12</td>\n",
       "    </tr>\n",
       "    <tr>\n",
       "      <th>...</th>\n",
       "      <td>...</td>\n",
       "      <td>...</td>\n",
       "      <td>...</td>\n",
       "    </tr>\n",
       "    <tr>\n",
       "      <th>169</th>\n",
       "      <td>katrinhelling</td>\n",
       "      <td>1</td>\n",
       "      <td>1</td>\n",
       "    </tr>\n",
       "    <tr>\n",
       "      <th>170</th>\n",
       "      <td>gydej</td>\n",
       "      <td>1</td>\n",
       "      <td>2</td>\n",
       "    </tr>\n",
       "    <tr>\n",
       "      <th>171</th>\n",
       "      <td>martingassner</td>\n",
       "      <td>1</td>\n",
       "      <td>2</td>\n",
       "    </tr>\n",
       "    <tr>\n",
       "      <th>172</th>\n",
       "      <td>daniludwigmdb</td>\n",
       "      <td>1</td>\n",
       "      <td>3</td>\n",
       "    </tr>\n",
       "    <tr>\n",
       "      <th>173</th>\n",
       "      <td>philipphartewig</td>\n",
       "      <td>1</td>\n",
       "      <td>1</td>\n",
       "    </tr>\n",
       "  </tbody>\n",
       "</table>\n",
       "<p>174 rows × 3 columns</p>\n",
       "</div>"
      ],
      "text/plain": [
       "               index  username  mentioned_user\n",
       "0      matthiashauer        73              10\n",
       "1           derya_tn        67               5\n",
       "2      renatekuenast        36               9\n",
       "3       ralf_stegner        35              73\n",
       "4     mgrossebroemer        33              12\n",
       "..               ...       ...             ...\n",
       "169    katrinhelling         1               1\n",
       "170            gydej         1               2\n",
       "171    martingassner         1               2\n",
       "172    daniludwigmdb         1               3\n",
       "173  philipphartewig         1               1\n",
       "\n",
       "[174 rows x 3 columns]"
      ]
     },
     "execution_count": 6,
     "metadata": {},
     "output_type": "execute_result"
    }
   ],
   "source": [
    "spread = pd.DataFrame(hof.username.value_counts())\n",
    "receive = pd.DataFrame(hof.mentioned_user.value_counts())\n",
    "\n",
    "spread = spread.reset_index()\n",
    "receive = receive.reset_index()\n",
    "\n",
    "merge = spread.merge(receive, left_on='index', right_on='index',suffixes=['', '_'])\n",
    "#merge = merge.rename(columns = {\"full_name\": \"hof_mentions\", \"full_name_\": \"not_mentions\"})\n",
    "#merge.drop([\"level_0\", \"level_0_\"], axis=1)\n",
    "merge"
   ]
  },
  {
   "cell_type": "code",
   "execution_count": 7,
   "id": "734d0546-64dc-4d92-9fd2-e6b79a4073a4",
   "metadata": {},
   "outputs": [
    {
     "data": {
      "text/html": [
       "<div>\n",
       "<style scoped>\n",
       "    .dataframe tbody tr th:only-of-type {\n",
       "        vertical-align: middle;\n",
       "    }\n",
       "\n",
       "    .dataframe tbody tr th {\n",
       "        vertical-align: top;\n",
       "    }\n",
       "\n",
       "    .dataframe thead th {\n",
       "        text-align: right;\n",
       "    }\n",
       "</style>\n",
       "<table border=\"1\" class=\"dataframe\">\n",
       "  <thead>\n",
       "    <tr style=\"text-align: right;\">\n",
       "      <th></th>\n",
       "      <th>username</th>\n",
       "      <th>mentioned_user</th>\n",
       "    </tr>\n",
       "    <tr>\n",
       "      <th>index</th>\n",
       "      <th></th>\n",
       "      <th></th>\n",
       "    </tr>\n",
       "  </thead>\n",
       "  <tbody>\n",
       "    <tr>\n",
       "      <th>matthiashauer</th>\n",
       "      <td>73</td>\n",
       "      <td>10</td>\n",
       "    </tr>\n",
       "    <tr>\n",
       "      <th>derya_tn</th>\n",
       "      <td>67</td>\n",
       "      <td>5</td>\n",
       "    </tr>\n",
       "    <tr>\n",
       "      <th>renatekuenast</th>\n",
       "      <td>36</td>\n",
       "      <td>9</td>\n",
       "    </tr>\n",
       "    <tr>\n",
       "      <th>ralf_stegner</th>\n",
       "      <td>35</td>\n",
       "      <td>73</td>\n",
       "    </tr>\n",
       "    <tr>\n",
       "      <th>mgrossebroemer</th>\n",
       "      <td>33</td>\n",
       "      <td>12</td>\n",
       "    </tr>\n",
       "    <tr>\n",
       "      <th>...</th>\n",
       "      <td>...</td>\n",
       "      <td>...</td>\n",
       "    </tr>\n",
       "    <tr>\n",
       "      <th>katrinhelling</th>\n",
       "      <td>1</td>\n",
       "      <td>1</td>\n",
       "    </tr>\n",
       "    <tr>\n",
       "      <th>gydej</th>\n",
       "      <td>1</td>\n",
       "      <td>2</td>\n",
       "    </tr>\n",
       "    <tr>\n",
       "      <th>martingassner</th>\n",
       "      <td>1</td>\n",
       "      <td>2</td>\n",
       "    </tr>\n",
       "    <tr>\n",
       "      <th>daniludwigmdb</th>\n",
       "      <td>1</td>\n",
       "      <td>3</td>\n",
       "    </tr>\n",
       "    <tr>\n",
       "      <th>philipphartewig</th>\n",
       "      <td>1</td>\n",
       "      <td>1</td>\n",
       "    </tr>\n",
       "  </tbody>\n",
       "</table>\n",
       "<p>174 rows × 2 columns</p>\n",
       "</div>"
      ],
      "text/plain": [
       "                 username  mentioned_user\n",
       "index                                    \n",
       "matthiashauer          73              10\n",
       "derya_tn               67               5\n",
       "renatekuenast          36               9\n",
       "ralf_stegner           35              73\n",
       "mgrossebroemer         33              12\n",
       "...                   ...             ...\n",
       "katrinhelling           1               1\n",
       "gydej                   1               2\n",
       "martingassner           1               2\n",
       "daniludwigmdb           1               3\n",
       "philipphartewig         1               1\n",
       "\n",
       "[174 rows x 2 columns]"
      ]
     },
     "execution_count": 7,
     "metadata": {},
     "output_type": "execute_result"
    }
   ],
   "source": [
    "merge.set_index('index', inplace=True)\n",
    "merge"
   ]
  },
  {
   "cell_type": "code",
   "execution_count": 8,
   "id": "0835a7b9-ecc1-4d0f-8823-dfb83ee8a7b6",
   "metadata": {},
   "outputs": [],
   "source": [
    "spread.set_index('index', inplace=True)\n",
    "receive.set_index('index', inplace=True)"
   ]
  },
  {
   "cell_type": "code",
   "execution_count": 9,
   "id": "c29165c8-8d5f-43f8-a05b-7aa89665f8d9",
   "metadata": {},
   "outputs": [
    {
     "data": {
      "text/html": [
       "<div>\n",
       "<style scoped>\n",
       "    .dataframe tbody tr th:only-of-type {\n",
       "        vertical-align: middle;\n",
       "    }\n",
       "\n",
       "    .dataframe tbody tr th {\n",
       "        vertical-align: top;\n",
       "    }\n",
       "\n",
       "    .dataframe thead th {\n",
       "        text-align: right;\n",
       "    }\n",
       "</style>\n",
       "<table border=\"1\" class=\"dataframe\">\n",
       "  <thead>\n",
       "    <tr style=\"text-align: right;\">\n",
       "      <th></th>\n",
       "      <th>mentioned_user</th>\n",
       "    </tr>\n",
       "    <tr>\n",
       "      <th>index</th>\n",
       "      <th></th>\n",
       "    </tr>\n",
       "  </thead>\n",
       "  <tbody>\n",
       "    <tr>\n",
       "      <th>olafscholz</th>\n",
       "      <td>182</td>\n",
       "    </tr>\n",
       "    <tr>\n",
       "      <th>karl_lauterbach</th>\n",
       "      <td>117</td>\n",
       "    </tr>\n",
       "  </tbody>\n",
       "</table>\n",
       "</div>"
      ],
      "text/plain": [
       "                 mentioned_user\n",
       "index                          \n",
       "olafscholz                  182\n",
       "karl_lauterbach             117"
      ]
     },
     "execution_count": 9,
     "metadata": {},
     "output_type": "execute_result"
    }
   ],
   "source": [
    "receive.head(2)"
   ]
  },
  {
   "cell_type": "code",
   "execution_count": 10,
   "id": "0aa73caf-4868-44c4-9a79-aa9208a9ff1b",
   "metadata": {},
   "outputs": [
    {
     "data": {
      "text/html": [
       "<div>\n",
       "<style scoped>\n",
       "    .dataframe tbody tr th:only-of-type {\n",
       "        vertical-align: middle;\n",
       "    }\n",
       "\n",
       "    .dataframe tbody tr th {\n",
       "        vertical-align: top;\n",
       "    }\n",
       "\n",
       "    .dataframe thead th {\n",
       "        text-align: right;\n",
       "    }\n",
       "</style>\n",
       "<table border=\"1\" class=\"dataframe\">\n",
       "  <thead>\n",
       "    <tr style=\"text-align: right;\">\n",
       "      <th></th>\n",
       "      <th>username</th>\n",
       "    </tr>\n",
       "    <tr>\n",
       "      <th>index</th>\n",
       "      <th></th>\n",
       "    </tr>\n",
       "  </thead>\n",
       "  <tbody>\n",
       "    <tr>\n",
       "      <th>m_reichardt_afd</th>\n",
       "      <td>263</td>\n",
       "    </tr>\n",
       "    <tr>\n",
       "      <th>matthiashauer</th>\n",
       "      <td>73</td>\n",
       "    </tr>\n",
       "  </tbody>\n",
       "</table>\n",
       "</div>"
      ],
      "text/plain": [
       "                 username\n",
       "index                    \n",
       "m_reichardt_afd       263\n",
       "matthiashauer          73"
      ]
     },
     "execution_count": 10,
     "metadata": {},
     "output_type": "execute_result"
    }
   ],
   "source": [
    "spread.head(2)"
   ]
  },
  {
   "cell_type": "code",
   "execution_count": 11,
   "id": "dd74fcef-5666-4f85-8e55-8fdd332aa104",
   "metadata": {},
   "outputs": [
    {
     "name": "stderr",
     "output_type": "stream",
     "text": [
      "findfont: Font family ['Calibri'] not found. Falling back to DejaVu Sans.\n",
      "findfont: Font family ['Calibri'] not found. Falling back to DejaVu Sans.\n"
     ]
    },
    {
     "data": {
      "image/png": "[encoded data removed]",
      "text/plain": [
       "<Figure size 1440x576 with 2 Axes>"
      ]
     },
     "metadata": {},
     "output_type": "display_data"
    }
   ],
   "source": [
    "#merges = merge[:30]\n",
    "receive = receive[:15]\n",
    "spread = spread[:15]\n",
    "\n",
    "font_color = '#525252'\n",
    "hfont = {'fontname':'Calibri'}\n",
    "facecolor = '#eaeaf2'\n",
    "color_red = '#fd625e'\n",
    "color_blue = '#01b8aa'\n",
    "index = spread.index\n",
    "index1 = receive.index\n",
    "column0 = spread['username']\n",
    "column1 = receive['mentioned_user']\n",
    "title0 = 'Spreading Hate'\n",
    "title1 = 'Receiving Hate'\n",
    "\n",
    "fig, axes = plt.subplots(figsize=(20,8), facecolor=facecolor, ncols=2)\n",
    "fig.tight_layout()\n",
    "\n",
    "axes[0].barh(index, column0, align='center', color=color_red, zorder=10)\n",
    "axes[0].set_title(title0, fontsize=18, pad=15, color=color_red, **hfont)\n",
    "axes[1].barh(index1, column1, align='center', color=color_blue, zorder=10)\n",
    "axes[1].set_title(title1, fontsize=18, pad=15, color=color_blue, **hfont)\n",
    "\n",
    "# If you have positive numbers and want to invert the x-axis of the left plot\n",
    "axes[1].invert_xaxis() \n",
    "\n",
    "# To show data from highest to lowest\n",
    "plt.gca().invert_yaxis()\n",
    "\n",
    "axes[0].set(yticks=spread.index, yticklabels=spread.index)\n",
    "axes[0].yaxis.tick_left()\n",
    "axes[1].set(yticks=receive.index, yticklabels=receive.index)\n",
    "axes[1].yaxis.tick_right()\n",
    "axes[0].tick_params(axis='y', colors='black') # tick color\n",
    "axes[1].tick_params(axis='y', colors='black') # tick color\n",
    "\n",
    "for label in (axes[0].get_xticklabels() + axes[0].get_yticklabels()):\n",
    "    label.set(fontsize=13, color=font_color, **hfont)\n",
    "for label in (axes[1].get_xticklabels() + axes[1].get_yticklabels()):\n",
    "    label.set(fontsize=13, color=font_color, **hfont)\n",
    "\n",
    "plt.subplots_adjust(wspace=0, top=0.85, bottom=0.1, left=0.18, right=0.82)\n",
    "\n",
    "filename = 'politicians_spread_vs_receive_hate'\n",
    "plt.savefig(filename+'.png', facecolor=facecolor)"
   ]
  },
  {
   "cell_type": "code",
   "execution_count": null,
   "id": "57a4f280-a59e-4a15-8e4d-602cb5105ad3",
   "metadata": {},
   "outputs": [],
   "source": [
    "hof.mentioned_user.value_counts()"
   ]
  },
  {
   "cell_type": "markdown",
   "id": "617f8251-12a4-4dac-ad95-eab2e0979d60",
   "metadata": {
    "tags": []
   },
   "source": [
    "# Wer verbreitet Hate?"
   ]
  },
  {
   "cell_type": "code",
   "execution_count": 12,
   "id": "087840aa-3594-4869-8a40-993f532bfa84",
   "metadata": {},
   "outputs": [
    {
     "data": {
      "text/plain": [
       " SPD                      199\n",
       " Bündnis 90/Die Grünen     61\n",
       " AfD                       58\n",
       " FDP                       48\n",
       " CDU/CSU                   38\n",
       " Die Linke                 24\n",
       " fraktionslos               1\n",
       "Name: mentioned_party, dtype: int64"
      ]
     },
     "execution_count": 12,
     "metadata": {},
     "output_type": "execute_result"
    }
   ],
   "source": [
    "von_afd = hof[hof[\"party\"] == \" AfD\"]\n",
    "von_spd = hof[hof[\"party\"] == \" SPD\"]\n",
    "von_csu = hof[hof[\"party\"] == \" CDU/CSU\"]\n",
    "von_linke = hof[hof[\"party\"] == \" Die Linke\"]\n",
    "von_grüne = hof[hof[\"party\"] == \" Bündnis 90/Die Grünen\"]\n",
    "von_fdp = hof[hof[\"party\"] == \" FDP\"]\n",
    "von_afd.mentioned_party.value_counts()"
   ]
  },
  {
   "cell_type": "code",
   "execution_count": 13,
   "id": "2679dcd9-0028-444c-833e-b56bfd1212f3",
   "metadata": {},
   "outputs": [
    {
     "name": "stdout",
     "output_type": "stream",
     "text": [
      "AfD: 429\n",
      "SPD: 402\n",
      "CSU/CDU: 282\n",
      "Die Linke: 71\n",
      "Die Grünen: 306\n",
      "FDP: 271\n"
     ]
    }
   ],
   "source": [
    "print(f\"AfD: {len(von_afd)}\")\n",
    "print(f\"SPD: {len(von_spd)}\")\n",
    "print(f\"CSU/CDU: {len(von_csu)}\")\n",
    "print(f\"Die Linke: {len(von_linke)}\")\n",
    "print(f\"Die Grünen: {len(von_grüne)}\")\n",
    "print(f\"FDP: {len(von_fdp)}\")\n",
    "# meister Hate geht von AfD und SPD aus"
   ]
  },
  {
   "cell_type": "code",
   "execution_count": 14,
   "id": "5dcb6f40-dd47-47e0-be2c-9f735ec974be",
   "metadata": {},
   "outputs": [
    {
     "name": "stdout",
     "output_type": "stream",
     "text": [
      "AfD: 0.2406057206954571%\n",
      "SPD: 0.22546270330902973%\n",
      "CSU/CDU: 0.15816040381379698%\n",
      "Die Linke: 0.039820527201346045%\n",
      "Die Grünen: 0.17162086371284352%\n",
      "FDP: 0.1519910263600673%\n"
     ]
    }
   ],
   "source": [
    "# Jetzt Prozentual\n",
    "print(f\"AfD: {len(von_afd)/1783}%\")\n",
    "print(f\"SPD: {len(von_spd)/1783}%\")\n",
    "print(f\"CSU/CDU: {len(von_csu)/1783}%\")\n",
    "print(f\"Die Linke: {len(von_linke)/1783}%\")\n",
    "print(f\"Die Grünen: {len(von_grüne)/1783}%\")\n",
    "print(f\"FDP: {len(von_fdp)/1783}%\")\n",
    "# meister Hate geht von AfD und SPD aus"
   ]
  },
  {
   "cell_type": "code",
   "execution_count": 15,
   "id": "407c2fca-e187-4b83-8a74-cb2d67d9a43c",
   "metadata": {},
   "outputs": [
    {
     "data": {
      "text/plain": [
       " SPD                      258\n",
       " CDU/CSU                   65\n",
       " FDP                       33\n",
       " Bündnis 90/Die Grünen     22\n",
       " AfD                       16\n",
       " Die Linke                  8\n",
       "Name: mentioned_party, dtype: int64"
      ]
     },
     "execution_count": 15,
     "metadata": {},
     "output_type": "execute_result"
    }
   ],
   "source": [
    "von_spd.mentioned_party.value_counts()"
   ]
  },
  {
   "cell_type": "code",
   "execution_count": 16,
   "id": "212ae5fa-a27a-4dd5-a67d-ed586a89072f",
   "metadata": {},
   "outputs": [
    {
     "data": {
      "text/plain": [
       " SPD                      102\n",
       " CDU/CSU                   84\n",
       " FDP                       37\n",
       " Bündnis 90/Die Grünen     34\n",
       " Die Linke                 14\n",
       " AfD                       10\n",
       " fraktionslos               1\n",
       "Name: mentioned_party, dtype: int64"
      ]
     },
     "execution_count": 16,
     "metadata": {},
     "output_type": "execute_result"
    }
   ],
   "source": [
    "von_csu.mentioned_party.value_counts()"
   ]
  },
  {
   "cell_type": "code",
   "execution_count": 17,
   "id": "7b544112-f8e3-4dae-86a5-869e80806408",
   "metadata": {},
   "outputs": [
    {
     "data": {
      "text/plain": [
       " Die Linke                27\n",
       " SPD                      20\n",
       " FDP                      10\n",
       " Bündnis 90/Die Grünen     9\n",
       " CDU/CSU                   5\n",
       "Name: mentioned_party, dtype: int64"
      ]
     },
     "execution_count": 17,
     "metadata": {},
     "output_type": "execute_result"
    }
   ],
   "source": [
    "von_linke.mentioned_party.value_counts()"
   ]
  },
  {
   "cell_type": "code",
   "execution_count": 18,
   "id": "850a92ba-f7c3-4590-b9e7-840471b0e0f9",
   "metadata": {},
   "outputs": [
    {
     "data": {
      "text/plain": [
       " Bündnis 90/Die Grünen    141\n",
       " CDU/CSU                   59\n",
       " SPD                       58\n",
       " FDP                       35\n",
       " AfD                        6\n",
       " Die Linke                  6\n",
       " fraktionslos               1\n",
       "Name: mentioned_party, dtype: int64"
      ]
     },
     "execution_count": 18,
     "metadata": {},
     "output_type": "execute_result"
    }
   ],
   "source": [
    "von_grüne.mentioned_party.value_counts()"
   ]
  },
  {
   "cell_type": "code",
   "execution_count": 19,
   "id": "c43ba0f0-4b68-44db-935a-9c3888f1b9a2",
   "metadata": {},
   "outputs": [
    {
     "data": {
      "text/plain": [
       " FDP                      164\n",
       " SPD                       47\n",
       " CDU/CSU                   31\n",
       " Bündnis 90/Die Grünen     21\n",
       " Die Linke                  5\n",
       " AfD                        2\n",
       " fraktionslos               1\n",
       "Name: mentioned_party, dtype: int64"
      ]
     },
     "execution_count": 19,
     "metadata": {},
     "output_type": "execute_result"
    }
   ],
   "source": [
    "von_fdp.mentioned_party.value_counts()"
   ]
  },
  {
   "cell_type": "markdown",
   "id": "7cfba0de-0334-4d7d-a180-c23338b61a73",
   "metadata": {
    "tags": []
   },
   "source": [
    "# Wer bekommt Hate ab?"
   ]
  },
  {
   "cell_type": "code",
   "execution_count": 20,
   "id": "66d95647-70dd-4e3c-ab76-f3366eb15d6d",
   "metadata": {},
   "outputs": [
    {
     "data": {
      "text/plain": [
       " AfD                      58\n",
       " SPD                      16\n",
       " CDU/CSU                  10\n",
       " Bündnis 90/Die Grünen     6\n",
       " fraktionslos              5\n",
       " FDP                       2\n",
       "Name: party, dtype: int64"
      ]
     },
     "execution_count": 20,
     "metadata": {},
     "output_type": "execute_result"
    }
   ],
   "source": [
    "von_afd = hof[hof[\"mentioned_party\"] == \" AfD\"]\n",
    "von_spd = hof[hof[\"mentioned_party\"] == \" SPD\"]\n",
    "von_csu = hof[hof[\"mentioned_party\"] == \" CDU/CSU\"]\n",
    "von_linke = hof[hof[\"mentioned_party\"] == \" Die Linke\"]\n",
    "von_grüne = hof[hof[\"mentioned_party\"] == \" Bündnis 90/Die Grünen\"]\n",
    "von_fdp = hof[hof[\"mentioned_party\"] == \" FDP\"]\n",
    "von_afd.party.value_counts()"
   ]
  },
  {
   "cell_type": "code",
   "execution_count": 21,
   "id": "6e862747-ebe2-4503-aebe-ff2471fd6017",
   "metadata": {},
   "outputs": [
    {
     "name": "stdout",
     "output_type": "stream",
     "text": [
      "AfD: 97\n",
      "SPD: 690\n",
      "CSU/CDU: 284\n",
      "Die Linke: 84\n",
      "Die Grünen: 290\n",
      "FDP: 333\n"
     ]
    }
   ],
   "source": [
    "print(f\"AfD: {len(von_afd)}\")\n",
    "print(f\"SPD: {len(von_spd)}\")\n",
    "print(f\"CSU/CDU: {len(von_csu)}\")\n",
    "print(f\"Die Linke: {len(von_linke)}\")\n",
    "print(f\"Die Grünen: {len(von_grüne)}\")\n",
    "print(f\"FDP: {len(von_fdp)}\")\n",
    "# meister Hate bekommt SPD ab, dann FDP, dann Grünen, dann CDU/CSU"
   ]
  },
  {
   "cell_type": "code",
   "execution_count": 22,
   "id": "75bdf0bf-78fd-4cd7-8eb2-3e2d903150a5",
   "metadata": {},
   "outputs": [
    {
     "name": "stdout",
     "output_type": "stream",
     "text": [
      "AfD: 0.05440269209197981%\n",
      "SPD: 0.3869882220975883%\n",
      "CSU/CDU: 0.15928210880538418%\n",
      "Die Linke: 0.04711160964666293%\n",
      "Die Grünen: 0.16264722378014582%\n",
      "FDP: 0.1867638810992709%\n"
     ]
    }
   ],
   "source": [
    "# Jetzt Prozentual\n",
    "print(f\"AfD: {len(von_afd)/1783}%\")\n",
    "print(f\"SPD: {len(von_spd)/1783}%\")\n",
    "print(f\"CSU/CDU: {len(von_csu)/1783}%\")\n",
    "print(f\"Die Linke: {len(von_linke)/1783}%\")\n",
    "print(f\"Die Grünen: {len(von_grüne)/1783}%\")\n",
    "print(f\"FDP: {len(von_fdp)/1783}%\")"
   ]
  },
  {
   "cell_type": "code",
   "execution_count": 23,
   "id": "aa552434-b5b8-4ba6-a811-335f42d78f10",
   "metadata": {},
   "outputs": [
    {
     "data": {
      "text/plain": [
       " SPD                      258\n",
       " AfD                      199\n",
       " CDU/CSU                  102\n",
       " Bündnis 90/Die Grünen     58\n",
       " FDP                       47\n",
       " Die Linke                 20\n",
       " fraktionslos               6\n",
       "Name: party, dtype: int64"
      ]
     },
     "execution_count": 23,
     "metadata": {},
     "output_type": "execute_result"
    }
   ],
   "source": [
    "von_spd.party.value_counts()"
   ]
  },
  {
   "cell_type": "code",
   "execution_count": 24,
   "id": "ccbf984a-cab9-4e3e-b4d4-a081fd13a7cd",
   "metadata": {},
   "outputs": [
    {
     "data": {
      "text/plain": [
       " AfD                      58\n",
       " SPD                      16\n",
       " CDU/CSU                  10\n",
       " Bündnis 90/Die Grünen     6\n",
       " fraktionslos              5\n",
       " FDP                       2\n",
       "Name: party, dtype: int64"
      ]
     },
     "execution_count": 24,
     "metadata": {},
     "output_type": "execute_result"
    }
   ],
   "source": [
    "von_afd.party.value_counts()"
   ]
  }
 ],
 "metadata": {
  "kernelspec": {
   "display_name": "Python 3 (ipykernel)",
   "language": "python",
   "name": "python3"
  },
  "language_info": {
   "codemirror_mode": {
    "name": "ipython",
    "version": 3
   },
   "file_extension": ".py",
   "mimetype": "text/x-python",
   "name": "python",
   "nbconvert_exporter": "python",
   "pygments_lexer": "ipython3",
   "version": "3.9.13"
  }
 },
 "nbformat": 4,
 "nbformat_minor": 5
}
