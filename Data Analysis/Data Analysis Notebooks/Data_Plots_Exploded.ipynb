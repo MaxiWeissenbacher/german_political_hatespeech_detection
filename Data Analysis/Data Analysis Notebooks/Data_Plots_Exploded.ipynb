{
 "cells": [
  {
   "cell_type": "code",
   "execution_count": null,
   "id": "f9997bc8-619c-4163-99d7-f307a34292fb",
   "metadata": {},
   "outputs": [],
   "source": [
    "%%capture\n",
    "!pip install plotly\n",
    "!pip install nltk\n",
    "!pip install wordcloud"
   ]
  },
  {
   "cell_type": "code",
   "execution_count": null,
   "id": "a6cebe7d",
   "metadata": {},
   "outputs": [],
   "source": [
    "import pandas as pd\n",
    "import numpy as np\n",
    "import matplotlib.pyplot as plt\n",
    "\n",
    "import seaborn as sns\n",
    "color = sns.color_palette()\n",
    "import plotly.offline as py\n",
    "py.init_notebook_mode(connected=True)\n",
    "import plotly.graph_objs as go\n",
    "import plotly.tools as tls\n",
    "import plotly.express as px\n",
    "import re\n",
    "import nltk\n",
    "from nltk.tokenize import word_tokenize\n",
    "from nltk.corpus import stopwords\n",
    "from os import path\n",
    "from PIL import Image\n",
    "from wordcloud import WordCloud, STOPWORDS, ImageColorGenerator"
   ]
  },
  {
   "cell_type": "markdown",
   "id": "ed4e02e5-d56d-4e80-bb22-193c26cf5663",
   "metadata": {},
   "source": [
    "# Visualisierungen\n",
    "- Mean Sentiment over time per party                ✅\n",
    "- HOF per MP                                        ✅\n",
    "-  Männliche vs. weibliche Politiker vergleich      ✅\n",
    "- Minority vergleich (überhaupt möglich?)\n",
    "- Hate unter Politikern\n",
    "- Wordclouds"
   ]
  },
  {
   "cell_type": "markdown",
   "id": "c84aec19-6058-42c9-8d5c-18baddb315ac",
   "metadata": {},
   "source": [
    "# Data Analysis"
   ]
  },
  {
   "cell_type": "markdown",
   "id": "6bb72552-5e4f-4bcb-8bb4-baa4fdb6891b",
   "metadata": {},
   "source": [
    "## Plot Gender"
   ]
  },
  {
   "cell_type": "code",
   "execution_count": null,
   "id": "a94f585e-6e61-4429-affb-cfb71ec89504",
   "metadata": {},
   "outputs": [],
   "source": [
    "df = pd.read_csv(\"mentions_predicted_exploded.csv\")\n",
    "df.head(2)"
   ]
  },
  {
   "cell_type": "code",
   "execution_count": null,
   "id": "fb9aa3b9-82e7-4bfd-a4ac-151cd2006802",
   "metadata": {},
   "outputs": [],
   "source": [
    "df['created_at']= pd.to_datetime(df['created_at'])\n",
    "type(df.created_at[0])"
   ]
  },
  {
   "cell_type": "code",
   "execution_count": null,
   "id": "b849750e-25ba-458e-b6c7-02fdba91c6b6",
   "metadata": {},
   "outputs": [],
   "source": [
    "# Pivot table and resample\n",
    "df_pivot = df.pivot_table(index='created_at', columns='Geschlecht', values='model_predictions').resample('D').mean()\n",
    "\n",
    "# Create plot\n",
    "fig, ax = plt.subplots(figsize=(15, 10))\n",
    "\n",
    "df_pivot.plot(ax=ax, ylabel=\"Mean HOF per Day\", color=[\"red\", \"blue\", \"green\"], xlabel=\"Date\",\n",
    "              title=\"Mean-HOF of Genders over time\")\n",
    "\n",
    "# Add text to plot\n",
    "for i, row in df_pivot.iterrows():\n",
    "    for col in df_pivot.columns:\n",
    "        ax.text(i, row[col], round(row[col], 2), ha='center', va='bottom', fontsize=8)\n",
    "\n",
    "plt.show()"
   ]
  },
  {
   "cell_type": "markdown",
   "id": "83981f8a-c706-43ed-815c-6fddc00f7be6",
   "metadata": {},
   "source": [
    "### T-Test zur Signifikanz zw. Mann und Frau"
   ]
  },
  {
   "cell_type": "code",
   "execution_count": null,
   "id": "fb76d59a-ac27-4f22-ba07-a3ee29f347e5",
   "metadata": {},
   "outputs": [],
   "source": [
    "from scipy import stats\n",
    "\n",
    "frau_list = df_pivot[\"Frau\"].tolist()\n",
    "mann_list = df_pivot[\"Herrn\"].tolist()\n",
    "\n",
    "stats.ttest_rel(frau_list, mann_list)\n",
    "# Statisitisch Signifikant! Das heißt, Männer bekommen in DE statistisch signifikant mehr Hate ab als Frauen"
   ]
  },
  {
   "cell_type": "code",
   "execution_count": null,
   "id": "580d6601-da64-4f1b-bf63-6ebe41344519",
   "metadata": {},
   "outputs": [],
   "source": [
    "frau = df[df.Geschlecht == \"Frau\"]\n",
    "print(len(frau))\n",
    "mann = df[df.Geschlecht == \"Herrn\"]\n",
    "print(len(mann))\n",
    "print(df.Geschlecht.value_counts())"
   ]
  },
  {
   "cell_type": "code",
   "execution_count": null,
   "id": "fdfd8c91-e64f-4aaa-a2fc-ce7236e26b82",
   "metadata": {},
   "outputs": [],
   "source": [
    "frau_hof = frau[frau[\"model_predictions\"] == 1]\n",
    "mann_hof = mann[mann[\"model_predictions\"] == 1]\n",
    "print(len(frau_hof))\n",
    "print(len(mann_hof))\n",
    "# 19.6% HOF bei Frauen\n",
    "# 20.8% HOF bei Männern -> hauptsächlich wegen Karl Lauterbach\n",
    "\n",
    "# 5 höchsten Ämter:\n",
    "# 1. Bundespräsident: Steinmeier\n",
    "# 2. Präsident des Bundestags: Bärbel Bas\n",
    "# 3. Bundeskanzler: Olaf Scholz\n",
    "# 4. Bundesratspräsident: Peter Tschentscher\n",
    "# 5. Präsident des Bundesverfassungsgericht: Stephan Harbarth"
   ]
  },
  {
   "cell_type": "code",
   "execution_count": null,
   "id": "401cc593-6b26-4deb-8168-65f8e724b66e",
   "metadata": {},
   "outputs": [],
   "source": [
    "print(len(frau.full_name.unique()))"
   ]
  },
  {
   "cell_type": "code",
   "execution_count": null,
   "id": "c5d70c4f-4093-4a5a-8a68-a1ac963563c6",
   "metadata": {},
   "outputs": [],
   "source": [
    "print(len(mann.full_name.unique()))"
   ]
  },
  {
   "cell_type": "code",
   "execution_count": null,
   "id": "9f8c9d65-c1dc-4f69-85f4-fe03e4ef4111",
   "metadata": {},
   "outputs": [],
   "source": [
    "len(df)"
   ]
  },
  {
   "cell_type": "code",
   "execution_count": null,
   "id": "90700536-4a35-40ee-91ab-141a228df7c8",
   "metadata": {},
   "outputs": [],
   "source": [
    "df[\"HOF\"] = df[\"model_predictions\"]\n",
    "df.loc[(df.model_predictions == 1),'Label']='HOF'\n",
    "df.loc[(df.model_predictions == 0),'Label']='NOT'"
   ]
  },
  {
   "cell_type": "code",
   "execution_count": null,
   "id": "488271d6-a892-4555-b484-1472ac5e0140",
   "metadata": {},
   "outputs": [],
   "source": [
    "df.Geschlecht.value_counts()"
   ]
  },
  {
   "cell_type": "code",
   "execution_count": null,
   "id": "9f1debd9-baaa-4152-99bc-eb4122574808",
   "metadata": {},
   "outputs": [],
   "source": [
    "# Plot\n",
    "g = sns.catplot(\"Label\", col=\"Geschlecht\", col_wrap=3,\n",
    "                data=df,\n",
    "                kind=\"count\", height=3.5, aspect=.8, \n",
    "                palette='tab10')\n",
    "\n",
    "#fig.suptitle('sf')\n",
    "plt.show()\n",
    "g.savefig('./plots/gender_hof_distribution.png')"
   ]
  },
  {
   "cell_type": "code",
   "execution_count": null,
   "id": "27b4e4cc-deeb-4a14-9e77-48cff2b5c91a",
   "metadata": {},
   "outputs": [],
   "source": [
    "from time_plots import plot_gender_percentage"
   ]
  },
  {
   "cell_type": "code",
   "execution_count": null,
   "id": "c4de482e-f85a-408c-b066-6e3d4db06d3f",
   "metadata": {},
   "outputs": [],
   "source": [
    "plot_gender_percentage(df,\"./plots/gender_hof_distribution\")"
   ]
  },
  {
   "cell_type": "markdown",
   "id": "ed2bd2c3-2bba-4389-8582-0e50e3c6423f",
   "metadata": {
    "tags": []
   },
   "source": [
    "## Test"
   ]
  },
  {
   "cell_type": "code",
   "execution_count": null,
   "id": "eda1ba3d-f4b4-4b25-b7fe-25aa661ed636",
   "metadata": {},
   "outputs": [],
   "source": [
    "df.created_at.min()"
   ]
  },
  {
   "cell_type": "code",
   "execution_count": null,
   "id": "27f43cb0-8313-4d88-b71f-1a73675e8123",
   "metadata": {},
   "outputs": [],
   "source": [
    "df1 = df[df[\"created_at\"] <= \"2022-02-07 00:00:00\"]\n",
    "df2 = df[(df[\"created_at\"] > \"2022-02-07 00:00:00\") & (df[\"created_at\"] <= \"2022-02-14 00:00:00\")]\n",
    "df3 = df[(df[\"created_at\"] > \"2022-02-14 00:00:00\") & (df[\"created_at\"] <= \"2022-02-21 00:00:00\")]\n",
    "df4 = df[(df[\"created_at\"] > \"2022-02-21 00:00:00\") & (df[\"created_at\"] <= \"2022-02-28 00:00:00\")]\n",
    "df5 = df[(df[\"created_at\"] > \"2022-02-28 00:00:00\") & (df[\"created_at\"] <= \"2022-03-07 00:00:00\")]\n",
    "df6 = df[(df[\"created_at\"] > \"2022-03-07 00:00:00\") & (df[\"created_at\"] <= \"2022-03-14 00:00:00\")]\n",
    "df7 = df[(df[\"created_at\"] > \"2022-03-14 00:00:00\") & (df[\"created_at\"] <= \"2022-03-21 00:00:00\")]\n",
    "df8 = df[(df[\"created_at\"] > \"2022-03-21 00:00:00\") & (df[\"created_at\"] <= \"2022-03-28 00:00:00\")]\n",
    "df9 = df[(df[\"created_at\"] > \"2022-03-28 00:00:00\")]"
   ]
  },
  {
   "cell_type": "code",
   "execution_count": null,
   "id": "db637bb4-a362-407a-abb6-c1122eac7a47",
   "metadata": {},
   "outputs": [],
   "source": [
    "df1.created_at"
   ]
  },
  {
   "cell_type": "code",
   "execution_count": null,
   "id": "5222d2c0-113c-4d34-af7e-293069d45af6",
   "metadata": {},
   "outputs": [],
   "source": [
    "frau_liste = [23.5,21.1,22.7,17.3,16.1,16.4,19.2,17.9,14.6]\n",
    "mann_liste = [21.8,22.5,22.1,19.5,21.5,21.3,20.6,18.6,20.1]\n",
    "\n",
    "stats.ttest_rel(frau_liste, mann_liste)\n",
    "# Statisitsch Signifikant: "
   ]
  },
  {
   "cell_type": "code",
   "execution_count": null,
   "id": "37c7064d-2423-430f-bc40-3f83d0b445db",
   "metadata": {},
   "outputs": [],
   "source": [
    "plot_gender_percentage(df9,\"./plots/gender_hof_distribution\")"
   ]
  },
  {
   "cell_type": "markdown",
   "id": "cc750ee5-feca-428a-b6fc-dca97dab5205",
   "metadata": {},
   "source": [
    "## Hate per MP"
   ]
  },
  {
   "cell_type": "code",
   "execution_count": null,
   "id": "d3c02ffb-e176-49ec-bd2a-ac4284d263c5",
   "metadata": {},
   "outputs": [],
   "source": [
    "df.head()"
   ]
  },
  {
   "cell_type": "code",
   "execution_count": null,
   "id": "0e8c141f-43a0-43be-a687-07685cf7d121",
   "metadata": {},
   "outputs": [],
   "source": [
    "wagenknecht = df[df[\"mentioned_list\"] == \"swagenknecht\"]\n",
    "lauterbach = df[df[\"mentioned_list\"] == \"karl_lauterbach\"] # 19.78948\n",
    "dahmen = df[df[\"full_name\"] == \"Dr. Janosch Dahmen\"] #5.37\n",
    "scholz = df[df[\"full_name\"] == \"Olaf Scholz\"] #4.86\n",
    "buschmann = df[df[\"full_name\"] == \"Dr. Marco Buschmann\"] #5.14\n",
    "brandner = df[df[\"full_name\"] == \"Stephan Brandner\"] #1.74\n",
    "\n",
    "print(len(df))\n",
    "print(len(brandner)) #19,78948 "
   ]
  },
  {
   "cell_type": "code",
   "execution_count": null,
   "id": "5673bcf4-1b0f-4e91-b3d8-6b59897ebcb1",
   "metadata": {},
   "outputs": [],
   "source": [
    "percentage = [19.78948, 5.37, 4.86, ]"
   ]
  },
  {
   "cell_type": "code",
   "execution_count": null,
   "id": "a21caca8-69fb-4fad-83d5-762cd5994ab5",
   "metadata": {},
   "outputs": [],
   "source": [
    "new = pd.DataFrame()\n",
    "\n",
    "new[\"name\"] = names\n",
    "new[\"percentage\"] = percentage"
   ]
  },
  {
   "cell_type": "code",
   "execution_count": null,
   "id": "b1acb985-d954-4bef-ab6e-aed38948948f",
   "metadata": {},
   "outputs": [],
   "source": [
    "names = val_counts[:10].index.tolist()\n",
    "names"
   ]
  },
  {
   "cell_type": "code",
   "execution_count": null,
   "id": "253bce15-e985-4bbe-a92f-28c17c8b3b57",
   "metadata": {},
   "outputs": [],
   "source": [
    "hof = df[df[\"Label\"] == \"HOF\"]\n",
    "no = df[df[\"Label\"] == \"NOT\"]"
   ]
  },
  {
   "cell_type": "code",
   "execution_count": null,
   "id": "df3246fd-e579-4e15-b518-6a6a71647cf0",
   "metadata": {},
   "outputs": [],
   "source": [
    "val_counts = pd.DataFrame(df.full_name.value_counts())\n",
    "val_counts[:10]"
   ]
  },
  {
   "cell_type": "code",
   "execution_count": null,
   "id": "893a9492-d702-4eee-8c5d-73a2804d824e",
   "metadata": {},
   "outputs": [],
   "source": [
    "val_counts[\"percentage\"] = val_counts[\"full_name\"] / len(df)\n",
    "val_counts[:10]"
   ]
  },
  {
   "cell_type": "code",
   "execution_count": null,
   "id": "c34d16d7-32b4-4c20-b9be-4ee076758b31",
   "metadata": {},
   "outputs": [],
   "source": [
    "hof_val_counts = pd.DataFrame(hof.full_name.value_counts())\n",
    "hof_val_counts[:10]"
   ]
  },
  {
   "cell_type": "code",
   "execution_count": null,
   "id": "58d2240b-0684-481a-84aa-8c18884466b2",
   "metadata": {},
   "outputs": [],
   "source": [
    "not_val_counts = pd.DataFrame(no.full_name.value_counts())\n",
    "not_val_counts"
   ]
  },
  {
   "cell_type": "code",
   "execution_count": null,
   "id": "cc3250a6-f816-4358-b439-f586a5759ebb",
   "metadata": {},
   "outputs": [],
   "source": [
    "hof_val_counts = hof_val_counts.reset_index()\n",
    "not_val_counts = not_val_counts.reset_index()\n",
    "\n",
    "merge = hof_val_counts.merge(not_val_counts, left_on='index', right_on='index',suffixes=['', '_'])\n",
    "merge = merge.rename(columns = {\"full_name\": \"hof_mentions\", \"full_name_\": \"not_mentions\"})\n",
    "#merge.drop([\"level_0\", \"level_0_\"], axis=1)\n",
    "merge"
   ]
  },
  {
   "cell_type": "code",
   "execution_count": null,
   "id": "be5126bb-2bcb-4ca1-9395-871f3fc7c5c5",
   "metadata": {},
   "outputs": [],
   "source": [
    "merge.set_index('index', inplace=True)\n",
    "merge"
   ]
  },
  {
   "cell_type": "code",
   "execution_count": null,
   "id": "3eeff458-3187-45cc-9ab0-25e0dc9a79ee",
   "metadata": {},
   "outputs": [],
   "source": [
    "merges = merge[:15]\n",
    "\n",
    "font_color = '#525252'\n",
    "hfont = {'fontname':'Calibri'}\n",
    "facecolor = '#eaeaf2'\n",
    "color_red = '#fd625e'\n",
    "color_blue = '#01b8aa'\n",
    "index = merges.index\n",
    "column0 = merges['hof_mentions']\n",
    "column1 = merges['not_mentions']\n",
    "title0 = 'HOF Mentions'\n",
    "title1 = 'NOT Mentions'\n",
    "\n",
    "fig, axes = plt.subplots(figsize=(10,5), facecolor=facecolor, ncols=2, sharey=True)\n",
    "fig.tight_layout()\n",
    "\n",
    "axes[0].barh(index, column0, align='center', color=color_red, zorder=10)\n",
    "axes[0].set_title(title0, fontsize=18, pad=15, color=color_red, **hfont)\n",
    "axes[1].barh(index, column1, align='center', color=color_blue, zorder=10)\n",
    "axes[1].set_title(title1, fontsize=18, pad=15, color=color_blue, **hfont)\n",
    "\n",
    "# If you have positive numbers and want to invert the x-axis of the left plot\n",
    "axes[0].invert_xaxis() \n",
    "\n",
    "# To show data from highest to lowest\n",
    "plt.gca().invert_yaxis()\n",
    "\n",
    "axes[0].set(yticks=merges.index, yticklabels=merges.index)\n",
    "axes[0].yaxis.tick_left()\n",
    "axes[0].tick_params(axis='y', colors='black') # tick color\n",
    "\n",
    "axes[0].set_xticks([30000,60000,90000,120000,150000])\n",
    "axes[1].set_xticks([100000,200000,300000,400000])\n",
    "\n",
    "axes[0].set_xticklabels([\"30k\", \"60k\", \"90k\", \"120k\", \"150k\"])\n",
    "axes[1].set_xticklabels([\"100k\", \"200k\", \"300k\", \"400k\"])\n",
    "\n",
    "for label in (axes[0].get_xticklabels() + axes[0].get_yticklabels()):\n",
    "    label.set(fontsize=13, color=font_color, **hfont)\n",
    "for label in (axes[1].get_xticklabels() + axes[1].get_yticklabels()):\n",
    "    label.set(fontsize=13, color=font_color, **hfont)\n",
    "\n",
    "plt.subplots_adjust(wspace=0, top=0.85, bottom=0.1, left=0.18, right=0.95)\n",
    "\n",
    "filename = 'hof_not_on_mps_bidirectional'\n",
    "plt.savefig(filename+'.png', facecolor=facecolor)"
   ]
  },
  {
   "cell_type": "code",
   "execution_count": null,
   "id": "b274eb4c-9a59-4248-82f8-bae95b06bc53",
   "metadata": {},
   "outputs": [],
   "source": [
    "von_afd = hof[hof[\"party\"] == \" AfD\"]\n",
    "von_spd = hof[hof[\"party\"] == \" SPD\"]\n",
    "von_csu = hof[hof[\"party\"] == \" CDU/CSU\"]\n",
    "von_linke = hof[hof[\"party\"] == \" Die Linke\"]\n",
    "von_grüne = hof[hof[\"party\"] == \" Bündnis 90/Die Grünen\"]\n",
    "von_fdp = hof[hof[\"party\"] == \" FDP\"]\n",
    "von_afd.mentioned_party.value_counts()"
   ]
  },
  {
   "cell_type": "code",
   "execution_count": null,
   "id": "075af51c-50c5-4937-a2da-d561b1d0a855",
   "metadata": {},
   "outputs": [],
   "source": []
  },
  {
   "cell_type": "code",
   "execution_count": null,
   "id": "8493d37c-35e2-4d5a-abe9-65c23b304fc1",
   "metadata": {},
   "outputs": [],
   "source": [
    "# import libraries\n",
    "import pandas as pd\n",
    "import matplotlib.pyplot as plt\n",
    "import numpy as np\n",
    "%matplotlib inline\n",
    "\n",
    "# set font\n",
    "plt.rcParams['font.family'] = 'sans-serif'\n",
    "plt.rcParams['font.sans-serif'] = 'Helvetica'\n",
    "\n",
    "# set the style of the axes and the text color\n",
    "plt.rcParams['axes.edgecolor']='#333F4B'\n",
    "plt.rcParams['axes.linewidth']=0.8\n",
    "plt.rcParams['xtick.color']='#333F4B'\n",
    "plt.rcParams['ytick.color']='#333F4B'\n",
    "plt.rcParams['text.color']='#333F4B'\n",
    "\n",
    "val_counts = val_counts[:10]\n",
    "# we first need a numeric placeholder for the y axis\n",
    "my_range=list(range(1,len(val_counts.index)+1))\n",
    "\n",
    "fig, ax = plt.subplots(figsize=(5,3.5))\n",
    "\n",
    "# create for each expense type an horizontal line that starts at x = 0 with the length \n",
    "# represented by the specific expense percentage value.\n",
    "plt.hlines(y=my_range, xmin=0, xmax=val_counts['percentage'], color='#007ACC', alpha=0.2, linewidth=5)\n",
    "\n",
    "# create for each expense type a dot at the level of the expense percentage value\n",
    "plt.plot(val_counts['percentage'], my_range, \"o\", markersize=5, color='#007ACC', alpha=0.6)\n",
    "\n",
    "# set labels\n",
    "ax.set_xlabel('Mention Count in %', fontsize=15, fontweight='black', color = '#333F4B')\n",
    "ax.set_ylabel('')\n",
    "\n",
    "# set axis\n",
    "ax.tick_params(axis='both', which='major', labelsize=12)\n",
    "plt.yticks(my_range, val_counts.index)\n",
    "\n",
    "# add an horizonal label for the y axis \n",
    "fig.text(-0.23, 0.96, 'Mentioned in a Tweet', fontsize=15, fontweight='black', color = '#333F4B')\n",
    "\n",
    "# change the style of the axis spines\n",
    "ax.spines['top'].set_visible(False)\n",
    "ax.spines['right'].set_visible(False)\n",
    "\n",
    "ax.spines['left'].set_bounds((1, len(my_range)))\n",
    "#ax.set_xlim(0,25)\n",
    "\n",
    "ax.spines['left'].set_position(('outward', 8))\n",
    "ax.spines['bottom'].set_position(('outward', 5))\n",
    "\n",
    "plt.savefig('plots/mentioned_in_a_tweet.png', dpi=300, bbox_inches='tight')"
   ]
  },
  {
   "cell_type": "code",
   "execution_count": null,
   "id": "579ada91-1c30-4b2d-bd8a-42fb23838c59",
   "metadata": {},
   "outputs": [],
   "source": [
    "# set font\n",
    "plt.rcParams['font.family'] = 'sans-serif'\n",
    "plt.rcParams['font.sans-serif'] = 'Helvetica'\n",
    "\n",
    "# set the style of the axes and the text color\n",
    "plt.rcParams['axes.edgecolor']='#333F4B'\n",
    "plt.rcParams['axes.linewidth']=0.8\n",
    "plt.rcParams['xtick.color']='#333F4B'\n",
    "plt.rcParams['ytick.color']='#333F4B'\n",
    "plt.rcParams['text.color']='#333F4B'\n",
    "\n",
    "hof_val_counts = not_val_counts[:10]\n",
    "# we first need a numeric placeholder for the y axis\n",
    "my_range=list(range(1,len(hof_val_counts.index)+1))\n",
    "\n",
    "fig, ax = plt.subplots(figsize=(5,3.5))\n",
    "\n",
    "# create for each expense type an horizontal line that starts at x = 0 with the length \n",
    "# represented by the specific expense percentage value.\n",
    "plt.hlines(y=my_range, xmin=0, xmax=hof_val_counts['full_name'], color='#007ACC', alpha=0.2, linewidth=5)\n",
    "\n",
    "# create for each expense type a dot at the level of the expense percentage value\n",
    "plt.plot(hof_val_counts['full_name'], my_range, \"o\", markersize=5, color='#007ACC', alpha=0.6)\n",
    "\n",
    "# set labels\n",
    "ax.set_xlabel('Mention Count', fontsize=15, fontweight='black', color = '#333F4B')\n",
    "ax.set_ylabel('')\n",
    "\n",
    "# set axis\n",
    "ax.tick_params(axis='both', which='major', labelsize=12)\n",
    "plt.yticks(my_range, hof_val_counts.index)\n",
    "\n",
    "# add an horizonal label for the y axis \n",
    "fig.text(-0.23, 0.96, 'Mentioned in a NOT Tweet', fontsize=15, fontweight='black', color = '#333F4B')\n",
    "\n",
    "# change the style of the axis spines\n",
    "ax.spines['top'].set_visible(False)\n",
    "ax.spines['right'].set_visible(False)\n",
    "\n",
    "ax.spines['left'].set_bounds((1, len(my_range)))\n",
    "#ax.set_xlim(0,25)\n",
    "\n",
    "ax.spines['left'].set_position(('outward', 8))\n",
    "ax.spines['bottom'].set_position(('outward', 5))\n",
    "\n",
    "plt.savefig('plots/not_on_mps.png', dpi=300, bbox_inches='tight')"
   ]
  }
 ],
 "metadata": {
  "kernelspec": {
   "display_name": "Python 3 (ipykernel)",
   "language": "python",
   "name": "python3"
  },
  "language_info": {
   "codemirror_mode": {
    "name": "ipython",
    "version": 3
   },
   "file_extension": ".py",
   "mimetype": "text/x-python",
   "name": "python",
   "nbconvert_exporter": "python",
   "pygments_lexer": "ipython3",
   "version": "3.9.13"
  }
 },
 "nbformat": 4,
 "nbformat_minor": 5
}
