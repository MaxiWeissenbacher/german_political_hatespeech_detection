{
 "cells": [
  {
   "cell_type": "code",
   "execution_count": 1,
   "id": "f9997bc8-619c-4163-99d7-f307a34292fb",
   "metadata": {},
   "outputs": [],
   "source": [
    "%%capture\n",
    "!pip install plotly\n",
    "!pip install nltk\n",
    "!pip install wordcloud"
   ]
  },
  {
   "cell_type": "code",
   "execution_count": 2,
   "id": "a6cebe7d",
   "metadata": {},
   "outputs": [
    {
     "data": {
      "text/html": [
       "        <script type=\"text/javascript\">\n",
       "        window.PlotlyConfig = {MathJaxConfig: 'local'};\n",
       "        if (window.MathJax && window.MathJax.Hub && window.MathJax.Hub.Config) {window.MathJax.Hub.Config({SVG: {font: \"STIX-Web\"}});}\n",
       "        if (typeof require !== 'undefined') {\n",
       "        require.undef(\"plotly\");\n",
       "        requirejs.config({\n",
       "            paths: {\n",
       "                'plotly': ['https://cdn.plot.ly/plotly-2.18.2.min']\n",
       "            }\n",
       "        });\n",
       "        require(['plotly'], function(Plotly) {\n",
       "            window._Plotly = Plotly;\n",
       "        });\n",
       "        }\n",
       "        </script>\n",
       "        "
      ]
     },
     "metadata": {},
     "output_type": "display_data"
    }
   ],
   "source": [
    "import pandas as pd\n",
    "import numpy as np\n",
    "import matplotlib.pyplot as plt\n",
    "\n",
    "import seaborn as sns\n",
    "color = sns.color_palette()\n",
    "import plotly.offline as py\n",
    "py.init_notebook_mode(connected=True)\n",
    "import plotly.graph_objs as go\n",
    "import plotly.tools as tls\n",
    "import plotly.express as px\n",
    "import re\n",
    "import nltk\n",
    "from nltk.tokenize import word_tokenize\n",
    "from nltk.corpus import stopwords\n",
    "from os import path\n",
    "from PIL import Image\n",
    "from wordcloud import WordCloud, STOPWORDS, ImageColorGenerator"
   ]
  },
  {
   "cell_type": "markdown",
   "id": "ed4e02e5-d56d-4e80-bb22-193c26cf5663",
   "metadata": {},
   "source": [
    "# Visualisierungen\n",
    "- Mean Sentiment over time per party                ✅\n",
    "- HOF per MP                                        ✅\n",
    "-  Männliche vs. weibliche Politiker vergleich      ✅\n",
    "- Minority vergleich (überhaupt möglich?)\n",
    "- Hate unter Politikern\n",
    "- Wordclouds"
   ]
  },
  {
   "cell_type": "markdown",
   "id": "c84aec19-6058-42c9-8d5c-18baddb315ac",
   "metadata": {},
   "source": [
    "# Data Analysis"
   ]
  },
  {
   "cell_type": "markdown",
   "id": "6bb72552-5e4f-4bcb-8bb4-baa4fdb6891b",
   "metadata": {},
   "source": [
    "## Plot Gender"
   ]
  },
  {
   "cell_type": "code",
   "execution_count": 28,
   "id": "a94f585e-6e61-4429-affb-cfb71ec89504",
   "metadata": {},
   "outputs": [
    {
     "name": "stderr",
     "output_type": "stream",
     "text": [
      "/tmp/ipykernel_631/3689035596.py:1: DtypeWarning:\n",
      "\n",
      "Columns (4) have mixed types. Specify dtype option on import or set low_memory=False.\n",
      "\n"
     ]
    },
    {
     "data": {
      "text/html": [
       "<div>\n",
       "<style scoped>\n",
       "    .dataframe tbody tr th:only-of-type {\n",
       "        vertical-align: middle;\n",
       "    }\n",
       "\n",
       "    .dataframe tbody tr th {\n",
       "        vertical-align: top;\n",
       "    }\n",
       "\n",
       "    .dataframe thead th {\n",
       "        text-align: right;\n",
       "    }\n",
       "</style>\n",
       "<table border=\"1\" class=\"dataframe\">\n",
       "  <thead>\n",
       "    <tr style=\"text-align: right;\">\n",
       "      <th></th>\n",
       "      <th>Unnamed: 0.2</th>\n",
       "      <th>author_id</th>\n",
       "      <th>username</th>\n",
       "      <th>author_followers</th>\n",
       "      <th>author_tweets</th>\n",
       "      <th>author_description</th>\n",
       "      <th>author_location</th>\n",
       "      <th>text</th>\n",
       "      <th>created_at</th>\n",
       "      <th>quote_count</th>\n",
       "      <th>...</th>\n",
       "      <th>mentioned</th>\n",
       "      <th>Unnamed: 0.1</th>\n",
       "      <th>Unnamed: 0</th>\n",
       "      <th>full_name</th>\n",
       "      <th>party</th>\n",
       "      <th>twitter</th>\n",
       "      <th>username_</th>\n",
       "      <th>user</th>\n",
       "      <th>Geschlecht</th>\n",
       "      <th>Gewählt in Vorperiode</th>\n",
       "    </tr>\n",
       "  </thead>\n",
       "  <tbody>\n",
       "    <tr>\n",
       "      <th>0</th>\n",
       "      <td>0</td>\n",
       "      <td>7.133614e+17</td>\n",
       "      <td>stbrandner</td>\n",
       "      <td>38579.0</td>\n",
       "      <td>31499</td>\n",
       "      <td>Industriekaufmann, Rechtsanwalt, MdB🇩🇪 - direk...</td>\n",
       "      <td>Mal hier, mal da...</td>\n",
       "      <td>@Karl_Lauterbach Wer jemanden anzeigt...😉\\nhtt...</td>\n",
       "      <td>2022-12-04 18:54:10+00:00</td>\n",
       "      <td>1.0</td>\n",
       "      <td>...</td>\n",
       "      <td>karl_lauterbach</td>\n",
       "      <td>361</td>\n",
       "      <td>361</td>\n",
       "      <td>Prof. Dr. Karl Lauterbach</td>\n",
       "      <td>SPD</td>\n",
       "      <td>['https://www.twitter.com/karl_lauterbach']</td>\n",
       "      <td>karl_lauterbach</td>\n",
       "      <td>karl_lauterbach</td>\n",
       "      <td>Herrn</td>\n",
       "      <td>ja</td>\n",
       "    </tr>\n",
       "    <tr>\n",
       "      <th>1</th>\n",
       "      <td>1</td>\n",
       "      <td>8.109576e+17</td>\n",
       "      <td>petrbystronafd</td>\n",
       "      <td>21643.0</td>\n",
       "      <td>10673</td>\n",
       "      <td>🇩🇪 Aussenpolitischer Sprecher der @AfDimBundes...</td>\n",
       "      <td>München, Bayern</td>\n",
       "      <td>@Karl_Lauterbach Tweet aus einem Parallelunive...</td>\n",
       "      <td>2022-11-26 22:41:30+00:00</td>\n",
       "      <td>0.0</td>\n",
       "      <td>...</td>\n",
       "      <td>karl_lauterbach</td>\n",
       "      <td>361</td>\n",
       "      <td>361</td>\n",
       "      <td>Prof. Dr. Karl Lauterbach</td>\n",
       "      <td>SPD</td>\n",
       "      <td>['https://www.twitter.com/karl_lauterbach']</td>\n",
       "      <td>karl_lauterbach</td>\n",
       "      <td>karl_lauterbach</td>\n",
       "      <td>Herrn</td>\n",
       "      <td>ja</td>\n",
       "    </tr>\n",
       "  </tbody>\n",
       "</table>\n",
       "<p>2 rows × 24 columns</p>\n",
       "</div>"
      ],
      "text/plain": [
       "   Unnamed: 0.2     author_id        username  author_followers author_tweets  \\\n",
       "0             0  7.133614e+17      stbrandner           38579.0         31499   \n",
       "1             1  8.109576e+17  petrbystronafd           21643.0         10673   \n",
       "\n",
       "                                  author_description      author_location  \\\n",
       "0  Industriekaufmann, Rechtsanwalt, MdB🇩🇪 - direk...  Mal hier, mal da...   \n",
       "1  🇩🇪 Aussenpolitischer Sprecher der @AfDimBundes...      München, Bayern   \n",
       "\n",
       "                                                text  \\\n",
       "0  @Karl_Lauterbach Wer jemanden anzeigt...😉\\nhtt...   \n",
       "1  @Karl_Lauterbach Tweet aus einem Parallelunive...   \n",
       "\n",
       "                  created_at  quote_count  ...        mentioned  Unnamed: 0.1  \\\n",
       "0  2022-12-04 18:54:10+00:00          1.0  ...  karl_lauterbach           361   \n",
       "1  2022-11-26 22:41:30+00:00          0.0  ...  karl_lauterbach           361   \n",
       "\n",
       "   Unnamed: 0                  full_name party  \\\n",
       "0         361  Prof. Dr. Karl Lauterbach   SPD   \n",
       "1         361  Prof. Dr. Karl Lauterbach   SPD   \n",
       "\n",
       "                                       twitter        username_  \\\n",
       "0  ['https://www.twitter.com/karl_lauterbach']  karl_lauterbach   \n",
       "1  ['https://www.twitter.com/karl_lauterbach']  karl_lauterbach   \n",
       "\n",
       "              user Geschlecht Gewählt in Vorperiode  \n",
       "0  karl_lauterbach      Herrn                    ja  \n",
       "1  karl_lauterbach      Herrn                    ja  \n",
       "\n",
       "[2 rows x 24 columns]"
      ]
     },
     "execution_count": 28,
     "metadata": {},
     "output_type": "execute_result"
    }
   ],
   "source": [
    "df = pd.read_csv(\"politician_mentions_predicted_exploded.csv\")\n",
    "df.head(2)"
   ]
  },
  {
   "cell_type": "code",
   "execution_count": 29,
   "id": "580d6601-da64-4f1b-bf63-6ebe41344519",
   "metadata": {},
   "outputs": [
    {
     "name": "stdout",
     "output_type": "stream",
     "text": [
      "21281\n",
      "48613\n",
      "Herrn    48613\n",
      "Frau     21281\n",
      "Name: Geschlecht, dtype: int64\n"
     ]
    }
   ],
   "source": [
    "frau = df[df.Geschlecht == \"Frau\"]\n",
    "print(len(frau))\n",
    "mann = df[df.Geschlecht == \"Herrn\"]\n",
    "print(len(mann))\n",
    "print(df.Geschlecht.value_counts())"
   ]
  },
  {
   "cell_type": "code",
   "execution_count": 30,
   "id": "fdfd8c91-e64f-4aaa-a2fc-ce7236e26b82",
   "metadata": {},
   "outputs": [
    {
     "name": "stdout",
     "output_type": "stream",
     "text": [
      "461\n",
      "1331\n"
     ]
    }
   ],
   "source": [
    "frau_hof = frau[frau[\"model_predictions\"] == 1]\n",
    "mann_hof = mann[mann[\"model_predictions\"] == 1]\n",
    "print(len(frau_hof))\n",
    "print(len(mann_hof))\n",
    "# 19.6% HOF bei Frauen\n",
    "# 20.8% HOF bei Männern -> hauptsächlich wegen Karl Lauterbach\n",
    "\n",
    "# 5 höchsten Ämter:\n",
    "# 1. Bundespräsident: Steinmeier\n",
    "# 2. Präsident des Bundestags: Bärbel Bas\n",
    "# 3. Bundeskanzler: Olaf Scholz\n",
    "# 4. Bundesratspräsident: Peter Tschentscher\n",
    "# 5. Präsident des Bundesverfassungsgericht: Stephan Harbarth"
   ]
  },
  {
   "cell_type": "code",
   "execution_count": 6,
   "id": "401cc593-6b26-4deb-8168-65f8e724b66e",
   "metadata": {},
   "outputs": [
    {
     "name": "stdout",
     "output_type": "stream",
     "text": [
      "246\n"
     ]
    }
   ],
   "source": [
    "print(len(frau.full_name.unique()))"
   ]
  },
  {
   "cell_type": "code",
   "execution_count": 7,
   "id": "c5d70c4f-4093-4a5a-8a68-a1ac963563c6",
   "metadata": {},
   "outputs": [
    {
     "name": "stdout",
     "output_type": "stream",
     "text": [
      "469\n"
     ]
    }
   ],
   "source": [
    "print(len(mann.full_name.unique()))"
   ]
  },
  {
   "cell_type": "code",
   "execution_count": 8,
   "id": "9f8c9d65-c1dc-4f69-85f4-fe03e4ef4111",
   "metadata": {},
   "outputs": [
    {
     "data": {
      "text/plain": [
       "69894"
      ]
     },
     "execution_count": 8,
     "metadata": {},
     "output_type": "execute_result"
    }
   ],
   "source": [
    "len(df)"
   ]
  },
  {
   "cell_type": "code",
   "execution_count": 31,
   "id": "90700536-4a35-40ee-91ab-141a228df7c8",
   "metadata": {},
   "outputs": [],
   "source": [
    "df[\"HOF\"] = df[\"model_predictions\"]\n",
    "df.loc[(df.model_predictions == 1),'Label']='HOF'\n",
    "df.loc[(df.model_predictions == 0),'Label']='NOT'"
   ]
  },
  {
   "cell_type": "code",
   "execution_count": 10,
   "id": "488271d6-a892-4555-b484-1472ac5e0140",
   "metadata": {},
   "outputs": [
    {
     "data": {
      "text/plain": [
       "Herrn    48613\n",
       "Frau     21281\n",
       "Name: Geschlecht, dtype: int64"
      ]
     },
     "execution_count": 10,
     "metadata": {},
     "output_type": "execute_result"
    }
   ],
   "source": [
    "df.Geschlecht.value_counts()"
   ]
  },
  {
   "cell_type": "code",
   "execution_count": 12,
   "id": "9f1debd9-baaa-4152-99bc-eb4122574808",
   "metadata": {},
   "outputs": [
    {
     "name": "stderr",
     "output_type": "stream",
     "text": [
      "/opt/conda/lib/python3.9/site-packages/seaborn/_decorators.py:36: FutureWarning:\n",
      "\n",
      "Pass the following variable as a keyword arg: x. From version 0.12, the only valid positional argument will be `data`, and passing other arguments without an explicit keyword will result in an error or misinterpretation.\n",
      "\n"
     ]
    },
    {
     "data": {
      "image/png": "[encoded data removed]",
      "text/plain": [
       "<Figure size 840x350 with 2 Axes>"
      ]
     },
     "metadata": {},
     "output_type": "display_data"
    }
   ],
   "source": [
    "# Plot\n",
    "g = sns.catplot(\"Label\", col=\"Geschlecht\", col_wrap=3,\n",
    "                data=df,\n",
    "                kind=\"count\", height=3.5, aspect=.8, \n",
    "                palette='tab10')\n",
    "\n",
    "#fig.suptitle('sf')\n",
    "plt.show()\n",
    "g.savefig('./plots/politician_gender_hof_distribution.png')"
   ]
  },
  {
   "cell_type": "code",
   "execution_count": 13,
   "id": "27b4e4cc-deeb-4a14-9e77-48cff2b5c91a",
   "metadata": {},
   "outputs": [],
   "source": [
    "from time_plots import plot_gender_percentage"
   ]
  },
  {
   "cell_type": "code",
   "execution_count": 14,
   "id": "c4de482e-f85a-408c-b066-6e3d4db06d3f",
   "metadata": {},
   "outputs": [
    {
     "name": "stdout",
     "output_type": "stream",
     "text": [
      "                    0.0  1.0\n",
      "model_predictions  97.3  2.7\n",
      "Frau               97.7  2.3\n",
      "Herrn              97.1  2.9\n"
     ]
    },
    {
     "data": {
      "image/png": "[encoded data removed]",
      "text/plain": [
       "<Figure size 1800x900 with 1 Axes>"
      ]
     },
     "metadata": {},
     "output_type": "display_data"
    }
   ],
   "source": [
    "plot_gender_percentage(df,\"./plots/politician_gender_hof_distribution\")"
   ]
  },
  {
   "cell_type": "markdown",
   "id": "cc750ee5-feca-428a-b6fc-dca97dab5205",
   "metadata": {},
   "source": [
    "## Hate per MP"
   ]
  },
  {
   "cell_type": "code",
   "execution_count": 15,
   "id": "253bce15-e985-4bbe-a92f-28c17c8b3b57",
   "metadata": {},
   "outputs": [],
   "source": [
    "hof = df[df[\"Label\"] == \"HOF\"]\n",
    "no = df[df[\"Label\"] == \"NOT\"]"
   ]
  },
  {
   "cell_type": "code",
   "execution_count": 17,
   "id": "c34d16d7-32b4-4c20-b9be-4ee076758b31",
   "metadata": {},
   "outputs": [
    {
     "data": {
      "text/html": [
       "<div>\n",
       "<style scoped>\n",
       "    .dataframe tbody tr th:only-of-type {\n",
       "        vertical-align: middle;\n",
       "    }\n",
       "\n",
       "    .dataframe tbody tr th {\n",
       "        vertical-align: top;\n",
       "    }\n",
       "\n",
       "    .dataframe thead th {\n",
       "        text-align: right;\n",
       "    }\n",
       "</style>\n",
       "<table border=\"1\" class=\"dataframe\">\n",
       "  <thead>\n",
       "    <tr style=\"text-align: right;\">\n",
       "      <th></th>\n",
       "      <th>full_name</th>\n",
       "    </tr>\n",
       "  </thead>\n",
       "  <tbody>\n",
       "    <tr>\n",
       "      <th>Olaf Scholz</th>\n",
       "      <td>187</td>\n",
       "    </tr>\n",
       "    <tr>\n",
       "      <th>Prof. Dr. Karl Lauterbach</th>\n",
       "      <td>117</td>\n",
       "    </tr>\n",
       "    <tr>\n",
       "      <th>Christian Lindner</th>\n",
       "      <td>87</td>\n",
       "    </tr>\n",
       "    <tr>\n",
       "      <th>Dr. Ralf Stegner</th>\n",
       "      <td>73</td>\n",
       "    </tr>\n",
       "    <tr>\n",
       "      <th>Friedrich Merz</th>\n",
       "      <td>57</td>\n",
       "    </tr>\n",
       "    <tr>\n",
       "      <th>Saskia Esken</th>\n",
       "      <td>56</td>\n",
       "    </tr>\n",
       "    <tr>\n",
       "      <th>Dr. Marie-Agnes Strack-Zimmermann</th>\n",
       "      <td>35</td>\n",
       "    </tr>\n",
       "    <tr>\n",
       "      <th>Lars Klingbeil</th>\n",
       "      <td>34</td>\n",
       "    </tr>\n",
       "    <tr>\n",
       "      <th>Dr. Marco Buschmann</th>\n",
       "      <td>33</td>\n",
       "    </tr>\n",
       "    <tr>\n",
       "      <th>Stephan Brandner</th>\n",
       "      <td>33</td>\n",
       "    </tr>\n",
       "    <tr>\n",
       "      <th>Ricarda Lang</th>\n",
       "      <td>29</td>\n",
       "    </tr>\n",
       "    <tr>\n",
       "      <th>Konstantin Kuhle</th>\n",
       "      <td>26</td>\n",
       "    </tr>\n",
       "    <tr>\n",
       "      <th>Paul Ziemiak</th>\n",
       "      <td>24</td>\n",
       "    </tr>\n",
       "    <tr>\n",
       "      <th>Jens Spahn</th>\n",
       "      <td>24</td>\n",
       "    </tr>\n",
       "    <tr>\n",
       "      <th>Kevin Kühnert</th>\n",
       "      <td>23</td>\n",
       "    </tr>\n",
       "    <tr>\n",
       "      <th>Cem Özdemir</th>\n",
       "      <td>23</td>\n",
       "    </tr>\n",
       "    <tr>\n",
       "      <th>Britta Haßelmann</th>\n",
       "      <td>21</td>\n",
       "    </tr>\n",
       "    <tr>\n",
       "      <th>Dr. Sahra Wagenknecht</th>\n",
       "      <td>20</td>\n",
       "    </tr>\n",
       "    <tr>\n",
       "      <th>Hubertus Heil (Peine)</th>\n",
       "      <td>20</td>\n",
       "    </tr>\n",
       "    <tr>\n",
       "      <th>Sven-Christian Kindler</th>\n",
       "      <td>18</td>\n",
       "    </tr>\n",
       "  </tbody>\n",
       "</table>\n",
       "</div>"
      ],
      "text/plain": [
       "                                   full_name\n",
       "Olaf Scholz                              187\n",
       "Prof. Dr. Karl Lauterbach                117\n",
       "Christian Lindner                         87\n",
       "Dr. Ralf Stegner                          73\n",
       "Friedrich Merz                            57\n",
       "Saskia Esken                              56\n",
       "Dr. Marie-Agnes Strack-Zimmermann         35\n",
       "Lars Klingbeil                            34\n",
       "Dr. Marco Buschmann                       33\n",
       "Stephan Brandner                          33\n",
       "Ricarda Lang                              29\n",
       "Konstantin Kuhle                          26\n",
       "Paul Ziemiak                              24\n",
       "Jens Spahn                                24\n",
       "Kevin Kühnert                             23\n",
       "Cem Özdemir                               23\n",
       "Britta Haßelmann                          21\n",
       "Dr. Sahra Wagenknecht                     20\n",
       "Hubertus Heil (Peine)                     20\n",
       "Sven-Christian Kindler                    18"
      ]
     },
     "execution_count": 17,
     "metadata": {},
     "output_type": "execute_result"
    }
   ],
   "source": [
    "hof_val_counts = pd.DataFrame(hof.full_name.value_counts())\n",
    "hof_val_counts[:20]"
   ]
  },
  {
   "cell_type": "code",
   "execution_count": 18,
   "id": "58d2240b-0684-481a-84aa-8c18884466b2",
   "metadata": {},
   "outputs": [
    {
     "data": {
      "text/html": [
       "<div>\n",
       "<style scoped>\n",
       "    .dataframe tbody tr th:only-of-type {\n",
       "        vertical-align: middle;\n",
       "    }\n",
       "\n",
       "    .dataframe tbody tr th {\n",
       "        vertical-align: top;\n",
       "    }\n",
       "\n",
       "    .dataframe thead th {\n",
       "        text-align: right;\n",
       "    }\n",
       "</style>\n",
       "<table border=\"1\" class=\"dataframe\">\n",
       "  <thead>\n",
       "    <tr style=\"text-align: right;\">\n",
       "      <th></th>\n",
       "      <th>full_name</th>\n",
       "    </tr>\n",
       "  </thead>\n",
       "  <tbody>\n",
       "    <tr>\n",
       "      <th>Olaf Scholz</th>\n",
       "      <td>4551</td>\n",
       "    </tr>\n",
       "    <tr>\n",
       "      <th>Christian Lindner</th>\n",
       "      <td>4289</td>\n",
       "    </tr>\n",
       "    <tr>\n",
       "      <th>Friedrich Merz</th>\n",
       "      <td>1584</td>\n",
       "    </tr>\n",
       "    <tr>\n",
       "      <th>Jens Spahn</th>\n",
       "      <td>1506</td>\n",
       "    </tr>\n",
       "    <tr>\n",
       "      <th>Prof. Dr. Karl Lauterbach</th>\n",
       "      <td>1460</td>\n",
       "    </tr>\n",
       "    <tr>\n",
       "      <th>Saskia Esken</th>\n",
       "      <td>1458</td>\n",
       "    </tr>\n",
       "    <tr>\n",
       "      <th>Konstantin Kuhle</th>\n",
       "      <td>1103</td>\n",
       "    </tr>\n",
       "    <tr>\n",
       "      <th>Kevin Kühnert</th>\n",
       "      <td>954</td>\n",
       "    </tr>\n",
       "    <tr>\n",
       "      <th>Dr. Marco Buschmann</th>\n",
       "      <td>948</td>\n",
       "    </tr>\n",
       "    <tr>\n",
       "      <th>Lars Klingbeil</th>\n",
       "      <td>942</td>\n",
       "    </tr>\n",
       "    <tr>\n",
       "      <th>Dr. Marie-Agnes Strack-Zimmermann</th>\n",
       "      <td>870</td>\n",
       "    </tr>\n",
       "    <tr>\n",
       "      <th>Johannes Vogel</th>\n",
       "      <td>848</td>\n",
       "    </tr>\n",
       "    <tr>\n",
       "      <th>Dr. Volker Wissing</th>\n",
       "      <td>838</td>\n",
       "    </tr>\n",
       "    <tr>\n",
       "      <th>Cem Özdemir</th>\n",
       "      <td>823</td>\n",
       "    </tr>\n",
       "    <tr>\n",
       "      <th>Hubertus Heil (Peine)</th>\n",
       "      <td>807</td>\n",
       "    </tr>\n",
       "    <tr>\n",
       "      <th>Britta Haßelmann</th>\n",
       "      <td>785</td>\n",
       "    </tr>\n",
       "    <tr>\n",
       "      <th>Heiko Maas</th>\n",
       "      <td>769</td>\n",
       "    </tr>\n",
       "    <tr>\n",
       "      <th>Ricarda Lang</th>\n",
       "      <td>768</td>\n",
       "    </tr>\n",
       "    <tr>\n",
       "      <th>Paul Ziemiak</th>\n",
       "      <td>680</td>\n",
       "    </tr>\n",
       "    <tr>\n",
       "      <th>Dr. Konstantin von Notz</th>\n",
       "      <td>600</td>\n",
       "    </tr>\n",
       "  </tbody>\n",
       "</table>\n",
       "</div>"
      ],
      "text/plain": [
       "                                   full_name\n",
       "Olaf Scholz                             4551\n",
       "Christian Lindner                       4289\n",
       "Friedrich Merz                          1584\n",
       "Jens Spahn                              1506\n",
       "Prof. Dr. Karl Lauterbach               1460\n",
       "Saskia Esken                            1458\n",
       "Konstantin Kuhle                        1103\n",
       "Kevin Kühnert                            954\n",
       "Dr. Marco Buschmann                      948\n",
       "Lars Klingbeil                           942\n",
       "Dr. Marie-Agnes Strack-Zimmermann        870\n",
       "Johannes Vogel                           848\n",
       "Dr. Volker Wissing                       838\n",
       "Cem Özdemir                              823\n",
       "Hubertus Heil (Peine)                    807\n",
       "Britta Haßelmann                         785\n",
       "Heiko Maas                               769\n",
       "Ricarda Lang                             768\n",
       "Paul Ziemiak                             680\n",
       "Dr. Konstantin von Notz                  600"
      ]
     },
     "execution_count": 18,
     "metadata": {},
     "output_type": "execute_result"
    }
   ],
   "source": [
    "not_val_counts = pd.DataFrame(no.full_name.value_counts())\n",
    "not_val_counts[:20]"
   ]
  },
  {
   "cell_type": "code",
   "execution_count": 19,
   "id": "8493d37c-35e2-4d5a-abe9-65c23b304fc1",
   "metadata": {},
   "outputs": [
    {
     "name": "stderr",
     "output_type": "stream",
     "text": [
      "findfont: Font family ['sans-serif'] not found. Falling back to DejaVu Sans.\n",
      "findfont: Generic family 'sans-serif' not found because none of the following families were found: Helvetica\n",
      "findfont: Font family ['sans-serif'] not found. Falling back to DejaVu Sans.\n",
      "findfont: Generic family 'sans-serif' not found because none of the following families were found: Helvetica\n"
     ]
    },
    {
     "data": {
      "image/png": "[encoded data removed]",
      "text/plain": [
       "<Figure size 360x252 with 1 Axes>"
      ]
     },
     "metadata": {
      "needs_background": "light"
     },
     "output_type": "display_data"
    }
   ],
   "source": [
    "# import libraries\n",
    "import pandas as pd\n",
    "import matplotlib.pyplot as plt\n",
    "import numpy as np\n",
    "%matplotlib inline\n",
    "\n",
    "# set font\n",
    "plt.rcParams['font.family'] = 'sans-serif'\n",
    "plt.rcParams['font.sans-serif'] = 'Helvetica'\n",
    "\n",
    "# set the style of the axes and the text color\n",
    "plt.rcParams['axes.edgecolor']='#333F4B'\n",
    "plt.rcParams['axes.linewidth']=0.8\n",
    "plt.rcParams['xtick.color']='#333F4B'\n",
    "plt.rcParams['ytick.color']='#333F4B'\n",
    "plt.rcParams['text.color']='#333F4B'\n",
    "\n",
    "hof_val_counts = hof_val_counts[:10]\n",
    "# we first need a numeric placeholder for the y axis\n",
    "my_range=list(range(1,len(hof_val_counts.index)+1))\n",
    "\n",
    "fig, ax = plt.subplots(figsize=(5,3.5))\n",
    "\n",
    "# create for each expense type an horizontal line that starts at x = 0 with the length \n",
    "# represented by the specific expense percentage value.\n",
    "plt.hlines(y=my_range, xmin=0, xmax=hof_val_counts['full_name'], color='#007ACC', alpha=0.2, linewidth=5)\n",
    "\n",
    "# create for each expense type a dot at the level of the expense percentage value\n",
    "plt.plot(hof_val_counts['full_name'], my_range, \"o\", markersize=5, color='#007ACC', alpha=0.6)\n",
    "\n",
    "# set labels\n",
    "ax.set_xlabel('Mention Count', fontsize=15, fontweight='black', color = '#333F4B')\n",
    "ax.set_ylabel('')\n",
    "\n",
    "# set axis\n",
    "ax.tick_params(axis='both', which='major', labelsize=12)\n",
    "plt.yticks(my_range, hof_val_counts.index)\n",
    "\n",
    "# add an horizonal label for the y axis \n",
    "fig.text(-0.23, 0.96, 'Mentioned in a HOF Tweet', fontsize=15, fontweight='black', color = '#333F4B')\n",
    "\n",
    "# change the style of the axis spines\n",
    "ax.spines['top'].set_visible(False)\n",
    "ax.spines['right'].set_visible(False)\n",
    "\n",
    "ax.spines['left'].set_bounds((1, len(my_range)))\n",
    "#ax.set_xlim(0,25)\n",
    "\n",
    "ax.spines['left'].set_position(('outward', 8))\n",
    "ax.spines['bottom'].set_position(('outward', 5))\n",
    "\n",
    "plt.savefig('plots/politician_hof_on_mps.png', dpi=300, bbox_inches='tight')"
   ]
  },
  {
   "cell_type": "code",
   "execution_count": 20,
   "id": "579ada91-1c30-4b2d-bd8a-42fb23838c59",
   "metadata": {},
   "outputs": [
    {
     "data": {
      "image/png": "[encoded data removed]",
      "text/plain": [
       "<Figure size 360x252 with 1 Axes>"
      ]
     },
     "metadata": {
      "needs_background": "light"
     },
     "output_type": "display_data"
    }
   ],
   "source": [
    "# set font\n",
    "plt.rcParams['font.family'] = 'sans-serif'\n",
    "plt.rcParams['font.sans-serif'] = 'Helvetica'\n",
    "\n",
    "# set the style of the axes and the text color\n",
    "plt.rcParams['axes.edgecolor']='#333F4B'\n",
    "plt.rcParams['axes.linewidth']=0.8\n",
    "plt.rcParams['xtick.color']='#333F4B'\n",
    "plt.rcParams['ytick.color']='#333F4B'\n",
    "plt.rcParams['text.color']='#333F4B'\n",
    "\n",
    "hof_val_counts = not_val_counts[:10]\n",
    "# we first need a numeric placeholder for the y axis\n",
    "my_range=list(range(1,len(hof_val_counts.index)+1))\n",
    "\n",
    "fig, ax = plt.subplots(figsize=(5,3.5))\n",
    "\n",
    "# create for each expense type an horizontal line that starts at x = 0 with the length \n",
    "# represented by the specific expense percentage value.\n",
    "plt.hlines(y=my_range, xmin=0, xmax=hof_val_counts['full_name'], color='#007ACC', alpha=0.2, linewidth=5)\n",
    "\n",
    "# create for each expense type a dot at the level of the expense percentage value\n",
    "plt.plot(hof_val_counts['full_name'], my_range, \"o\", markersize=5, color='#007ACC', alpha=0.6)\n",
    "\n",
    "# set labels\n",
    "ax.set_xlabel('Mention Count', fontsize=15, fontweight='black', color = '#333F4B')\n",
    "ax.set_ylabel('')\n",
    "\n",
    "# set axis\n",
    "ax.tick_params(axis='both', which='major', labelsize=12)\n",
    "plt.yticks(my_range, hof_val_counts.index)\n",
    "\n",
    "# add an horizonal label for the y axis \n",
    "fig.text(-0.23, 0.96, 'Mentioned in a NOT Tweet', fontsize=15, fontweight='black', color = '#333F4B')\n",
    "\n",
    "# change the style of the axis spines\n",
    "ax.spines['top'].set_visible(False)\n",
    "ax.spines['right'].set_visible(False)\n",
    "\n",
    "ax.spines['left'].set_bounds((1, len(my_range)))\n",
    "#ax.set_xlim(0,25)\n",
    "\n",
    "ax.spines['left'].set_position(('outward', 8))\n",
    "ax.spines['bottom'].set_position(('outward', 5))\n",
    "\n",
    "plt.savefig('plots/politician_not_on_mps.png', dpi=300, bbox_inches='tight')"
   ]
  },
  {
   "cell_type": "markdown",
   "id": "189c6a0c-344e-4fbe-a5f3-15091b64efb6",
   "metadata": {},
   "source": [
    "# Plot Mention-Network"
   ]
  },
  {
   "cell_type": "code",
   "execution_count": 22,
   "id": "8376a004-13c5-49c3-9984-aa360d265941",
   "metadata": {},
   "outputs": [
    {
     "data": {
      "text/html": [
       "<div>\n",
       "<style scoped>\n",
       "    .dataframe tbody tr th:only-of-type {\n",
       "        vertical-align: middle;\n",
       "    }\n",
       "\n",
       "    .dataframe tbody tr th {\n",
       "        vertical-align: top;\n",
       "    }\n",
       "\n",
       "    .dataframe thead th {\n",
       "        text-align: right;\n",
       "    }\n",
       "</style>\n",
       "<table border=\"1\" class=\"dataframe\">\n",
       "  <thead>\n",
       "    <tr style=\"text-align: right;\">\n",
       "      <th></th>\n",
       "      <th>Unnamed: 0.2</th>\n",
       "      <th>author_id</th>\n",
       "      <th>username</th>\n",
       "      <th>author_followers</th>\n",
       "      <th>author_tweets</th>\n",
       "      <th>author_description</th>\n",
       "      <th>author_location</th>\n",
       "      <th>text</th>\n",
       "      <th>created_at</th>\n",
       "      <th>quote_count</th>\n",
       "      <th>...</th>\n",
       "      <th>Unnamed: 0</th>\n",
       "      <th>full_name</th>\n",
       "      <th>party</th>\n",
       "      <th>twitter</th>\n",
       "      <th>username_</th>\n",
       "      <th>user</th>\n",
       "      <th>Geschlecht</th>\n",
       "      <th>Gewählt in Vorperiode</th>\n",
       "      <th>HOF</th>\n",
       "      <th>Label</th>\n",
       "    </tr>\n",
       "  </thead>\n",
       "  <tbody>\n",
       "    <tr>\n",
       "      <th>0</th>\n",
       "      <td>0</td>\n",
       "      <td>7.133614e+17</td>\n",
       "      <td>stbrandner</td>\n",
       "      <td>38579.0</td>\n",
       "      <td>31499</td>\n",
       "      <td>Industriekaufmann, Rechtsanwalt, MdB🇩🇪 - direk...</td>\n",
       "      <td>Mal hier, mal da...</td>\n",
       "      <td>@Karl_Lauterbach Wer jemanden anzeigt...😉\\nhtt...</td>\n",
       "      <td>2022-12-04 18:54:10+00:00</td>\n",
       "      <td>1.0</td>\n",
       "      <td>...</td>\n",
       "      <td>361</td>\n",
       "      <td>Prof. Dr. Karl Lauterbach</td>\n",
       "      <td>SPD</td>\n",
       "      <td>['https://www.twitter.com/karl_lauterbach']</td>\n",
       "      <td>karl_lauterbach</td>\n",
       "      <td>karl_lauterbach</td>\n",
       "      <td>Herrn</td>\n",
       "      <td>ja</td>\n",
       "      <td>0.0</td>\n",
       "      <td>NOT</td>\n",
       "    </tr>\n",
       "    <tr>\n",
       "      <th>1</th>\n",
       "      <td>1</td>\n",
       "      <td>8.109576e+17</td>\n",
       "      <td>petrbystronafd</td>\n",
       "      <td>21643.0</td>\n",
       "      <td>10673</td>\n",
       "      <td>🇩🇪 Aussenpolitischer Sprecher der @AfDimBundes...</td>\n",
       "      <td>München, Bayern</td>\n",
       "      <td>@Karl_Lauterbach Tweet aus einem Parallelunive...</td>\n",
       "      <td>2022-11-26 22:41:30+00:00</td>\n",
       "      <td>0.0</td>\n",
       "      <td>...</td>\n",
       "      <td>361</td>\n",
       "      <td>Prof. Dr. Karl Lauterbach</td>\n",
       "      <td>SPD</td>\n",
       "      <td>['https://www.twitter.com/karl_lauterbach']</td>\n",
       "      <td>karl_lauterbach</td>\n",
       "      <td>karl_lauterbach</td>\n",
       "      <td>Herrn</td>\n",
       "      <td>ja</td>\n",
       "      <td>0.0</td>\n",
       "      <td>NOT</td>\n",
       "    </tr>\n",
       "    <tr>\n",
       "      <th>2</th>\n",
       "      <td>2</td>\n",
       "      <td>8.109576e+17</td>\n",
       "      <td>petrbystronafd</td>\n",
       "      <td>21643.0</td>\n",
       "      <td>10673</td>\n",
       "      <td>🇩🇪 Aussenpolitischer Sprecher der @AfDimBundes...</td>\n",
       "      <td>München, Bayern</td>\n",
       "      <td>Das kommt dabei heraus,  wenn @MarcoBuschmann ...</td>\n",
       "      <td>2022-08-16 15:02:20+00:00</td>\n",
       "      <td>1.0</td>\n",
       "      <td>...</td>\n",
       "      <td>361</td>\n",
       "      <td>Prof. Dr. Karl Lauterbach</td>\n",
       "      <td>SPD</td>\n",
       "      <td>['https://www.twitter.com/karl_lauterbach']</td>\n",
       "      <td>karl_lauterbach</td>\n",
       "      <td>karl_lauterbach</td>\n",
       "      <td>Herrn</td>\n",
       "      <td>ja</td>\n",
       "      <td>1.0</td>\n",
       "      <td>HOF</td>\n",
       "    </tr>\n",
       "    <tr>\n",
       "      <th>3</th>\n",
       "      <td>3</td>\n",
       "      <td>7.971373e+17</td>\n",
       "      <td>tino_chrupalla</td>\n",
       "      <td>36304.0</td>\n",
       "      <td>1201</td>\n",
       "      <td>Bundessprecher der #AfD |  Fraktionsvorsitzend...</td>\n",
       "      <td>Sachsen</td>\n",
       "      <td>Vierfach geimpft sitzt @Karl_Lauterbach corona...</td>\n",
       "      <td>2022-08-10 11:46:02+00:00</td>\n",
       "      <td>9.0</td>\n",
       "      <td>...</td>\n",
       "      <td>361</td>\n",
       "      <td>Prof. Dr. Karl Lauterbach</td>\n",
       "      <td>SPD</td>\n",
       "      <td>['https://www.twitter.com/karl_lauterbach']</td>\n",
       "      <td>karl_lauterbach</td>\n",
       "      <td>karl_lauterbach</td>\n",
       "      <td>Herrn</td>\n",
       "      <td>ja</td>\n",
       "      <td>0.0</td>\n",
       "      <td>NOT</td>\n",
       "    </tr>\n",
       "    <tr>\n",
       "      <th>4</th>\n",
       "      <td>4</td>\n",
       "      <td>9.558998e+17</td>\n",
       "      <td>drchristinabaum</td>\n",
       "      <td>2584.0</td>\n",
       "      <td>923</td>\n",
       "      <td>von 2016-2021 für die AfD im Landtag BW. Wahlk...</td>\n",
       "      <td>Baden-Württemberg, Deutschland</td>\n",
       "      <td>Schwere #Nebenwirkungen deutlich häufiger als ...</td>\n",
       "      <td>2022-07-23 17:54:15+00:00</td>\n",
       "      <td>0.0</td>\n",
       "      <td>...</td>\n",
       "      <td>361</td>\n",
       "      <td>Prof. Dr. Karl Lauterbach</td>\n",
       "      <td>SPD</td>\n",
       "      <td>['https://www.twitter.com/karl_lauterbach']</td>\n",
       "      <td>karl_lauterbach</td>\n",
       "      <td>karl_lauterbach</td>\n",
       "      <td>Herrn</td>\n",
       "      <td>ja</td>\n",
       "      <td>0.0</td>\n",
       "      <td>NOT</td>\n",
       "    </tr>\n",
       "  </tbody>\n",
       "</table>\n",
       "<p>5 rows × 26 columns</p>\n",
       "</div>"
      ],
      "text/plain": [
       "   Unnamed: 0.2     author_id         username  author_followers  \\\n",
       "0             0  7.133614e+17       stbrandner           38579.0   \n",
       "1             1  8.109576e+17   petrbystronafd           21643.0   \n",
       "2             2  8.109576e+17   petrbystronafd           21643.0   \n",
       "3             3  7.971373e+17   tino_chrupalla           36304.0   \n",
       "4             4  9.558998e+17  drchristinabaum            2584.0   \n",
       "\n",
       "  author_tweets                                 author_description  \\\n",
       "0         31499  Industriekaufmann, Rechtsanwalt, MdB🇩🇪 - direk...   \n",
       "1         10673  🇩🇪 Aussenpolitischer Sprecher der @AfDimBundes...   \n",
       "2         10673  🇩🇪 Aussenpolitischer Sprecher der @AfDimBundes...   \n",
       "3          1201  Bundessprecher der #AfD |  Fraktionsvorsitzend...   \n",
       "4           923  von 2016-2021 für die AfD im Landtag BW. Wahlk...   \n",
       "\n",
       "                  author_location  \\\n",
       "0             Mal hier, mal da...   \n",
       "1                 München, Bayern   \n",
       "2                 München, Bayern   \n",
       "3                         Sachsen   \n",
       "4  Baden-Württemberg, Deutschland   \n",
       "\n",
       "                                                text  \\\n",
       "0  @Karl_Lauterbach Wer jemanden anzeigt...😉\\nhtt...   \n",
       "1  @Karl_Lauterbach Tweet aus einem Parallelunive...   \n",
       "2  Das kommt dabei heraus,  wenn @MarcoBuschmann ...   \n",
       "3  Vierfach geimpft sitzt @Karl_Lauterbach corona...   \n",
       "4  Schwere #Nebenwirkungen deutlich häufiger als ...   \n",
       "\n",
       "                  created_at  quote_count  ...  Unnamed: 0  \\\n",
       "0  2022-12-04 18:54:10+00:00          1.0  ...         361   \n",
       "1  2022-11-26 22:41:30+00:00          0.0  ...         361   \n",
       "2  2022-08-16 15:02:20+00:00          1.0  ...         361   \n",
       "3  2022-08-10 11:46:02+00:00          9.0  ...         361   \n",
       "4  2022-07-23 17:54:15+00:00          0.0  ...         361   \n",
       "\n",
       "                   full_name  party  \\\n",
       "0  Prof. Dr. Karl Lauterbach    SPD   \n",
       "1  Prof. Dr. Karl Lauterbach    SPD   \n",
       "2  Prof. Dr. Karl Lauterbach    SPD   \n",
       "3  Prof. Dr. Karl Lauterbach    SPD   \n",
       "4  Prof. Dr. Karl Lauterbach    SPD   \n",
       "\n",
       "                                       twitter        username_  \\\n",
       "0  ['https://www.twitter.com/karl_lauterbach']  karl_lauterbach   \n",
       "1  ['https://www.twitter.com/karl_lauterbach']  karl_lauterbach   \n",
       "2  ['https://www.twitter.com/karl_lauterbach']  karl_lauterbach   \n",
       "3  ['https://www.twitter.com/karl_lauterbach']  karl_lauterbach   \n",
       "4  ['https://www.twitter.com/karl_lauterbach']  karl_lauterbach   \n",
       "\n",
       "              user  Geschlecht Gewählt in Vorperiode  HOF Label  \n",
       "0  karl_lauterbach       Herrn                    ja  0.0   NOT  \n",
       "1  karl_lauterbach       Herrn                    ja  0.0   NOT  \n",
       "2  karl_lauterbach       Herrn                    ja  1.0   HOF  \n",
       "3  karl_lauterbach       Herrn                    ja  0.0   NOT  \n",
       "4  karl_lauterbach       Herrn                    ja  0.0   NOT  \n",
       "\n",
       "[5 rows x 26 columns]"
      ]
     },
     "execution_count": 22,
     "metadata": {},
     "output_type": "execute_result"
    }
   ],
   "source": [
    "df.head()"
   ]
  },
  {
   "cell_type": "code",
   "execution_count": 32,
   "id": "2faae711-ff23-4913-9c33-10b1d9825427",
   "metadata": {},
   "outputs": [],
   "source": [
    "df = df[[\"username\", \"user\", \"party\", \"Label\"]]"
   ]
  },
  {
   "cell_type": "code",
   "execution_count": 33,
   "id": "81e2ee2d-02eb-4c13-98c1-ba4b3c1b6afa",
   "metadata": {},
   "outputs": [],
   "source": [
    "# Merge username with twitter usernames to get party\n",
    "twitter = pd.read_csv(\"twitter_usernames_extracted.csv\",sep=\";\")\n",
    "twitter['username'] = twitter['username'].map(lambda x: x.lower() if isinstance(x,str) else x)\n",
    "\n",
    "df = df.merge(twitter, left_on='username', right_on='username',suffixes=['', '_'])\n",
    "df = df[[\"username\", \"party_\", \"user\", \"party\", \"Label\"]]"
   ]
  },
  {
   "cell_type": "code",
   "execution_count": 34,
   "id": "4c0a5139-8cbd-4693-bcb4-fdd0ea5b544a",
   "metadata": {},
   "outputs": [
    {
     "name": "stdout",
     "output_type": "stream",
     "text": [
      "['username', 'party_', 'user', 'party', 'Label']\n"
     ]
    }
   ],
   "source": [
    "print(df.columns.tolist())"
   ]
  },
  {
   "cell_type": "code",
   "execution_count": 37,
   "id": "5c20d2be-7e3a-4f01-9fdf-015eb8a0d807",
   "metadata": {},
   "outputs": [
    {
     "data": {
      "text/html": [
       "<div>\n",
       "<style scoped>\n",
       "    .dataframe tbody tr th:only-of-type {\n",
       "        vertical-align: middle;\n",
       "    }\n",
       "\n",
       "    .dataframe tbody tr th {\n",
       "        vertical-align: top;\n",
       "    }\n",
       "\n",
       "    .dataframe thead th {\n",
       "        text-align: right;\n",
       "    }\n",
       "</style>\n",
       "<table border=\"1\" class=\"dataframe\">\n",
       "  <thead>\n",
       "    <tr style=\"text-align: right;\">\n",
       "      <th></th>\n",
       "      <th>username</th>\n",
       "      <th>party</th>\n",
       "      <th>mentioned_user</th>\n",
       "      <th>mentioned_party</th>\n",
       "      <th>Label</th>\n",
       "    </tr>\n",
       "  </thead>\n",
       "  <tbody>\n",
       "    <tr>\n",
       "      <th>0</th>\n",
       "      <td>stbrandner</td>\n",
       "      <td>AfD</td>\n",
       "      <td>karl_lauterbach</td>\n",
       "      <td>SPD</td>\n",
       "      <td>NOT</td>\n",
       "    </tr>\n",
       "    <tr>\n",
       "      <th>1</th>\n",
       "      <td>stbrandner</td>\n",
       "      <td>AfD</td>\n",
       "      <td>karl_lauterbach</td>\n",
       "      <td>SPD</td>\n",
       "      <td>NOT</td>\n",
       "    </tr>\n",
       "    <tr>\n",
       "      <th>2</th>\n",
       "      <td>stbrandner</td>\n",
       "      <td>AfD</td>\n",
       "      <td>rene_springer</td>\n",
       "      <td>AfD</td>\n",
       "      <td>NOT</td>\n",
       "    </tr>\n",
       "    <tr>\n",
       "      <th>3</th>\n",
       "      <td>stbrandner</td>\n",
       "      <td>AfD</td>\n",
       "      <td>rene_springer</td>\n",
       "      <td>AfD</td>\n",
       "      <td>NOT</td>\n",
       "    </tr>\n",
       "    <tr>\n",
       "      <th>4</th>\n",
       "      <td>stbrandner</td>\n",
       "      <td>AfD</td>\n",
       "      <td>mastrackzi</td>\n",
       "      <td>FDP</td>\n",
       "      <td>NOT</td>\n",
       "    </tr>\n",
       "    <tr>\n",
       "      <th>...</th>\n",
       "      <td>...</td>\n",
       "      <td>...</td>\n",
       "      <td>...</td>\n",
       "      <td>...</td>\n",
       "      <td>...</td>\n",
       "    </tr>\n",
       "    <tr>\n",
       "      <th>66085</th>\n",
       "      <td>frankeedgar</td>\n",
       "      <td>SPD</td>\n",
       "      <td>timon_gremmels</td>\n",
       "      <td>SPD</td>\n",
       "      <td>NOT</td>\n",
       "    </tr>\n",
       "    <tr>\n",
       "      <th>66086</th>\n",
       "      <td>schneider_cux</td>\n",
       "      <td>SPD</td>\n",
       "      <td>stefwenzel</td>\n",
       "      <td>Bündnis 90/Die Grünen</td>\n",
       "      <td>NOT</td>\n",
       "    </tr>\n",
       "    <tr>\n",
       "      <th>66087</th>\n",
       "      <td>moritzoppelt</td>\n",
       "      <td>CDU/CSU</td>\n",
       "      <td>larscastellucci</td>\n",
       "      <td>SPD</td>\n",
       "      <td>NOT</td>\n",
       "    </tr>\n",
       "    <tr>\n",
       "      <th>66088</th>\n",
       "      <td>moritzoppelt</td>\n",
       "      <td>CDU/CSU</td>\n",
       "      <td>larscastellucci</td>\n",
       "      <td>SPD</td>\n",
       "      <td>NOT</td>\n",
       "    </tr>\n",
       "    <tr>\n",
       "      <th>66089</th>\n",
       "      <td>hierlsusanne</td>\n",
       "      <td>CDU/CSU</td>\n",
       "      <td>nilsgruender</td>\n",
       "      <td>FDP</td>\n",
       "      <td>NOT</td>\n",
       "    </tr>\n",
       "  </tbody>\n",
       "</table>\n",
       "<p>66090 rows × 5 columns</p>\n",
       "</div>"
      ],
      "text/plain": [
       "            username     party   mentioned_user         mentioned_party Label\n",
       "0         stbrandner       AfD  karl_lauterbach                     SPD   NOT\n",
       "1         stbrandner       AfD  karl_lauterbach                     SPD   NOT\n",
       "2         stbrandner       AfD    rene_springer                     AfD   NOT\n",
       "3         stbrandner       AfD    rene_springer                     AfD   NOT\n",
       "4         stbrandner       AfD       mastrackzi                     FDP   NOT\n",
       "...              ...       ...              ...                     ...   ...\n",
       "66085    frankeedgar       SPD   timon_gremmels                     SPD   NOT\n",
       "66086  schneider_cux       SPD       stefwenzel   Bündnis 90/Die Grünen   NOT\n",
       "66087   moritzoppelt   CDU/CSU  larscastellucci                     SPD   NOT\n",
       "66088   moritzoppelt   CDU/CSU  larscastellucci                     SPD   NOT\n",
       "66089   hierlsusanne   CDU/CSU     nilsgruender                     FDP   NOT\n",
       "\n",
       "[66090 rows x 5 columns]"
      ]
     },
     "execution_count": 37,
     "metadata": {},
     "output_type": "execute_result"
    }
   ],
   "source": [
    "df = df.rename(columns={\"party_\": \"party\" ,\"user\": \"mentioned_user\", \"party\": \"mentioned_party\"})\n",
    "df"
   ]
  },
  {
   "cell_type": "code",
   "execution_count": 38,
   "id": "40329204-6423-4514-992b-f33f955a039e",
   "metadata": {},
   "outputs": [],
   "source": [
    "df.to_csv(\"df_for_network_plot.csv\")"
   ]
  },
  {
   "cell_type": "code",
   "execution_count": null,
   "id": "2a597a63-51fe-469f-bb79-e3a4f810c239",
   "metadata": {},
   "outputs": [],
   "source": [
    "import pan"
   ]
  }
 ],
 "metadata": {
  "kernelspec": {
   "display_name": "Python 3 (ipykernel)",
   "language": "python",
   "name": "python3"
  },
  "language_info": {
   "codemirror_mode": {
    "name": "ipython",
    "version": 3
   },
   "file_extension": ".py",
   "mimetype": "text/x-python",
   "name": "python",
   "nbconvert_exporter": "python",
   "pygments_lexer": "ipython3",
   "version": "3.9.13"
  }
 },
 "nbformat": 4,
 "nbformat_minor": 5
}
