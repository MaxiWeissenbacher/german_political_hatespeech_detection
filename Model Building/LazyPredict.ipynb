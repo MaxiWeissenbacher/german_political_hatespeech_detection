{
 "cells": [
  {
   "attachments": {},
   "cell_type": "markdown",
   "id": "4a2a9e20",
   "metadata": {},
   "source": [
    "# Notebook for initial view, which Machine Learning Algorithm might work good\n",
    "\n",
    "(wasn't named in the thesis)"
   ]
  },
  {
   "cell_type": "code",
   "execution_count": 5,
   "id": "5849c540-a07e-47ee-91a4-749f6b2c3588",
   "metadata": {},
   "outputs": [],
   "source": [
    "import os\n",
    "os.environ[\"CUDA_DEVICE_ORDER\"] = \"PCI_BUS_ID\"\n",
    "os.environ[\"CUDA_VISIBLE_DEVICES\"] = \"0\"\n",
    "\n",
    "import torch\n",
    "torch.cuda.is_available()\n",
    "\n",
    "import pandas as pd\n",
    "from sklearn.model_selection import train_test_split\n",
    "from sklearn.feature_extraction.text import TfidfVectorizer\n",
    "from lazytext.supervised import LazyTextPredict\n",
    "import re\n",
    "import nltk"
   ]
  },
  {
   "cell_type": "code",
   "execution_count": 2,
   "id": "849c9de9-f0da-4a7a-a39f-93a004be12f5",
   "metadata": {},
   "outputs": [],
   "source": [
    "%%capture\n",
    "!pip install lazytext\n",
    "!pip install nltk"
   ]
  },
  {
   "cell_type": "code",
   "execution_count": 55,
   "id": "4ed894dc-6dfb-454e-a70c-cf7c07302aa8",
   "metadata": {},
   "outputs": [],
   "source": [
    "from functools import reduce\n",
    "\n",
    "def kfold_evaluation(f1,f2,f3,f4,f5):\n",
    "    file1 = f1\n",
    "    file2 = f2\n",
    "    file3 = f3\n",
    "    file4 = f4\n",
    "    file5 = f5\n",
    "    \n",
    "    names = file1[\"Model\"].tolist()\n",
    "    results_f1 = reduce(lambda a, b: a.add(b, fill_value=0), [file1[\"F1_Score\"], file2[\"F1_Score\"], file3[\"F1_Score\"], file4[\"F1_Score\"], file5[\"F1_Score\"]]).tolist()\n",
    "    results_pre = reduce(lambda a, b: a.add(b, fill_value=0), [file1[\"Precision\"], file2[\"Precision\"], file3[\"Precision\"], file4[\"Precision\"], file5[\"Precision\"]]).tolist()\n",
    "    results_rec = reduce(lambda a, b: a.add(b, fill_value=0), [file1[\"Recall\"], file2[\"Recall\"], file3[\"Recall\"], file4[\"Recall\"], file5[\"Recall\"]]).tolist()\n",
    "\n",
    "    results_divided_f1 = []\n",
    "    for i in results_f1:\n",
    "        \n",
    "        res = i/5\n",
    "        results_divided_f1.append(res)\n",
    "        \n",
    "    results_divided_pre = []\n",
    "    for i in results_pre:\n",
    "        \n",
    "        res = i/5\n",
    "        results_divided_pre.append(res)\n",
    "        \n",
    "    results_divided_rec = []\n",
    "    for i in results_rec:\n",
    "        \n",
    "        res = i/5\n",
    "        results_divided_rec.append(res)\n",
    "\n",
    "    d = {'Model':names,'F1 Score':results_divided_f1 ,'Precision':results_divided_pre, 'Recall':results_divided_rec}\n",
    "    overall_df = pd.DataFrame(d)\n",
    "    return overall_df\n",
    "\n",
    "def fold_values(fold_f, fold_number):\n",
    "    folds = pd.DataFrame(columns=[\"Model\", \"F1_Score\"])\n",
    "    models = []\n",
    "    f1s = []\n",
    "    p = []\n",
    "    r = []\n",
    "\n",
    "    for i in kfold_df[f\"model_fold_{fold_number}\"]:\n",
    "        name = i.get(\"name\")\n",
    "        f1 = i.get(\"custom_metric_score\").get(\"f1\").get(\"f1_weighted\")\n",
    "        pr = i.get(\"custom_metric_score\").get(\"precision\").get(\"precision_weighted\")\n",
    "        re = i.get(\"custom_metric_score\").get(\"recall\").get(\"recall_weighted\")\n",
    "        models.append(name)\n",
    "        f1s.append(f1)\n",
    "        p.append(pr)\n",
    "        r.append(re)\n",
    "\n",
    "\n",
    "    folds[\"Model\"] = models\n",
    "    folds[\"F1_Score\"] = f1s\n",
    "    folds[\"Precision\"] = p\n",
    "    folds[\"Recall\"] = r\n",
    "    return folds\n",
    "\n",
    "from lazytext.supervised import LazyTextPredict\n",
    "import numpy as np\n",
    "# Custom metric\n",
    "def my_custom_metric(y_true, y_pred):\n",
    "    test_list = y_true\n",
    "    # Compute Evaluation Metrics\n",
    "    f = f1_multiclass(test_list, y_pred)\n",
    "    p = p_multiclass(test_list, y_pred)\n",
    "    r = recall_multiclass(test_list, y_pred)\n",
    "    a = accuracy_score(test_list, y_pred)\n",
    "    ba = balanced_accuracy_score(test_list, y_pred)\n",
    "    prs = precision_recall_fscore_support(test_list, y_pred)\n",
    "    m = matthews_corrcoef(test_list,y_pred)\n",
    "\n",
    "    results = {}\n",
    "    results[\"acc\"] = a\n",
    "    results[\"f1\"] = f\n",
    "    results[\"precision\"] = p\n",
    "    results[\"recall\"] = r\n",
    "    results[\"bal_acc\"] = ba\n",
    "    results[\"prfs\"] = prs\n",
    "    results[\"mcc\"] = m\n",
    "    return results"
   ]
  },
  {
   "attachments": {},
   "cell_type": "markdown",
   "id": "1f9e1c36-c37f-4363-bf99-1b5f7368bee5",
   "metadata": {
    "tags": []
   },
   "source": [
    "# MA"
   ]
  },
  {
   "cell_type": "code",
   "execution_count": 1,
   "id": "1c9f183b-bffa-4ba9-a8d0-45085577265c",
   "metadata": {},
   "outputs": [
    {
     "data": {
      "text/plain": [
       "True"
      ]
     },
     "execution_count": 1,
     "metadata": {},
     "output_type": "execute_result"
    }
   ],
   "source": [
    "import pandas as pd\n",
    "import json\n",
    "import s3fs\n",
    "from functools import reduce\n",
    "#https://towardsdatascience.com/text-classification-with-bert-in-pytorch-887965e5820f\n",
    "from ipynb.fs.full.eval_metrics import *\n",
    "import os\n",
    "os.environ[\"CUDA_DEVICE_ORDER\"] = \"PCI_BUS_ID\"\n",
    "os.environ[\"CUDA_VISIBLE_DEVICES\"] = \"0\"\n",
    "\n",
    "import torch\n",
    "torch.cuda.is_available()"
   ]
  },
  {
   "cell_type": "code",
   "execution_count": 2,
   "id": "220ff313-d28e-450f-b56f-143e0de9e95b",
   "metadata": {},
   "outputs": [],
   "source": [
    "# Opening JSON file\n",
    "with open('../credentials.json', 'r') as openfile:\n",
    " \n",
    "    # Reading from json file\n",
    "    json_object = json.load(openfile)\n",
    "    key = json_object[\"key\"]\n",
    "    secret = json_object[\"secret_key\"]\n",
    "    bucket_name = json_object[\"bucket_name\"]\n",
    "\n",
    "s3 = s3fs.S3FileSystem(anon=False,key=key,secret=secret)"
   ]
  },
  {
   "cell_type": "code",
   "execution_count": 28,
   "id": "6dcb48e8-ddcf-4dd2-a04f-ebe8a5df5497",
   "metadata": {
    "scrolled": true,
    "tags": []
   },
   "outputs": [
    {
     "name": "stdout",
     "output_type": "stream",
     "text": [
      "Fold Number: 1\n"
     ]
    },
    {
     "data": {
      "application/vnd.jupyter.widget-view+json": {
       "model_id": "3040a455ab0b469ab90ba81e1f25102d",
       "version_major": 2,
       "version_minor": 0
      },
      "text/plain": [
       "Output()"
      ]
     },
     "metadata": {},
     "output_type": "display_data"
    },
    {
     "data": {
      "text/html": [
       "<pre style=\"white-space:pre;overflow-x:auto;line-height:normal;font-family:Menlo,'DejaVu Sans Mono',consolas,'Courier New',monospace\">  Training AdaBoostClassifier estimator\n",
       "</pre>\n"
      ],
      "text/plain": [
       "  Training AdaBoostClassifier estimator\n"
      ]
     },
     "metadata": {},
     "output_type": "display_data"
    },
    {
     "data": {
      "text/html": [
       "<pre style=\"white-space:pre;overflow-x:auto;line-height:normal;font-family:Menlo,'DejaVu Sans Mono',consolas,'Courier New',monospace\">  Training BaggingClassifier estimator\n",
       "</pre>\n"
      ],
      "text/plain": [
       "  Training BaggingClassifier estimator\n"
      ]
     },
     "metadata": {},
     "output_type": "display_data"
    },
    {
     "data": {
      "text/html": [
       "<pre style=\"white-space:pre;overflow-x:auto;line-height:normal;font-family:Menlo,'DejaVu Sans Mono',consolas,'Courier New',monospace\">  Training BernoulliNB estimator\n",
       "</pre>\n"
      ],
      "text/plain": [
       "  Training BernoulliNB estimator\n"
      ]
     },
     "metadata": {},
     "output_type": "display_data"
    },
    {
     "data": {
      "text/html": [
       "<pre style=\"white-space:pre;overflow-x:auto;line-height:normal;font-family:Menlo,'DejaVu Sans Mono',consolas,'Courier New',monospace\">  Training CalibratedClassifierCV estimator\n",
       "</pre>\n"
      ],
      "text/plain": [
       "  Training CalibratedClassifierCV estimator\n"
      ]
     },
     "metadata": {},
     "output_type": "display_data"
    },
    {
     "data": {
      "text/html": [
       "<pre style=\"white-space:pre;overflow-x:auto;line-height:normal;font-family:Menlo,'DejaVu Sans Mono',consolas,'Courier New',monospace\">  Training ComplementNB estimator\n",
       "</pre>\n"
      ],
      "text/plain": [
       "  Training ComplementNB estimator\n"
      ]
     },
     "metadata": {},
     "output_type": "display_data"
    },
    {
     "data": {
      "text/html": [
       "<pre style=\"white-space:pre;overflow-x:auto;line-height:normal;font-family:Menlo,'DejaVu Sans Mono',consolas,'Courier New',monospace\">  Training DecisionTreeClassifier estimator\n",
       "</pre>\n"
      ],
      "text/plain": [
       "  Training DecisionTreeClassifier estimator\n"
      ]
     },
     "metadata": {},
     "output_type": "display_data"
    },
    {
     "data": {
      "text/html": [
       "<pre style=\"white-space:pre;overflow-x:auto;line-height:normal;font-family:Menlo,'DejaVu Sans Mono',consolas,'Courier New',monospace\">  Training DummyClassifier estimator\n",
       "</pre>\n"
      ],
      "text/plain": [
       "  Training DummyClassifier estimator\n"
      ]
     },
     "metadata": {},
     "output_type": "display_data"
    },
    {
     "data": {
      "text/html": [
       "<pre style=\"white-space:pre;overflow-x:auto;line-height:normal;font-family:Menlo,'DejaVu Sans Mono',consolas,'Courier New',monospace\">  Training ExtraTreeClassifier estimator\n",
       "</pre>\n"
      ],
      "text/plain": [
       "  Training ExtraTreeClassifier estimator\n"
      ]
     },
     "metadata": {},
     "output_type": "display_data"
    },
    {
     "data": {
      "text/html": [
       "<pre style=\"white-space:pre;overflow-x:auto;line-height:normal;font-family:Menlo,'DejaVu Sans Mono',consolas,'Courier New',monospace\">  Training ExtraTreesClassifier estimator\n",
       "</pre>\n"
      ],
      "text/plain": [
       "  Training ExtraTreesClassifier estimator\n"
      ]
     },
     "metadata": {},
     "output_type": "display_data"
    },
    {
     "data": {
      "text/html": [
       "<pre style=\"white-space:pre;overflow-x:auto;line-height:normal;font-family:Menlo,'DejaVu Sans Mono',consolas,'Courier New',monospace\">  Training GradientBoostingClassifier estimator\n",
       "</pre>\n"
      ],
      "text/plain": [
       "  Training GradientBoostingClassifier estimator\n"
      ]
     },
     "metadata": {},
     "output_type": "display_data"
    },
    {
     "data": {
      "text/html": [
       "<pre style=\"white-space:pre;overflow-x:auto;line-height:normal;font-family:Menlo,'DejaVu Sans Mono',consolas,'Courier New',monospace\">  Training KNeighborsClassifier estimator\n",
       "</pre>\n"
      ],
      "text/plain": [
       "  Training KNeighborsClassifier estimator\n"
      ]
     },
     "metadata": {},
     "output_type": "display_data"
    },
    {
     "data": {
      "text/html": [
       "<pre style=\"white-space:pre;overflow-x:auto;line-height:normal;font-family:Menlo,'DejaVu Sans Mono',consolas,'Courier New',monospace\">  Training LinearSVC estimator\n",
       "</pre>\n"
      ],
      "text/plain": [
       "  Training LinearSVC estimator\n"
      ]
     },
     "metadata": {},
     "output_type": "display_data"
    },
    {
     "data": {
      "text/html": [
       "<pre style=\"white-space:pre;overflow-x:auto;line-height:normal;font-family:Menlo,'DejaVu Sans Mono',consolas,'Courier New',monospace\">  Training LogisticRegression estimator\n",
       "</pre>\n"
      ],
      "text/plain": [
       "  Training LogisticRegression estimator\n"
      ]
     },
     "metadata": {},
     "output_type": "display_data"
    },
    {
     "data": {
      "text/html": [
       "<pre style=\"white-space:pre;overflow-x:auto;line-height:normal;font-family:Menlo,'DejaVu Sans Mono',consolas,'Courier New',monospace\">  Training LogisticRegressionCV estimator\n",
       "</pre>\n"
      ],
      "text/plain": [
       "  Training LogisticRegressionCV estimator\n"
      ]
     },
     "metadata": {},
     "output_type": "display_data"
    },
    {
     "data": {
      "text/html": [
       "<pre style=\"white-space:pre;overflow-x:auto;line-height:normal;font-family:Menlo,'DejaVu Sans Mono',consolas,'Courier New',monospace\">  Training MLPClassifier estimator\n",
       "</pre>\n"
      ],
      "text/plain": [
       "  Training MLPClassifier estimator\n"
      ]
     },
     "metadata": {},
     "output_type": "display_data"
    },
    {
     "data": {
      "text/html": [
       "<pre style=\"white-space:pre;overflow-x:auto;line-height:normal;font-family:Menlo,'DejaVu Sans Mono',consolas,'Courier New',monospace\">  Training MultinomialNB estimator\n",
       "</pre>\n"
      ],
      "text/plain": [
       "  Training MultinomialNB estimator\n"
      ]
     },
     "metadata": {},
     "output_type": "display_data"
    },
    {
     "data": {
      "text/html": [
       "<pre style=\"white-space:pre;overflow-x:auto;line-height:normal;font-family:Menlo,'DejaVu Sans Mono',consolas,'Courier New',monospace\">  Training NearestCentroid estimator\n",
       "</pre>\n"
      ],
      "text/plain": [
       "  Training NearestCentroid estimator\n"
      ]
     },
     "metadata": {},
     "output_type": "display_data"
    },
    {
     "data": {
      "text/html": [
       "<pre style=\"white-space:pre;overflow-x:auto;line-height:normal;font-family:Menlo,'DejaVu Sans Mono',consolas,'Courier New',monospace\">  Training NuSVC estimator\n",
       "</pre>\n"
      ],
      "text/plain": [
       "  Training NuSVC estimator\n"
      ]
     },
     "metadata": {},
     "output_type": "display_data"
    },
    {
     "data": {
      "text/html": [
       "<pre style=\"white-space:pre;overflow-x:auto;line-height:normal;font-family:Menlo,'DejaVu Sans Mono',consolas,'Courier New',monospace\">  Training PassiveAggressiveClassifier estimator\n",
       "</pre>\n"
      ],
      "text/plain": [
       "  Training PassiveAggressiveClassifier estimator\n"
      ]
     },
     "metadata": {},
     "output_type": "display_data"
    },
    {
     "data": {
      "text/html": [
       "<pre style=\"white-space:pre;overflow-x:auto;line-height:normal;font-family:Menlo,'DejaVu Sans Mono',consolas,'Courier New',monospace\">  Training Perceptron estimator\n",
       "</pre>\n"
      ],
      "text/plain": [
       "  Training Perceptron estimator\n"
      ]
     },
     "metadata": {},
     "output_type": "display_data"
    },
    {
     "data": {
      "text/html": [
       "<pre style=\"white-space:pre;overflow-x:auto;line-height:normal;font-family:Menlo,'DejaVu Sans Mono',consolas,'Courier New',monospace\">  Training RandomForestClassifier estimator\n",
       "</pre>\n"
      ],
      "text/plain": [
       "  Training RandomForestClassifier estimator\n"
      ]
     },
     "metadata": {},
     "output_type": "display_data"
    },
    {
     "data": {
      "text/html": [
       "<pre style=\"white-space:pre;overflow-x:auto;line-height:normal;font-family:Menlo,'DejaVu Sans Mono',consolas,'Courier New',monospace\">  Training RidgeClassifier estimator\n",
       "</pre>\n"
      ],
      "text/plain": [
       "  Training RidgeClassifier estimator\n"
      ]
     },
     "metadata": {},
     "output_type": "display_data"
    },
    {
     "data": {
      "text/html": [
       "<pre style=\"white-space:pre;overflow-x:auto;line-height:normal;font-family:Menlo,'DejaVu Sans Mono',consolas,'Courier New',monospace\">  Training SGDClassifier estimator\n",
       "</pre>\n"
      ],
      "text/plain": [
       "  Training SGDClassifier estimator\n"
      ]
     },
     "metadata": {},
     "output_type": "display_data"
    },
    {
     "data": {
      "text/html": [
       "<pre style=\"white-space:pre;overflow-x:auto;line-height:normal;font-family:Menlo,'DejaVu Sans Mono',consolas,'Courier New',monospace\">  Training SVC estimator\n",
       "</pre>\n"
      ],
      "text/plain": [
       "  Training SVC estimator\n"
      ]
     },
     "metadata": {},
     "output_type": "display_data"
    },
    {
     "data": {
      "text/html": [
       "<pre style=\"white-space:pre;overflow-x:auto;line-height:normal;font-family:Menlo,'DejaVu Sans Mono',consolas,'Courier New',monospace\"></pre>\n"
      ],
      "text/plain": []
     },
     "metadata": {},
     "output_type": "display_data"
    },
    {
     "data": {
      "text/html": [
       "<pre style=\"white-space:pre;overflow-x:auto;line-height:normal;font-family:Menlo,'DejaVu Sans Mono',consolas,'Courier New',monospace\">\n",
       "</pre>\n"
      ],
      "text/plain": [
       "\n"
      ]
     },
     "metadata": {},
     "output_type": "display_data"
    },
    {
     "data": {
      "text/html": [
       "<pre style=\"white-space:pre;overflow-x:auto;line-height:normal;font-family:Menlo,'DejaVu Sans Mono',consolas,'Courier New',monospace\"><span style=\"font-style: italic\">                                       Result Analysis                                       </span>\n",
       "┏━━━━━━━━━━━━━━━━━━━━━━━━━━━━┳━━━━━━━━━━━━━━━━━━━┳━━━━━━━━━━━━━━━━━━━━┳━━━━━━━━━━━━━━━━━━━┳┳┓\n",
       "┃<span style=\"font-weight: bold\"> Model                      </span>┃<span style=\"font-weight: bold\"> Accuracy          </span>┃<span style=\"font-weight: bold\"> Balanced Accuracy  </span>┃<span style=\"font-weight: bold\"> F1 Score          </span>┃<span style=\"font-weight: bold\"></span>┃<span style=\"font-weight: bold\"></span>┃\n",
       "┡━━━━━━━━━━━━━━━━━━━━━━━━━━━━╇━━━━━━━━━━━━━━━━━━━╇━━━━━━━━━━━━━━━━━━━━╇━━━━━━━━━━━━━━━━━━━╇╇┩\n",
       "│<span style=\"color: #008080; text-decoration-color: #008080\"> AdaBoostClassifier         </span>│<span style=\"color: #800080; text-decoration-color: #800080\"> 0.69827586206896… </span>│<span style=\"color: #008000; text-decoration-color: #008000\"> 0.601736111111111  </span>│<span style=\"color: #800000; text-decoration-color: #800000\"> 0.79651162790697… </span>│<span style=\"color: #808000; text-decoration-color: #808000\"></span>│<span style=\"color: #c0c0c0; text-decoration-color: #c0c0c0\"></span>│\n",
       "│<span style=\"color: #008080; text-decoration-color: #008080\"> BaggingClassifier          </span>│<span style=\"color: #800080; text-decoration-color: #800080\"> 0.646551724137931 </span>│<span style=\"color: #008000; text-decoration-color: #008000\"> 0.5527777777777778 </span>│<span style=\"color: #800000; text-decoration-color: #800000\"> 0.75739644970414… </span>│<span style=\"color: #808000; text-decoration-color: #808000\"></span>│<span style=\"color: #c0c0c0; text-decoration-color: #c0c0c0\"></span>│\n",
       "│<span style=\"color: #008080; text-decoration-color: #008080\"> BernoulliNB                </span>│<span style=\"color: #800080; text-decoration-color: #800080\"> 0.68534482758620… </span>│<span style=\"color: #008000; text-decoration-color: #008000\"> 0.5006944444444444 </span>│<span style=\"color: #800000; text-decoration-color: #800000\"> 0.81233933161953… </span>│<span style=\"color: #808000; text-decoration-color: #808000\"></span>│<span style=\"color: #c0c0c0; text-decoration-color: #c0c0c0\"></span>│\n",
       "│<span style=\"color: #008080; text-decoration-color: #008080\"> CalibratedClassifierCV     </span>│<span style=\"color: #800080; text-decoration-color: #800080\"> 0.70689655172413… </span>│<span style=\"color: #008000; text-decoration-color: #008000\"> 0.6270833333333333 </span>│<span style=\"color: #800000; text-decoration-color: #800000\"> 0.79761904761904… </span>│<span style=\"color: #808000; text-decoration-color: #808000\"></span>│<span style=\"color: #c0c0c0; text-decoration-color: #c0c0c0\"></span>│\n",
       "│<span style=\"color: #008080; text-decoration-color: #008080\"> ComplementNB               </span>│<span style=\"color: #800080; text-decoration-color: #800080\"> 0.70258620689655… </span>│<span style=\"color: #008000; text-decoration-color: #008000\"> 0.5246527777777777 </span>│<span style=\"color: #800000; text-decoration-color: #800000\"> 0.82170542635658… </span>│<span style=\"color: #808000; text-decoration-color: #808000\"></span>│<span style=\"color: #c0c0c0; text-decoration-color: #c0c0c0\"></span>│\n",
       "│<span style=\"color: #008080; text-decoration-color: #008080\"> DecisionTreeClassifier     </span>│<span style=\"color: #800080; text-decoration-color: #800080\"> 0.61206896551724… </span>│<span style=\"color: #008000; text-decoration-color: #008000\"> 0.554513888888889  </span>│<span style=\"color: #800000; text-decoration-color: #800000\"> 0.71518987341772… </span>│<span style=\"color: #808000; text-decoration-color: #808000\"></span>│<span style=\"color: #c0c0c0; text-decoration-color: #c0c0c0\"></span>│\n",
       "│<span style=\"color: #008080; text-decoration-color: #008080\"> DummyClassifier            </span>│<span style=\"color: #800080; text-decoration-color: #800080\"> 0.68965517241379… </span>│<span style=\"color: #008000; text-decoration-color: #008000\"> 0.5                </span>│<span style=\"color: #800000; text-decoration-color: #800000\"> 0.81632653061224… </span>│<span style=\"color: #808000; text-decoration-color: #808000\"></span>│<span style=\"color: #c0c0c0; text-decoration-color: #c0c0c0\"></span>│\n",
       "│<span style=\"color: #008080; text-decoration-color: #008080\"> ExtraTreeClassifier        </span>│<span style=\"color: #800080; text-decoration-color: #800080\"> 0.70258620689655… </span>│<span style=\"color: #008000; text-decoration-color: #008000\"> 0.6277777777777778 </span>│<span style=\"color: #800000; text-decoration-color: #800000\"> 0.79279279279279… </span>│<span style=\"color: #808000; text-decoration-color: #808000\"></span>│<span style=\"color: #c0c0c0; text-decoration-color: #c0c0c0\"></span>│\n",
       "│<span style=\"color: #008080; text-decoration-color: #008080\"> ExtraTreesClassifier       </span>│<span style=\"color: #800080; text-decoration-color: #800080\"> 0.69827586206896… </span>│<span style=\"color: #008000; text-decoration-color: #008000\"> 0.5368055555555555 </span>│<span style=\"color: #800000; text-decoration-color: #800000\"> 0.81481481481481… </span>│<span style=\"color: #808000; text-decoration-color: #808000\"></span>│<span style=\"color: #c0c0c0; text-decoration-color: #c0c0c0\"></span>│\n",
       "│<span style=\"color: #008080; text-decoration-color: #008080\"> GradientBoostingClassifier </span>│<span style=\"color: #800080; text-decoration-color: #800080\"> 0.67672413793103… </span>│<span style=\"color: #008000; text-decoration-color: #008000\"> 0.5402777777777777 </span>│<span style=\"color: #800000; text-decoration-color: #800000\"> 0.79338842975206… </span>│<span style=\"color: #808000; text-decoration-color: #808000\"></span>│<span style=\"color: #c0c0c0; text-decoration-color: #c0c0c0\"></span>│\n",
       "│<span style=\"color: #008080; text-decoration-color: #008080\"> KNeighborsClassifier       </span>│<span style=\"color: #800080; text-decoration-color: #800080\"> 0.69827586206896… </span>│<span style=\"color: #008000; text-decoration-color: #008000\"> 0.5673611111111111 </span>│<span style=\"color: #800000; text-decoration-color: #800000\"> 0.80662983425414… </span>│<span style=\"color: #808000; text-decoration-color: #808000\"></span>│<span style=\"color: #c0c0c0; text-decoration-color: #c0c0c0\"></span>│\n",
       "│<span style=\"color: #008080; text-decoration-color: #008080\"> LinearSVC                  </span>│<span style=\"color: #800080; text-decoration-color: #800080\"> 0.68965517241379… </span>│<span style=\"color: #008000; text-decoration-color: #008000\"> 0.5954861111111112 </span>│<span style=\"color: #800000; text-decoration-color: #800000\"> 0.78947368421052… </span>│<span style=\"color: #808000; text-decoration-color: #808000\"></span>│<span style=\"color: #c0c0c0; text-decoration-color: #c0c0c0\"></span>│\n",
       "│<span style=\"color: #008080; text-decoration-color: #008080\"> LogisticRegression         </span>│<span style=\"color: #800080; text-decoration-color: #800080\"> 0.70689655172413… </span>│<span style=\"color: #008000; text-decoration-color: #008000\"> 0.546875           </span>│<span style=\"color: #800000; text-decoration-color: #800000\"> 0.82010582010582… </span>│<span style=\"color: #808000; text-decoration-color: #808000\"></span>│<span style=\"color: #c0c0c0; text-decoration-color: #c0c0c0\"></span>│\n",
       "│<span style=\"color: #008080; text-decoration-color: #008080\"> LogisticRegressionCV       </span>│<span style=\"color: #800080; text-decoration-color: #800080\"> 0.70689655172413… </span>│<span style=\"color: #008000; text-decoration-color: #008000\"> 0.58125            </span>│<span style=\"color: #800000; text-decoration-color: #800000\"> 0.811111111111111 </span>│<span style=\"color: #808000; text-decoration-color: #808000\"></span>│<span style=\"color: #c0c0c0; text-decoration-color: #c0c0c0\"></span>│\n",
       "│<span style=\"color: #008080; text-decoration-color: #008080\"> MLPClassifier              </span>│<span style=\"color: #800080; text-decoration-color: #800080\"> 0.71982758620689… </span>│<span style=\"color: #008000; text-decoration-color: #008000\"> 0.6364583333333333 </span>│<span style=\"color: #800000; text-decoration-color: #800000\"> 0.808259587020649 </span>│<span style=\"color: #808000; text-decoration-color: #808000\"></span>│<span style=\"color: #c0c0c0; text-decoration-color: #c0c0c0\"></span>│\n",
       "│<span style=\"color: #008080; text-decoration-color: #008080\"> MultinomialNB              </span>│<span style=\"color: #800080; text-decoration-color: #800080\"> 0.68965517241379… </span>│<span style=\"color: #008000; text-decoration-color: #008000\"> 0.5                </span>│<span style=\"color: #800000; text-decoration-color: #800000\"> 0.81632653061224… </span>│<span style=\"color: #808000; text-decoration-color: #808000\"></span>│<span style=\"color: #c0c0c0; text-decoration-color: #c0c0c0\"></span>│\n",
       "│<span style=\"color: #008080; text-decoration-color: #008080\"> NearestCentroid            </span>│<span style=\"color: #800080; text-decoration-color: #800080\"> 0.68965517241379… </span>│<span style=\"color: #008000; text-decoration-color: #008000\"> 0.7177083333333334 </span>│<span style=\"color: #800000; text-decoration-color: #800000\"> 0.74100719424460… </span>│<span style=\"color: #808000; text-decoration-color: #808000\"></span>│<span style=\"color: #c0c0c0; text-decoration-color: #c0c0c0\"></span>│\n",
       "│<span style=\"color: #008080; text-decoration-color: #008080\"> NuSVC                      </span>│<span style=\"color: #800080; text-decoration-color: #800080\"> 0.69827586206896… </span>│<span style=\"color: #008000; text-decoration-color: #008000\"> 0.5711805555555556 </span>│<span style=\"color: #800000; text-decoration-color: #800000\"> 0.80555555555555… </span>│<span style=\"color: #808000; text-decoration-color: #808000\"></span>│<span style=\"color: #c0c0c0; text-decoration-color: #c0c0c0\"></span>│\n",
       "│<span style=\"color: #008080; text-decoration-color: #008080\"> PassiveAggressiveClassifi… </span>│<span style=\"color: #800080; text-decoration-color: #800080\"> 0.70689655172413… </span>│<span style=\"color: #008000; text-decoration-color: #008000\"> 0.6232638888888888 </span>│<span style=\"color: #800000; text-decoration-color: #800000\"> 0.79881656804733… </span>│<span style=\"color: #808000; text-decoration-color: #808000\"></span>│<span style=\"color: #c0c0c0; text-decoration-color: #c0c0c0\"></span>│\n",
       "│<span style=\"color: #008080; text-decoration-color: #008080\"> Perceptron                 </span>│<span style=\"color: #800080; text-decoration-color: #800080\"> 0.69827586206896… </span>│<span style=\"color: #008000; text-decoration-color: #008000\"> 0.6208333333333333 </span>│<span style=\"color: #800000; text-decoration-color: #800000\"> 0.79041916167664… </span>│<span style=\"color: #808000; text-decoration-color: #808000\"></span>│<span style=\"color: #c0c0c0; text-decoration-color: #c0c0c0\"></span>│\n",
       "│<span style=\"color: #008080; text-decoration-color: #008080\"> RandomForestClassifier     </span>│<span style=\"color: #800080; text-decoration-color: #800080\"> 0.68965517241379… </span>│<span style=\"color: #008000; text-decoration-color: #008000\"> 0.5152777777777777 </span>│<span style=\"color: #800000; text-decoration-color: #800000\"> 0.8125            </span>│<span style=\"color: #808000; text-decoration-color: #808000\"></span>│<span style=\"color: #c0c0c0; text-decoration-color: #c0c0c0\"></span>│\n",
       "│<span style=\"color: #008080; text-decoration-color: #008080\"> RidgeClassifier            </span>│<span style=\"color: #800080; text-decoration-color: #800080\"> 0.70258620689655… </span>│<span style=\"color: #008000; text-decoration-color: #008000\"> 0.5895833333333333 </span>│<span style=\"color: #800000; text-decoration-color: #800000\"> 0.80453257790368… </span>│<span style=\"color: #808000; text-decoration-color: #808000\"></span>│<span style=\"color: #c0c0c0; text-decoration-color: #c0c0c0\"></span>│\n",
       "│<span style=\"color: #008080; text-decoration-color: #008080\"> SGDClassifier              </span>│<span style=\"color: #800080; text-decoration-color: #800080\"> 0.70689655172413… </span>│<span style=\"color: #008000; text-decoration-color: #008000\"> 0.6385416666666667 </span>│<span style=\"color: #800000; text-decoration-color: #800000\"> 0.79393939393939… </span>│<span style=\"color: #808000; text-decoration-color: #808000\"></span>│<span style=\"color: #c0c0c0; text-decoration-color: #c0c0c0\"></span>│\n",
       "│<span style=\"color: #008080; text-decoration-color: #008080\"> SVC                        </span>│<span style=\"color: #800080; text-decoration-color: #800080\"> 0.69396551724137… </span>│<span style=\"color: #008000; text-decoration-color: #008000\"> 0.5069444444444444 </span>│<span style=\"color: #800000; text-decoration-color: #800000\"> 0.81841432225063… </span>│<span style=\"color: #808000; text-decoration-color: #808000\"></span>│<span style=\"color: #c0c0c0; text-decoration-color: #c0c0c0\"></span>│\n",
       "└────────────────────────────┴───────────────────┴────────────────────┴───────────────────┴┴┘\n",
       "</pre>\n"
      ],
      "text/plain": [
       "\u001b[3m                                       Result Analysis                                       \u001b[0m\n",
       "┏━━━━━━━━━━━━━━━━━━━━━━━━━━━━┳━━━━━━━━━━━━━━━━━━━┳━━━━━━━━━━━━━━━━━━━━┳━━━━━━━━━━━━━━━━━━━┳┳┓\n",
       "┃\u001b[1m \u001b[0m\u001b[1mModel                     \u001b[0m\u001b[1m \u001b[0m┃\u001b[1m \u001b[0m\u001b[1mAccuracy         \u001b[0m\u001b[1m \u001b[0m┃\u001b[1m \u001b[0m\u001b[1mBalanced Accuracy \u001b[0m\u001b[1m \u001b[0m┃\u001b[1m \u001b[0m\u001b[1mF1 Score         \u001b[0m\u001b[1m \u001b[0m┃┃┃\n",
       "┡━━━━━━━━━━━━━━━━━━━━━━━━━━━━╇━━━━━━━━━━━━━━━━━━━╇━━━━━━━━━━━━━━━━━━━━╇━━━━━━━━━━━━━━━━━━━╇╇┩\n",
       "│\u001b[36m \u001b[0m\u001b[36mAdaBoostClassifier        \u001b[0m\u001b[36m \u001b[0m│\u001b[35m \u001b[0m\u001b[35m0.69827586206896…\u001b[0m\u001b[35m \u001b[0m│\u001b[32m \u001b[0m\u001b[32m0.601736111111111 \u001b[0m\u001b[32m \u001b[0m│\u001b[31m \u001b[0m\u001b[31m0.79651162790697…\u001b[0m\u001b[31m \u001b[0m│││\n",
       "│\u001b[36m \u001b[0m\u001b[36mBaggingClassifier         \u001b[0m\u001b[36m \u001b[0m│\u001b[35m \u001b[0m\u001b[35m0.646551724137931\u001b[0m\u001b[35m \u001b[0m│\u001b[32m \u001b[0m\u001b[32m0.5527777777777778\u001b[0m\u001b[32m \u001b[0m│\u001b[31m \u001b[0m\u001b[31m0.75739644970414…\u001b[0m\u001b[31m \u001b[0m│││\n",
       "│\u001b[36m \u001b[0m\u001b[36mBernoulliNB               \u001b[0m\u001b[36m \u001b[0m│\u001b[35m \u001b[0m\u001b[35m0.68534482758620…\u001b[0m\u001b[35m \u001b[0m│\u001b[32m \u001b[0m\u001b[32m0.5006944444444444\u001b[0m\u001b[32m \u001b[0m│\u001b[31m \u001b[0m\u001b[31m0.81233933161953…\u001b[0m\u001b[31m \u001b[0m│││\n",
       "│\u001b[36m \u001b[0m\u001b[36mCalibratedClassifierCV    \u001b[0m\u001b[36m \u001b[0m│\u001b[35m \u001b[0m\u001b[35m0.70689655172413…\u001b[0m\u001b[35m \u001b[0m│\u001b[32m \u001b[0m\u001b[32m0.6270833333333333\u001b[0m\u001b[32m \u001b[0m│\u001b[31m \u001b[0m\u001b[31m0.79761904761904…\u001b[0m\u001b[31m \u001b[0m│││\n",
       "│\u001b[36m \u001b[0m\u001b[36mComplementNB              \u001b[0m\u001b[36m \u001b[0m│\u001b[35m \u001b[0m\u001b[35m0.70258620689655…\u001b[0m\u001b[35m \u001b[0m│\u001b[32m \u001b[0m\u001b[32m0.5246527777777777\u001b[0m\u001b[32m \u001b[0m│\u001b[31m \u001b[0m\u001b[31m0.82170542635658…\u001b[0m\u001b[31m \u001b[0m│││\n",
       "│\u001b[36m \u001b[0m\u001b[36mDecisionTreeClassifier    \u001b[0m\u001b[36m \u001b[0m│\u001b[35m \u001b[0m\u001b[35m0.61206896551724…\u001b[0m\u001b[35m \u001b[0m│\u001b[32m \u001b[0m\u001b[32m0.554513888888889 \u001b[0m\u001b[32m \u001b[0m│\u001b[31m \u001b[0m\u001b[31m0.71518987341772…\u001b[0m\u001b[31m \u001b[0m│││\n",
       "│\u001b[36m \u001b[0m\u001b[36mDummyClassifier           \u001b[0m\u001b[36m \u001b[0m│\u001b[35m \u001b[0m\u001b[35m0.68965517241379…\u001b[0m\u001b[35m \u001b[0m│\u001b[32m \u001b[0m\u001b[32m0.5               \u001b[0m\u001b[32m \u001b[0m│\u001b[31m \u001b[0m\u001b[31m0.81632653061224…\u001b[0m\u001b[31m \u001b[0m│││\n",
       "│\u001b[36m \u001b[0m\u001b[36mExtraTreeClassifier       \u001b[0m\u001b[36m \u001b[0m│\u001b[35m \u001b[0m\u001b[35m0.70258620689655…\u001b[0m\u001b[35m \u001b[0m│\u001b[32m \u001b[0m\u001b[32m0.6277777777777778\u001b[0m\u001b[32m \u001b[0m│\u001b[31m \u001b[0m\u001b[31m0.79279279279279…\u001b[0m\u001b[31m \u001b[0m│││\n",
       "│\u001b[36m \u001b[0m\u001b[36mExtraTreesClassifier      \u001b[0m\u001b[36m \u001b[0m│\u001b[35m \u001b[0m\u001b[35m0.69827586206896…\u001b[0m\u001b[35m \u001b[0m│\u001b[32m \u001b[0m\u001b[32m0.5368055555555555\u001b[0m\u001b[32m \u001b[0m│\u001b[31m \u001b[0m\u001b[31m0.81481481481481…\u001b[0m\u001b[31m \u001b[0m│││\n",
       "│\u001b[36m \u001b[0m\u001b[36mGradientBoostingClassifier\u001b[0m\u001b[36m \u001b[0m│\u001b[35m \u001b[0m\u001b[35m0.67672413793103…\u001b[0m\u001b[35m \u001b[0m│\u001b[32m \u001b[0m\u001b[32m0.5402777777777777\u001b[0m\u001b[32m \u001b[0m│\u001b[31m \u001b[0m\u001b[31m0.79338842975206…\u001b[0m\u001b[31m \u001b[0m│││\n",
       "│\u001b[36m \u001b[0m\u001b[36mKNeighborsClassifier      \u001b[0m\u001b[36m \u001b[0m│\u001b[35m \u001b[0m\u001b[35m0.69827586206896…\u001b[0m\u001b[35m \u001b[0m│\u001b[32m \u001b[0m\u001b[32m0.5673611111111111\u001b[0m\u001b[32m \u001b[0m│\u001b[31m \u001b[0m\u001b[31m0.80662983425414…\u001b[0m\u001b[31m \u001b[0m│││\n",
       "│\u001b[36m \u001b[0m\u001b[36mLinearSVC                 \u001b[0m\u001b[36m \u001b[0m│\u001b[35m \u001b[0m\u001b[35m0.68965517241379…\u001b[0m\u001b[35m \u001b[0m│\u001b[32m \u001b[0m\u001b[32m0.5954861111111112\u001b[0m\u001b[32m \u001b[0m│\u001b[31m \u001b[0m\u001b[31m0.78947368421052…\u001b[0m\u001b[31m \u001b[0m│││\n",
       "│\u001b[36m \u001b[0m\u001b[36mLogisticRegression        \u001b[0m\u001b[36m \u001b[0m│\u001b[35m \u001b[0m\u001b[35m0.70689655172413…\u001b[0m\u001b[35m \u001b[0m│\u001b[32m \u001b[0m\u001b[32m0.546875          \u001b[0m\u001b[32m \u001b[0m│\u001b[31m \u001b[0m\u001b[31m0.82010582010582…\u001b[0m\u001b[31m \u001b[0m│││\n",
       "│\u001b[36m \u001b[0m\u001b[36mLogisticRegressionCV      \u001b[0m\u001b[36m \u001b[0m│\u001b[35m \u001b[0m\u001b[35m0.70689655172413…\u001b[0m\u001b[35m \u001b[0m│\u001b[32m \u001b[0m\u001b[32m0.58125           \u001b[0m\u001b[32m \u001b[0m│\u001b[31m \u001b[0m\u001b[31m0.811111111111111\u001b[0m\u001b[31m \u001b[0m│││\n",
       "│\u001b[36m \u001b[0m\u001b[36mMLPClassifier             \u001b[0m\u001b[36m \u001b[0m│\u001b[35m \u001b[0m\u001b[35m0.71982758620689…\u001b[0m\u001b[35m \u001b[0m│\u001b[32m \u001b[0m\u001b[32m0.6364583333333333\u001b[0m\u001b[32m \u001b[0m│\u001b[31m \u001b[0m\u001b[31m0.808259587020649\u001b[0m\u001b[31m \u001b[0m│││\n",
       "│\u001b[36m \u001b[0m\u001b[36mMultinomialNB             \u001b[0m\u001b[36m \u001b[0m│\u001b[35m \u001b[0m\u001b[35m0.68965517241379…\u001b[0m\u001b[35m \u001b[0m│\u001b[32m \u001b[0m\u001b[32m0.5               \u001b[0m\u001b[32m \u001b[0m│\u001b[31m \u001b[0m\u001b[31m0.81632653061224…\u001b[0m\u001b[31m \u001b[0m│││\n",
       "│\u001b[36m \u001b[0m\u001b[36mNearestCentroid           \u001b[0m\u001b[36m \u001b[0m│\u001b[35m \u001b[0m\u001b[35m0.68965517241379…\u001b[0m\u001b[35m \u001b[0m│\u001b[32m \u001b[0m\u001b[32m0.7177083333333334\u001b[0m\u001b[32m \u001b[0m│\u001b[31m \u001b[0m\u001b[31m0.74100719424460…\u001b[0m\u001b[31m \u001b[0m│││\n",
       "│\u001b[36m \u001b[0m\u001b[36mNuSVC                     \u001b[0m\u001b[36m \u001b[0m│\u001b[35m \u001b[0m\u001b[35m0.69827586206896…\u001b[0m\u001b[35m \u001b[0m│\u001b[32m \u001b[0m\u001b[32m0.5711805555555556\u001b[0m\u001b[32m \u001b[0m│\u001b[31m \u001b[0m\u001b[31m0.80555555555555…\u001b[0m\u001b[31m \u001b[0m│││\n",
       "│\u001b[36m \u001b[0m\u001b[36mPassiveAggressiveClassifi…\u001b[0m\u001b[36m \u001b[0m│\u001b[35m \u001b[0m\u001b[35m0.70689655172413…\u001b[0m\u001b[35m \u001b[0m│\u001b[32m \u001b[0m\u001b[32m0.6232638888888888\u001b[0m\u001b[32m \u001b[0m│\u001b[31m \u001b[0m\u001b[31m0.79881656804733…\u001b[0m\u001b[31m \u001b[0m│││\n",
       "│\u001b[36m \u001b[0m\u001b[36mPerceptron                \u001b[0m\u001b[36m \u001b[0m│\u001b[35m \u001b[0m\u001b[35m0.69827586206896…\u001b[0m\u001b[35m \u001b[0m│\u001b[32m \u001b[0m\u001b[32m0.6208333333333333\u001b[0m\u001b[32m \u001b[0m│\u001b[31m \u001b[0m\u001b[31m0.79041916167664…\u001b[0m\u001b[31m \u001b[0m│││\n",
       "│\u001b[36m \u001b[0m\u001b[36mRandomForestClassifier    \u001b[0m\u001b[36m \u001b[0m│\u001b[35m \u001b[0m\u001b[35m0.68965517241379…\u001b[0m\u001b[35m \u001b[0m│\u001b[32m \u001b[0m\u001b[32m0.5152777777777777\u001b[0m\u001b[32m \u001b[0m│\u001b[31m \u001b[0m\u001b[31m0.8125           \u001b[0m\u001b[31m \u001b[0m│││\n",
       "│\u001b[36m \u001b[0m\u001b[36mRidgeClassifier           \u001b[0m\u001b[36m \u001b[0m│\u001b[35m \u001b[0m\u001b[35m0.70258620689655…\u001b[0m\u001b[35m \u001b[0m│\u001b[32m \u001b[0m\u001b[32m0.5895833333333333\u001b[0m\u001b[32m \u001b[0m│\u001b[31m \u001b[0m\u001b[31m0.80453257790368…\u001b[0m\u001b[31m \u001b[0m│││\n",
       "│\u001b[36m \u001b[0m\u001b[36mSGDClassifier             \u001b[0m\u001b[36m \u001b[0m│\u001b[35m \u001b[0m\u001b[35m0.70689655172413…\u001b[0m\u001b[35m \u001b[0m│\u001b[32m \u001b[0m\u001b[32m0.6385416666666667\u001b[0m\u001b[32m \u001b[0m│\u001b[31m \u001b[0m\u001b[31m0.79393939393939…\u001b[0m\u001b[31m \u001b[0m│││\n",
       "│\u001b[36m \u001b[0m\u001b[36mSVC                       \u001b[0m\u001b[36m \u001b[0m│\u001b[35m \u001b[0m\u001b[35m0.69396551724137…\u001b[0m\u001b[35m \u001b[0m│\u001b[32m \u001b[0m\u001b[32m0.5069444444444444\u001b[0m\u001b[32m \u001b[0m│\u001b[31m \u001b[0m\u001b[31m0.81841432225063…\u001b[0m\u001b[31m \u001b[0m│││\n",
       "└────────────────────────────┴───────────────────┴────────────────────┴───────────────────┴┴┘\n"
      ]
     },
     "metadata": {},
     "output_type": "display_data"
    },
    {
     "name": "stdout",
     "output_type": "stream",
     "text": [
      "Fold Number: 2\n"
     ]
    },
    {
     "data": {
      "application/vnd.jupyter.widget-view+json": {
       "model_id": "561ddc31619e4a4c896bb8cd1219922d",
       "version_major": 2,
       "version_minor": 0
      },
      "text/plain": [
       "Output()"
      ]
     },
     "metadata": {},
     "output_type": "display_data"
    },
    {
     "data": {
      "text/html": [
       "<pre style=\"white-space:pre;overflow-x:auto;line-height:normal;font-family:Menlo,'DejaVu Sans Mono',consolas,'Courier New',monospace\">  Training AdaBoostClassifier estimator\n",
       "</pre>\n"
      ],
      "text/plain": [
       "  Training AdaBoostClassifier estimator\n"
      ]
     },
     "metadata": {},
     "output_type": "display_data"
    },
    {
     "data": {
      "text/html": [
       "<pre style=\"white-space:pre;overflow-x:auto;line-height:normal;font-family:Menlo,'DejaVu Sans Mono',consolas,'Courier New',monospace\">  Training BaggingClassifier estimator\n",
       "</pre>\n"
      ],
      "text/plain": [
       "  Training BaggingClassifier estimator\n"
      ]
     },
     "metadata": {},
     "output_type": "display_data"
    },
    {
     "data": {
      "text/html": [
       "<pre style=\"white-space:pre;overflow-x:auto;line-height:normal;font-family:Menlo,'DejaVu Sans Mono',consolas,'Courier New',monospace\">  Training BernoulliNB estimator\n",
       "</pre>\n"
      ],
      "text/plain": [
       "  Training BernoulliNB estimator\n"
      ]
     },
     "metadata": {},
     "output_type": "display_data"
    },
    {
     "data": {
      "text/html": [
       "<pre style=\"white-space:pre;overflow-x:auto;line-height:normal;font-family:Menlo,'DejaVu Sans Mono',consolas,'Courier New',monospace\">  Training CalibratedClassifierCV estimator\n",
       "</pre>\n"
      ],
      "text/plain": [
       "  Training CalibratedClassifierCV estimator\n"
      ]
     },
     "metadata": {},
     "output_type": "display_data"
    },
    {
     "data": {
      "text/html": [
       "<pre style=\"white-space:pre;overflow-x:auto;line-height:normal;font-family:Menlo,'DejaVu Sans Mono',consolas,'Courier New',monospace\">  Training ComplementNB estimator\n",
       "</pre>\n"
      ],
      "text/plain": [
       "  Training ComplementNB estimator\n"
      ]
     },
     "metadata": {},
     "output_type": "display_data"
    },
    {
     "data": {
      "text/html": [
       "<pre style=\"white-space:pre;overflow-x:auto;line-height:normal;font-family:Menlo,'DejaVu Sans Mono',consolas,'Courier New',monospace\">  Training DecisionTreeClassifier estimator\n",
       "</pre>\n"
      ],
      "text/plain": [
       "  Training DecisionTreeClassifier estimator\n"
      ]
     },
     "metadata": {},
     "output_type": "display_data"
    },
    {
     "data": {
      "text/html": [
       "<pre style=\"white-space:pre;overflow-x:auto;line-height:normal;font-family:Menlo,'DejaVu Sans Mono',consolas,'Courier New',monospace\">  Training DummyClassifier estimator\n",
       "</pre>\n"
      ],
      "text/plain": [
       "  Training DummyClassifier estimator\n"
      ]
     },
     "metadata": {},
     "output_type": "display_data"
    },
    {
     "data": {
      "text/html": [
       "<pre style=\"white-space:pre;overflow-x:auto;line-height:normal;font-family:Menlo,'DejaVu Sans Mono',consolas,'Courier New',monospace\">  Training ExtraTreeClassifier estimator\n",
       "</pre>\n"
      ],
      "text/plain": [
       "  Training ExtraTreeClassifier estimator\n"
      ]
     },
     "metadata": {},
     "output_type": "display_data"
    },
    {
     "data": {
      "text/html": [
       "<pre style=\"white-space:pre;overflow-x:auto;line-height:normal;font-family:Menlo,'DejaVu Sans Mono',consolas,'Courier New',monospace\">  Training ExtraTreesClassifier estimator\n",
       "</pre>\n"
      ],
      "text/plain": [
       "  Training ExtraTreesClassifier estimator\n"
      ]
     },
     "metadata": {},
     "output_type": "display_data"
    },
    {
     "data": {
      "text/html": [
       "<pre style=\"white-space:pre;overflow-x:auto;line-height:normal;font-family:Menlo,'DejaVu Sans Mono',consolas,'Courier New',monospace\">  Training GradientBoostingClassifier estimator\n",
       "</pre>\n"
      ],
      "text/plain": [
       "  Training GradientBoostingClassifier estimator\n"
      ]
     },
     "metadata": {},
     "output_type": "display_data"
    },
    {
     "data": {
      "text/html": [
       "<pre style=\"white-space:pre;overflow-x:auto;line-height:normal;font-family:Menlo,'DejaVu Sans Mono',consolas,'Courier New',monospace\">  Training KNeighborsClassifier estimator\n",
       "</pre>\n"
      ],
      "text/plain": [
       "  Training KNeighborsClassifier estimator\n"
      ]
     },
     "metadata": {},
     "output_type": "display_data"
    },
    {
     "data": {
      "text/html": [
       "<pre style=\"white-space:pre;overflow-x:auto;line-height:normal;font-family:Menlo,'DejaVu Sans Mono',consolas,'Courier New',monospace\">  Training LinearSVC estimator\n",
       "</pre>\n"
      ],
      "text/plain": [
       "  Training LinearSVC estimator\n"
      ]
     },
     "metadata": {},
     "output_type": "display_data"
    },
    {
     "data": {
      "text/html": [
       "<pre style=\"white-space:pre;overflow-x:auto;line-height:normal;font-family:Menlo,'DejaVu Sans Mono',consolas,'Courier New',monospace\">  Training LogisticRegression estimator\n",
       "</pre>\n"
      ],
      "text/plain": [
       "  Training LogisticRegression estimator\n"
      ]
     },
     "metadata": {},
     "output_type": "display_data"
    },
    {
     "data": {
      "text/html": [
       "<pre style=\"white-space:pre;overflow-x:auto;line-height:normal;font-family:Menlo,'DejaVu Sans Mono',consolas,'Courier New',monospace\">  Training LogisticRegressionCV estimator\n",
       "</pre>\n"
      ],
      "text/plain": [
       "  Training LogisticRegressionCV estimator\n"
      ]
     },
     "metadata": {},
     "output_type": "display_data"
    },
    {
     "data": {
      "text/html": [
       "<pre style=\"white-space:pre;overflow-x:auto;line-height:normal;font-family:Menlo,'DejaVu Sans Mono',consolas,'Courier New',monospace\">  Training MLPClassifier estimator\n",
       "</pre>\n"
      ],
      "text/plain": [
       "  Training MLPClassifier estimator\n"
      ]
     },
     "metadata": {},
     "output_type": "display_data"
    },
    {
     "data": {
      "text/html": [
       "<pre style=\"white-space:pre;overflow-x:auto;line-height:normal;font-family:Menlo,'DejaVu Sans Mono',consolas,'Courier New',monospace\">  Training MultinomialNB estimator\n",
       "</pre>\n"
      ],
      "text/plain": [
       "  Training MultinomialNB estimator\n"
      ]
     },
     "metadata": {},
     "output_type": "display_data"
    },
    {
     "data": {
      "text/html": [
       "<pre style=\"white-space:pre;overflow-x:auto;line-height:normal;font-family:Menlo,'DejaVu Sans Mono',consolas,'Courier New',monospace\">  Training NearestCentroid estimator\n",
       "</pre>\n"
      ],
      "text/plain": [
       "  Training NearestCentroid estimator\n"
      ]
     },
     "metadata": {},
     "output_type": "display_data"
    },
    {
     "data": {
      "text/html": [
       "<pre style=\"white-space:pre;overflow-x:auto;line-height:normal;font-family:Menlo,'DejaVu Sans Mono',consolas,'Courier New',monospace\">  Training NuSVC estimator\n",
       "</pre>\n"
      ],
      "text/plain": [
       "  Training NuSVC estimator\n"
      ]
     },
     "metadata": {},
     "output_type": "display_data"
    },
    {
     "data": {
      "text/html": [
       "<pre style=\"white-space:pre;overflow-x:auto;line-height:normal;font-family:Menlo,'DejaVu Sans Mono',consolas,'Courier New',monospace\">  Training PassiveAggressiveClassifier estimator\n",
       "</pre>\n"
      ],
      "text/plain": [
       "  Training PassiveAggressiveClassifier estimator\n"
      ]
     },
     "metadata": {},
     "output_type": "display_data"
    },
    {
     "data": {
      "text/html": [
       "<pre style=\"white-space:pre;overflow-x:auto;line-height:normal;font-family:Menlo,'DejaVu Sans Mono',consolas,'Courier New',monospace\">  Training Perceptron estimator\n",
       "</pre>\n"
      ],
      "text/plain": [
       "  Training Perceptron estimator\n"
      ]
     },
     "metadata": {},
     "output_type": "display_data"
    },
    {
     "data": {
      "text/html": [
       "<pre style=\"white-space:pre;overflow-x:auto;line-height:normal;font-family:Menlo,'DejaVu Sans Mono',consolas,'Courier New',monospace\">  Training RandomForestClassifier estimator\n",
       "</pre>\n"
      ],
      "text/plain": [
       "  Training RandomForestClassifier estimator\n"
      ]
     },
     "metadata": {},
     "output_type": "display_data"
    },
    {
     "data": {
      "text/html": [
       "<pre style=\"white-space:pre;overflow-x:auto;line-height:normal;font-family:Menlo,'DejaVu Sans Mono',consolas,'Courier New',monospace\">  Training RidgeClassifier estimator\n",
       "</pre>\n"
      ],
      "text/plain": [
       "  Training RidgeClassifier estimator\n"
      ]
     },
     "metadata": {},
     "output_type": "display_data"
    },
    {
     "data": {
      "text/html": [
       "<pre style=\"white-space:pre;overflow-x:auto;line-height:normal;font-family:Menlo,'DejaVu Sans Mono',consolas,'Courier New',monospace\">  Training SGDClassifier estimator\n",
       "</pre>\n"
      ],
      "text/plain": [
       "  Training SGDClassifier estimator\n"
      ]
     },
     "metadata": {},
     "output_type": "display_data"
    },
    {
     "data": {
      "text/html": [
       "<pre style=\"white-space:pre;overflow-x:auto;line-height:normal;font-family:Menlo,'DejaVu Sans Mono',consolas,'Courier New',monospace\">  Training SVC estimator\n",
       "</pre>\n"
      ],
      "text/plain": [
       "  Training SVC estimator\n"
      ]
     },
     "metadata": {},
     "output_type": "display_data"
    },
    {
     "data": {
      "text/html": [
       "<pre style=\"white-space:pre;overflow-x:auto;line-height:normal;font-family:Menlo,'DejaVu Sans Mono',consolas,'Courier New',monospace\"></pre>\n"
      ],
      "text/plain": []
     },
     "metadata": {},
     "output_type": "display_data"
    },
    {
     "data": {
      "text/html": [
       "<pre style=\"white-space:pre;overflow-x:auto;line-height:normal;font-family:Menlo,'DejaVu Sans Mono',consolas,'Courier New',monospace\">\n",
       "</pre>\n"
      ],
      "text/plain": [
       "\n"
      ]
     },
     "metadata": {},
     "output_type": "display_data"
    },
    {
     "data": {
      "text/html": [
       "<pre style=\"white-space:pre;overflow-x:auto;line-height:normal;font-family:Menlo,'DejaVu Sans Mono',consolas,'Courier New',monospace\"><span style=\"font-style: italic\">                                       Result Analysis                                       </span>\n",
       "┏━━━━━━━━━━━━━━━━━━━━━━━━━━━━┳━━━━━━━━━━━━━━━━━━━┳━━━━━━━━━━━━━━━━━━━━┳━━━━━━━━━━━━━━━━━━━┳┳┓\n",
       "┃<span style=\"font-weight: bold\"> Model                      </span>┃<span style=\"font-weight: bold\"> Accuracy          </span>┃<span style=\"font-weight: bold\"> Balanced Accuracy  </span>┃<span style=\"font-weight: bold\"> F1 Score          </span>┃<span style=\"font-weight: bold\"></span>┃<span style=\"font-weight: bold\"></span>┃\n",
       "┡━━━━━━━━━━━━━━━━━━━━━━━━━━━━╇━━━━━━━━━━━━━━━━━━━╇━━━━━━━━━━━━━━━━━━━━╇━━━━━━━━━━━━━━━━━━━╇╇┩\n",
       "│<span style=\"color: #008080; text-decoration-color: #008080\"> AdaBoostClassifier         </span>│<span style=\"color: #800080; text-decoration-color: #800080\"> 0.64224137931034… </span>│<span style=\"color: #008000; text-decoration-color: #008000\"> 0.56875            </span>│<span style=\"color: #800000; text-decoration-color: #800000\"> 0.74617737003058… </span>│<span style=\"color: #808000; text-decoration-color: #808000\"></span>│<span style=\"color: #c0c0c0; text-decoration-color: #c0c0c0\"></span>│\n",
       "│<span style=\"color: #008080; text-decoration-color: #008080\"> BaggingClassifier          </span>│<span style=\"color: #800080; text-decoration-color: #800080\"> 0.63362068965517… </span>│<span style=\"color: #008000; text-decoration-color: #008000\"> 0.528125           </span>│<span style=\"color: #800000; text-decoration-color: #800000\"> 0.75218658892128… </span>│<span style=\"color: #808000; text-decoration-color: #808000\"></span>│<span style=\"color: #c0c0c0; text-decoration-color: #c0c0c0\"></span>│\n",
       "│<span style=\"color: #008080; text-decoration-color: #008080\"> BernoulliNB                </span>│<span style=\"color: #800080; text-decoration-color: #800080\"> 0.69827586206896… </span>│<span style=\"color: #008000; text-decoration-color: #008000\"> 0.5138888888888888 </span>│<span style=\"color: #800000; text-decoration-color: #800000\"> 0.82051282051282… </span>│<span style=\"color: #808000; text-decoration-color: #808000\"></span>│<span style=\"color: #c0c0c0; text-decoration-color: #c0c0c0\"></span>│\n",
       "│<span style=\"color: #008080; text-decoration-color: #008080\"> CalibratedClassifierCV     </span>│<span style=\"color: #800080; text-decoration-color: #800080\"> 0.71551724137931… </span>│<span style=\"color: #008000; text-decoration-color: #008000\"> 0.6600694444444444 </span>│<span style=\"color: #800000; text-decoration-color: #800000\"> 0.79629629629629… </span>│<span style=\"color: #808000; text-decoration-color: #808000\"></span>│<span style=\"color: #c0c0c0; text-decoration-color: #c0c0c0\"></span>│\n",
       "│<span style=\"color: #008080; text-decoration-color: #008080\"> ComplementNB               </span>│<span style=\"color: #800080; text-decoration-color: #800080\"> 0.70258620689655… </span>│<span style=\"color: #008000; text-decoration-color: #008000\"> 0.5246527777777777 </span>│<span style=\"color: #800000; text-decoration-color: #800000\"> 0.82170542635658… </span>│<span style=\"color: #808000; text-decoration-color: #808000\"></span>│<span style=\"color: #c0c0c0; text-decoration-color: #c0c0c0\"></span>│\n",
       "│<span style=\"color: #008080; text-decoration-color: #008080\"> DecisionTreeClassifier     </span>│<span style=\"color: #800080; text-decoration-color: #800080\"> 0.61206896551724… </span>│<span style=\"color: #008000; text-decoration-color: #008000\"> 0.539236111111111  </span>│<span style=\"color: #800000; text-decoration-color: #800000\"> 0.72222222222222… </span>│<span style=\"color: #808000; text-decoration-color: #808000\"></span>│<span style=\"color: #c0c0c0; text-decoration-color: #c0c0c0\"></span>│\n",
       "│<span style=\"color: #008080; text-decoration-color: #008080\"> DummyClassifier            </span>│<span style=\"color: #800080; text-decoration-color: #800080\"> 0.68965517241379… </span>│<span style=\"color: #008000; text-decoration-color: #008000\"> 0.5                </span>│<span style=\"color: #800000; text-decoration-color: #800000\"> 0.81632653061224… </span>│<span style=\"color: #808000; text-decoration-color: #808000\"></span>│<span style=\"color: #c0c0c0; text-decoration-color: #c0c0c0\"></span>│\n",
       "│<span style=\"color: #008080; text-decoration-color: #008080\"> ExtraTreeClassifier        </span>│<span style=\"color: #800080; text-decoration-color: #800080\"> 0.63362068965517… </span>│<span style=\"color: #008000; text-decoration-color: #008000\"> 0.5319444444444444 </span>│<span style=\"color: #800000; text-decoration-color: #800000\"> 0.750733137829912 </span>│<span style=\"color: #808000; text-decoration-color: #808000\"></span>│<span style=\"color: #c0c0c0; text-decoration-color: #c0c0c0\"></span>│\n",
       "│<span style=\"color: #008080; text-decoration-color: #008080\"> ExtraTreesClassifier       </span>│<span style=\"color: #800080; text-decoration-color: #800080\"> 0.71982758620689… </span>│<span style=\"color: #008000; text-decoration-color: #008000\"> 0.5524305555555555 </span>│<span style=\"color: #800000; text-decoration-color: #800000\"> 0.83028720626631… </span>│<span style=\"color: #808000; text-decoration-color: #808000\"></span>│<span style=\"color: #c0c0c0; text-decoration-color: #c0c0c0\"></span>│\n",
       "│<span style=\"color: #008080; text-decoration-color: #008080\"> GradientBoostingClassifier </span>│<span style=\"color: #800080; text-decoration-color: #800080\"> 0.67672413793103… </span>│<span style=\"color: #008000; text-decoration-color: #008000\"> 0.5326388888888889 </span>│<span style=\"color: #800000; text-decoration-color: #800000\"> 0.79564032697547… </span>│<span style=\"color: #808000; text-decoration-color: #808000\"></span>│<span style=\"color: #c0c0c0; text-decoration-color: #c0c0c0\"></span>│\n",
       "│<span style=\"color: #008080; text-decoration-color: #008080\"> KNeighborsClassifier       </span>│<span style=\"color: #800080; text-decoration-color: #800080\"> 0.66810344827586… </span>│<span style=\"color: #008000; text-decoration-color: #008000\"> 0.553125           </span>│<span style=\"color: #800000; text-decoration-color: #800000\"> 0.78062678062678… </span>│<span style=\"color: #808000; text-decoration-color: #808000\"></span>│<span style=\"color: #c0c0c0; text-decoration-color: #c0c0c0\"></span>│\n",
       "│<span style=\"color: #008080; text-decoration-color: #008080\"> LinearSVC                  </span>│<span style=\"color: #800080; text-decoration-color: #800080\"> 0.71551724137931… </span>│<span style=\"color: #008000; text-decoration-color: #008000\"> 0.6409722222222223 </span>│<span style=\"color: #800000; text-decoration-color: #800000\"> 0.80239520958083… </span>│<span style=\"color: #808000; text-decoration-color: #808000\"></span>│<span style=\"color: #c0c0c0; text-decoration-color: #c0c0c0\"></span>│\n",
       "│<span style=\"color: #008080; text-decoration-color: #008080\"> LogisticRegression         </span>│<span style=\"color: #800080; text-decoration-color: #800080\"> 0.71120689655172… </span>│<span style=\"color: #008000; text-decoration-color: #008000\"> 0.55               </span>│<span style=\"color: #800000; text-decoration-color: #800000\"> 0.82321899736147… </span>│<span style=\"color: #808000; text-decoration-color: #808000\"></span>│<span style=\"color: #c0c0c0; text-decoration-color: #c0c0c0\"></span>│\n",
       "│<span style=\"color: #008080; text-decoration-color: #008080\"> LogisticRegressionCV       </span>│<span style=\"color: #800080; text-decoration-color: #800080\"> 0.71551724137931… </span>│<span style=\"color: #008000; text-decoration-color: #008000\"> 0.6524305555555555 </span>│<span style=\"color: #800000; text-decoration-color: #800000\"> 0.798780487804878 </span>│<span style=\"color: #808000; text-decoration-color: #808000\"></span>│<span style=\"color: #c0c0c0; text-decoration-color: #c0c0c0\"></span>│\n",
       "│<span style=\"color: #008080; text-decoration-color: #008080\"> MLPClassifier              </span>│<span style=\"color: #800080; text-decoration-color: #800080\"> 0.68965517241379… </span>│<span style=\"color: #008000; text-decoration-color: #008000\"> 0.6107638888888889 </span>│<span style=\"color: #800000; text-decoration-color: #800000\"> 0.78443113772455… </span>│<span style=\"color: #808000; text-decoration-color: #808000\"></span>│<span style=\"color: #c0c0c0; text-decoration-color: #c0c0c0\"></span>│\n",
       "│<span style=\"color: #008080; text-decoration-color: #008080\"> MultinomialNB              </span>│<span style=\"color: #800080; text-decoration-color: #800080\"> 0.68965517241379… </span>│<span style=\"color: #008000; text-decoration-color: #008000\"> 0.5                </span>│<span style=\"color: #800000; text-decoration-color: #800000\"> 0.81632653061224… </span>│<span style=\"color: #808000; text-decoration-color: #808000\"></span>│<span style=\"color: #c0c0c0; text-decoration-color: #c0c0c0\"></span>│\n",
       "│<span style=\"color: #008080; text-decoration-color: #008080\"> NearestCentroid            </span>│<span style=\"color: #800080; text-decoration-color: #800080\"> 0.63362068965517… </span>│<span style=\"color: #008000; text-decoration-color: #008000\"> 0.6732638888888889 </span>│<span style=\"color: #800000; text-decoration-color: #800000\"> 0.68164794007490… </span>│<span style=\"color: #808000; text-decoration-color: #808000\"></span>│<span style=\"color: #c0c0c0; text-decoration-color: #c0c0c0\"></span>│\n",
       "│<span style=\"color: #008080; text-decoration-color: #008080\"> NuSVC                      </span>│<span style=\"color: #800080; text-decoration-color: #800080\"> 0.71551724137931… </span>│<span style=\"color: #008000; text-decoration-color: #008000\"> 0.5913194444444444 </span>│<span style=\"color: #800000; text-decoration-color: #800000\"> 0.81666666666666… </span>│<span style=\"color: #808000; text-decoration-color: #808000\"></span>│<span style=\"color: #c0c0c0; text-decoration-color: #c0c0c0\"></span>│\n",
       "│<span style=\"color: #008080; text-decoration-color: #008080\"> PassiveAggressiveClassifi… </span>│<span style=\"color: #800080; text-decoration-color: #800080\"> 0.69827586206896… </span>│<span style=\"color: #008000; text-decoration-color: #008000\"> 0.6361111111111111 </span>│<span style=\"color: #800000; text-decoration-color: #800000\"> 0.78527607361963… </span>│<span style=\"color: #808000; text-decoration-color: #808000\"></span>│<span style=\"color: #c0c0c0; text-decoration-color: #c0c0c0\"></span>│\n",
       "│<span style=\"color: #008080; text-decoration-color: #008080\"> Perceptron                 </span>│<span style=\"color: #800080; text-decoration-color: #800080\"> 0.68103448275862… </span>│<span style=\"color: #008000; text-decoration-color: #008000\"> 0.6083333333333334 </span>│<span style=\"color: #800000; text-decoration-color: #800000\"> 0.77575757575757… </span>│<span style=\"color: #808000; text-decoration-color: #808000\"></span>│<span style=\"color: #c0c0c0; text-decoration-color: #c0c0c0\"></span>│\n",
       "│<span style=\"color: #008080; text-decoration-color: #008080\"> RandomForestClassifier     </span>│<span style=\"color: #800080; text-decoration-color: #800080\"> 0.70689655172413… </span>│<span style=\"color: #008000; text-decoration-color: #008000\"> 0.5315972222222223 </span>│<span style=\"color: #800000; text-decoration-color: #800000\"> 0.82383419689119… </span>│<span style=\"color: #808000; text-decoration-color: #808000\"></span>│<span style=\"color: #c0c0c0; text-decoration-color: #c0c0c0\"></span>│\n",
       "│<span style=\"color: #008080; text-decoration-color: #008080\"> RidgeClassifier            </span>│<span style=\"color: #800080; text-decoration-color: #800080\"> 0.71551724137931… </span>│<span style=\"color: #008000; text-decoration-color: #008000\"> 0.6065972222222222 </span>│<span style=\"color: #800000; text-decoration-color: #800000\"> 0.81249999999999… </span>│<span style=\"color: #808000; text-decoration-color: #808000\"></span>│<span style=\"color: #c0c0c0; text-decoration-color: #c0c0c0\"></span>│\n",
       "│<span style=\"color: #008080; text-decoration-color: #008080\"> SGDClassifier              </span>│<span style=\"color: #800080; text-decoration-color: #800080\"> 0.70258620689655… </span>│<span style=\"color: #008000; text-decoration-color: #008000\"> 0.6392361111111111 </span>│<span style=\"color: #800000; text-decoration-color: #800000\"> 0.78899082568807… </span>│<span style=\"color: #808000; text-decoration-color: #808000\"></span>│<span style=\"color: #c0c0c0; text-decoration-color: #c0c0c0\"></span>│\n",
       "│<span style=\"color: #008080; text-decoration-color: #008080\"> SVC                        </span>│<span style=\"color: #800080; text-decoration-color: #800080\"> 0.69827586206896… </span>│<span style=\"color: #008000; text-decoration-color: #008000\"> 0.5177083333333333 </span>│<span style=\"color: #800000; text-decoration-color: #800000\"> 0.81958762886597… </span>│<span style=\"color: #808000; text-decoration-color: #808000\"></span>│<span style=\"color: #c0c0c0; text-decoration-color: #c0c0c0\"></span>│\n",
       "└────────────────────────────┴───────────────────┴────────────────────┴───────────────────┴┴┘\n",
       "</pre>\n"
      ],
      "text/plain": [
       "\u001b[3m                                       Result Analysis                                       \u001b[0m\n",
       "┏━━━━━━━━━━━━━━━━━━━━━━━━━━━━┳━━━━━━━━━━━━━━━━━━━┳━━━━━━━━━━━━━━━━━━━━┳━━━━━━━━━━━━━━━━━━━┳┳┓\n",
       "┃\u001b[1m \u001b[0m\u001b[1mModel                     \u001b[0m\u001b[1m \u001b[0m┃\u001b[1m \u001b[0m\u001b[1mAccuracy         \u001b[0m\u001b[1m \u001b[0m┃\u001b[1m \u001b[0m\u001b[1mBalanced Accuracy \u001b[0m\u001b[1m \u001b[0m┃\u001b[1m \u001b[0m\u001b[1mF1 Score         \u001b[0m\u001b[1m \u001b[0m┃┃┃\n",
       "┡━━━━━━━━━━━━━━━━━━━━━━━━━━━━╇━━━━━━━━━━━━━━━━━━━╇━━━━━━━━━━━━━━━━━━━━╇━━━━━━━━━━━━━━━━━━━╇╇┩\n",
       "│\u001b[36m \u001b[0m\u001b[36mAdaBoostClassifier        \u001b[0m\u001b[36m \u001b[0m│\u001b[35m \u001b[0m\u001b[35m0.64224137931034…\u001b[0m\u001b[35m \u001b[0m│\u001b[32m \u001b[0m\u001b[32m0.56875           \u001b[0m\u001b[32m \u001b[0m│\u001b[31m \u001b[0m\u001b[31m0.74617737003058…\u001b[0m\u001b[31m \u001b[0m│││\n",
       "│\u001b[36m \u001b[0m\u001b[36mBaggingClassifier         \u001b[0m\u001b[36m \u001b[0m│\u001b[35m \u001b[0m\u001b[35m0.63362068965517…\u001b[0m\u001b[35m \u001b[0m│\u001b[32m \u001b[0m\u001b[32m0.528125          \u001b[0m\u001b[32m \u001b[0m│\u001b[31m \u001b[0m\u001b[31m0.75218658892128…\u001b[0m\u001b[31m \u001b[0m│││\n",
       "│\u001b[36m \u001b[0m\u001b[36mBernoulliNB               \u001b[0m\u001b[36m \u001b[0m│\u001b[35m \u001b[0m\u001b[35m0.69827586206896…\u001b[0m\u001b[35m \u001b[0m│\u001b[32m \u001b[0m\u001b[32m0.5138888888888888\u001b[0m\u001b[32m \u001b[0m│\u001b[31m \u001b[0m\u001b[31m0.82051282051282…\u001b[0m\u001b[31m \u001b[0m│││\n",
       "│\u001b[36m \u001b[0m\u001b[36mCalibratedClassifierCV    \u001b[0m\u001b[36m \u001b[0m│\u001b[35m \u001b[0m\u001b[35m0.71551724137931…\u001b[0m\u001b[35m \u001b[0m│\u001b[32m \u001b[0m\u001b[32m0.6600694444444444\u001b[0m\u001b[32m \u001b[0m│\u001b[31m \u001b[0m\u001b[31m0.79629629629629…\u001b[0m\u001b[31m \u001b[0m│││\n",
       "│\u001b[36m \u001b[0m\u001b[36mComplementNB              \u001b[0m\u001b[36m \u001b[0m│\u001b[35m \u001b[0m\u001b[35m0.70258620689655…\u001b[0m\u001b[35m \u001b[0m│\u001b[32m \u001b[0m\u001b[32m0.5246527777777777\u001b[0m\u001b[32m \u001b[0m│\u001b[31m \u001b[0m\u001b[31m0.82170542635658…\u001b[0m\u001b[31m \u001b[0m│││\n",
       "│\u001b[36m \u001b[0m\u001b[36mDecisionTreeClassifier    \u001b[0m\u001b[36m \u001b[0m│\u001b[35m \u001b[0m\u001b[35m0.61206896551724…\u001b[0m\u001b[35m \u001b[0m│\u001b[32m \u001b[0m\u001b[32m0.539236111111111 \u001b[0m\u001b[32m \u001b[0m│\u001b[31m \u001b[0m\u001b[31m0.72222222222222…\u001b[0m\u001b[31m \u001b[0m│││\n",
       "│\u001b[36m \u001b[0m\u001b[36mDummyClassifier           \u001b[0m\u001b[36m \u001b[0m│\u001b[35m \u001b[0m\u001b[35m0.68965517241379…\u001b[0m\u001b[35m \u001b[0m│\u001b[32m \u001b[0m\u001b[32m0.5               \u001b[0m\u001b[32m \u001b[0m│\u001b[31m \u001b[0m\u001b[31m0.81632653061224…\u001b[0m\u001b[31m \u001b[0m│││\n",
       "│\u001b[36m \u001b[0m\u001b[36mExtraTreeClassifier       \u001b[0m\u001b[36m \u001b[0m│\u001b[35m \u001b[0m\u001b[35m0.63362068965517…\u001b[0m\u001b[35m \u001b[0m│\u001b[32m \u001b[0m\u001b[32m0.5319444444444444\u001b[0m\u001b[32m \u001b[0m│\u001b[31m \u001b[0m\u001b[31m0.750733137829912\u001b[0m\u001b[31m \u001b[0m│││\n",
       "│\u001b[36m \u001b[0m\u001b[36mExtraTreesClassifier      \u001b[0m\u001b[36m \u001b[0m│\u001b[35m \u001b[0m\u001b[35m0.71982758620689…\u001b[0m\u001b[35m \u001b[0m│\u001b[32m \u001b[0m\u001b[32m0.5524305555555555\u001b[0m\u001b[32m \u001b[0m│\u001b[31m \u001b[0m\u001b[31m0.83028720626631…\u001b[0m\u001b[31m \u001b[0m│││\n",
       "│\u001b[36m \u001b[0m\u001b[36mGradientBoostingClassifier\u001b[0m\u001b[36m \u001b[0m│\u001b[35m \u001b[0m\u001b[35m0.67672413793103…\u001b[0m\u001b[35m \u001b[0m│\u001b[32m \u001b[0m\u001b[32m0.5326388888888889\u001b[0m\u001b[32m \u001b[0m│\u001b[31m \u001b[0m\u001b[31m0.79564032697547…\u001b[0m\u001b[31m \u001b[0m│││\n",
       "│\u001b[36m \u001b[0m\u001b[36mKNeighborsClassifier      \u001b[0m\u001b[36m \u001b[0m│\u001b[35m \u001b[0m\u001b[35m0.66810344827586…\u001b[0m\u001b[35m \u001b[0m│\u001b[32m \u001b[0m\u001b[32m0.553125          \u001b[0m\u001b[32m \u001b[0m│\u001b[31m \u001b[0m\u001b[31m0.78062678062678…\u001b[0m\u001b[31m \u001b[0m│││\n",
       "│\u001b[36m \u001b[0m\u001b[36mLinearSVC                 \u001b[0m\u001b[36m \u001b[0m│\u001b[35m \u001b[0m\u001b[35m0.71551724137931…\u001b[0m\u001b[35m \u001b[0m│\u001b[32m \u001b[0m\u001b[32m0.6409722222222223\u001b[0m\u001b[32m \u001b[0m│\u001b[31m \u001b[0m\u001b[31m0.80239520958083…\u001b[0m\u001b[31m \u001b[0m│││\n",
       "│\u001b[36m \u001b[0m\u001b[36mLogisticRegression        \u001b[0m\u001b[36m \u001b[0m│\u001b[35m \u001b[0m\u001b[35m0.71120689655172…\u001b[0m\u001b[35m \u001b[0m│\u001b[32m \u001b[0m\u001b[32m0.55              \u001b[0m\u001b[32m \u001b[0m│\u001b[31m \u001b[0m\u001b[31m0.82321899736147…\u001b[0m\u001b[31m \u001b[0m│││\n",
       "│\u001b[36m \u001b[0m\u001b[36mLogisticRegressionCV      \u001b[0m\u001b[36m \u001b[0m│\u001b[35m \u001b[0m\u001b[35m0.71551724137931…\u001b[0m\u001b[35m \u001b[0m│\u001b[32m \u001b[0m\u001b[32m0.6524305555555555\u001b[0m\u001b[32m \u001b[0m│\u001b[31m \u001b[0m\u001b[31m0.798780487804878\u001b[0m\u001b[31m \u001b[0m│││\n",
       "│\u001b[36m \u001b[0m\u001b[36mMLPClassifier             \u001b[0m\u001b[36m \u001b[0m│\u001b[35m \u001b[0m\u001b[35m0.68965517241379…\u001b[0m\u001b[35m \u001b[0m│\u001b[32m \u001b[0m\u001b[32m0.6107638888888889\u001b[0m\u001b[32m \u001b[0m│\u001b[31m \u001b[0m\u001b[31m0.78443113772455…\u001b[0m\u001b[31m \u001b[0m│││\n",
       "│\u001b[36m \u001b[0m\u001b[36mMultinomialNB             \u001b[0m\u001b[36m \u001b[0m│\u001b[35m \u001b[0m\u001b[35m0.68965517241379…\u001b[0m\u001b[35m \u001b[0m│\u001b[32m \u001b[0m\u001b[32m0.5               \u001b[0m\u001b[32m \u001b[0m│\u001b[31m \u001b[0m\u001b[31m0.81632653061224…\u001b[0m\u001b[31m \u001b[0m│││\n",
       "│\u001b[36m \u001b[0m\u001b[36mNearestCentroid           \u001b[0m\u001b[36m \u001b[0m│\u001b[35m \u001b[0m\u001b[35m0.63362068965517…\u001b[0m\u001b[35m \u001b[0m│\u001b[32m \u001b[0m\u001b[32m0.6732638888888889\u001b[0m\u001b[32m \u001b[0m│\u001b[31m \u001b[0m\u001b[31m0.68164794007490…\u001b[0m\u001b[31m \u001b[0m│││\n",
       "│\u001b[36m \u001b[0m\u001b[36mNuSVC                     \u001b[0m\u001b[36m \u001b[0m│\u001b[35m \u001b[0m\u001b[35m0.71551724137931…\u001b[0m\u001b[35m \u001b[0m│\u001b[32m \u001b[0m\u001b[32m0.5913194444444444\u001b[0m\u001b[32m \u001b[0m│\u001b[31m \u001b[0m\u001b[31m0.81666666666666…\u001b[0m\u001b[31m \u001b[0m│││\n",
       "│\u001b[36m \u001b[0m\u001b[36mPassiveAggressiveClassifi…\u001b[0m\u001b[36m \u001b[0m│\u001b[35m \u001b[0m\u001b[35m0.69827586206896…\u001b[0m\u001b[35m \u001b[0m│\u001b[32m \u001b[0m\u001b[32m0.6361111111111111\u001b[0m\u001b[32m \u001b[0m│\u001b[31m \u001b[0m\u001b[31m0.78527607361963…\u001b[0m\u001b[31m \u001b[0m│││\n",
       "│\u001b[36m \u001b[0m\u001b[36mPerceptron                \u001b[0m\u001b[36m \u001b[0m│\u001b[35m \u001b[0m\u001b[35m0.68103448275862…\u001b[0m\u001b[35m \u001b[0m│\u001b[32m \u001b[0m\u001b[32m0.6083333333333334\u001b[0m\u001b[32m \u001b[0m│\u001b[31m \u001b[0m\u001b[31m0.77575757575757…\u001b[0m\u001b[31m \u001b[0m│││\n",
       "│\u001b[36m \u001b[0m\u001b[36mRandomForestClassifier    \u001b[0m\u001b[36m \u001b[0m│\u001b[35m \u001b[0m\u001b[35m0.70689655172413…\u001b[0m\u001b[35m \u001b[0m│\u001b[32m \u001b[0m\u001b[32m0.5315972222222223\u001b[0m\u001b[32m \u001b[0m│\u001b[31m \u001b[0m\u001b[31m0.82383419689119…\u001b[0m\u001b[31m \u001b[0m│││\n",
       "│\u001b[36m \u001b[0m\u001b[36mRidgeClassifier           \u001b[0m\u001b[36m \u001b[0m│\u001b[35m \u001b[0m\u001b[35m0.71551724137931…\u001b[0m\u001b[35m \u001b[0m│\u001b[32m \u001b[0m\u001b[32m0.6065972222222222\u001b[0m\u001b[32m \u001b[0m│\u001b[31m \u001b[0m\u001b[31m0.81249999999999…\u001b[0m\u001b[31m \u001b[0m│││\n",
       "│\u001b[36m \u001b[0m\u001b[36mSGDClassifier             \u001b[0m\u001b[36m \u001b[0m│\u001b[35m \u001b[0m\u001b[35m0.70258620689655…\u001b[0m\u001b[35m \u001b[0m│\u001b[32m \u001b[0m\u001b[32m0.6392361111111111\u001b[0m\u001b[32m \u001b[0m│\u001b[31m \u001b[0m\u001b[31m0.78899082568807…\u001b[0m\u001b[31m \u001b[0m│││\n",
       "│\u001b[36m \u001b[0m\u001b[36mSVC                       \u001b[0m\u001b[36m \u001b[0m│\u001b[35m \u001b[0m\u001b[35m0.69827586206896…\u001b[0m\u001b[35m \u001b[0m│\u001b[32m \u001b[0m\u001b[32m0.5177083333333333\u001b[0m\u001b[32m \u001b[0m│\u001b[31m \u001b[0m\u001b[31m0.81958762886597…\u001b[0m\u001b[31m \u001b[0m│││\n",
       "└────────────────────────────┴───────────────────┴────────────────────┴───────────────────┴┴┘\n"
      ]
     },
     "metadata": {},
     "output_type": "display_data"
    },
    {
     "name": "stdout",
     "output_type": "stream",
     "text": [
      "Fold Number: 3\n"
     ]
    },
    {
     "data": {
      "application/vnd.jupyter.widget-view+json": {
       "model_id": "4a50fef9ad394029bc99964f7c30c513",
       "version_major": 2,
       "version_minor": 0
      },
      "text/plain": [
       "Output()"
      ]
     },
     "metadata": {},
     "output_type": "display_data"
    },
    {
     "data": {
      "text/html": [
       "<pre style=\"white-space:pre;overflow-x:auto;line-height:normal;font-family:Menlo,'DejaVu Sans Mono',consolas,'Courier New',monospace\">  Training AdaBoostClassifier estimator\n",
       "</pre>\n"
      ],
      "text/plain": [
       "  Training AdaBoostClassifier estimator\n"
      ]
     },
     "metadata": {},
     "output_type": "display_data"
    },
    {
     "data": {
      "text/html": [
       "<pre style=\"white-space:pre;overflow-x:auto;line-height:normal;font-family:Menlo,'DejaVu Sans Mono',consolas,'Courier New',monospace\">  Training BaggingClassifier estimator\n",
       "</pre>\n"
      ],
      "text/plain": [
       "  Training BaggingClassifier estimator\n"
      ]
     },
     "metadata": {},
     "output_type": "display_data"
    },
    {
     "data": {
      "text/html": [
       "<pre style=\"white-space:pre;overflow-x:auto;line-height:normal;font-family:Menlo,'DejaVu Sans Mono',consolas,'Courier New',monospace\">  Training BernoulliNB estimator\n",
       "</pre>\n"
      ],
      "text/plain": [
       "  Training BernoulliNB estimator\n"
      ]
     },
     "metadata": {},
     "output_type": "display_data"
    },
    {
     "data": {
      "text/html": [
       "<pre style=\"white-space:pre;overflow-x:auto;line-height:normal;font-family:Menlo,'DejaVu Sans Mono',consolas,'Courier New',monospace\">  Training CalibratedClassifierCV estimator\n",
       "</pre>\n"
      ],
      "text/plain": [
       "  Training CalibratedClassifierCV estimator\n"
      ]
     },
     "metadata": {},
     "output_type": "display_data"
    },
    {
     "data": {
      "text/html": [
       "<pre style=\"white-space:pre;overflow-x:auto;line-height:normal;font-family:Menlo,'DejaVu Sans Mono',consolas,'Courier New',monospace\">  Training ComplementNB estimator\n",
       "</pre>\n"
      ],
      "text/plain": [
       "  Training ComplementNB estimator\n"
      ]
     },
     "metadata": {},
     "output_type": "display_data"
    },
    {
     "data": {
      "text/html": [
       "<pre style=\"white-space:pre;overflow-x:auto;line-height:normal;font-family:Menlo,'DejaVu Sans Mono',consolas,'Courier New',monospace\">  Training DecisionTreeClassifier estimator\n",
       "</pre>\n"
      ],
      "text/plain": [
       "  Training DecisionTreeClassifier estimator\n"
      ]
     },
     "metadata": {},
     "output_type": "display_data"
    },
    {
     "data": {
      "text/html": [
       "<pre style=\"white-space:pre;overflow-x:auto;line-height:normal;font-family:Menlo,'DejaVu Sans Mono',consolas,'Courier New',monospace\">  Training DummyClassifier estimator\n",
       "</pre>\n"
      ],
      "text/plain": [
       "  Training DummyClassifier estimator\n"
      ]
     },
     "metadata": {},
     "output_type": "display_data"
    },
    {
     "data": {
      "text/html": [
       "<pre style=\"white-space:pre;overflow-x:auto;line-height:normal;font-family:Menlo,'DejaVu Sans Mono',consolas,'Courier New',monospace\">  Training ExtraTreeClassifier estimator\n",
       "</pre>\n"
      ],
      "text/plain": [
       "  Training ExtraTreeClassifier estimator\n"
      ]
     },
     "metadata": {},
     "output_type": "display_data"
    },
    {
     "data": {
      "text/html": [
       "<pre style=\"white-space:pre;overflow-x:auto;line-height:normal;font-family:Menlo,'DejaVu Sans Mono',consolas,'Courier New',monospace\">  Training ExtraTreesClassifier estimator\n",
       "</pre>\n"
      ],
      "text/plain": [
       "  Training ExtraTreesClassifier estimator\n"
      ]
     },
     "metadata": {},
     "output_type": "display_data"
    },
    {
     "data": {
      "text/html": [
       "<pre style=\"white-space:pre;overflow-x:auto;line-height:normal;font-family:Menlo,'DejaVu Sans Mono',consolas,'Courier New',monospace\">  Training GradientBoostingClassifier estimator\n",
       "</pre>\n"
      ],
      "text/plain": [
       "  Training GradientBoostingClassifier estimator\n"
      ]
     },
     "metadata": {},
     "output_type": "display_data"
    },
    {
     "data": {
      "text/html": [
       "<pre style=\"white-space:pre;overflow-x:auto;line-height:normal;font-family:Menlo,'DejaVu Sans Mono',consolas,'Courier New',monospace\">  Training KNeighborsClassifier estimator\n",
       "</pre>\n"
      ],
      "text/plain": [
       "  Training KNeighborsClassifier estimator\n"
      ]
     },
     "metadata": {},
     "output_type": "display_data"
    },
    {
     "data": {
      "text/html": [
       "<pre style=\"white-space:pre;overflow-x:auto;line-height:normal;font-family:Menlo,'DejaVu Sans Mono',consolas,'Courier New',monospace\">  Training LinearSVC estimator\n",
       "</pre>\n"
      ],
      "text/plain": [
       "  Training LinearSVC estimator\n"
      ]
     },
     "metadata": {},
     "output_type": "display_data"
    },
    {
     "data": {
      "text/html": [
       "<pre style=\"white-space:pre;overflow-x:auto;line-height:normal;font-family:Menlo,'DejaVu Sans Mono',consolas,'Courier New',monospace\">  Training LogisticRegression estimator\n",
       "</pre>\n"
      ],
      "text/plain": [
       "  Training LogisticRegression estimator\n"
      ]
     },
     "metadata": {},
     "output_type": "display_data"
    },
    {
     "data": {
      "text/html": [
       "<pre style=\"white-space:pre;overflow-x:auto;line-height:normal;font-family:Menlo,'DejaVu Sans Mono',consolas,'Courier New',monospace\">  Training LogisticRegressionCV estimator\n",
       "</pre>\n"
      ],
      "text/plain": [
       "  Training LogisticRegressionCV estimator\n"
      ]
     },
     "metadata": {},
     "output_type": "display_data"
    },
    {
     "data": {
      "text/html": [
       "<pre style=\"white-space:pre;overflow-x:auto;line-height:normal;font-family:Menlo,'DejaVu Sans Mono',consolas,'Courier New',monospace\">  Training MLPClassifier estimator\n",
       "</pre>\n"
      ],
      "text/plain": [
       "  Training MLPClassifier estimator\n"
      ]
     },
     "metadata": {},
     "output_type": "display_data"
    },
    {
     "data": {
      "text/html": [
       "<pre style=\"white-space:pre;overflow-x:auto;line-height:normal;font-family:Menlo,'DejaVu Sans Mono',consolas,'Courier New',monospace\">  Training MultinomialNB estimator\n",
       "</pre>\n"
      ],
      "text/plain": [
       "  Training MultinomialNB estimator\n"
      ]
     },
     "metadata": {},
     "output_type": "display_data"
    },
    {
     "data": {
      "text/html": [
       "<pre style=\"white-space:pre;overflow-x:auto;line-height:normal;font-family:Menlo,'DejaVu Sans Mono',consolas,'Courier New',monospace\">  Training NearestCentroid estimator\n",
       "</pre>\n"
      ],
      "text/plain": [
       "  Training NearestCentroid estimator\n"
      ]
     },
     "metadata": {},
     "output_type": "display_data"
    },
    {
     "data": {
      "text/html": [
       "<pre style=\"white-space:pre;overflow-x:auto;line-height:normal;font-family:Menlo,'DejaVu Sans Mono',consolas,'Courier New',monospace\">  Training NuSVC estimator\n",
       "</pre>\n"
      ],
      "text/plain": [
       "  Training NuSVC estimator\n"
      ]
     },
     "metadata": {},
     "output_type": "display_data"
    },
    {
     "data": {
      "text/html": [
       "<pre style=\"white-space:pre;overflow-x:auto;line-height:normal;font-family:Menlo,'DejaVu Sans Mono',consolas,'Courier New',monospace\">  Training PassiveAggressiveClassifier estimator\n",
       "</pre>\n"
      ],
      "text/plain": [
       "  Training PassiveAggressiveClassifier estimator\n"
      ]
     },
     "metadata": {},
     "output_type": "display_data"
    },
    {
     "data": {
      "text/html": [
       "<pre style=\"white-space:pre;overflow-x:auto;line-height:normal;font-family:Menlo,'DejaVu Sans Mono',consolas,'Courier New',monospace\">  Training Perceptron estimator\n",
       "</pre>\n"
      ],
      "text/plain": [
       "  Training Perceptron estimator\n"
      ]
     },
     "metadata": {},
     "output_type": "display_data"
    },
    {
     "data": {
      "text/html": [
       "<pre style=\"white-space:pre;overflow-x:auto;line-height:normal;font-family:Menlo,'DejaVu Sans Mono',consolas,'Courier New',monospace\">  Training RandomForestClassifier estimator\n",
       "</pre>\n"
      ],
      "text/plain": [
       "  Training RandomForestClassifier estimator\n"
      ]
     },
     "metadata": {},
     "output_type": "display_data"
    },
    {
     "data": {
      "text/html": [
       "<pre style=\"white-space:pre;overflow-x:auto;line-height:normal;font-family:Menlo,'DejaVu Sans Mono',consolas,'Courier New',monospace\">  Training RidgeClassifier estimator\n",
       "</pre>\n"
      ],
      "text/plain": [
       "  Training RidgeClassifier estimator\n"
      ]
     },
     "metadata": {},
     "output_type": "display_data"
    },
    {
     "data": {
      "text/html": [
       "<pre style=\"white-space:pre;overflow-x:auto;line-height:normal;font-family:Menlo,'DejaVu Sans Mono',consolas,'Courier New',monospace\">  Training SGDClassifier estimator\n",
       "</pre>\n"
      ],
      "text/plain": [
       "  Training SGDClassifier estimator\n"
      ]
     },
     "metadata": {},
     "output_type": "display_data"
    },
    {
     "data": {
      "text/html": [
       "<pre style=\"white-space:pre;overflow-x:auto;line-height:normal;font-family:Menlo,'DejaVu Sans Mono',consolas,'Courier New',monospace\">  Training SVC estimator\n",
       "</pre>\n"
      ],
      "text/plain": [
       "  Training SVC estimator\n"
      ]
     },
     "metadata": {},
     "output_type": "display_data"
    },
    {
     "data": {
      "text/html": [
       "<pre style=\"white-space:pre;overflow-x:auto;line-height:normal;font-family:Menlo,'DejaVu Sans Mono',consolas,'Courier New',monospace\"></pre>\n"
      ],
      "text/plain": []
     },
     "metadata": {},
     "output_type": "display_data"
    },
    {
     "data": {
      "text/html": [
       "<pre style=\"white-space:pre;overflow-x:auto;line-height:normal;font-family:Menlo,'DejaVu Sans Mono',consolas,'Courier New',monospace\">\n",
       "</pre>\n"
      ],
      "text/plain": [
       "\n"
      ]
     },
     "metadata": {},
     "output_type": "display_data"
    },
    {
     "data": {
      "text/html": [
       "<pre style=\"white-space:pre;overflow-x:auto;line-height:normal;font-family:Menlo,'DejaVu Sans Mono',consolas,'Courier New',monospace\"><span style=\"font-style: italic\">                                       Result Analysis                                       </span>\n",
       "┏━━━━━━━━━━━━━━━━━━━━━━━━━━━━┳━━━━━━━━━━━━━━━━━━━┳━━━━━━━━━━━━━━━━━━━━┳━━━━━━━━━━━━━━━━━━━┳┳┓\n",
       "┃<span style=\"font-weight: bold\"> Model                      </span>┃<span style=\"font-weight: bold\"> Accuracy          </span>┃<span style=\"font-weight: bold\"> Balanced Accuracy  </span>┃<span style=\"font-weight: bold\"> F1 Score          </span>┃<span style=\"font-weight: bold\"></span>┃<span style=\"font-weight: bold\"></span>┃\n",
       "┡━━━━━━━━━━━━━━━━━━━━━━━━━━━━╇━━━━━━━━━━━━━━━━━━━╇━━━━━━━━━━━━━━━━━━━━╇━━━━━━━━━━━━━━━━━━━╇╇┩\n",
       "│<span style=\"color: #008080; text-decoration-color: #008080\"> AdaBoostClassifier         </span>│<span style=\"color: #800080; text-decoration-color: #800080\"> 0.70258620689655… </span>│<span style=\"color: #008000; text-decoration-color: #008000\"> 0.6010416666666667 </span>│<span style=\"color: #800000; text-decoration-color: #800000\"> 0.80115273775216… </span>│<span style=\"color: #808000; text-decoration-color: #808000\"></span>│<span style=\"color: #c0c0c0; text-decoration-color: #c0c0c0\"></span>│\n",
       "│<span style=\"color: #008080; text-decoration-color: #008080\"> BaggingClassifier          </span>│<span style=\"color: #800080; text-decoration-color: #800080\"> 0.646551724137931 </span>│<span style=\"color: #008000; text-decoration-color: #008000\"> 0.5336805555555556 </span>│<span style=\"color: #800000; text-decoration-color: #800000\"> 0.76436781609195… </span>│<span style=\"color: #808000; text-decoration-color: #808000\"></span>│<span style=\"color: #c0c0c0; text-decoration-color: #c0c0c0\"></span>│\n",
       "│<span style=\"color: #008080; text-decoration-color: #008080\"> BernoulliNB                </span>│<span style=\"color: #800080; text-decoration-color: #800080\"> 0.68965517241379… </span>│<span style=\"color: #008000; text-decoration-color: #008000\"> 0.5038194444444445 </span>│<span style=\"color: #800000; text-decoration-color: #800000\"> 0.81538461538461… </span>│<span style=\"color: #808000; text-decoration-color: #808000\"></span>│<span style=\"color: #c0c0c0; text-decoration-color: #c0c0c0\"></span>│\n",
       "│<span style=\"color: #008080; text-decoration-color: #008080\"> CalibratedClassifierCV     </span>│<span style=\"color: #800080; text-decoration-color: #800080\"> 0.74137931034482… </span>│<span style=\"color: #008000; text-decoration-color: #008000\"> 0.6559027777777777 </span>│<span style=\"color: #800000; text-decoration-color: #800000\"> 0.82456140350877… </span>│<span style=\"color: #808000; text-decoration-color: #808000\"></span>│<span style=\"color: #c0c0c0; text-decoration-color: #c0c0c0\"></span>│\n",
       "│<span style=\"color: #008080; text-decoration-color: #008080\"> ComplementNB               </span>│<span style=\"color: #800080; text-decoration-color: #800080\"> 0.71120689655172… </span>│<span style=\"color: #008000; text-decoration-color: #008000\"> 0.5385416666666667 </span>│<span style=\"color: #800000; text-decoration-color: #800000\"> 0.825974025974026 </span>│<span style=\"color: #808000; text-decoration-color: #808000\"></span>│<span style=\"color: #c0c0c0; text-decoration-color: #c0c0c0\"></span>│\n",
       "│<span style=\"color: #008080; text-decoration-color: #008080\"> DecisionTreeClassifier     </span>│<span style=\"color: #800080; text-decoration-color: #800080\"> 0.67241379310344… </span>│<span style=\"color: #008000; text-decoration-color: #008000\"> 0.5982638888888889 </span>│<span style=\"color: #800000; text-decoration-color: #800000\"> 0.76969696969696… </span>│<span style=\"color: #808000; text-decoration-color: #808000\"></span>│<span style=\"color: #c0c0c0; text-decoration-color: #c0c0c0\"></span>│\n",
       "│<span style=\"color: #008080; text-decoration-color: #008080\"> DummyClassifier            </span>│<span style=\"color: #800080; text-decoration-color: #800080\"> 0.68965517241379… </span>│<span style=\"color: #008000; text-decoration-color: #008000\"> 0.5                </span>│<span style=\"color: #800000; text-decoration-color: #800000\"> 0.81632653061224… </span>│<span style=\"color: #808000; text-decoration-color: #808000\"></span>│<span style=\"color: #c0c0c0; text-decoration-color: #c0c0c0\"></span>│\n",
       "│<span style=\"color: #008080; text-decoration-color: #008080\"> ExtraTreeClassifier        </span>│<span style=\"color: #800080; text-decoration-color: #800080\"> 0.65948275862068… </span>│<span style=\"color: #008000; text-decoration-color: #008000\"> 0.5774305555555556 </span>│<span style=\"color: #800000; text-decoration-color: #800000\"> 0.76276276276276… </span>│<span style=\"color: #808000; text-decoration-color: #808000\"></span>│<span style=\"color: #c0c0c0; text-decoration-color: #c0c0c0\"></span>│\n",
       "│<span style=\"color: #008080; text-decoration-color: #008080\"> ExtraTreesClassifier       </span>│<span style=\"color: #800080; text-decoration-color: #800080\"> 0.68534482758620… </span>│<span style=\"color: #008000; text-decoration-color: #008000\"> 0.5197916666666667 </span>│<span style=\"color: #800000; text-decoration-color: #800000\"> 0.80738786279683… </span>│<span style=\"color: #808000; text-decoration-color: #808000\"></span>│<span style=\"color: #c0c0c0; text-decoration-color: #c0c0c0\"></span>│\n",
       "│<span style=\"color: #008080; text-decoration-color: #008080\"> GradientBoostingClassifier </span>│<span style=\"color: #800080; text-decoration-color: #800080\"> 0.67241379310344… </span>│<span style=\"color: #008000; text-decoration-color: #008000\"> 0.5256944444444445 </span>│<span style=\"color: #800000; text-decoration-color: #800000\"> 0.79347826086956… </span>│<span style=\"color: #808000; text-decoration-color: #808000\"></span>│<span style=\"color: #c0c0c0; text-decoration-color: #c0c0c0\"></span>│\n",
       "│<span style=\"color: #008080; text-decoration-color: #008080\"> KNeighborsClassifier       </span>│<span style=\"color: #800080; text-decoration-color: #800080\"> 0.68965517241379… </span>│<span style=\"color: #008000; text-decoration-color: #008000\"> 0.5725694444444445 </span>│<span style=\"color: #800000; text-decoration-color: #800000\"> 0.79661016949152… </span>│<span style=\"color: #808000; text-decoration-color: #808000\"></span>│<span style=\"color: #c0c0c0; text-decoration-color: #c0c0c0\"></span>│\n",
       "│<span style=\"color: #008080; text-decoration-color: #008080\"> LinearSVC                  </span>│<span style=\"color: #800080; text-decoration-color: #800080\"> 0.73706896551724… </span>│<span style=\"color: #008000; text-decoration-color: #008000\"> 0.6489583333333333 </span>│<span style=\"color: #800000; text-decoration-color: #800000\"> 0.82215743440233… </span>│<span style=\"color: #808000; text-decoration-color: #808000\"></span>│<span style=\"color: #c0c0c0; text-decoration-color: #c0c0c0\"></span>│\n",
       "│<span style=\"color: #008080; text-decoration-color: #008080\"> LogisticRegression         </span>│<span style=\"color: #800080; text-decoration-color: #800080\"> 0.71120689655172… </span>│<span style=\"color: #008000; text-decoration-color: #008000\"> 0.5461805555555556 </span>│<span style=\"color: #800000; text-decoration-color: #800000\"> 0.82414698162729… </span>│<span style=\"color: #808000; text-decoration-color: #808000\"></span>│<span style=\"color: #c0c0c0; text-decoration-color: #c0c0c0\"></span>│\n",
       "│<span style=\"color: #008080; text-decoration-color: #008080\"> LogisticRegressionCV       </span>│<span style=\"color: #800080; text-decoration-color: #800080\"> 0.74137931034482… </span>│<span style=\"color: #008000; text-decoration-color: #008000\"> 0.6520833333333333 </span>│<span style=\"color: #800000; text-decoration-color: #800000\"> 0.82558139534883… </span>│<span style=\"color: #808000; text-decoration-color: #808000\"></span>│<span style=\"color: #c0c0c0; text-decoration-color: #c0c0c0\"></span>│\n",
       "│<span style=\"color: #008080; text-decoration-color: #008080\"> MLPClassifier              </span>│<span style=\"color: #800080; text-decoration-color: #800080\"> 0.73706896551724… </span>│<span style=\"color: #008000; text-decoration-color: #008000\"> 0.6604166666666667 </span>│<span style=\"color: #800000; text-decoration-color: #800000\"> 0.81899109792284… </span>│<span style=\"color: #808000; text-decoration-color: #808000\"></span>│<span style=\"color: #c0c0c0; text-decoration-color: #c0c0c0\"></span>│\n",
       "│<span style=\"color: #008080; text-decoration-color: #008080\"> MultinomialNB              </span>│<span style=\"color: #800080; text-decoration-color: #800080\"> 0.68534482758620… </span>│<span style=\"color: #008000; text-decoration-color: #008000\"> 0.496875           </span>│<span style=\"color: #800000; text-decoration-color: #800000\"> 0.81329923273657… </span>│<span style=\"color: #808000; text-decoration-color: #808000\"></span>│<span style=\"color: #c0c0c0; text-decoration-color: #c0c0c0\"></span>│\n",
       "│<span style=\"color: #008080; text-decoration-color: #008080\"> NearestCentroid            </span>│<span style=\"color: #800080; text-decoration-color: #800080\"> 0.63362068965517… </span>│<span style=\"color: #008000; text-decoration-color: #008000\"> 0.665625           </span>│<span style=\"color: #800000; text-decoration-color: #800000\"> 0.68634686346863… </span>│<span style=\"color: #808000; text-decoration-color: #808000\"></span>│<span style=\"color: #c0c0c0; text-decoration-color: #c0c0c0\"></span>│\n",
       "│<span style=\"color: #008080; text-decoration-color: #008080\"> NuSVC                      </span>│<span style=\"color: #800080; text-decoration-color: #800080\"> 0.71982758620689… </span>│<span style=\"color: #008000; text-decoration-color: #008000\"> 0.5982638888888889 </span>│<span style=\"color: #800000; text-decoration-color: #800000\"> 0.81894150417827… </span>│<span style=\"color: #808000; text-decoration-color: #808000\"></span>│<span style=\"color: #c0c0c0; text-decoration-color: #c0c0c0\"></span>│\n",
       "│<span style=\"color: #008080; text-decoration-color: #008080\"> PassiveAggressiveClassifi… </span>│<span style=\"color: #800080; text-decoration-color: #800080\"> 0.73706896551724… </span>│<span style=\"color: #008000; text-decoration-color: #008000\"> 0.6565972222222223 </span>│<span style=\"color: #800000; text-decoration-color: #800000\"> 0.82005899705014… </span>│<span style=\"color: #808000; text-decoration-color: #808000\"></span>│<span style=\"color: #c0c0c0; text-decoration-color: #c0c0c0\"></span>│\n",
       "│<span style=\"color: #008080; text-decoration-color: #008080\"> Perceptron                 </span>│<span style=\"color: #800080; text-decoration-color: #800080\"> 0.73275862068965… </span>│<span style=\"color: #008000; text-decoration-color: #008000\"> 0.6496527777777779 </span>│<span style=\"color: #800000; text-decoration-color: #800000\"> 0.81764705882352… </span>│<span style=\"color: #808000; text-decoration-color: #808000\"></span>│<span style=\"color: #c0c0c0; text-decoration-color: #c0c0c0\"></span>│\n",
       "│<span style=\"color: #008080; text-decoration-color: #008080\"> RandomForestClassifier     </span>│<span style=\"color: #800080; text-decoration-color: #800080\"> 0.68965517241379… </span>│<span style=\"color: #008000; text-decoration-color: #008000\"> 0.5076388888888889 </span>│<span style=\"color: #800000; text-decoration-color: #800000\"> 0.81443298969072… </span>│<span style=\"color: #808000; text-decoration-color: #808000\"></span>│<span style=\"color: #c0c0c0; text-decoration-color: #c0c0c0\"></span>│\n",
       "│<span style=\"color: #008080; text-decoration-color: #008080\"> RidgeClassifier            </span>│<span style=\"color: #800080; text-decoration-color: #800080\"> 0.73706896551724… </span>│<span style=\"color: #008000; text-decoration-color: #008000\"> 0.6375             </span>│<span style=\"color: #800000; text-decoration-color: #800000\"> 0.82521489971346… </span>│<span style=\"color: #808000; text-decoration-color: #808000\"></span>│<span style=\"color: #c0c0c0; text-decoration-color: #c0c0c0\"></span>│\n",
       "│<span style=\"color: #008080; text-decoration-color: #008080\"> SGDClassifier              </span>│<span style=\"color: #800080; text-decoration-color: #800080\"> 0.71982758620689… </span>│<span style=\"color: #008000; text-decoration-color: #008000\"> 0.6479166666666667 </span>│<span style=\"color: #800000; text-decoration-color: #800000\"> 0.80480480480480… </span>│<span style=\"color: #808000; text-decoration-color: #808000\"></span>│<span style=\"color: #c0c0c0; text-decoration-color: #c0c0c0\"></span>│\n",
       "│<span style=\"color: #008080; text-decoration-color: #008080\"> SVC                        </span>│<span style=\"color: #800080; text-decoration-color: #800080\"> 0.69827586206896… </span>│<span style=\"color: #008000; text-decoration-color: #008000\"> 0.5177083333333333 </span>│<span style=\"color: #800000; text-decoration-color: #800000\"> 0.81958762886597… </span>│<span style=\"color: #808000; text-decoration-color: #808000\"></span>│<span style=\"color: #c0c0c0; text-decoration-color: #c0c0c0\"></span>│\n",
       "└────────────────────────────┴───────────────────┴────────────────────┴───────────────────┴┴┘\n",
       "</pre>\n"
      ],
      "text/plain": [
       "\u001b[3m                                       Result Analysis                                       \u001b[0m\n",
       "┏━━━━━━━━━━━━━━━━━━━━━━━━━━━━┳━━━━━━━━━━━━━━━━━━━┳━━━━━━━━━━━━━━━━━━━━┳━━━━━━━━━━━━━━━━━━━┳┳┓\n",
       "┃\u001b[1m \u001b[0m\u001b[1mModel                     \u001b[0m\u001b[1m \u001b[0m┃\u001b[1m \u001b[0m\u001b[1mAccuracy         \u001b[0m\u001b[1m \u001b[0m┃\u001b[1m \u001b[0m\u001b[1mBalanced Accuracy \u001b[0m\u001b[1m \u001b[0m┃\u001b[1m \u001b[0m\u001b[1mF1 Score         \u001b[0m\u001b[1m \u001b[0m┃┃┃\n",
       "┡━━━━━━━━━━━━━━━━━━━━━━━━━━━━╇━━━━━━━━━━━━━━━━━━━╇━━━━━━━━━━━━━━━━━━━━╇━━━━━━━━━━━━━━━━━━━╇╇┩\n",
       "│\u001b[36m \u001b[0m\u001b[36mAdaBoostClassifier        \u001b[0m\u001b[36m \u001b[0m│\u001b[35m \u001b[0m\u001b[35m0.70258620689655…\u001b[0m\u001b[35m \u001b[0m│\u001b[32m \u001b[0m\u001b[32m0.6010416666666667\u001b[0m\u001b[32m \u001b[0m│\u001b[31m \u001b[0m\u001b[31m0.80115273775216…\u001b[0m\u001b[31m \u001b[0m│││\n",
       "│\u001b[36m \u001b[0m\u001b[36mBaggingClassifier         \u001b[0m\u001b[36m \u001b[0m│\u001b[35m \u001b[0m\u001b[35m0.646551724137931\u001b[0m\u001b[35m \u001b[0m│\u001b[32m \u001b[0m\u001b[32m0.5336805555555556\u001b[0m\u001b[32m \u001b[0m│\u001b[31m \u001b[0m\u001b[31m0.76436781609195…\u001b[0m\u001b[31m \u001b[0m│││\n",
       "│\u001b[36m \u001b[0m\u001b[36mBernoulliNB               \u001b[0m\u001b[36m \u001b[0m│\u001b[35m \u001b[0m\u001b[35m0.68965517241379…\u001b[0m\u001b[35m \u001b[0m│\u001b[32m \u001b[0m\u001b[32m0.5038194444444445\u001b[0m\u001b[32m \u001b[0m│\u001b[31m \u001b[0m\u001b[31m0.81538461538461…\u001b[0m\u001b[31m \u001b[0m│││\n",
       "│\u001b[36m \u001b[0m\u001b[36mCalibratedClassifierCV    \u001b[0m\u001b[36m \u001b[0m│\u001b[35m \u001b[0m\u001b[35m0.74137931034482…\u001b[0m\u001b[35m \u001b[0m│\u001b[32m \u001b[0m\u001b[32m0.6559027777777777\u001b[0m\u001b[32m \u001b[0m│\u001b[31m \u001b[0m\u001b[31m0.82456140350877…\u001b[0m\u001b[31m \u001b[0m│││\n",
       "│\u001b[36m \u001b[0m\u001b[36mComplementNB              \u001b[0m\u001b[36m \u001b[0m│\u001b[35m \u001b[0m\u001b[35m0.71120689655172…\u001b[0m\u001b[35m \u001b[0m│\u001b[32m \u001b[0m\u001b[32m0.5385416666666667\u001b[0m\u001b[32m \u001b[0m│\u001b[31m \u001b[0m\u001b[31m0.825974025974026\u001b[0m\u001b[31m \u001b[0m│││\n",
       "│\u001b[36m \u001b[0m\u001b[36mDecisionTreeClassifier    \u001b[0m\u001b[36m \u001b[0m│\u001b[35m \u001b[0m\u001b[35m0.67241379310344…\u001b[0m\u001b[35m \u001b[0m│\u001b[32m \u001b[0m\u001b[32m0.5982638888888889\u001b[0m\u001b[32m \u001b[0m│\u001b[31m \u001b[0m\u001b[31m0.76969696969696…\u001b[0m\u001b[31m \u001b[0m│││\n",
       "│\u001b[36m \u001b[0m\u001b[36mDummyClassifier           \u001b[0m\u001b[36m \u001b[0m│\u001b[35m \u001b[0m\u001b[35m0.68965517241379…\u001b[0m\u001b[35m \u001b[0m│\u001b[32m \u001b[0m\u001b[32m0.5               \u001b[0m\u001b[32m \u001b[0m│\u001b[31m \u001b[0m\u001b[31m0.81632653061224…\u001b[0m\u001b[31m \u001b[0m│││\n",
       "│\u001b[36m \u001b[0m\u001b[36mExtraTreeClassifier       \u001b[0m\u001b[36m \u001b[0m│\u001b[35m \u001b[0m\u001b[35m0.65948275862068…\u001b[0m\u001b[35m \u001b[0m│\u001b[32m \u001b[0m\u001b[32m0.5774305555555556\u001b[0m\u001b[32m \u001b[0m│\u001b[31m \u001b[0m\u001b[31m0.76276276276276…\u001b[0m\u001b[31m \u001b[0m│││\n",
       "│\u001b[36m \u001b[0m\u001b[36mExtraTreesClassifier      \u001b[0m\u001b[36m \u001b[0m│\u001b[35m \u001b[0m\u001b[35m0.68534482758620…\u001b[0m\u001b[35m \u001b[0m│\u001b[32m \u001b[0m\u001b[32m0.5197916666666667\u001b[0m\u001b[32m \u001b[0m│\u001b[31m \u001b[0m\u001b[31m0.80738786279683…\u001b[0m\u001b[31m \u001b[0m│││\n",
       "│\u001b[36m \u001b[0m\u001b[36mGradientBoostingClassifier\u001b[0m\u001b[36m \u001b[0m│\u001b[35m \u001b[0m\u001b[35m0.67241379310344…\u001b[0m\u001b[35m \u001b[0m│\u001b[32m \u001b[0m\u001b[32m0.5256944444444445\u001b[0m\u001b[32m \u001b[0m│\u001b[31m \u001b[0m\u001b[31m0.79347826086956…\u001b[0m\u001b[31m \u001b[0m│││\n",
       "│\u001b[36m \u001b[0m\u001b[36mKNeighborsClassifier      \u001b[0m\u001b[36m \u001b[0m│\u001b[35m \u001b[0m\u001b[35m0.68965517241379…\u001b[0m\u001b[35m \u001b[0m│\u001b[32m \u001b[0m\u001b[32m0.5725694444444445\u001b[0m\u001b[32m \u001b[0m│\u001b[31m \u001b[0m\u001b[31m0.79661016949152…\u001b[0m\u001b[31m \u001b[0m│││\n",
       "│\u001b[36m \u001b[0m\u001b[36mLinearSVC                 \u001b[0m\u001b[36m \u001b[0m│\u001b[35m \u001b[0m\u001b[35m0.73706896551724…\u001b[0m\u001b[35m \u001b[0m│\u001b[32m \u001b[0m\u001b[32m0.6489583333333333\u001b[0m\u001b[32m \u001b[0m│\u001b[31m \u001b[0m\u001b[31m0.82215743440233…\u001b[0m\u001b[31m \u001b[0m│││\n",
       "│\u001b[36m \u001b[0m\u001b[36mLogisticRegression        \u001b[0m\u001b[36m \u001b[0m│\u001b[35m \u001b[0m\u001b[35m0.71120689655172…\u001b[0m\u001b[35m \u001b[0m│\u001b[32m \u001b[0m\u001b[32m0.5461805555555556\u001b[0m\u001b[32m \u001b[0m│\u001b[31m \u001b[0m\u001b[31m0.82414698162729…\u001b[0m\u001b[31m \u001b[0m│││\n",
       "│\u001b[36m \u001b[0m\u001b[36mLogisticRegressionCV      \u001b[0m\u001b[36m \u001b[0m│\u001b[35m \u001b[0m\u001b[35m0.74137931034482…\u001b[0m\u001b[35m \u001b[0m│\u001b[32m \u001b[0m\u001b[32m0.6520833333333333\u001b[0m\u001b[32m \u001b[0m│\u001b[31m \u001b[0m\u001b[31m0.82558139534883…\u001b[0m\u001b[31m \u001b[0m│││\n",
       "│\u001b[36m \u001b[0m\u001b[36mMLPClassifier             \u001b[0m\u001b[36m \u001b[0m│\u001b[35m \u001b[0m\u001b[35m0.73706896551724…\u001b[0m\u001b[35m \u001b[0m│\u001b[32m \u001b[0m\u001b[32m0.6604166666666667\u001b[0m\u001b[32m \u001b[0m│\u001b[31m \u001b[0m\u001b[31m0.81899109792284…\u001b[0m\u001b[31m \u001b[0m│││\n",
       "│\u001b[36m \u001b[0m\u001b[36mMultinomialNB             \u001b[0m\u001b[36m \u001b[0m│\u001b[35m \u001b[0m\u001b[35m0.68534482758620…\u001b[0m\u001b[35m \u001b[0m│\u001b[32m \u001b[0m\u001b[32m0.496875          \u001b[0m\u001b[32m \u001b[0m│\u001b[31m \u001b[0m\u001b[31m0.81329923273657…\u001b[0m\u001b[31m \u001b[0m│││\n",
       "│\u001b[36m \u001b[0m\u001b[36mNearestCentroid           \u001b[0m\u001b[36m \u001b[0m│\u001b[35m \u001b[0m\u001b[35m0.63362068965517…\u001b[0m\u001b[35m \u001b[0m│\u001b[32m \u001b[0m\u001b[32m0.665625          \u001b[0m\u001b[32m \u001b[0m│\u001b[31m \u001b[0m\u001b[31m0.68634686346863…\u001b[0m\u001b[31m \u001b[0m│││\n",
       "│\u001b[36m \u001b[0m\u001b[36mNuSVC                     \u001b[0m\u001b[36m \u001b[0m│\u001b[35m \u001b[0m\u001b[35m0.71982758620689…\u001b[0m\u001b[35m \u001b[0m│\u001b[32m \u001b[0m\u001b[32m0.5982638888888889\u001b[0m\u001b[32m \u001b[0m│\u001b[31m \u001b[0m\u001b[31m0.81894150417827…\u001b[0m\u001b[31m \u001b[0m│││\n",
       "│\u001b[36m \u001b[0m\u001b[36mPassiveAggressiveClassifi…\u001b[0m\u001b[36m \u001b[0m│\u001b[35m \u001b[0m\u001b[35m0.73706896551724…\u001b[0m\u001b[35m \u001b[0m│\u001b[32m \u001b[0m\u001b[32m0.6565972222222223\u001b[0m\u001b[32m \u001b[0m│\u001b[31m \u001b[0m\u001b[31m0.82005899705014…\u001b[0m\u001b[31m \u001b[0m│││\n",
       "│\u001b[36m \u001b[0m\u001b[36mPerceptron                \u001b[0m\u001b[36m \u001b[0m│\u001b[35m \u001b[0m\u001b[35m0.73275862068965…\u001b[0m\u001b[35m \u001b[0m│\u001b[32m \u001b[0m\u001b[32m0.6496527777777779\u001b[0m\u001b[32m \u001b[0m│\u001b[31m \u001b[0m\u001b[31m0.81764705882352…\u001b[0m\u001b[31m \u001b[0m│││\n",
       "│\u001b[36m \u001b[0m\u001b[36mRandomForestClassifier    \u001b[0m\u001b[36m \u001b[0m│\u001b[35m \u001b[0m\u001b[35m0.68965517241379…\u001b[0m\u001b[35m \u001b[0m│\u001b[32m \u001b[0m\u001b[32m0.5076388888888889\u001b[0m\u001b[32m \u001b[0m│\u001b[31m \u001b[0m\u001b[31m0.81443298969072…\u001b[0m\u001b[31m \u001b[0m│││\n",
       "│\u001b[36m \u001b[0m\u001b[36mRidgeClassifier           \u001b[0m\u001b[36m \u001b[0m│\u001b[35m \u001b[0m\u001b[35m0.73706896551724…\u001b[0m\u001b[35m \u001b[0m│\u001b[32m \u001b[0m\u001b[32m0.6375            \u001b[0m\u001b[32m \u001b[0m│\u001b[31m \u001b[0m\u001b[31m0.82521489971346…\u001b[0m\u001b[31m \u001b[0m│││\n",
       "│\u001b[36m \u001b[0m\u001b[36mSGDClassifier             \u001b[0m\u001b[36m \u001b[0m│\u001b[35m \u001b[0m\u001b[35m0.71982758620689…\u001b[0m\u001b[35m \u001b[0m│\u001b[32m \u001b[0m\u001b[32m0.6479166666666667\u001b[0m\u001b[32m \u001b[0m│\u001b[31m \u001b[0m\u001b[31m0.80480480480480…\u001b[0m\u001b[31m \u001b[0m│││\n",
       "│\u001b[36m \u001b[0m\u001b[36mSVC                       \u001b[0m\u001b[36m \u001b[0m│\u001b[35m \u001b[0m\u001b[35m0.69827586206896…\u001b[0m\u001b[35m \u001b[0m│\u001b[32m \u001b[0m\u001b[32m0.5177083333333333\u001b[0m\u001b[32m \u001b[0m│\u001b[31m \u001b[0m\u001b[31m0.81958762886597…\u001b[0m\u001b[31m \u001b[0m│││\n",
       "└────────────────────────────┴───────────────────┴────────────────────┴───────────────────┴┴┘\n"
      ]
     },
     "metadata": {},
     "output_type": "display_data"
    },
    {
     "name": "stdout",
     "output_type": "stream",
     "text": [
      "Fold Number: 4\n"
     ]
    },
    {
     "data": {
      "application/vnd.jupyter.widget-view+json": {
       "model_id": "885b011933ee46bba4365a138321ade5",
       "version_major": 2,
       "version_minor": 0
      },
      "text/plain": [
       "Output()"
      ]
     },
     "metadata": {},
     "output_type": "display_data"
    },
    {
     "data": {
      "text/html": [
       "<pre style=\"white-space:pre;overflow-x:auto;line-height:normal;font-family:Menlo,'DejaVu Sans Mono',consolas,'Courier New',monospace\">  Training AdaBoostClassifier estimator\n",
       "</pre>\n"
      ],
      "text/plain": [
       "  Training AdaBoostClassifier estimator\n"
      ]
     },
     "metadata": {},
     "output_type": "display_data"
    },
    {
     "data": {
      "text/html": [
       "<pre style=\"white-space:pre;overflow-x:auto;line-height:normal;font-family:Menlo,'DejaVu Sans Mono',consolas,'Courier New',monospace\">  Training BaggingClassifier estimator\n",
       "</pre>\n"
      ],
      "text/plain": [
       "  Training BaggingClassifier estimator\n"
      ]
     },
     "metadata": {},
     "output_type": "display_data"
    },
    {
     "data": {
      "text/html": [
       "<pre style=\"white-space:pre;overflow-x:auto;line-height:normal;font-family:Menlo,'DejaVu Sans Mono',consolas,'Courier New',monospace\">  Training BernoulliNB estimator\n",
       "</pre>\n"
      ],
      "text/plain": [
       "  Training BernoulliNB estimator\n"
      ]
     },
     "metadata": {},
     "output_type": "display_data"
    },
    {
     "data": {
      "text/html": [
       "<pre style=\"white-space:pre;overflow-x:auto;line-height:normal;font-family:Menlo,'DejaVu Sans Mono',consolas,'Courier New',monospace\">  Training CalibratedClassifierCV estimator\n",
       "</pre>\n"
      ],
      "text/plain": [
       "  Training CalibratedClassifierCV estimator\n"
      ]
     },
     "metadata": {},
     "output_type": "display_data"
    },
    {
     "data": {
      "text/html": [
       "<pre style=\"white-space:pre;overflow-x:auto;line-height:normal;font-family:Menlo,'DejaVu Sans Mono',consolas,'Courier New',monospace\">  Training ComplementNB estimator\n",
       "</pre>\n"
      ],
      "text/plain": [
       "  Training ComplementNB estimator\n"
      ]
     },
     "metadata": {},
     "output_type": "display_data"
    },
    {
     "data": {
      "text/html": [
       "<pre style=\"white-space:pre;overflow-x:auto;line-height:normal;font-family:Menlo,'DejaVu Sans Mono',consolas,'Courier New',monospace\">  Training DecisionTreeClassifier estimator\n",
       "</pre>\n"
      ],
      "text/plain": [
       "  Training DecisionTreeClassifier estimator\n"
      ]
     },
     "metadata": {},
     "output_type": "display_data"
    },
    {
     "data": {
      "text/html": [
       "<pre style=\"white-space:pre;overflow-x:auto;line-height:normal;font-family:Menlo,'DejaVu Sans Mono',consolas,'Courier New',monospace\">  Training DummyClassifier estimator\n",
       "</pre>\n"
      ],
      "text/plain": [
       "  Training DummyClassifier estimator\n"
      ]
     },
     "metadata": {},
     "output_type": "display_data"
    },
    {
     "data": {
      "text/html": [
       "<pre style=\"white-space:pre;overflow-x:auto;line-height:normal;font-family:Menlo,'DejaVu Sans Mono',consolas,'Courier New',monospace\">  Training ExtraTreeClassifier estimator\n",
       "</pre>\n"
      ],
      "text/plain": [
       "  Training ExtraTreeClassifier estimator\n"
      ]
     },
     "metadata": {},
     "output_type": "display_data"
    },
    {
     "data": {
      "text/html": [
       "<pre style=\"white-space:pre;overflow-x:auto;line-height:normal;font-family:Menlo,'DejaVu Sans Mono',consolas,'Courier New',monospace\">  Training ExtraTreesClassifier estimator\n",
       "</pre>\n"
      ],
      "text/plain": [
       "  Training ExtraTreesClassifier estimator\n"
      ]
     },
     "metadata": {},
     "output_type": "display_data"
    },
    {
     "data": {
      "text/html": [
       "<pre style=\"white-space:pre;overflow-x:auto;line-height:normal;font-family:Menlo,'DejaVu Sans Mono',consolas,'Courier New',monospace\">  Training GradientBoostingClassifier estimator\n",
       "</pre>\n"
      ],
      "text/plain": [
       "  Training GradientBoostingClassifier estimator\n"
      ]
     },
     "metadata": {},
     "output_type": "display_data"
    },
    {
     "data": {
      "text/html": [
       "<pre style=\"white-space:pre;overflow-x:auto;line-height:normal;font-family:Menlo,'DejaVu Sans Mono',consolas,'Courier New',monospace\">  Training KNeighborsClassifier estimator\n",
       "</pre>\n"
      ],
      "text/plain": [
       "  Training KNeighborsClassifier estimator\n"
      ]
     },
     "metadata": {},
     "output_type": "display_data"
    },
    {
     "data": {
      "text/html": [
       "<pre style=\"white-space:pre;overflow-x:auto;line-height:normal;font-family:Menlo,'DejaVu Sans Mono',consolas,'Courier New',monospace\">  Training LinearSVC estimator\n",
       "</pre>\n"
      ],
      "text/plain": [
       "  Training LinearSVC estimator\n"
      ]
     },
     "metadata": {},
     "output_type": "display_data"
    },
    {
     "data": {
      "text/html": [
       "<pre style=\"white-space:pre;overflow-x:auto;line-height:normal;font-family:Menlo,'DejaVu Sans Mono',consolas,'Courier New',monospace\">  Training LogisticRegression estimator\n",
       "</pre>\n"
      ],
      "text/plain": [
       "  Training LogisticRegression estimator\n"
      ]
     },
     "metadata": {},
     "output_type": "display_data"
    },
    {
     "data": {
      "text/html": [
       "<pre style=\"white-space:pre;overflow-x:auto;line-height:normal;font-family:Menlo,'DejaVu Sans Mono',consolas,'Courier New',monospace\">  Training LogisticRegressionCV estimator\n",
       "</pre>\n"
      ],
      "text/plain": [
       "  Training LogisticRegressionCV estimator\n"
      ]
     },
     "metadata": {},
     "output_type": "display_data"
    },
    {
     "data": {
      "text/html": [
       "<pre style=\"white-space:pre;overflow-x:auto;line-height:normal;font-family:Menlo,'DejaVu Sans Mono',consolas,'Courier New',monospace\">  Training MLPClassifier estimator\n",
       "</pre>\n"
      ],
      "text/plain": [
       "  Training MLPClassifier estimator\n"
      ]
     },
     "metadata": {},
     "output_type": "display_data"
    },
    {
     "data": {
      "text/html": [
       "<pre style=\"white-space:pre;overflow-x:auto;line-height:normal;font-family:Menlo,'DejaVu Sans Mono',consolas,'Courier New',monospace\">  Training MultinomialNB estimator\n",
       "</pre>\n"
      ],
      "text/plain": [
       "  Training MultinomialNB estimator\n"
      ]
     },
     "metadata": {},
     "output_type": "display_data"
    },
    {
     "data": {
      "text/html": [
       "<pre style=\"white-space:pre;overflow-x:auto;line-height:normal;font-family:Menlo,'DejaVu Sans Mono',consolas,'Courier New',monospace\">  Training NearestCentroid estimator\n",
       "</pre>\n"
      ],
      "text/plain": [
       "  Training NearestCentroid estimator\n"
      ]
     },
     "metadata": {},
     "output_type": "display_data"
    },
    {
     "data": {
      "text/html": [
       "<pre style=\"white-space:pre;overflow-x:auto;line-height:normal;font-family:Menlo,'DejaVu Sans Mono',consolas,'Courier New',monospace\">  Training NuSVC estimator\n",
       "</pre>\n"
      ],
      "text/plain": [
       "  Training NuSVC estimator\n"
      ]
     },
     "metadata": {},
     "output_type": "display_data"
    },
    {
     "data": {
      "text/html": [
       "<pre style=\"white-space:pre;overflow-x:auto;line-height:normal;font-family:Menlo,'DejaVu Sans Mono',consolas,'Courier New',monospace\">  Training PassiveAggressiveClassifier estimator\n",
       "</pre>\n"
      ],
      "text/plain": [
       "  Training PassiveAggressiveClassifier estimator\n"
      ]
     },
     "metadata": {},
     "output_type": "display_data"
    },
    {
     "data": {
      "text/html": [
       "<pre style=\"white-space:pre;overflow-x:auto;line-height:normal;font-family:Menlo,'DejaVu Sans Mono',consolas,'Courier New',monospace\">  Training Perceptron estimator\n",
       "</pre>\n"
      ],
      "text/plain": [
       "  Training Perceptron estimator\n"
      ]
     },
     "metadata": {},
     "output_type": "display_data"
    },
    {
     "data": {
      "text/html": [
       "<pre style=\"white-space:pre;overflow-x:auto;line-height:normal;font-family:Menlo,'DejaVu Sans Mono',consolas,'Courier New',monospace\">  Training RandomForestClassifier estimator\n",
       "</pre>\n"
      ],
      "text/plain": [
       "  Training RandomForestClassifier estimator\n"
      ]
     },
     "metadata": {},
     "output_type": "display_data"
    },
    {
     "data": {
      "text/html": [
       "<pre style=\"white-space:pre;overflow-x:auto;line-height:normal;font-family:Menlo,'DejaVu Sans Mono',consolas,'Courier New',monospace\">  Training RidgeClassifier estimator\n",
       "</pre>\n"
      ],
      "text/plain": [
       "  Training RidgeClassifier estimator\n"
      ]
     },
     "metadata": {},
     "output_type": "display_data"
    },
    {
     "data": {
      "text/html": [
       "<pre style=\"white-space:pre;overflow-x:auto;line-height:normal;font-family:Menlo,'DejaVu Sans Mono',consolas,'Courier New',monospace\">  Training SGDClassifier estimator\n",
       "</pre>\n"
      ],
      "text/plain": [
       "  Training SGDClassifier estimator\n"
      ]
     },
     "metadata": {},
     "output_type": "display_data"
    },
    {
     "data": {
      "text/html": [
       "<pre style=\"white-space:pre;overflow-x:auto;line-height:normal;font-family:Menlo,'DejaVu Sans Mono',consolas,'Courier New',monospace\">  Training SVC estimator\n",
       "</pre>\n"
      ],
      "text/plain": [
       "  Training SVC estimator\n"
      ]
     },
     "metadata": {},
     "output_type": "display_data"
    },
    {
     "data": {
      "text/html": [
       "<pre style=\"white-space:pre;overflow-x:auto;line-height:normal;font-family:Menlo,'DejaVu Sans Mono',consolas,'Courier New',monospace\"></pre>\n"
      ],
      "text/plain": []
     },
     "metadata": {},
     "output_type": "display_data"
    },
    {
     "data": {
      "text/html": [
       "<pre style=\"white-space:pre;overflow-x:auto;line-height:normal;font-family:Menlo,'DejaVu Sans Mono',consolas,'Courier New',monospace\">\n",
       "</pre>\n"
      ],
      "text/plain": [
       "\n"
      ]
     },
     "metadata": {},
     "output_type": "display_data"
    },
    {
     "data": {
      "text/html": [
       "<pre style=\"white-space:pre;overflow-x:auto;line-height:normal;font-family:Menlo,'DejaVu Sans Mono',consolas,'Courier New',monospace\"><span style=\"font-style: italic\">                                       Result Analysis                                       </span>\n",
       "┏━━━━━━━━━━━━━━━━━━━━━━━━━━━━┳━━━━━━━━━━━━━━━━━━━┳━━━━━━━━━━━━━━━━━━━━┳━━━━━━━━━━━━━━━━━━━┳┳┓\n",
       "┃<span style=\"font-weight: bold\"> Model                      </span>┃<span style=\"font-weight: bold\"> Accuracy          </span>┃<span style=\"font-weight: bold\"> Balanced Accuracy  </span>┃<span style=\"font-weight: bold\"> F1 Score          </span>┃<span style=\"font-weight: bold\"></span>┃<span style=\"font-weight: bold\"></span>┃\n",
       "┡━━━━━━━━━━━━━━━━━━━━━━━━━━━━╇━━━━━━━━━━━━━━━━━━━╇━━━━━━━━━━━━━━━━━━━━╇━━━━━━━━━━━━━━━━━━━╇╇┩\n",
       "│<span style=\"color: #008080; text-decoration-color: #008080\"> AdaBoostClassifier         </span>│<span style=\"color: #800080; text-decoration-color: #800080\"> 0.66233766233766… </span>│<span style=\"color: #008000; text-decoration-color: #008000\"> 0.5838908450704225 </span>│<span style=\"color: #800000; text-decoration-color: #800000\"> 0.76363636363636… </span>│<span style=\"color: #808000; text-decoration-color: #808000\"></span>│<span style=\"color: #c0c0c0; text-decoration-color: #c0c0c0\"></span>│\n",
       "│<span style=\"color: #008080; text-decoration-color: #008080\"> BaggingClassifier          </span>│<span style=\"color: #800080; text-decoration-color: #800080\"> 0.65367965367965… </span>│<span style=\"color: #008000; text-decoration-color: #008000\"> 0.5502200704225352 </span>│<span style=\"color: #800000; text-decoration-color: #800000\"> 0.76608187134502… </span>│<span style=\"color: #808000; text-decoration-color: #808000\"></span>│<span style=\"color: #c0c0c0; text-decoration-color: #c0c0c0\"></span>│\n",
       "│<span style=\"color: #008080; text-decoration-color: #008080\"> BernoulliNB                </span>│<span style=\"color: #800080; text-decoration-color: #800080\"> 0.69264069264069… </span>│<span style=\"color: #008000; text-decoration-color: #008000\"> 0.5                </span>│<span style=\"color: #800000; text-decoration-color: #800000\"> 0.81841432225063… </span>│<span style=\"color: #808000; text-decoration-color: #808000\"></span>│<span style=\"color: #c0c0c0; text-decoration-color: #c0c0c0\"></span>│\n",
       "│<span style=\"color: #008080; text-decoration-color: #008080\"> CalibratedClassifierCV     </span>│<span style=\"color: #800080; text-decoration-color: #800080\"> 0.71861471861471… </span>│<span style=\"color: #008000; text-decoration-color: #008000\"> 0.6245158450704226 </span>│<span style=\"color: #800000; text-decoration-color: #800000\"> 0.81049562682215… </span>│<span style=\"color: #808000; text-decoration-color: #808000\"></span>│<span style=\"color: #c0c0c0; text-decoration-color: #c0c0c0\"></span>│\n",
       "│<span style=\"color: #008080; text-decoration-color: #008080\"> ComplementNB               </span>│<span style=\"color: #800080; text-decoration-color: #800080\"> 0.70995670995671  </span>│<span style=\"color: #008000; text-decoration-color: #008000\"> 0.5320862676056338 </span>│<span style=\"color: #800000; text-decoration-color: #800000\"> 0.825974025974026 </span>│<span style=\"color: #808000; text-decoration-color: #808000\"></span>│<span style=\"color: #c0c0c0; text-decoration-color: #c0c0c0\"></span>│\n",
       "│<span style=\"color: #008080; text-decoration-color: #008080\"> DecisionTreeClassifier     </span>│<span style=\"color: #800080; text-decoration-color: #800080\"> 0.58008658008658… </span>│<span style=\"color: #008000; text-decoration-color: #008000\"> 0.4657570422535211 </span>│<span style=\"color: #800000; text-decoration-color: #800000\"> 0.71554252199413… </span>│<span style=\"color: #808000; text-decoration-color: #808000\"></span>│<span style=\"color: #c0c0c0; text-decoration-color: #c0c0c0\"></span>│\n",
       "│<span style=\"color: #008080; text-decoration-color: #008080\"> DummyClassifier            </span>│<span style=\"color: #800080; text-decoration-color: #800080\"> 0.69264069264069… </span>│<span style=\"color: #008000; text-decoration-color: #008000\"> 0.5                </span>│<span style=\"color: #800000; text-decoration-color: #800000\"> 0.81841432225063… </span>│<span style=\"color: #808000; text-decoration-color: #808000\"></span>│<span style=\"color: #c0c0c0; text-decoration-color: #c0c0c0\"></span>│\n",
       "│<span style=\"color: #008080; text-decoration-color: #008080\"> ExtraTreeClassifier        </span>│<span style=\"color: #800080; text-decoration-color: #800080\"> 0.65367965367965… </span>│<span style=\"color: #008000; text-decoration-color: #008000\"> 0.5188820422535212 </span>│<span style=\"color: #800000; text-decoration-color: #800000\"> 0.776536312849162 </span>│<span style=\"color: #808000; text-decoration-color: #808000\"></span>│<span style=\"color: #c0c0c0; text-decoration-color: #c0c0c0\"></span>│\n",
       "│<span style=\"color: #008080; text-decoration-color: #008080\"> ExtraTreesClassifier       </span>│<span style=\"color: #800080; text-decoration-color: #800080\"> 0.696969696969697 </span>│<span style=\"color: #008000; text-decoration-color: #008000\"> 0.5305457746478873 </span>│<span style=\"color: #800000; text-decoration-color: #800000\"> 0.81481481481481… </span>│<span style=\"color: #808000; text-decoration-color: #808000\"></span>│<span style=\"color: #c0c0c0; text-decoration-color: #c0c0c0\"></span>│\n",
       "│<span style=\"color: #008080; text-decoration-color: #008080\"> GradientBoostingClassifier </span>│<span style=\"color: #800080; text-decoration-color: #800080\"> 0.69264069264069… </span>│<span style=\"color: #008000; text-decoration-color: #008000\"> 0.5548415492957747 </span>│<span style=\"color: #800000; text-decoration-color: #800000\"> 0.80440771349862… </span>│<span style=\"color: #808000; text-decoration-color: #808000\"></span>│<span style=\"color: #c0c0c0; text-decoration-color: #c0c0c0\"></span>│\n",
       "│<span style=\"color: #008080; text-decoration-color: #008080\"> KNeighborsClassifier       </span>│<span style=\"color: #800080; text-decoration-color: #800080\"> 0.696969696969697 </span>│<span style=\"color: #008000; text-decoration-color: #008000\"> 0.5579665492957746 </span>│<span style=\"color: #800000; text-decoration-color: #800000\"> 0.80769230769230… </span>│<span style=\"color: #808000; text-decoration-color: #808000\"></span>│<span style=\"color: #c0c0c0; text-decoration-color: #c0c0c0\"></span>│\n",
       "│<span style=\"color: #008080; text-decoration-color: #008080\"> LinearSVC                  </span>│<span style=\"color: #800080; text-decoration-color: #800080\"> 0.71861471861471… </span>│<span style=\"color: #008000; text-decoration-color: #008000\"> 0.616681338028169  </span>│<span style=\"color: #800000; text-decoration-color: #800000\"> 0.81268011527377… </span>│<span style=\"color: #808000; text-decoration-color: #808000\"></span>│<span style=\"color: #c0c0c0; text-decoration-color: #c0c0c0\"></span>│\n",
       "│<span style=\"color: #008080; text-decoration-color: #008080\"> LogisticRegression         </span>│<span style=\"color: #800080; text-decoration-color: #800080\"> 0.70129870129870… </span>│<span style=\"color: #008000; text-decoration-color: #008000\"> 0.5258362676056337 </span>│<span style=\"color: #800000; text-decoration-color: #800000\"> 0.81984334203655… </span>│<span style=\"color: #808000; text-decoration-color: #808000\"></span>│<span style=\"color: #c0c0c0; text-decoration-color: #c0c0c0\"></span>│\n",
       "│<span style=\"color: #008080; text-decoration-color: #008080\"> LogisticRegressionCV       </span>│<span style=\"color: #800080; text-decoration-color: #800080\"> 0.72294372294372… </span>│<span style=\"color: #008000; text-decoration-color: #008000\"> 0.6237235915492958 </span>│<span style=\"color: #800000; text-decoration-color: #800000\"> 0.815028901734104 </span>│<span style=\"color: #808000; text-decoration-color: #808000\"></span>│<span style=\"color: #c0c0c0; text-decoration-color: #c0c0c0\"></span>│\n",
       "│<span style=\"color: #008080; text-decoration-color: #008080\"> MLPClassifier              </span>│<span style=\"color: #800080; text-decoration-color: #800080\"> 0.70995670995671  </span>│<span style=\"color: #008000; text-decoration-color: #008000\"> 0.6182658450704225 </span>│<span style=\"color: #800000; text-decoration-color: #800000\"> 0.80351906158357… </span>│<span style=\"color: #808000; text-decoration-color: #808000\"></span>│<span style=\"color: #c0c0c0; text-decoration-color: #c0c0c0\"></span>│\n",
       "│<span style=\"color: #008080; text-decoration-color: #008080\"> MultinomialNB              </span>│<span style=\"color: #800080; text-decoration-color: #800080\"> 0.69264069264069… </span>│<span style=\"color: #008000; text-decoration-color: #008000\"> 0.5                </span>│<span style=\"color: #800000; text-decoration-color: #800000\"> 0.81841432225063… </span>│<span style=\"color: #808000; text-decoration-color: #808000\"></span>│<span style=\"color: #c0c0c0; text-decoration-color: #c0c0c0\"></span>│\n",
       "│<span style=\"color: #008080; text-decoration-color: #008080\"> NearestCentroid            </span>│<span style=\"color: #800080; text-decoration-color: #800080\"> 0.68831168831168… </span>│<span style=\"color: #008000; text-decoration-color: #008000\"> 0.692737676056338  </span>│<span style=\"color: #800000; text-decoration-color: #800000\"> 0.75172413793103… </span>│<span style=\"color: #808000; text-decoration-color: #808000\"></span>│<span style=\"color: #c0c0c0; text-decoration-color: #c0c0c0\"></span>│\n",
       "│<span style=\"color: #008080; text-decoration-color: #008080\"> NuSVC                      </span>│<span style=\"color: #800080; text-decoration-color: #800080\"> 0.70995670995671  </span>│<span style=\"color: #008000; text-decoration-color: #008000\"> 0.5712588028169014 </span>│<span style=\"color: #800000; text-decoration-color: #800000\"> 0.81643835616438… </span>│<span style=\"color: #808000; text-decoration-color: #808000\"></span>│<span style=\"color: #c0c0c0; text-decoration-color: #c0c0c0\"></span>│\n",
       "│<span style=\"color: #008080; text-decoration-color: #008080\"> PassiveAggressiveClassifi… </span>│<span style=\"color: #800080; text-decoration-color: #800080\"> 0.74891774891774… </span>│<span style=\"color: #008000; text-decoration-color: #008000\"> 0.6738116197183098 </span>│<span style=\"color: #800000; text-decoration-color: #800000\"> 0.82738095238095… </span>│<span style=\"color: #808000; text-decoration-color: #808000\"></span>│<span style=\"color: #c0c0c0; text-decoration-color: #c0c0c0\"></span>│\n",
       "│<span style=\"color: #008080; text-decoration-color: #008080\"> Perceptron                 </span>│<span style=\"color: #800080; text-decoration-color: #800080\"> 0.71428571428571… </span>│<span style=\"color: #008000; text-decoration-color: #008000\"> 0.6370598591549296 </span>│<span style=\"color: #800000; text-decoration-color: #800000\"> 0.80239520958083… </span>│<span style=\"color: #808000; text-decoration-color: #808000\"></span>│<span style=\"color: #c0c0c0; text-decoration-color: #c0c0c0\"></span>│\n",
       "│<span style=\"color: #008080; text-decoration-color: #008080\"> RandomForestClassifier     </span>│<span style=\"color: #800080; text-decoration-color: #800080\"> 0.69264069264069… </span>│<span style=\"color: #008000; text-decoration-color: #008000\"> 0.515669014084507  </span>│<span style=\"color: #800000; text-decoration-color: #800000\"> 0.81462140992167… </span>│<span style=\"color: #808000; text-decoration-color: #808000\"></span>│<span style=\"color: #c0c0c0; text-decoration-color: #c0c0c0\"></span>│\n",
       "│<span style=\"color: #008080; text-decoration-color: #008080\"> RidgeClassifier            </span>│<span style=\"color: #800080; text-decoration-color: #800080\"> 0.72294372294372… </span>│<span style=\"color: #008000; text-decoration-color: #008000\"> 0.6041373239436619 </span>│<span style=\"color: #800000; text-decoration-color: #800000\"> 0.82022471910112… </span>│<span style=\"color: #808000; text-decoration-color: #808000\"></span>│<span style=\"color: #c0c0c0; text-decoration-color: #c0c0c0\"></span>│\n",
       "│<span style=\"color: #008080; text-decoration-color: #008080\"> SGDClassifier              </span>│<span style=\"color: #800080; text-decoration-color: #800080\"> 0.70995670995671  </span>│<span style=\"color: #008000; text-decoration-color: #008000\"> 0.6182658450704225 </span>│<span style=\"color: #800000; text-decoration-color: #800000\"> 0.80351906158357… </span>│<span style=\"color: #808000; text-decoration-color: #808000\"></span>│<span style=\"color: #c0c0c0; text-decoration-color: #c0c0c0\"></span>│\n",
       "│<span style=\"color: #008080; text-decoration-color: #008080\"> SVC                        </span>│<span style=\"color: #800080; text-decoration-color: #800080\"> 0.696969696969697 </span>│<span style=\"color: #008000; text-decoration-color: #008000\"> 0.5109595070422536 </span>│<span style=\"color: #800000; text-decoration-color: #800000\"> 0.81958762886597… </span>│<span style=\"color: #808000; text-decoration-color: #808000\"></span>│<span style=\"color: #c0c0c0; text-decoration-color: #c0c0c0\"></span>│\n",
       "└────────────────────────────┴───────────────────┴────────────────────┴───────────────────┴┴┘\n",
       "</pre>\n"
      ],
      "text/plain": [
       "\u001b[3m                                       Result Analysis                                       \u001b[0m\n",
       "┏━━━━━━━━━━━━━━━━━━━━━━━━━━━━┳━━━━━━━━━━━━━━━━━━━┳━━━━━━━━━━━━━━━━━━━━┳━━━━━━━━━━━━━━━━━━━┳┳┓\n",
       "┃\u001b[1m \u001b[0m\u001b[1mModel                     \u001b[0m\u001b[1m \u001b[0m┃\u001b[1m \u001b[0m\u001b[1mAccuracy         \u001b[0m\u001b[1m \u001b[0m┃\u001b[1m \u001b[0m\u001b[1mBalanced Accuracy \u001b[0m\u001b[1m \u001b[0m┃\u001b[1m \u001b[0m\u001b[1mF1 Score         \u001b[0m\u001b[1m \u001b[0m┃┃┃\n",
       "┡━━━━━━━━━━━━━━━━━━━━━━━━━━━━╇━━━━━━━━━━━━━━━━━━━╇━━━━━━━━━━━━━━━━━━━━╇━━━━━━━━━━━━━━━━━━━╇╇┩\n",
       "│\u001b[36m \u001b[0m\u001b[36mAdaBoostClassifier        \u001b[0m\u001b[36m \u001b[0m│\u001b[35m \u001b[0m\u001b[35m0.66233766233766…\u001b[0m\u001b[35m \u001b[0m│\u001b[32m \u001b[0m\u001b[32m0.5838908450704225\u001b[0m\u001b[32m \u001b[0m│\u001b[31m \u001b[0m\u001b[31m0.76363636363636…\u001b[0m\u001b[31m \u001b[0m│││\n",
       "│\u001b[36m \u001b[0m\u001b[36mBaggingClassifier         \u001b[0m\u001b[36m \u001b[0m│\u001b[35m \u001b[0m\u001b[35m0.65367965367965…\u001b[0m\u001b[35m \u001b[0m│\u001b[32m \u001b[0m\u001b[32m0.5502200704225352\u001b[0m\u001b[32m \u001b[0m│\u001b[31m \u001b[0m\u001b[31m0.76608187134502…\u001b[0m\u001b[31m \u001b[0m│││\n",
       "│\u001b[36m \u001b[0m\u001b[36mBernoulliNB               \u001b[0m\u001b[36m \u001b[0m│\u001b[35m \u001b[0m\u001b[35m0.69264069264069…\u001b[0m\u001b[35m \u001b[0m│\u001b[32m \u001b[0m\u001b[32m0.5               \u001b[0m\u001b[32m \u001b[0m│\u001b[31m \u001b[0m\u001b[31m0.81841432225063…\u001b[0m\u001b[31m \u001b[0m│││\n",
       "│\u001b[36m \u001b[0m\u001b[36mCalibratedClassifierCV    \u001b[0m\u001b[36m \u001b[0m│\u001b[35m \u001b[0m\u001b[35m0.71861471861471…\u001b[0m\u001b[35m \u001b[0m│\u001b[32m \u001b[0m\u001b[32m0.6245158450704226\u001b[0m\u001b[32m \u001b[0m│\u001b[31m \u001b[0m\u001b[31m0.81049562682215…\u001b[0m\u001b[31m \u001b[0m│││\n",
       "│\u001b[36m \u001b[0m\u001b[36mComplementNB              \u001b[0m\u001b[36m \u001b[0m│\u001b[35m \u001b[0m\u001b[35m0.70995670995671 \u001b[0m\u001b[35m \u001b[0m│\u001b[32m \u001b[0m\u001b[32m0.5320862676056338\u001b[0m\u001b[32m \u001b[0m│\u001b[31m \u001b[0m\u001b[31m0.825974025974026\u001b[0m\u001b[31m \u001b[0m│││\n",
       "│\u001b[36m \u001b[0m\u001b[36mDecisionTreeClassifier    \u001b[0m\u001b[36m \u001b[0m│\u001b[35m \u001b[0m\u001b[35m0.58008658008658…\u001b[0m\u001b[35m \u001b[0m│\u001b[32m \u001b[0m\u001b[32m0.4657570422535211\u001b[0m\u001b[32m \u001b[0m│\u001b[31m \u001b[0m\u001b[31m0.71554252199413…\u001b[0m\u001b[31m \u001b[0m│││\n",
       "│\u001b[36m \u001b[0m\u001b[36mDummyClassifier           \u001b[0m\u001b[36m \u001b[0m│\u001b[35m \u001b[0m\u001b[35m0.69264069264069…\u001b[0m\u001b[35m \u001b[0m│\u001b[32m \u001b[0m\u001b[32m0.5               \u001b[0m\u001b[32m \u001b[0m│\u001b[31m \u001b[0m\u001b[31m0.81841432225063…\u001b[0m\u001b[31m \u001b[0m│││\n",
       "│\u001b[36m \u001b[0m\u001b[36mExtraTreeClassifier       \u001b[0m\u001b[36m \u001b[0m│\u001b[35m \u001b[0m\u001b[35m0.65367965367965…\u001b[0m\u001b[35m \u001b[0m│\u001b[32m \u001b[0m\u001b[32m0.5188820422535212\u001b[0m\u001b[32m \u001b[0m│\u001b[31m \u001b[0m\u001b[31m0.776536312849162\u001b[0m\u001b[31m \u001b[0m│││\n",
       "│\u001b[36m \u001b[0m\u001b[36mExtraTreesClassifier      \u001b[0m\u001b[36m \u001b[0m│\u001b[35m \u001b[0m\u001b[35m0.696969696969697\u001b[0m\u001b[35m \u001b[0m│\u001b[32m \u001b[0m\u001b[32m0.5305457746478873\u001b[0m\u001b[32m \u001b[0m│\u001b[31m \u001b[0m\u001b[31m0.81481481481481…\u001b[0m\u001b[31m \u001b[0m│││\n",
       "│\u001b[36m \u001b[0m\u001b[36mGradientBoostingClassifier\u001b[0m\u001b[36m \u001b[0m│\u001b[35m \u001b[0m\u001b[35m0.69264069264069…\u001b[0m\u001b[35m \u001b[0m│\u001b[32m \u001b[0m\u001b[32m0.5548415492957747\u001b[0m\u001b[32m \u001b[0m│\u001b[31m \u001b[0m\u001b[31m0.80440771349862…\u001b[0m\u001b[31m \u001b[0m│││\n",
       "│\u001b[36m \u001b[0m\u001b[36mKNeighborsClassifier      \u001b[0m\u001b[36m \u001b[0m│\u001b[35m \u001b[0m\u001b[35m0.696969696969697\u001b[0m\u001b[35m \u001b[0m│\u001b[32m \u001b[0m\u001b[32m0.5579665492957746\u001b[0m\u001b[32m \u001b[0m│\u001b[31m \u001b[0m\u001b[31m0.80769230769230…\u001b[0m\u001b[31m \u001b[0m│││\n",
       "│\u001b[36m \u001b[0m\u001b[36mLinearSVC                 \u001b[0m\u001b[36m \u001b[0m│\u001b[35m \u001b[0m\u001b[35m0.71861471861471…\u001b[0m\u001b[35m \u001b[0m│\u001b[32m \u001b[0m\u001b[32m0.616681338028169 \u001b[0m\u001b[32m \u001b[0m│\u001b[31m \u001b[0m\u001b[31m0.81268011527377…\u001b[0m\u001b[31m \u001b[0m│││\n",
       "│\u001b[36m \u001b[0m\u001b[36mLogisticRegression        \u001b[0m\u001b[36m \u001b[0m│\u001b[35m \u001b[0m\u001b[35m0.70129870129870…\u001b[0m\u001b[35m \u001b[0m│\u001b[32m \u001b[0m\u001b[32m0.5258362676056337\u001b[0m\u001b[32m \u001b[0m│\u001b[31m \u001b[0m\u001b[31m0.81984334203655…\u001b[0m\u001b[31m \u001b[0m│││\n",
       "│\u001b[36m \u001b[0m\u001b[36mLogisticRegressionCV      \u001b[0m\u001b[36m \u001b[0m│\u001b[35m \u001b[0m\u001b[35m0.72294372294372…\u001b[0m\u001b[35m \u001b[0m│\u001b[32m \u001b[0m\u001b[32m0.6237235915492958\u001b[0m\u001b[32m \u001b[0m│\u001b[31m \u001b[0m\u001b[31m0.815028901734104\u001b[0m\u001b[31m \u001b[0m│││\n",
       "│\u001b[36m \u001b[0m\u001b[36mMLPClassifier             \u001b[0m\u001b[36m \u001b[0m│\u001b[35m \u001b[0m\u001b[35m0.70995670995671 \u001b[0m\u001b[35m \u001b[0m│\u001b[32m \u001b[0m\u001b[32m0.6182658450704225\u001b[0m\u001b[32m \u001b[0m│\u001b[31m \u001b[0m\u001b[31m0.80351906158357…\u001b[0m\u001b[31m \u001b[0m│││\n",
       "│\u001b[36m \u001b[0m\u001b[36mMultinomialNB             \u001b[0m\u001b[36m \u001b[0m│\u001b[35m \u001b[0m\u001b[35m0.69264069264069…\u001b[0m\u001b[35m \u001b[0m│\u001b[32m \u001b[0m\u001b[32m0.5               \u001b[0m\u001b[32m \u001b[0m│\u001b[31m \u001b[0m\u001b[31m0.81841432225063…\u001b[0m\u001b[31m \u001b[0m│││\n",
       "│\u001b[36m \u001b[0m\u001b[36mNearestCentroid           \u001b[0m\u001b[36m \u001b[0m│\u001b[35m \u001b[0m\u001b[35m0.68831168831168…\u001b[0m\u001b[35m \u001b[0m│\u001b[32m \u001b[0m\u001b[32m0.692737676056338 \u001b[0m\u001b[32m \u001b[0m│\u001b[31m \u001b[0m\u001b[31m0.75172413793103…\u001b[0m\u001b[31m \u001b[0m│││\n",
       "│\u001b[36m \u001b[0m\u001b[36mNuSVC                     \u001b[0m\u001b[36m \u001b[0m│\u001b[35m \u001b[0m\u001b[35m0.70995670995671 \u001b[0m\u001b[35m \u001b[0m│\u001b[32m \u001b[0m\u001b[32m0.5712588028169014\u001b[0m\u001b[32m \u001b[0m│\u001b[31m \u001b[0m\u001b[31m0.81643835616438…\u001b[0m\u001b[31m \u001b[0m│││\n",
       "│\u001b[36m \u001b[0m\u001b[36mPassiveAggressiveClassifi…\u001b[0m\u001b[36m \u001b[0m│\u001b[35m \u001b[0m\u001b[35m0.74891774891774…\u001b[0m\u001b[35m \u001b[0m│\u001b[32m \u001b[0m\u001b[32m0.6738116197183098\u001b[0m\u001b[32m \u001b[0m│\u001b[31m \u001b[0m\u001b[31m0.82738095238095…\u001b[0m\u001b[31m \u001b[0m│││\n",
       "│\u001b[36m \u001b[0m\u001b[36mPerceptron                \u001b[0m\u001b[36m \u001b[0m│\u001b[35m \u001b[0m\u001b[35m0.71428571428571…\u001b[0m\u001b[35m \u001b[0m│\u001b[32m \u001b[0m\u001b[32m0.6370598591549296\u001b[0m\u001b[32m \u001b[0m│\u001b[31m \u001b[0m\u001b[31m0.80239520958083…\u001b[0m\u001b[31m \u001b[0m│││\n",
       "│\u001b[36m \u001b[0m\u001b[36mRandomForestClassifier    \u001b[0m\u001b[36m \u001b[0m│\u001b[35m \u001b[0m\u001b[35m0.69264069264069…\u001b[0m\u001b[35m \u001b[0m│\u001b[32m \u001b[0m\u001b[32m0.515669014084507 \u001b[0m\u001b[32m \u001b[0m│\u001b[31m \u001b[0m\u001b[31m0.81462140992167…\u001b[0m\u001b[31m \u001b[0m│││\n",
       "│\u001b[36m \u001b[0m\u001b[36mRidgeClassifier           \u001b[0m\u001b[36m \u001b[0m│\u001b[35m \u001b[0m\u001b[35m0.72294372294372…\u001b[0m\u001b[35m \u001b[0m│\u001b[32m \u001b[0m\u001b[32m0.6041373239436619\u001b[0m\u001b[32m \u001b[0m│\u001b[31m \u001b[0m\u001b[31m0.82022471910112…\u001b[0m\u001b[31m \u001b[0m│││\n",
       "│\u001b[36m \u001b[0m\u001b[36mSGDClassifier             \u001b[0m\u001b[36m \u001b[0m│\u001b[35m \u001b[0m\u001b[35m0.70995670995671 \u001b[0m\u001b[35m \u001b[0m│\u001b[32m \u001b[0m\u001b[32m0.6182658450704225\u001b[0m\u001b[32m \u001b[0m│\u001b[31m \u001b[0m\u001b[31m0.80351906158357…\u001b[0m\u001b[31m \u001b[0m│││\n",
       "│\u001b[36m \u001b[0m\u001b[36mSVC                       \u001b[0m\u001b[36m \u001b[0m│\u001b[35m \u001b[0m\u001b[35m0.696969696969697\u001b[0m\u001b[35m \u001b[0m│\u001b[32m \u001b[0m\u001b[32m0.5109595070422536\u001b[0m\u001b[32m \u001b[0m│\u001b[31m \u001b[0m\u001b[31m0.81958762886597…\u001b[0m\u001b[31m \u001b[0m│││\n",
       "└────────────────────────────┴───────────────────┴────────────────────┴───────────────────┴┴┘\n"
      ]
     },
     "metadata": {},
     "output_type": "display_data"
    },
    {
     "name": "stdout",
     "output_type": "stream",
     "text": [
      "Fold Number: 5\n"
     ]
    },
    {
     "data": {
      "application/vnd.jupyter.widget-view+json": {
       "model_id": "7818f4e26fd44777b105993dea2ab3c9",
       "version_major": 2,
       "version_minor": 0
      },
      "text/plain": [
       "Output()"
      ]
     },
     "metadata": {},
     "output_type": "display_data"
    },
    {
     "data": {
      "text/html": [
       "<pre style=\"white-space:pre;overflow-x:auto;line-height:normal;font-family:Menlo,'DejaVu Sans Mono',consolas,'Courier New',monospace\">  Training AdaBoostClassifier estimator\n",
       "</pre>\n"
      ],
      "text/plain": [
       "  Training AdaBoostClassifier estimator\n"
      ]
     },
     "metadata": {},
     "output_type": "display_data"
    },
    {
     "data": {
      "text/html": [
       "<pre style=\"white-space:pre;overflow-x:auto;line-height:normal;font-family:Menlo,'DejaVu Sans Mono',consolas,'Courier New',monospace\">  Training BaggingClassifier estimator\n",
       "</pre>\n"
      ],
      "text/plain": [
       "  Training BaggingClassifier estimator\n"
      ]
     },
     "metadata": {},
     "output_type": "display_data"
    },
    {
     "data": {
      "text/html": [
       "<pre style=\"white-space:pre;overflow-x:auto;line-height:normal;font-family:Menlo,'DejaVu Sans Mono',consolas,'Courier New',monospace\">  Training BernoulliNB estimator\n",
       "</pre>\n"
      ],
      "text/plain": [
       "  Training BernoulliNB estimator\n"
      ]
     },
     "metadata": {},
     "output_type": "display_data"
    },
    {
     "data": {
      "text/html": [
       "<pre style=\"white-space:pre;overflow-x:auto;line-height:normal;font-family:Menlo,'DejaVu Sans Mono',consolas,'Courier New',monospace\">  Training CalibratedClassifierCV estimator\n",
       "</pre>\n"
      ],
      "text/plain": [
       "  Training CalibratedClassifierCV estimator\n"
      ]
     },
     "metadata": {},
     "output_type": "display_data"
    },
    {
     "data": {
      "text/html": [
       "<pre style=\"white-space:pre;overflow-x:auto;line-height:normal;font-family:Menlo,'DejaVu Sans Mono',consolas,'Courier New',monospace\">  Training ComplementNB estimator\n",
       "</pre>\n"
      ],
      "text/plain": [
       "  Training ComplementNB estimator\n"
      ]
     },
     "metadata": {},
     "output_type": "display_data"
    },
    {
     "data": {
      "text/html": [
       "<pre style=\"white-space:pre;overflow-x:auto;line-height:normal;font-family:Menlo,'DejaVu Sans Mono',consolas,'Courier New',monospace\">  Training DecisionTreeClassifier estimator\n",
       "</pre>\n"
      ],
      "text/plain": [
       "  Training DecisionTreeClassifier estimator\n"
      ]
     },
     "metadata": {},
     "output_type": "display_data"
    },
    {
     "data": {
      "text/html": [
       "<pre style=\"white-space:pre;overflow-x:auto;line-height:normal;font-family:Menlo,'DejaVu Sans Mono',consolas,'Courier New',monospace\">  Training DummyClassifier estimator\n",
       "</pre>\n"
      ],
      "text/plain": [
       "  Training DummyClassifier estimator\n"
      ]
     },
     "metadata": {},
     "output_type": "display_data"
    },
    {
     "data": {
      "text/html": [
       "<pre style=\"white-space:pre;overflow-x:auto;line-height:normal;font-family:Menlo,'DejaVu Sans Mono',consolas,'Courier New',monospace\">  Training ExtraTreeClassifier estimator\n",
       "</pre>\n"
      ],
      "text/plain": [
       "  Training ExtraTreeClassifier estimator\n"
      ]
     },
     "metadata": {},
     "output_type": "display_data"
    },
    {
     "data": {
      "text/html": [
       "<pre style=\"white-space:pre;overflow-x:auto;line-height:normal;font-family:Menlo,'DejaVu Sans Mono',consolas,'Courier New',monospace\">  Training ExtraTreesClassifier estimator\n",
       "</pre>\n"
      ],
      "text/plain": [
       "  Training ExtraTreesClassifier estimator\n"
      ]
     },
     "metadata": {},
     "output_type": "display_data"
    },
    {
     "data": {
      "text/html": [
       "<pre style=\"white-space:pre;overflow-x:auto;line-height:normal;font-family:Menlo,'DejaVu Sans Mono',consolas,'Courier New',monospace\">  Training GradientBoostingClassifier estimator\n",
       "</pre>\n"
      ],
      "text/plain": [
       "  Training GradientBoostingClassifier estimator\n"
      ]
     },
     "metadata": {},
     "output_type": "display_data"
    },
    {
     "data": {
      "text/html": [
       "<pre style=\"white-space:pre;overflow-x:auto;line-height:normal;font-family:Menlo,'DejaVu Sans Mono',consolas,'Courier New',monospace\">  Training KNeighborsClassifier estimator\n",
       "</pre>\n"
      ],
      "text/plain": [
       "  Training KNeighborsClassifier estimator\n"
      ]
     },
     "metadata": {},
     "output_type": "display_data"
    },
    {
     "data": {
      "text/html": [
       "<pre style=\"white-space:pre;overflow-x:auto;line-height:normal;font-family:Menlo,'DejaVu Sans Mono',consolas,'Courier New',monospace\">  Training LinearSVC estimator\n",
       "</pre>\n"
      ],
      "text/plain": [
       "  Training LinearSVC estimator\n"
      ]
     },
     "metadata": {},
     "output_type": "display_data"
    },
    {
     "data": {
      "text/html": [
       "<pre style=\"white-space:pre;overflow-x:auto;line-height:normal;font-family:Menlo,'DejaVu Sans Mono',consolas,'Courier New',monospace\">  Training LogisticRegression estimator\n",
       "</pre>\n"
      ],
      "text/plain": [
       "  Training LogisticRegression estimator\n"
      ]
     },
     "metadata": {},
     "output_type": "display_data"
    },
    {
     "data": {
      "text/html": [
       "<pre style=\"white-space:pre;overflow-x:auto;line-height:normal;font-family:Menlo,'DejaVu Sans Mono',consolas,'Courier New',monospace\">  Training LogisticRegressionCV estimator\n",
       "</pre>\n"
      ],
      "text/plain": [
       "  Training LogisticRegressionCV estimator\n"
      ]
     },
     "metadata": {},
     "output_type": "display_data"
    },
    {
     "data": {
      "text/html": [
       "<pre style=\"white-space:pre;overflow-x:auto;line-height:normal;font-family:Menlo,'DejaVu Sans Mono',consolas,'Courier New',monospace\">  Training MLPClassifier estimator\n",
       "</pre>\n"
      ],
      "text/plain": [
       "  Training MLPClassifier estimator\n"
      ]
     },
     "metadata": {},
     "output_type": "display_data"
    },
    {
     "data": {
      "text/html": [
       "<pre style=\"white-space:pre;overflow-x:auto;line-height:normal;font-family:Menlo,'DejaVu Sans Mono',consolas,'Courier New',monospace\">  Training MultinomialNB estimator\n",
       "</pre>\n"
      ],
      "text/plain": [
       "  Training MultinomialNB estimator\n"
      ]
     },
     "metadata": {},
     "output_type": "display_data"
    },
    {
     "data": {
      "text/html": [
       "<pre style=\"white-space:pre;overflow-x:auto;line-height:normal;font-family:Menlo,'DejaVu Sans Mono',consolas,'Courier New',monospace\">  Training NearestCentroid estimator\n",
       "</pre>\n"
      ],
      "text/plain": [
       "  Training NearestCentroid estimator\n"
      ]
     },
     "metadata": {},
     "output_type": "display_data"
    },
    {
     "data": {
      "text/html": [
       "<pre style=\"white-space:pre;overflow-x:auto;line-height:normal;font-family:Menlo,'DejaVu Sans Mono',consolas,'Courier New',monospace\">  Training NuSVC estimator\n",
       "</pre>\n"
      ],
      "text/plain": [
       "  Training NuSVC estimator\n"
      ]
     },
     "metadata": {},
     "output_type": "display_data"
    },
    {
     "data": {
      "text/html": [
       "<pre style=\"white-space:pre;overflow-x:auto;line-height:normal;font-family:Menlo,'DejaVu Sans Mono',consolas,'Courier New',monospace\">  Training PassiveAggressiveClassifier estimator\n",
       "</pre>\n"
      ],
      "text/plain": [
       "  Training PassiveAggressiveClassifier estimator\n"
      ]
     },
     "metadata": {},
     "output_type": "display_data"
    },
    {
     "data": {
      "text/html": [
       "<pre style=\"white-space:pre;overflow-x:auto;line-height:normal;font-family:Menlo,'DejaVu Sans Mono',consolas,'Courier New',monospace\">  Training Perceptron estimator\n",
       "</pre>\n"
      ],
      "text/plain": [
       "  Training Perceptron estimator\n"
      ]
     },
     "metadata": {},
     "output_type": "display_data"
    },
    {
     "data": {
      "text/html": [
       "<pre style=\"white-space:pre;overflow-x:auto;line-height:normal;font-family:Menlo,'DejaVu Sans Mono',consolas,'Courier New',monospace\">  Training RandomForestClassifier estimator\n",
       "</pre>\n"
      ],
      "text/plain": [
       "  Training RandomForestClassifier estimator\n"
      ]
     },
     "metadata": {},
     "output_type": "display_data"
    },
    {
     "data": {
      "text/html": [
       "<pre style=\"white-space:pre;overflow-x:auto;line-height:normal;font-family:Menlo,'DejaVu Sans Mono',consolas,'Courier New',monospace\">  Training RidgeClassifier estimator\n",
       "</pre>\n"
      ],
      "text/plain": [
       "  Training RidgeClassifier estimator\n"
      ]
     },
     "metadata": {},
     "output_type": "display_data"
    },
    {
     "data": {
      "text/html": [
       "<pre style=\"white-space:pre;overflow-x:auto;line-height:normal;font-family:Menlo,'DejaVu Sans Mono',consolas,'Courier New',monospace\">  Training SGDClassifier estimator\n",
       "</pre>\n"
      ],
      "text/plain": [
       "  Training SGDClassifier estimator\n"
      ]
     },
     "metadata": {},
     "output_type": "display_data"
    },
    {
     "data": {
      "text/html": [
       "<pre style=\"white-space:pre;overflow-x:auto;line-height:normal;font-family:Menlo,'DejaVu Sans Mono',consolas,'Courier New',monospace\">  Training SVC estimator\n",
       "</pre>\n"
      ],
      "text/plain": [
       "  Training SVC estimator\n"
      ]
     },
     "metadata": {},
     "output_type": "display_data"
    },
    {
     "data": {
      "text/html": [
       "<pre style=\"white-space:pre;overflow-x:auto;line-height:normal;font-family:Menlo,'DejaVu Sans Mono',consolas,'Courier New',monospace\"></pre>\n"
      ],
      "text/plain": []
     },
     "metadata": {},
     "output_type": "display_data"
    },
    {
     "data": {
      "text/html": [
       "<pre style=\"white-space:pre;overflow-x:auto;line-height:normal;font-family:Menlo,'DejaVu Sans Mono',consolas,'Courier New',monospace\">\n",
       "</pre>\n"
      ],
      "text/plain": [
       "\n"
      ]
     },
     "metadata": {},
     "output_type": "display_data"
    },
    {
     "data": {
      "text/html": [
       "<pre style=\"white-space:pre;overflow-x:auto;line-height:normal;font-family:Menlo,'DejaVu Sans Mono',consolas,'Courier New',monospace\"><span style=\"font-style: italic\">                                       Result Analysis                                       </span>\n",
       "┏━━━━━━━━━━━━━━━━━━━━━━━━━━━━┳━━━━━━━━━━━━━━━━━━━┳━━━━━━━━━━━━━━━━━━━━┳━━━━━━━━━━━━━━━━━━━┳┳┓\n",
       "┃<span style=\"font-weight: bold\"> Model                      </span>┃<span style=\"font-weight: bold\"> Accuracy          </span>┃<span style=\"font-weight: bold\"> Balanced Accuracy  </span>┃<span style=\"font-weight: bold\"> F1 Score          </span>┃<span style=\"font-weight: bold\"></span>┃<span style=\"font-weight: bold\"></span>┃\n",
       "┡━━━━━━━━━━━━━━━━━━━━━━━━━━━━╇━━━━━━━━━━━━━━━━━━━╇━━━━━━━━━━━━━━━━━━━━╇━━━━━━━━━━━━━━━━━━━╇╇┩\n",
       "│<span style=\"color: #008080; text-decoration-color: #008080\"> AdaBoostClassifier         </span>│<span style=\"color: #800080; text-decoration-color: #800080\"> 0.66666666666666… </span>│<span style=\"color: #008000; text-decoration-color: #008000\"> 0.6020702306079665 </span>│<span style=\"color: #800000; text-decoration-color: #800000\"> 0.76160990712074… </span>│<span style=\"color: #808000; text-decoration-color: #808000\"></span>│<span style=\"color: #c0c0c0; text-decoration-color: #c0c0c0\"></span>│\n",
       "│<span style=\"color: #008080; text-decoration-color: #008080\"> BaggingClassifier          </span>│<span style=\"color: #800080; text-decoration-color: #800080\"> 0.71428571428571… </span>│<span style=\"color: #008000; text-decoration-color: #008000\"> 0.63666142557652   </span>│<span style=\"color: #800000; text-decoration-color: #800000\"> 0.80239520958083… </span>│<span style=\"color: #808000; text-decoration-color: #808000\"></span>│<span style=\"color: #c0c0c0; text-decoration-color: #c0c0c0\"></span>│\n",
       "│<span style=\"color: #008080; text-decoration-color: #008080\"> BernoulliNB                </span>│<span style=\"color: #800080; text-decoration-color: #800080\"> 0.683982683982684 </span>│<span style=\"color: #008000; text-decoration-color: #008000\"> 0.4968553459119497 </span>│<span style=\"color: #800000; text-decoration-color: #800000\"> 0.81233933161953… </span>│<span style=\"color: #808000; text-decoration-color: #808000\"></span>│<span style=\"color: #c0c0c0; text-decoration-color: #c0c0c0\"></span>│\n",
       "│<span style=\"color: #008080; text-decoration-color: #008080\"> CalibratedClassifierCV     </span>│<span style=\"color: #800080; text-decoration-color: #800080\"> 0.72727272727272… </span>│<span style=\"color: #008000; text-decoration-color: #008000\"> 0.6460953878406709 </span>│<span style=\"color: #800000; text-decoration-color: #800000\"> 0.81305637982195… </span>│<span style=\"color: #808000; text-decoration-color: #808000\"></span>│<span style=\"color: #c0c0c0; text-decoration-color: #c0c0c0\"></span>│\n",
       "│<span style=\"color: #008080; text-decoration-color: #008080\"> ComplementNB               </span>│<span style=\"color: #800080; text-decoration-color: #800080\"> 0.696969696969697 </span>│<span style=\"color: #008000; text-decoration-color: #008000\"> 0.5138888888888888 </span>│<span style=\"color: #800000; text-decoration-color: #800000\"> 0.81958762886597… </span>│<span style=\"color: #808000; text-decoration-color: #808000\"></span>│<span style=\"color: #c0c0c0; text-decoration-color: #c0c0c0\"></span>│\n",
       "│<span style=\"color: #008080; text-decoration-color: #008080\"> DecisionTreeClassifier     </span>│<span style=\"color: #800080; text-decoration-color: #800080\"> 0.61471861471861… </span>│<span style=\"color: #008000; text-decoration-color: #008000\"> 0.5415356394129979 </span>│<span style=\"color: #800000; text-decoration-color: #800000\"> 0.72445820433436… </span>│<span style=\"color: #808000; text-decoration-color: #808000\"></span>│<span style=\"color: #c0c0c0; text-decoration-color: #c0c0c0\"></span>│\n",
       "│<span style=\"color: #008080; text-decoration-color: #008080\"> DummyClassifier            </span>│<span style=\"color: #800080; text-decoration-color: #800080\"> 0.68831168831168… </span>│<span style=\"color: #008000; text-decoration-color: #008000\"> 0.5                </span>│<span style=\"color: #800000; text-decoration-color: #800000\"> 0.81538461538461… </span>│<span style=\"color: #808000; text-decoration-color: #808000\"></span>│<span style=\"color: #c0c0c0; text-decoration-color: #c0c0c0\"></span>│\n",
       "│<span style=\"color: #008080; text-decoration-color: #008080\"> ExtraTreeClassifier        </span>│<span style=\"color: #800080; text-decoration-color: #800080\"> 0.66666666666666… </span>│<span style=\"color: #008000; text-decoration-color: #008000\"> 0.5640723270440252 </span>│<span style=\"color: #800000; text-decoration-color: #800000\"> 0.77551020408163… </span>│<span style=\"color: #808000; text-decoration-color: #808000\"></span>│<span style=\"color: #c0c0c0; text-decoration-color: #c0c0c0\"></span>│\n",
       "│<span style=\"color: #008080; text-decoration-color: #008080\"> ExtraTreesClassifier       </span>│<span style=\"color: #800080; text-decoration-color: #800080\"> 0.69264069264069… </span>│<span style=\"color: #008000; text-decoration-color: #008000\"> 0.5297431865828093 </span>│<span style=\"color: #800000; text-decoration-color: #800000\"> 0.81167108753315… </span>│<span style=\"color: #808000; text-decoration-color: #808000\"></span>│<span style=\"color: #c0c0c0; text-decoration-color: #c0c0c0\"></span>│\n",
       "│<span style=\"color: #008080; text-decoration-color: #008080\"> GradientBoostingClassifier </span>│<span style=\"color: #800080; text-decoration-color: #800080\"> 0.72727272727272… </span>│<span style=\"color: #008000; text-decoration-color: #008000\"> 0.6232966457023061 </span>│<span style=\"color: #800000; text-decoration-color: #800000\"> 0.81948424068767… </span>│<span style=\"color: #808000; text-decoration-color: #808000\"></span>│<span style=\"color: #c0c0c0; text-decoration-color: #c0c0c0\"></span>│\n",
       "│<span style=\"color: #008080; text-decoration-color: #008080\"> KNeighborsClassifier       </span>│<span style=\"color: #800080; text-decoration-color: #800080\"> 0.67532467532467… </span>│<span style=\"color: #008000; text-decoration-color: #008000\"> 0.547562893081761  </span>│<span style=\"color: #800000; text-decoration-color: #800000\"> 0.78991596638655… </span>│<span style=\"color: #808000; text-decoration-color: #808000\"></span>│<span style=\"color: #c0c0c0; text-decoration-color: #c0c0c0\"></span>│\n",
       "│<span style=\"color: #008080; text-decoration-color: #008080\"> LinearSVC                  </span>│<span style=\"color: #800080; text-decoration-color: #800080\"> 0.73160173160173… </span>│<span style=\"color: #008000; text-decoration-color: #008000\"> 0.6378406708595388 </span>│<span style=\"color: #800000; text-decoration-color: #800000\"> 0.81976744186046… </span>│<span style=\"color: #808000; text-decoration-color: #808000\"></span>│<span style=\"color: #c0c0c0; text-decoration-color: #c0c0c0\"></span>│\n",
       "│<span style=\"color: #008080; text-decoration-color: #008080\"> LogisticRegression         </span>│<span style=\"color: #800080; text-decoration-color: #800080\"> 0.73160173160173… </span>│<span style=\"color: #008000; text-decoration-color: #008000\"> 0.5770440251572327 </span>│<span style=\"color: #800000; text-decoration-color: #800000\"> 0.83510638297872… </span>│<span style=\"color: #808000; text-decoration-color: #808000\"></span>│<span style=\"color: #c0c0c0; text-decoration-color: #c0c0c0\"></span>│\n",
       "│<span style=\"color: #008080; text-decoration-color: #008080\"> LogisticRegressionCV       </span>│<span style=\"color: #800080; text-decoration-color: #800080\"> 0.73593073593073… </span>│<span style=\"color: #008000; text-decoration-color: #008000\"> 0.6485849056603774 </span>│<span style=\"color: #800000; text-decoration-color: #800000\"> 0.82111436950146… </span>│<span style=\"color: #808000; text-decoration-color: #808000\"></span>│<span style=\"color: #c0c0c0; text-decoration-color: #c0c0c0\"></span>│\n",
       "│<span style=\"color: #008080; text-decoration-color: #008080\"> MLPClassifier              </span>│<span style=\"color: #800080; text-decoration-color: #800080\"> 0.73160173160173… </span>│<span style=\"color: #008000; text-decoration-color: #008000\"> 0.641640461215933  </span>│<span style=\"color: #800000; text-decoration-color: #800000\"> 0.81871345029239… </span>│<span style=\"color: #808000; text-decoration-color: #808000\"></span>│<span style=\"color: #c0c0c0; text-decoration-color: #c0c0c0\"></span>│\n",
       "│<span style=\"color: #008080; text-decoration-color: #008080\"> MultinomialNB              </span>│<span style=\"color: #800080; text-decoration-color: #800080\"> 0.68831168831168… </span>│<span style=\"color: #008000; text-decoration-color: #008000\"> 0.5                </span>│<span style=\"color: #800000; text-decoration-color: #800000\"> 0.81538461538461… </span>│<span style=\"color: #808000; text-decoration-color: #808000\"></span>│<span style=\"color: #c0c0c0; text-decoration-color: #c0c0c0\"></span>│\n",
       "│<span style=\"color: #008080; text-decoration-color: #008080\"> NearestCentroid            </span>│<span style=\"color: #800080; text-decoration-color: #800080\"> 0.70995670995671  </span>│<span style=\"color: #008000; text-decoration-color: #008000\"> 0.7133123689727463 </span>│<span style=\"color: #800000; text-decoration-color: #800000\"> 0.76975945017182… </span>│<span style=\"color: #808000; text-decoration-color: #808000\"></span>│<span style=\"color: #c0c0c0; text-decoration-color: #c0c0c0\"></span>│\n",
       "│<span style=\"color: #008080; text-decoration-color: #008080\"> NuSVC                      </span>│<span style=\"color: #800080; text-decoration-color: #800080\"> 0.73593073593073… </span>│<span style=\"color: #008000; text-decoration-color: #008000\"> 0.6181865828092243 </span>│<span style=\"color: #800000; text-decoration-color: #800000\"> 0.82913165266106… </span>│<span style=\"color: #808000; text-decoration-color: #808000\"></span>│<span style=\"color: #c0c0c0; text-decoration-color: #c0c0c0\"></span>│\n",
       "│<span style=\"color: #008080; text-decoration-color: #008080\"> PassiveAggressiveClassifi… </span>│<span style=\"color: #800080; text-decoration-color: #800080\"> 0.73593073593073… </span>│<span style=\"color: #008000; text-decoration-color: #008000\"> 0.6599842767295597 </span>│<span style=\"color: #800000; text-decoration-color: #800000\"> 0.81791044776119… </span>│<span style=\"color: #808000; text-decoration-color: #808000\"></span>│<span style=\"color: #c0c0c0; text-decoration-color: #c0c0c0\"></span>│\n",
       "│<span style=\"color: #008080; text-decoration-color: #008080\"> Perceptron                 </span>│<span style=\"color: #800080; text-decoration-color: #800080\"> 0.73160173160173… </span>│<span style=\"color: #008000; text-decoration-color: #008000\"> 0.67583857442348   </span>│<span style=\"color: #800000; text-decoration-color: #800000\"> 0.808641975308642 </span>│<span style=\"color: #808000; text-decoration-color: #808000\"></span>│<span style=\"color: #c0c0c0; text-decoration-color: #c0c0c0\"></span>│\n",
       "│<span style=\"color: #008080; text-decoration-color: #008080\"> RandomForestClassifier     </span>│<span style=\"color: #800080; text-decoration-color: #800080\"> 0.71428571428571… </span>│<span style=\"color: #008000; text-decoration-color: #008000\"> 0.549266247379455  </span>│<span style=\"color: #800000; text-decoration-color: #800000\"> 0.82631578947368… </span>│<span style=\"color: #808000; text-decoration-color: #808000\"></span>│<span style=\"color: #c0c0c0; text-decoration-color: #c0c0c0\"></span>│\n",
       "│<span style=\"color: #008080; text-decoration-color: #008080\"> RidgeClassifier            </span>│<span style=\"color: #800080; text-decoration-color: #800080\"> 0.73593073593073… </span>│<span style=\"color: #008000; text-decoration-color: #008000\"> 0.6295859538784068 </span>│<span style=\"color: #800000; text-decoration-color: #800000\"> 0.82621082621082… </span>│<span style=\"color: #808000; text-decoration-color: #808000\"></span>│<span style=\"color: #c0c0c0; text-decoration-color: #c0c0c0\"></span>│\n",
       "│<span style=\"color: #008080; text-decoration-color: #008080\"> SGDClassifier              </span>│<span style=\"color: #800080; text-decoration-color: #800080\"> 0.72294372294372… </span>│<span style=\"color: #008000; text-decoration-color: #008000\"> 0.6467505241090147 </span>│<span style=\"color: #800000; text-decoration-color: #800000\"> 0.80838323353293… </span>│<span style=\"color: #808000; text-decoration-color: #808000\"></span>│<span style=\"color: #c0c0c0; text-decoration-color: #c0c0c0\"></span>│\n",
       "│<span style=\"color: #008080; text-decoration-color: #008080\"> SVC                        </span>│<span style=\"color: #800080; text-decoration-color: #800080\"> 0.68831168831168… </span>│<span style=\"color: #008000; text-decoration-color: #008000\"> 0.5037997903563941 </span>│<span style=\"color: #800000; text-decoration-color: #800000\"> 0.81443298969072… </span>│<span style=\"color: #808000; text-decoration-color: #808000\"></span>│<span style=\"color: #c0c0c0; text-decoration-color: #c0c0c0\"></span>│\n",
       "└────────────────────────────┴───────────────────┴────────────────────┴───────────────────┴┴┘\n",
       "</pre>\n"
      ],
      "text/plain": [
       "\u001b[3m                                       Result Analysis                                       \u001b[0m\n",
       "┏━━━━━━━━━━━━━━━━━━━━━━━━━━━━┳━━━━━━━━━━━━━━━━━━━┳━━━━━━━━━━━━━━━━━━━━┳━━━━━━━━━━━━━━━━━━━┳┳┓\n",
       "┃\u001b[1m \u001b[0m\u001b[1mModel                     \u001b[0m\u001b[1m \u001b[0m┃\u001b[1m \u001b[0m\u001b[1mAccuracy         \u001b[0m\u001b[1m \u001b[0m┃\u001b[1m \u001b[0m\u001b[1mBalanced Accuracy \u001b[0m\u001b[1m \u001b[0m┃\u001b[1m \u001b[0m\u001b[1mF1 Score         \u001b[0m\u001b[1m \u001b[0m┃┃┃\n",
       "┡━━━━━━━━━━━━━━━━━━━━━━━━━━━━╇━━━━━━━━━━━━━━━━━━━╇━━━━━━━━━━━━━━━━━━━━╇━━━━━━━━━━━━━━━━━━━╇╇┩\n",
       "│\u001b[36m \u001b[0m\u001b[36mAdaBoostClassifier        \u001b[0m\u001b[36m \u001b[0m│\u001b[35m \u001b[0m\u001b[35m0.66666666666666…\u001b[0m\u001b[35m \u001b[0m│\u001b[32m \u001b[0m\u001b[32m0.6020702306079665\u001b[0m\u001b[32m \u001b[0m│\u001b[31m \u001b[0m\u001b[31m0.76160990712074…\u001b[0m\u001b[31m \u001b[0m│││\n",
       "│\u001b[36m \u001b[0m\u001b[36mBaggingClassifier         \u001b[0m\u001b[36m \u001b[0m│\u001b[35m \u001b[0m\u001b[35m0.71428571428571…\u001b[0m\u001b[35m \u001b[0m│\u001b[32m \u001b[0m\u001b[32m0.63666142557652  \u001b[0m\u001b[32m \u001b[0m│\u001b[31m \u001b[0m\u001b[31m0.80239520958083…\u001b[0m\u001b[31m \u001b[0m│││\n",
       "│\u001b[36m \u001b[0m\u001b[36mBernoulliNB               \u001b[0m\u001b[36m \u001b[0m│\u001b[35m \u001b[0m\u001b[35m0.683982683982684\u001b[0m\u001b[35m \u001b[0m│\u001b[32m \u001b[0m\u001b[32m0.4968553459119497\u001b[0m\u001b[32m \u001b[0m│\u001b[31m \u001b[0m\u001b[31m0.81233933161953…\u001b[0m\u001b[31m \u001b[0m│││\n",
       "│\u001b[36m \u001b[0m\u001b[36mCalibratedClassifierCV    \u001b[0m\u001b[36m \u001b[0m│\u001b[35m \u001b[0m\u001b[35m0.72727272727272…\u001b[0m\u001b[35m \u001b[0m│\u001b[32m \u001b[0m\u001b[32m0.6460953878406709\u001b[0m\u001b[32m \u001b[0m│\u001b[31m \u001b[0m\u001b[31m0.81305637982195…\u001b[0m\u001b[31m \u001b[0m│││\n",
       "│\u001b[36m \u001b[0m\u001b[36mComplementNB              \u001b[0m\u001b[36m \u001b[0m│\u001b[35m \u001b[0m\u001b[35m0.696969696969697\u001b[0m\u001b[35m \u001b[0m│\u001b[32m \u001b[0m\u001b[32m0.5138888888888888\u001b[0m\u001b[32m \u001b[0m│\u001b[31m \u001b[0m\u001b[31m0.81958762886597…\u001b[0m\u001b[31m \u001b[0m│││\n",
       "│\u001b[36m \u001b[0m\u001b[36mDecisionTreeClassifier    \u001b[0m\u001b[36m \u001b[0m│\u001b[35m \u001b[0m\u001b[35m0.61471861471861…\u001b[0m\u001b[35m \u001b[0m│\u001b[32m \u001b[0m\u001b[32m0.5415356394129979\u001b[0m\u001b[32m \u001b[0m│\u001b[31m \u001b[0m\u001b[31m0.72445820433436…\u001b[0m\u001b[31m \u001b[0m│││\n",
       "│\u001b[36m \u001b[0m\u001b[36mDummyClassifier           \u001b[0m\u001b[36m \u001b[0m│\u001b[35m \u001b[0m\u001b[35m0.68831168831168…\u001b[0m\u001b[35m \u001b[0m│\u001b[32m \u001b[0m\u001b[32m0.5               \u001b[0m\u001b[32m \u001b[0m│\u001b[31m \u001b[0m\u001b[31m0.81538461538461…\u001b[0m\u001b[31m \u001b[0m│││\n",
       "│\u001b[36m \u001b[0m\u001b[36mExtraTreeClassifier       \u001b[0m\u001b[36m \u001b[0m│\u001b[35m \u001b[0m\u001b[35m0.66666666666666…\u001b[0m\u001b[35m \u001b[0m│\u001b[32m \u001b[0m\u001b[32m0.5640723270440252\u001b[0m\u001b[32m \u001b[0m│\u001b[31m \u001b[0m\u001b[31m0.77551020408163…\u001b[0m\u001b[31m \u001b[0m│││\n",
       "│\u001b[36m \u001b[0m\u001b[36mExtraTreesClassifier      \u001b[0m\u001b[36m \u001b[0m│\u001b[35m \u001b[0m\u001b[35m0.69264069264069…\u001b[0m\u001b[35m \u001b[0m│\u001b[32m \u001b[0m\u001b[32m0.5297431865828093\u001b[0m\u001b[32m \u001b[0m│\u001b[31m \u001b[0m\u001b[31m0.81167108753315…\u001b[0m\u001b[31m \u001b[0m│││\n",
       "│\u001b[36m \u001b[0m\u001b[36mGradientBoostingClassifier\u001b[0m\u001b[36m \u001b[0m│\u001b[35m \u001b[0m\u001b[35m0.72727272727272…\u001b[0m\u001b[35m \u001b[0m│\u001b[32m \u001b[0m\u001b[32m0.6232966457023061\u001b[0m\u001b[32m \u001b[0m│\u001b[31m \u001b[0m\u001b[31m0.81948424068767…\u001b[0m\u001b[31m \u001b[0m│││\n",
       "│\u001b[36m \u001b[0m\u001b[36mKNeighborsClassifier      \u001b[0m\u001b[36m \u001b[0m│\u001b[35m \u001b[0m\u001b[35m0.67532467532467…\u001b[0m\u001b[35m \u001b[0m│\u001b[32m \u001b[0m\u001b[32m0.547562893081761 \u001b[0m\u001b[32m \u001b[0m│\u001b[31m \u001b[0m\u001b[31m0.78991596638655…\u001b[0m\u001b[31m \u001b[0m│││\n",
       "│\u001b[36m \u001b[0m\u001b[36mLinearSVC                 \u001b[0m\u001b[36m \u001b[0m│\u001b[35m \u001b[0m\u001b[35m0.73160173160173…\u001b[0m\u001b[35m \u001b[0m│\u001b[32m \u001b[0m\u001b[32m0.6378406708595388\u001b[0m\u001b[32m \u001b[0m│\u001b[31m \u001b[0m\u001b[31m0.81976744186046…\u001b[0m\u001b[31m \u001b[0m│││\n",
       "│\u001b[36m \u001b[0m\u001b[36mLogisticRegression        \u001b[0m\u001b[36m \u001b[0m│\u001b[35m \u001b[0m\u001b[35m0.73160173160173…\u001b[0m\u001b[35m \u001b[0m│\u001b[32m \u001b[0m\u001b[32m0.5770440251572327\u001b[0m\u001b[32m \u001b[0m│\u001b[31m \u001b[0m\u001b[31m0.83510638297872…\u001b[0m\u001b[31m \u001b[0m│││\n",
       "│\u001b[36m \u001b[0m\u001b[36mLogisticRegressionCV      \u001b[0m\u001b[36m \u001b[0m│\u001b[35m \u001b[0m\u001b[35m0.73593073593073…\u001b[0m\u001b[35m \u001b[0m│\u001b[32m \u001b[0m\u001b[32m0.6485849056603774\u001b[0m\u001b[32m \u001b[0m│\u001b[31m \u001b[0m\u001b[31m0.82111436950146…\u001b[0m\u001b[31m \u001b[0m│││\n",
       "│\u001b[36m \u001b[0m\u001b[36mMLPClassifier             \u001b[0m\u001b[36m \u001b[0m│\u001b[35m \u001b[0m\u001b[35m0.73160173160173…\u001b[0m\u001b[35m \u001b[0m│\u001b[32m \u001b[0m\u001b[32m0.641640461215933 \u001b[0m\u001b[32m \u001b[0m│\u001b[31m \u001b[0m\u001b[31m0.81871345029239…\u001b[0m\u001b[31m \u001b[0m│││\n",
       "│\u001b[36m \u001b[0m\u001b[36mMultinomialNB             \u001b[0m\u001b[36m \u001b[0m│\u001b[35m \u001b[0m\u001b[35m0.68831168831168…\u001b[0m\u001b[35m \u001b[0m│\u001b[32m \u001b[0m\u001b[32m0.5               \u001b[0m\u001b[32m \u001b[0m│\u001b[31m \u001b[0m\u001b[31m0.81538461538461…\u001b[0m\u001b[31m \u001b[0m│││\n",
       "│\u001b[36m \u001b[0m\u001b[36mNearestCentroid           \u001b[0m\u001b[36m \u001b[0m│\u001b[35m \u001b[0m\u001b[35m0.70995670995671 \u001b[0m\u001b[35m \u001b[0m│\u001b[32m \u001b[0m\u001b[32m0.7133123689727463\u001b[0m\u001b[32m \u001b[0m│\u001b[31m \u001b[0m\u001b[31m0.76975945017182…\u001b[0m\u001b[31m \u001b[0m│││\n",
       "│\u001b[36m \u001b[0m\u001b[36mNuSVC                     \u001b[0m\u001b[36m \u001b[0m│\u001b[35m \u001b[0m\u001b[35m0.73593073593073…\u001b[0m\u001b[35m \u001b[0m│\u001b[32m \u001b[0m\u001b[32m0.6181865828092243\u001b[0m\u001b[32m \u001b[0m│\u001b[31m \u001b[0m\u001b[31m0.82913165266106…\u001b[0m\u001b[31m \u001b[0m│││\n",
       "│\u001b[36m \u001b[0m\u001b[36mPassiveAggressiveClassifi…\u001b[0m\u001b[36m \u001b[0m│\u001b[35m \u001b[0m\u001b[35m0.73593073593073…\u001b[0m\u001b[35m \u001b[0m│\u001b[32m \u001b[0m\u001b[32m0.6599842767295597\u001b[0m\u001b[32m \u001b[0m│\u001b[31m \u001b[0m\u001b[31m0.81791044776119…\u001b[0m\u001b[31m \u001b[0m│││\n",
       "│\u001b[36m \u001b[0m\u001b[36mPerceptron                \u001b[0m\u001b[36m \u001b[0m│\u001b[35m \u001b[0m\u001b[35m0.73160173160173…\u001b[0m\u001b[35m \u001b[0m│\u001b[32m \u001b[0m\u001b[32m0.67583857442348  \u001b[0m\u001b[32m \u001b[0m│\u001b[31m \u001b[0m\u001b[31m0.808641975308642\u001b[0m\u001b[31m \u001b[0m│││\n",
       "│\u001b[36m \u001b[0m\u001b[36mRandomForestClassifier    \u001b[0m\u001b[36m \u001b[0m│\u001b[35m \u001b[0m\u001b[35m0.71428571428571…\u001b[0m\u001b[35m \u001b[0m│\u001b[32m \u001b[0m\u001b[32m0.549266247379455 \u001b[0m\u001b[32m \u001b[0m│\u001b[31m \u001b[0m\u001b[31m0.82631578947368…\u001b[0m\u001b[31m \u001b[0m│││\n",
       "│\u001b[36m \u001b[0m\u001b[36mRidgeClassifier           \u001b[0m\u001b[36m \u001b[0m│\u001b[35m \u001b[0m\u001b[35m0.73593073593073…\u001b[0m\u001b[35m \u001b[0m│\u001b[32m \u001b[0m\u001b[32m0.6295859538784068\u001b[0m\u001b[32m \u001b[0m│\u001b[31m \u001b[0m\u001b[31m0.82621082621082…\u001b[0m\u001b[31m \u001b[0m│││\n",
       "│\u001b[36m \u001b[0m\u001b[36mSGDClassifier             \u001b[0m\u001b[36m \u001b[0m│\u001b[35m \u001b[0m\u001b[35m0.72294372294372…\u001b[0m\u001b[35m \u001b[0m│\u001b[32m \u001b[0m\u001b[32m0.6467505241090147\u001b[0m\u001b[32m \u001b[0m│\u001b[31m \u001b[0m\u001b[31m0.80838323353293…\u001b[0m\u001b[31m \u001b[0m│││\n",
       "│\u001b[36m \u001b[0m\u001b[36mSVC                       \u001b[0m\u001b[36m \u001b[0m│\u001b[35m \u001b[0m\u001b[35m0.68831168831168…\u001b[0m\u001b[35m \u001b[0m│\u001b[32m \u001b[0m\u001b[32m0.5037997903563941\u001b[0m\u001b[32m \u001b[0m│\u001b[31m \u001b[0m\u001b[31m0.81443298969072…\u001b[0m\u001b[31m \u001b[0m│││\n",
       "└────────────────────────────┴───────────────────┴────────────────────┴───────────────────┴┴┘\n"
      ]
     },
     "metadata": {},
     "output_type": "display_data"
    }
   ],
   "source": [
    "train_test_number = [1,2,3,4,5]\n",
    "train_file_name = \"train.csv\"\n",
    "test_file_name = \"test.csv\"\n",
    "kfold_df = pd.DataFrame()\n",
    "\n",
    "for train_index in train_test_number:\n",
    "    print(f\"Fold Number: {train_index}\")\n",
    "    # Read data\n",
    "    with s3.open(f\"{bucket_name}/KFOLD{train_index}/{train_file_name}\",'r') as file:\n",
    "        data = pd.read_csv(file)\n",
    "    with s3.open(f\"{bucket_name}/KFOLD{train_index}/{test_file_name}\",'r') as file:\n",
    "        test_data = pd.read_csv(file)\n",
    "\n",
    "    train_text = data['Text']\n",
    "    train_labels = data['majority_vote']\n",
    "    test_text = test_data['Text']\n",
    "    test_labels = test_data['majority_vote']\n",
    "    \n",
    "        # Tokenize the words\n",
    "    train_text_clean = train_text.apply(nltk.word_tokenize)\n",
    "    test_text_clean = test_text.apply(nltk.word_tokenize)\n",
    "\n",
    "    # Remove stop words\n",
    "    stop_words=set(nltk.corpus.stopwords.words(\"german\"))\n",
    "    train_text_clean = train_text_clean.apply(lambda x: [item for item in x if item not in stop_words])\n",
    "    test_text_clean = test_text_clean.apply(lambda x: [item for item in x if item not in stop_words])\n",
    "\n",
    "    # Remove numbers, punctuation and special characters (only keep words)\n",
    "    regex = '[a-z]+'\n",
    "    train_text_clean = train_text_clean.apply(lambda x: [item for item in x if re.match(regex, item)])\n",
    "    test_text_clean = test_text_clean.apply(lambda x: [item for item in x if re.match(regex, item)])\n",
    "\n",
    "    # Lemmatization\n",
    "    lem = nltk.stem.wordnet.WordNetLemmatizer()\n",
    "    train_text_clean = train_text_clean.apply(lambda x: [lem.lemmatize(item, pos='v') for item in x])\n",
    "    test_text_clean = test_text_clean.apply(lambda x: [lem.lemmatize(item, pos='v') for item in x])\n",
    "\n",
    "    # Join the words again to form sentences\n",
    "    train_text_clean = train_text_clean.apply(lambda x: \" \".join(x))\n",
    "    test_text_clean = test_text_clean.apply(lambda x: \" \".join(x))\n",
    "    \n",
    "    # Tfidf vectorization\n",
    "    vectorizer = TfidfVectorizer()\n",
    "\n",
    "    x_train = vectorizer.fit_transform(train_text)\n",
    "    x_test = vectorizer.transform(test_text) #hier mit oder ohne fit?\n",
    "    y_train = train_labels\n",
    "    y_test = test_labels\n",
    "\n",
    "    lazy_text = LazyTextPredict(\n",
    "        classification_type=\"binary\",\n",
    "        custom_metric=my_custom_metric\n",
    "        )\n",
    "    models = lazy_text.fit(x_train, x_test, y_train, y_test)\n",
    "    kfold_df[f\"model_fold_{train_index}\"] = models"
   ]
  },
  {
   "cell_type": "code",
   "execution_count": 56,
   "id": "35e6624f-0963-4320-8b0f-b1c99fbbbb9e",
   "metadata": {},
   "outputs": [
    {
     "data": {
      "text/html": [
       "<div>\n",
       "<style scoped>\n",
       "    .dataframe tbody tr th:only-of-type {\n",
       "        vertical-align: middle;\n",
       "    }\n",
       "\n",
       "    .dataframe tbody tr th {\n",
       "        vertical-align: top;\n",
       "    }\n",
       "\n",
       "    .dataframe thead th {\n",
       "        text-align: right;\n",
       "    }\n",
       "</style>\n",
       "<table border=\"1\" class=\"dataframe\">\n",
       "  <thead>\n",
       "    <tr style=\"text-align: right;\">\n",
       "      <th></th>\n",
       "      <th>Model</th>\n",
       "      <th>F1 Score</th>\n",
       "      <th>Precision</th>\n",
       "      <th>Recall</th>\n",
       "    </tr>\n",
       "  </thead>\n",
       "  <tbody>\n",
       "    <tr>\n",
       "      <th>18</th>\n",
       "      <td>PassiveAggressiveClassifier</td>\n",
       "      <td>0.715325</td>\n",
       "      <td>0.712826</td>\n",
       "      <td>0.725418</td>\n",
       "    </tr>\n",
       "    <tr>\n",
       "      <th>3</th>\n",
       "      <td>CalibratedClassifierCV</td>\n",
       "      <td>0.710047</td>\n",
       "      <td>0.708090</td>\n",
       "      <td>0.721936</td>\n",
       "    </tr>\n",
       "    <tr>\n",
       "      <th>13</th>\n",
       "      <td>LogisticRegressionCV</td>\n",
       "      <td>0.704803</td>\n",
       "      <td>0.706931</td>\n",
       "      <td>0.724534</td>\n",
       "    </tr>\n",
       "    <tr>\n",
       "      <th>14</th>\n",
       "      <td>MLPClassifier</td>\n",
       "      <td>0.703967</td>\n",
       "      <td>0.701386</td>\n",
       "      <td>0.717622</td>\n",
       "    </tr>\n",
       "    <tr>\n",
       "      <th>22</th>\n",
       "      <td>SGDClassifier</td>\n",
       "      <td>0.703190</td>\n",
       "      <td>0.699756</td>\n",
       "      <td>0.712442</td>\n",
       "    </tr>\n",
       "    <tr>\n",
       "      <th>19</th>\n",
       "      <td>Perceptron</td>\n",
       "      <td>0.702857</td>\n",
       "      <td>0.699447</td>\n",
       "      <td>0.711591</td>\n",
       "    </tr>\n",
       "    <tr>\n",
       "      <th>11</th>\n",
       "      <td>LinearSVC</td>\n",
       "      <td>0.701483</td>\n",
       "      <td>0.700334</td>\n",
       "      <td>0.718492</td>\n",
       "    </tr>\n",
       "    <tr>\n",
       "      <th>21</th>\n",
       "      <td>RidgeClassifier</td>\n",
       "      <td>0.694784</td>\n",
       "      <td>0.701384</td>\n",
       "      <td>0.722809</td>\n",
       "    </tr>\n",
       "    <tr>\n",
       "      <th>16</th>\n",
       "      <td>NearestCentroid</td>\n",
       "      <td>0.682714</td>\n",
       "      <td>0.735938</td>\n",
       "      <td>0.671033</td>\n",
       "    </tr>\n",
       "    <tr>\n",
       "      <th>17</th>\n",
       "      <td>NuSVC</td>\n",
       "      <td>0.675703</td>\n",
       "      <td>0.691322</td>\n",
       "      <td>0.715902</td>\n",
       "    </tr>\n",
       "    <tr>\n",
       "      <th>0</th>\n",
       "      <td>AdaBoostClassifier</td>\n",
       "      <td>0.662663</td>\n",
       "      <td>0.659175</td>\n",
       "      <td>0.674422</td>\n",
       "    </tr>\n",
       "    <tr>\n",
       "      <th>10</th>\n",
       "      <td>KNeighborsClassifier</td>\n",
       "      <td>0.645502</td>\n",
       "      <td>0.648328</td>\n",
       "      <td>0.685666</td>\n",
       "    </tr>\n",
       "    <tr>\n",
       "      <th>7</th>\n",
       "      <td>ExtraTreeClassifier</td>\n",
       "      <td>0.641817</td>\n",
       "      <td>0.634091</td>\n",
       "      <td>0.663207</td>\n",
       "    </tr>\n",
       "    <tr>\n",
       "      <th>9</th>\n",
       "      <td>GradientBoostingClassifier</td>\n",
       "      <td>0.640823</td>\n",
       "      <td>0.644928</td>\n",
       "      <td>0.689155</td>\n",
       "    </tr>\n",
       "    <tr>\n",
       "      <th>1</th>\n",
       "      <td>BaggingClassifier</td>\n",
       "      <td>0.639252</td>\n",
       "      <td>0.630783</td>\n",
       "      <td>0.658938</td>\n",
       "    </tr>\n",
       "    <tr>\n",
       "      <th>12</th>\n",
       "      <td>LogisticRegression</td>\n",
       "      <td>0.632153</td>\n",
       "      <td>0.711303</td>\n",
       "      <td>0.712442</td>\n",
       "    </tr>\n",
       "    <tr>\n",
       "      <th>8</th>\n",
       "      <td>ExtraTreesClassifier</td>\n",
       "      <td>0.615969</td>\n",
       "      <td>0.672576</td>\n",
       "      <td>0.698612</td>\n",
       "    </tr>\n",
       "    <tr>\n",
       "      <th>5</th>\n",
       "      <td>DecisionTreeClassifier</td>\n",
       "      <td>0.611256</td>\n",
       "      <td>0.606489</td>\n",
       "      <td>0.618271</td>\n",
       "    </tr>\n",
       "    <tr>\n",
       "      <th>4</th>\n",
       "      <td>ComplementNB</td>\n",
       "      <td>0.601530</td>\n",
       "      <td>0.750248</td>\n",
       "      <td>0.704661</td>\n",
       "    </tr>\n",
       "    <tr>\n",
       "      <th>20</th>\n",
       "      <td>RandomForestClassifier</td>\n",
       "      <td>0.600457</td>\n",
       "      <td>0.677786</td>\n",
       "      <td>0.698627</td>\n",
       "    </tr>\n",
       "    <tr>\n",
       "      <th>23</th>\n",
       "      <td>SVC</td>\n",
       "      <td>0.581139</td>\n",
       "      <td>0.706823</td>\n",
       "      <td>0.695160</td>\n",
       "    </tr>\n",
       "    <tr>\n",
       "      <th>2</th>\n",
       "      <td>BernoulliNB</td>\n",
       "      <td>0.569578</td>\n",
       "      <td>0.590782</td>\n",
       "      <td>0.689980</td>\n",
       "    </tr>\n",
       "    <tr>\n",
       "      <th>6</th>\n",
       "      <td>DummyClassifier</td>\n",
       "      <td>0.563411</td>\n",
       "      <td>0.476079</td>\n",
       "      <td>0.689984</td>\n",
       "    </tr>\n",
       "    <tr>\n",
       "      <th>15</th>\n",
       "      <td>MultinomialNB</td>\n",
       "      <td>0.562994</td>\n",
       "      <td>0.475894</td>\n",
       "      <td>0.689122</td>\n",
       "    </tr>\n",
       "  </tbody>\n",
       "</table>\n",
       "</div>"
      ],
      "text/plain": [
       "                          Model  F1 Score  Precision    Recall\n",
       "18  PassiveAggressiveClassifier  0.715325   0.712826  0.725418\n",
       "3        CalibratedClassifierCV  0.710047   0.708090  0.721936\n",
       "13         LogisticRegressionCV  0.704803   0.706931  0.724534\n",
       "14                MLPClassifier  0.703967   0.701386  0.717622\n",
       "22                SGDClassifier  0.703190   0.699756  0.712442\n",
       "19                   Perceptron  0.702857   0.699447  0.711591\n",
       "11                    LinearSVC  0.701483   0.700334  0.718492\n",
       "21              RidgeClassifier  0.694784   0.701384  0.722809\n",
       "16              NearestCentroid  0.682714   0.735938  0.671033\n",
       "17                        NuSVC  0.675703   0.691322  0.715902\n",
       "0            AdaBoostClassifier  0.662663   0.659175  0.674422\n",
       "10         KNeighborsClassifier  0.645502   0.648328  0.685666\n",
       "7           ExtraTreeClassifier  0.641817   0.634091  0.663207\n",
       "9    GradientBoostingClassifier  0.640823   0.644928  0.689155\n",
       "1             BaggingClassifier  0.639252   0.630783  0.658938\n",
       "12           LogisticRegression  0.632153   0.711303  0.712442\n",
       "8          ExtraTreesClassifier  0.615969   0.672576  0.698612\n",
       "5        DecisionTreeClassifier  0.611256   0.606489  0.618271\n",
       "4                  ComplementNB  0.601530   0.750248  0.704661\n",
       "20       RandomForestClassifier  0.600457   0.677786  0.698627\n",
       "23                          SVC  0.581139   0.706823  0.695160\n",
       "2                   BernoulliNB  0.569578   0.590782  0.689980\n",
       "6               DummyClassifier  0.563411   0.476079  0.689984\n",
       "15                MultinomialNB  0.562994   0.475894  0.689122"
      ]
     },
     "execution_count": 56,
     "metadata": {},
     "output_type": "execute_result"
    }
   ],
   "source": [
    "fold1 = fold_values(kfold_df[\"model_fold_1\"],1)\n",
    "fold2 = fold_values(kfold_df[\"model_fold_2\"],2)\n",
    "fold3 = fold_values(kfold_df[\"model_fold_3\"],3)\n",
    "fold4 = fold_values(kfold_df[\"model_fold_4\"],4)\n",
    "fold5 = fold_values(kfold_df[\"model_fold_5\"],5)\n",
    "\n",
    "results = kfold_evaluation(fold1,fold2,fold3,fold4,fold5)\n",
    "results.sort_values(\"F1 Score\", ascending=False)"
   ]
  }
 ],
 "metadata": {
  "kernelspec": {
   "display_name": "Python 3 (ipykernel)",
   "language": "python",
   "name": "python3"
  },
  "language_info": {
   "codemirror_mode": {
    "name": "ipython",
    "version": 3
   },
   "file_extension": ".py",
   "mimetype": "text/x-python",
   "name": "python",
   "nbconvert_exporter": "python",
   "pygments_lexer": "ipython3",
   "version": "3.9.13"
  }
 },
 "nbformat": 4,
 "nbformat_minor": 5
}
